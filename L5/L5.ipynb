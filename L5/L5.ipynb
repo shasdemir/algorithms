{
 "metadata": {
  "name": "",
  "signature": "sha256:7864e36de792d09a3ddc4433ca3316ee102da0d3ab2e8542d68cd3bab7766f93"
 },
 "nbformat": 3,
 "nbformat_minor": 0,
 "worksheets": [
  {
   "cells": [
    {
     "cell_type": "code",
     "collapsed": false,
     "input": [
      "marvel_file = \"marvel.tsv\""
     ],
     "language": "python",
     "metadata": {},
     "outputs": [],
     "prompt_number": 8
    },
    {
     "cell_type": "code",
     "collapsed": false,
     "input": [
      "connections = []\n",
      "with open(marvel_file) as mf:\n",
      "    for line in mf:\n",
      "        splitted = line.split('\\t')\n",
      "        connections.append((splitted[0], splitted[1][:-1]))"
     ],
     "language": "python",
     "metadata": {},
     "outputs": [],
     "prompt_number": 9
    },
    {
     "cell_type": "code",
     "collapsed": false,
     "input": [
      "connections[:5]"
     ],
     "language": "python",
     "metadata": {},
     "outputs": [
      {
       "metadata": {},
       "output_type": "pyout",
       "prompt_number": 10,
       "text": [
        "[('\"24-HOUR MAN/EMMANUEL\"', '\"AA2 35\"'),\n",
        " ('\"3-D MAN/CHARLES CHAN\"', '\"AVF 4\"'),\n",
        " ('\"3-D MAN/CHARLES CHAN\"', '\"AVF 5\"'),\n",
        " ('\"3-D MAN/CHARLES CHAN\"', '\"COC 1\"'),\n",
        " ('\"3-D MAN/CHARLES CHAN\"', '\"H2 251\"')]"
       ]
      }
     ],
     "prompt_number": 10
    },
    {
     "cell_type": "code",
     "collapsed": false,
     "input": [
      "def make_link(G, node1, node2):\n",
      "    if node1 not in G:\n",
      "        G[node1] = {node2: 1}\n",
      "    elif node2 not in G[node1]:\n",
      "        G[node1][node2] = 1\n",
      "    else:\n",
      "        G[node1][node2] += 1\n",
      "\n",
      "    if node2 not in G:\n",
      "        G[node2] = {node1: 1}\n",
      "    elif node1 not in G[node2]:\n",
      "        G[node2][node1] = 1\n",
      "    else:\n",
      "        G[node2][node1] += 1\n",
      "\n",
      "    return G"
     ],
     "language": "python",
     "metadata": {},
     "outputs": [],
     "prompt_number": 11
    },
    {
     "cell_type": "code",
     "collapsed": false,
     "input": [
      "marvel_graph = {}"
     ],
     "language": "python",
     "metadata": {},
     "outputs": [],
     "prompt_number": 12
    },
    {
     "cell_type": "code",
     "collapsed": false,
     "input": [
      "for conn in connections:\n",
      "    make_link(marvel_graph, conn[0], conn[1])"
     ],
     "language": "python",
     "metadata": {},
     "outputs": [],
     "prompt_number": 13
    },
    {
     "cell_type": "code",
     "collapsed": false,
     "input": [
      "books = set([conn[1] for conn in connections])"
     ],
     "language": "python",
     "metadata": {},
     "outputs": [],
     "prompt_number": 14
    },
    {
     "cell_type": "code",
     "collapsed": false,
     "input": [
      "chars = set([conn[0] for conn in connections])"
     ],
     "language": "python",
     "metadata": {},
     "outputs": [],
     "prompt_number": 16
    },
    {
     "cell_type": "code",
     "collapsed": false,
     "input": [
      "len(chars), len(books), len(connections)"
     ],
     "language": "python",
     "metadata": {},
     "outputs": [
      {
       "metadata": {},
       "output_type": "pyout",
       "prompt_number": 19,
       "text": [
        "(6444, 12811, 96514)"
       ]
      }
     ],
     "prompt_number": 19
    },
    {
     "cell_type": "code",
     "collapsed": false,
     "input": [
      "def calc_char_link(char_book_graph, books, char1, char2):\n",
      "    \"\"\" Return the number of comic books the two chars have been in together. \"\"\"\n",
      "    \n",
      "    if char1 == char2:\n",
      "        return 0\n",
      "    \n",
      "    mutual_books = 0\n",
      "    for cbook in books:\n",
      "        if char1 in char_book_graph[cbook] and char2 in char_book_graph[cbook]:\n",
      "            mutual_books += 1\n",
      "    \n",
      "    return mutual_books"
     ],
     "language": "python",
     "metadata": {},
     "outputs": [],
     "prompt_number": 23
    },
    {
     "cell_type": "code",
     "collapsed": false,
     "input": [
      "calc_char_link(marvel_graph, books, '\"24-HOUR MAN/EMMANUEL\"', '\"3-D MAN/CHARLES CHAN\"')"
     ],
     "language": "python",
     "metadata": {},
     "outputs": [
      {
       "metadata": {},
       "output_type": "pyout",
       "prompt_number": 22,
       "text": [
        "0"
       ]
      }
     ],
     "prompt_number": 22
    },
    {
     "cell_type": "code",
     "collapsed": false,
     "input": [
      "distances = {}\n",
      "for hero1 in chars:\n",
      "    for hero2 in chars:\n",
      "        dist = calc_char_link(marvel_graph, books, hero1, hero2)\n",
      "        \n",
      "        if hero1 not in distances:\n",
      "            distances[hero1] = {hero2: dist}\n",
      "        else:\n",
      "            distances[hero1][hero2] = dist"
     ],
     "language": "python",
     "metadata": {},
     "outputs": [
      {
       "ename": "KeyboardInterrupt",
       "evalue": "",
       "output_type": "pyerr",
       "traceback": [
        "\u001b[0;31m---------------------------------------------------------------------------\u001b[0m\n\u001b[0;31mKeyboardInterrupt\u001b[0m                         Traceback (most recent call last)",
        "\u001b[0;32m<ipython-input-25-0f0b79afc6fd>\u001b[0m in \u001b[0;36m<module>\u001b[0;34m()\u001b[0m\n\u001b[1;32m      2\u001b[0m \u001b[0;32mfor\u001b[0m \u001b[0mhero1\u001b[0m \u001b[0;32min\u001b[0m \u001b[0mchars\u001b[0m\u001b[0;34m:\u001b[0m\u001b[0;34m\u001b[0m\u001b[0m\n\u001b[1;32m      3\u001b[0m     \u001b[0;32mfor\u001b[0m \u001b[0mhero2\u001b[0m \u001b[0;32min\u001b[0m \u001b[0mchars\u001b[0m\u001b[0;34m:\u001b[0m\u001b[0;34m\u001b[0m\u001b[0m\n\u001b[0;32m----> 4\u001b[0;31m         \u001b[0mdist\u001b[0m \u001b[0;34m=\u001b[0m \u001b[0mcalc_char_link\u001b[0m\u001b[0;34m(\u001b[0m\u001b[0mmarvel_graph\u001b[0m\u001b[0;34m,\u001b[0m \u001b[0mbooks\u001b[0m\u001b[0;34m,\u001b[0m \u001b[0mhero1\u001b[0m\u001b[0;34m,\u001b[0m \u001b[0mhero2\u001b[0m\u001b[0;34m)\u001b[0m\u001b[0;34m\u001b[0m\u001b[0m\n\u001b[0m\u001b[1;32m      5\u001b[0m \u001b[0;34m\u001b[0m\u001b[0m\n\u001b[1;32m      6\u001b[0m         \u001b[0;32mif\u001b[0m \u001b[0mhero1\u001b[0m \u001b[0;32mnot\u001b[0m \u001b[0;32min\u001b[0m \u001b[0mdistances\u001b[0m\u001b[0;34m:\u001b[0m\u001b[0;34m\u001b[0m\u001b[0m\n",
        "\u001b[0;32m<ipython-input-23-2adf8e170622>\u001b[0m in \u001b[0;36mcalc_char_link\u001b[0;34m(char_book_graph, books, char1, char2)\u001b[0m\n\u001b[1;32m      7\u001b[0m     \u001b[0mmutual_books\u001b[0m \u001b[0;34m=\u001b[0m \u001b[0;36m0\u001b[0m\u001b[0;34m\u001b[0m\u001b[0m\n\u001b[1;32m      8\u001b[0m     \u001b[0;32mfor\u001b[0m \u001b[0mcbook\u001b[0m \u001b[0;32min\u001b[0m \u001b[0mbooks\u001b[0m\u001b[0;34m:\u001b[0m\u001b[0;34m\u001b[0m\u001b[0m\n\u001b[0;32m----> 9\u001b[0;31m         \u001b[0;32mif\u001b[0m \u001b[0mchar1\u001b[0m \u001b[0;32min\u001b[0m \u001b[0mchar_book_graph\u001b[0m\u001b[0;34m[\u001b[0m\u001b[0mcbook\u001b[0m\u001b[0;34m]\u001b[0m \u001b[0;32mand\u001b[0m \u001b[0mchar2\u001b[0m \u001b[0;32min\u001b[0m \u001b[0mchar_book_graph\u001b[0m\u001b[0;34m[\u001b[0m\u001b[0mcbook\u001b[0m\u001b[0;34m]\u001b[0m\u001b[0;34m:\u001b[0m\u001b[0;34m\u001b[0m\u001b[0m\n\u001b[0m\u001b[1;32m     10\u001b[0m             \u001b[0mmutual_books\u001b[0m \u001b[0;34m+=\u001b[0m \u001b[0;36m1\u001b[0m\u001b[0;34m\u001b[0m\u001b[0m\n\u001b[1;32m     11\u001b[0m \u001b[0;34m\u001b[0m\u001b[0m\n",
        "\u001b[0;31mKeyboardInterrupt\u001b[0m: "
       ]
      }
     ],
     "prompt_number": 25
    },
    {
     "cell_type": "markdown",
     "metadata": {},
     "source": [
      "That will take too long, let's try another idea..."
     ]
    },
    {
     "cell_type": "code",
     "collapsed": false,
     "input": [
      "hero_similarities = {}\n",
      "for cbook in books:\n",
      "    for hero1 in marvel_graph[cbook]:\n",
      "        for hero2 in marvel_graph[cbook]:\n",
      "            if hero1 != hero2:\n",
      "                make_link(hero_similarities, hero1, hero2)"
     ],
     "language": "python",
     "metadata": {},
     "outputs": [],
     "prompt_number": 28
    },
    {
     "cell_type": "code",
     "collapsed": false,
     "input": [
      "max_sim = 0\n",
      "max_h1 = None\n",
      "max_h2 = None\n",
      "for hero1 in hero_similarities:\n",
      "    for hero2 in hero_similarities[hero1]:\n",
      "        if hero_similarities[hero1][hero2] > max_sim:\n",
      "            max_sim = hero_similarities[hero1][hero2]\n",
      "            max_h1 = hero1\n",
      "            max_h2 = hero2"
     ],
     "language": "python",
     "metadata": {},
     "outputs": [],
     "prompt_number": 29
    },
    {
     "cell_type": "code",
     "collapsed": false,
     "input": [
      "max_sim"
     ],
     "language": "python",
     "metadata": {},
     "outputs": [
      {
       "metadata": {},
       "output_type": "pyout",
       "prompt_number": 30,
       "text": [
        "1488"
       ]
      }
     ],
     "prompt_number": 30
    },
    {
     "cell_type": "code",
     "collapsed": false,
     "input": [
      "max_h1"
     ],
     "language": "python",
     "metadata": {},
     "outputs": [
      {
       "metadata": {},
       "output_type": "pyout",
       "prompt_number": 31,
       "text": [
        "'\"HUMAN TORCH/JOHNNY S\"'"
       ]
      }
     ],
     "prompt_number": 31
    },
    {
     "cell_type": "code",
     "collapsed": false,
     "input": [
      "max_h2"
     ],
     "language": "python",
     "metadata": {},
     "outputs": [
      {
       "metadata": {},
       "output_type": "pyout",
       "prompt_number": 32,
       "text": [
        "'\"THING/BENJAMIN J. GR\"'"
       ]
      }
     ],
     "prompt_number": 32
    },
    {
     "cell_type": "markdown",
     "metadata": {},
     "source": [
      "---"
     ]
    },
    {
     "cell_type": "code",
     "collapsed": false,
     "input": [
      "def dijkstra(G, v):\n",
      "    dist_so_far = {v: 0}\n",
      "    final_dist = {}\n",
      "\n",
      "    while len(final_dist) < len(G):  # assuming connected graph\n",
      "        w = shortest_dist_node(dist_so_far)\n",
      "\n",
      "        # lock it down\n",
      "        final_dist[w] = dist_so_far[w]\n",
      "        del dist_so_far[w]\n",
      "\n",
      "        for x in G[w]:\n",
      "            if x not in final_dist:\n",
      "                if x not in dist_so_far:\n",
      "                    dist_so_far[x] = final_dist[w] + G[w][x]\n",
      "                elif final_dist[w] + G[w][x] < dist_so_far[x]:\n",
      "                    dist_so_far[x] = final_dist[w] + G[w][x]\n",
      "\n",
      "    return final_dist"
     ],
     "language": "python",
     "metadata": {},
     "outputs": [],
     "prompt_number": 1
    },
    {
     "cell_type": "code",
     "collapsed": false,
     "input": [
      "def shortest_dist_node(dist):\n",
      "    return min(dist.items(), key=lambda tup: tup[1])[0]  # Theta(n)"
     ],
     "language": "python",
     "metadata": {},
     "outputs": [],
     "prompt_number": 2
    },
    {
     "cell_type": "markdown",
     "metadata": {},
     "source": [
      "---"
     ]
    },
    {
     "cell_type": "markdown",
     "metadata": {},
     "source": [
      "HW"
     ]
    },
    {
     "cell_type": "code",
     "collapsed": false,
     "input": [
      "def make_link(G, node1, node2, w):\n",
      "    if node1 not in G:\n",
      "        G[node1] = {}\n",
      "    if node2 not in G[node1]:\n",
      "        (G[node1])[node2] = 0\n",
      "    (G[node1])[node2] += w\n",
      "    if node2 not in G:\n",
      "        G[node2] = {}\n",
      "    if node1 not in G[node2]:\n",
      "        (G[node2])[node1] = 0\n",
      "    (G[node2])[node1] += w\n",
      "    return G"
     ],
     "language": "python",
     "metadata": {},
     "outputs": [],
     "prompt_number": 20
    },
    {
     "cell_type": "code",
     "collapsed": false,
     "input": [
      "left = lambda i: 2 * i + 1\n",
      "right = lambda i: 2 * i + 2\n",
      "parent = lambda i: (i - 1) // 2\n",
      "is_root = lambda i: i == 0\n",
      "is_leaf = lambda L, i: right(i) > len(L) and left(i) > len(L)\n",
      "one_child = lambda L, i: right(i) == len(L)  # the node only has a left child"
     ],
     "language": "python",
     "metadata": {},
     "outputs": [],
     "prompt_number": 12
    },
    {
     "cell_type": "code",
     "collapsed": false,
     "input": [
      "def up_heapify(L, i, heaped_names):\n",
      "    if i == 0 or L[parent(i)] <= L[i]:\n",
      "        return L, heaped_names\n",
      "    else:\n",
      "        L[parent(i)], L[i] = L[i], L[parent(i)]\n",
      "        heaped_names[parent(i)], heaped_names[i] = heaped_names[i], heaped_names[parent(i)]\n",
      "        return up_heapify(L, parent(i))"
     ],
     "language": "python",
     "metadata": {},
     "outputs": [],
     "prompt_number": 13
    },
    {
     "cell_type": "code",
     "collapsed": false,
     "input": [
      "def add_to_heap(L, n, heaped_names, n_name):\n",
      "    L.append(n)\n",
      "    heaped_names.append(n_name)\n",
      "    \n",
      "    return up_heapify(L, -1, heaped_names)"
     ],
     "language": "python",
     "metadata": {},
     "outputs": [],
     "prompt_number": 14
    },
    {
     "cell_type": "code",
     "collapsed": false,
     "input": [
      "def down_heapify(L, i, heaped_names):\n",
      "    \"\"\" Call this if the heap rooted at i satisfies the heap property except perhaps i to its immediate children. \"\"\"\n",
      "\n",
      "    if is_leaf(L, i):\n",
      "        return L\n",
      "\n",
      "    if one_child(L, i):\n",
      "        if L[i] > L[left(i)]:\n",
      "            L[i], L[left(i)] = L[left(i)], L[i]\n",
      "            heaped_names[i], heaped_names[left(i)] = heaped_names[left(i)], heaped_names[i]\n",
      "            return L\n",
      "\n",
      "    # i has two children, check heap property\n",
      "    if min(L[left(i)], L[right(i)]) >= L[i]:\n",
      "        return L\n",
      "\n",
      "    # if that fails, swap with the smaller child, and recurse on its children\n",
      "    if L[left(i)] < L[right(i)]:\n",
      "        L[i], L[left(i)] = L[left(i)], L[i]\n",
      "        heaped_names[i], heaped_names[left(i)] = heaped_names[left(i)], heaped_names[i]\n",
      "        down_heapify(L, left(i), heaped_names)\n",
      "    else:\n",
      "        L[i], L[right(i)] = L[right(i)], L[i]\n",
      "        heaped_names[i], heaped_names[right(i)] = heaped_names[right(i)], heaped_names[i]\n",
      "        down_heapify(L, right(i), heaped_names)\n",
      "    return L"
     ],
     "language": "python",
     "metadata": {},
     "outputs": [],
     "prompt_number": 4
    },
    {
     "cell_type": "code",
     "collapsed": false,
     "input": [
      "def remove_min_h(L, heaped_names):\n",
      "    L[0] = L.pop()  # move last element to the beginning\n",
      "    heaped_names[0] = heaped_names.pop()\n",
      "    down_heapify(L, 0, heaped_names)\n",
      "    return L"
     ],
     "language": "python",
     "metadata": {},
     "outputs": [],
     "prompt_number": 6
    },
    {
     "cell_type": "markdown",
     "metadata": {},
     "source": [
      "dist_so_far_heap is the heap of distances so far. heaped_names is a list, which elements are the names of the nodes in the same position on the heap."
     ]
    },
    {
     "cell_type": "code",
     "collapsed": false,
     "input": [
      "def shortest_dist_node(dist_heap, heaped_names):\n",
      "    shortest_name = heaped_names[0]\n",
      "    shortest_distance = dist_heap[0]\n",
      "    \n",
      "    remove_min_h(dist_heap, heaped_names)\n",
      "    return shortest_name, shortest_distance"
     ],
     "language": "python",
     "metadata": {},
     "outputs": [],
     "prompt_number": 22
    },
    {
     "cell_type": "code",
     "collapsed": false,
     "input": [
      "def dijkstra(G, v):    \n",
      "    dist_so_far_heap = [0]\n",
      "    heaped_names = [v]\n",
      "\n",
      "    final_dist = {}\n",
      "\n",
      "    while len(final_dist) < len(G):  # assuming connected graph\n",
      "        w, dist_w = shortest_dist_node(dist_so_far_heap, heaped_names)\n",
      "\n",
      "        # lock it down\n",
      "        final_dist[w] = dist_w\n",
      "\n",
      "        for x in G[w]:\n",
      "            if x not in final_dist:\n",
      "                if x not in heaped_names:\n",
      "                    add_to_heap(dist_so_far_heap, final_dist[w] + G[w][x], heaped_names, x)\n",
      "                elif final_dist[w] + G[w][x] < dist_so_far_heap[heaped_names.index(x)]:\n",
      "                    dist_so_far_heap[heaped_names.index(x)] = final_dist[w] + G[w][x]\n",
      "\n",
      "    return final_dist"
     ],
     "language": "python",
     "metadata": {},
     "outputs": [],
     "prompt_number": 15
    },
    {
     "cell_type": "markdown",
     "metadata": {},
     "source": [
      "test:"
     ]
    },
    {
     "cell_type": "code",
     "collapsed": false,
     "input": [
      "def test():\n",
      "    # shortcuts\n",
      "    (a,b,c,d,e,f,g) = ('A', 'B', 'C', 'D', 'E', 'F', 'G')\n",
      "    triples = ((a,c,3),(c,b,10),(a,b,15),(d,b,9),(a,d,4),(d,f,7),(d,e,3), \n",
      "               (e,g,1),(e,f,5),(f,g,2),(b,f,1))\n",
      "    G = {}\n",
      "    for (i,j,k) in triples:\n",
      "        make_link(G, i, j, k)\n",
      "\n",
      "    dist = dijkstra(G, a)\n",
      "    assert dist[g] == 8 #(a -> d -> e -> g)\n",
      "    #assert dist[b] == 11 #(a -> d -> e -> g -> f -> b)"
     ],
     "language": "python",
     "metadata": {},
     "outputs": [],
     "prompt_number": 24
    },
    {
     "cell_type": "code",
     "collapsed": false,
     "input": [
      "test()"
     ],
     "language": "python",
     "metadata": {},
     "outputs": [
      {
       "ename": "IndexError",
       "evalue": "list assignment index out of range",
       "output_type": "pyerr",
       "traceback": [
        "\u001b[0;31m---------------------------------------------------------------------------\u001b[0m\n\u001b[0;31mIndexError\u001b[0m                                Traceback (most recent call last)",
        "\u001b[0;32m<ipython-input-25-ea594c21b25d>\u001b[0m in \u001b[0;36m<module>\u001b[0;34m()\u001b[0m\n\u001b[0;32m----> 1\u001b[0;31m \u001b[0mtest\u001b[0m\u001b[0;34m(\u001b[0m\u001b[0;34m)\u001b[0m\u001b[0;34m\u001b[0m\u001b[0m\n\u001b[0m",
        "\u001b[0;32m<ipython-input-24-406112203ebc>\u001b[0m in \u001b[0;36mtest\u001b[0;34m()\u001b[0m\n\u001b[1;32m      8\u001b[0m         \u001b[0mmake_link\u001b[0m\u001b[0;34m(\u001b[0m\u001b[0mG\u001b[0m\u001b[0;34m,\u001b[0m \u001b[0mi\u001b[0m\u001b[0;34m,\u001b[0m \u001b[0mj\u001b[0m\u001b[0;34m,\u001b[0m \u001b[0mk\u001b[0m\u001b[0;34m)\u001b[0m\u001b[0;34m\u001b[0m\u001b[0m\n\u001b[1;32m      9\u001b[0m \u001b[0;34m\u001b[0m\u001b[0m\n\u001b[0;32m---> 10\u001b[0;31m     \u001b[0mdist\u001b[0m \u001b[0;34m=\u001b[0m \u001b[0mdijkstra\u001b[0m\u001b[0;34m(\u001b[0m\u001b[0mG\u001b[0m\u001b[0;34m,\u001b[0m \u001b[0ma\u001b[0m\u001b[0;34m)\u001b[0m\u001b[0;34m\u001b[0m\u001b[0m\n\u001b[0m\u001b[1;32m     11\u001b[0m     \u001b[0;32massert\u001b[0m \u001b[0mdist\u001b[0m\u001b[0;34m[\u001b[0m\u001b[0mg\u001b[0m\u001b[0;34m]\u001b[0m \u001b[0;34m==\u001b[0m \u001b[0;36m8\u001b[0m \u001b[0;31m#(a -> d -> e -> g)\u001b[0m\u001b[0;34m\u001b[0m\u001b[0m\n\u001b[1;32m     12\u001b[0m     \u001b[0;31m#assert dist[b] == 11 #(a -> d -> e -> g -> f -> b)\u001b[0m\u001b[0;34m\u001b[0m\u001b[0;34m\u001b[0m\u001b[0m\n",
        "\u001b[0;32m<ipython-input-15-a5189815757f>\u001b[0m in \u001b[0;36mdijkstra\u001b[0;34m(G, v)\u001b[0m\n\u001b[1;32m      6\u001b[0m \u001b[0;34m\u001b[0m\u001b[0m\n\u001b[1;32m      7\u001b[0m     \u001b[0;32mwhile\u001b[0m \u001b[0mlen\u001b[0m\u001b[0;34m(\u001b[0m\u001b[0mfinal_dist\u001b[0m\u001b[0;34m)\u001b[0m \u001b[0;34m<\u001b[0m \u001b[0mlen\u001b[0m\u001b[0;34m(\u001b[0m\u001b[0mG\u001b[0m\u001b[0;34m)\u001b[0m\u001b[0;34m:\u001b[0m  \u001b[0;31m# assuming connected graph\u001b[0m\u001b[0;34m\u001b[0m\u001b[0m\n\u001b[0;32m----> 8\u001b[0;31m         \u001b[0mw\u001b[0m\u001b[0;34m,\u001b[0m \u001b[0mdist_w\u001b[0m \u001b[0;34m=\u001b[0m \u001b[0mshortest_dist_node\u001b[0m\u001b[0;34m(\u001b[0m\u001b[0mdist_so_far_heap\u001b[0m\u001b[0;34m,\u001b[0m \u001b[0mheaped_names\u001b[0m\u001b[0;34m)\u001b[0m\u001b[0;34m\u001b[0m\u001b[0m\n\u001b[0m\u001b[1;32m      9\u001b[0m \u001b[0;34m\u001b[0m\u001b[0m\n\u001b[1;32m     10\u001b[0m         \u001b[0;31m# lock it down\u001b[0m\u001b[0;34m\u001b[0m\u001b[0;34m\u001b[0m\u001b[0m\n",
        "\u001b[0;32m<ipython-input-22-f904127c0d7f>\u001b[0m in \u001b[0;36mshortest_dist_node\u001b[0;34m(dist_heap, heaped_names)\u001b[0m\n\u001b[1;32m      3\u001b[0m     \u001b[0mshortest_distance\u001b[0m \u001b[0;34m=\u001b[0m \u001b[0mdist_heap\u001b[0m\u001b[0;34m[\u001b[0m\u001b[0;36m0\u001b[0m\u001b[0;34m]\u001b[0m\u001b[0;34m\u001b[0m\u001b[0m\n\u001b[1;32m      4\u001b[0m \u001b[0;34m\u001b[0m\u001b[0m\n\u001b[0;32m----> 5\u001b[0;31m     \u001b[0mremove_min_h\u001b[0m\u001b[0;34m(\u001b[0m\u001b[0mdist_heap\u001b[0m\u001b[0;34m,\u001b[0m \u001b[0mheaped_names\u001b[0m\u001b[0;34m)\u001b[0m\u001b[0;34m\u001b[0m\u001b[0m\n\u001b[0m\u001b[1;32m      6\u001b[0m     \u001b[0;32mreturn\u001b[0m \u001b[0mshortest_name\u001b[0m\u001b[0;34m,\u001b[0m \u001b[0mshortest_distance\u001b[0m\u001b[0;34m\u001b[0m\u001b[0m\n",
        "\u001b[0;32m<ipython-input-6-b6f55914031c>\u001b[0m in \u001b[0;36mremove_min_h\u001b[0;34m(L, heaped_names)\u001b[0m\n\u001b[1;32m      1\u001b[0m \u001b[0;32mdef\u001b[0m \u001b[0mremove_min_h\u001b[0m\u001b[0;34m(\u001b[0m\u001b[0mL\u001b[0m\u001b[0;34m,\u001b[0m \u001b[0mheaped_names\u001b[0m\u001b[0;34m)\u001b[0m\u001b[0;34m:\u001b[0m\u001b[0;34m\u001b[0m\u001b[0m\n\u001b[0;32m----> 2\u001b[0;31m     \u001b[0mL\u001b[0m\u001b[0;34m[\u001b[0m\u001b[0;36m0\u001b[0m\u001b[0;34m]\u001b[0m \u001b[0;34m=\u001b[0m \u001b[0mL\u001b[0m\u001b[0;34m.\u001b[0m\u001b[0mpop\u001b[0m\u001b[0;34m(\u001b[0m\u001b[0;34m)\u001b[0m  \u001b[0;31m# move last element to the beginning\u001b[0m\u001b[0;34m\u001b[0m\u001b[0m\n\u001b[0m\u001b[1;32m      3\u001b[0m     \u001b[0mheaped_names\u001b[0m\u001b[0;34m[\u001b[0m\u001b[0;36m0\u001b[0m\u001b[0;34m]\u001b[0m \u001b[0;34m=\u001b[0m \u001b[0mheaped_names\u001b[0m\u001b[0;34m.\u001b[0m\u001b[0mpop\u001b[0m\u001b[0;34m(\u001b[0m\u001b[0;34m)\u001b[0m\u001b[0;34m\u001b[0m\u001b[0m\n\u001b[1;32m      4\u001b[0m     \u001b[0mdown_heapify\u001b[0m\u001b[0;34m(\u001b[0m\u001b[0mL\u001b[0m\u001b[0;34m,\u001b[0m \u001b[0;36m0\u001b[0m\u001b[0;34m,\u001b[0m \u001b[0mheaped_names\u001b[0m\u001b[0;34m)\u001b[0m\u001b[0;34m\u001b[0m\u001b[0m\n\u001b[1;32m      5\u001b[0m     \u001b[0;32mreturn\u001b[0m \u001b[0mL\u001b[0m\u001b[0;34m\u001b[0m\u001b[0m\n",
        "\u001b[0;31mIndexError\u001b[0m: list assignment index out of range"
       ]
      }
     ],
     "prompt_number": 25
    },
    {
     "cell_type": "code",
     "collapsed": false,
     "input": [],
     "language": "python",
     "metadata": {},
     "outputs": []
    }
   ],
   "metadata": {}
  }
 ]
}