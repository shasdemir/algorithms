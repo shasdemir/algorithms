{
 "metadata": {
  "name": "",
  "signature": "sha256:ec2911259ed90a44abab321c616ca0fe0d69b3249369b1391092949c5d71d6be"
 },
 "nbformat": 3,
 "nbformat_minor": 0,
 "worksheets": [
  {
   "cells": [
    {
     "cell_type": "code",
     "collapsed": false,
     "input": [],
     "language": "python",
     "metadata": {},
     "outputs": []
    }
   ],
   "metadata": {}
  }
 ]
}