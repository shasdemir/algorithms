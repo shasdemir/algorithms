{
 "metadata": {
  "name": "",
  "signature": "sha256:8424fdff09c129dcfc723e492abded526421310cc4ad1795c066f2e6afb58a77"
 },
 "nbformat": 3,
 "nbformat_minor": 0,
 "worksheets": [
  {
   "cells": [
    {
     "cell_type": "code",
     "collapsed": false,
     "input": [
      "marvel_file = \"marvel.tsv\""
     ],
     "language": "python",
     "metadata": {},
     "outputs": [],
     "prompt_number": 8
    },
    {
     "cell_type": "code",
     "collapsed": false,
     "input": [
      "connections = []\n",
      "with open(marvel_file) as mf:\n",
      "    for line in mf:\n",
      "        splitted = line.split('\\t')\n",
      "        connections.append((splitted[0], splitted[1][:-1]))"
     ],
     "language": "python",
     "metadata": {},
     "outputs": [],
     "prompt_number": 9
    },
    {
     "cell_type": "code",
     "collapsed": false,
     "input": [
      "connections[:5]"
     ],
     "language": "python",
     "metadata": {},
     "outputs": [
      {
       "metadata": {},
       "output_type": "pyout",
       "prompt_number": 10,
       "text": [
        "[('\"24-HOUR MAN/EMMANUEL\"', '\"AA2 35\"'),\n",
        " ('\"3-D MAN/CHARLES CHAN\"', '\"AVF 4\"'),\n",
        " ('\"3-D MAN/CHARLES CHAN\"', '\"AVF 5\"'),\n",
        " ('\"3-D MAN/CHARLES CHAN\"', '\"COC 1\"'),\n",
        " ('\"3-D MAN/CHARLES CHAN\"', '\"H2 251\"')]"
       ]
      }
     ],
     "prompt_number": 10
    },
    {
     "cell_type": "code",
     "collapsed": false,
     "input": [
      "def make_link(G, node1, node2):\n",
      "    if node1 not in G:\n",
      "        G[node1] = {node2: 1}\n",
      "    elif node2 not in G[node1]:\n",
      "        G[node1][node2] = 1\n",
      "    else:\n",
      "        G[node1][node2] += 1\n",
      "\n",
      "    if node2 not in G:\n",
      "        G[node2] = {node1: 1}\n",
      "    elif node1 not in G[node2]:\n",
      "        G[node2][node1] = 1\n",
      "    else:\n",
      "        G[node2][node1] += 1\n",
      "\n",
      "    return G"
     ],
     "language": "python",
     "metadata": {},
     "outputs": [],
     "prompt_number": 11
    },
    {
     "cell_type": "code",
     "collapsed": false,
     "input": [
      "marvel_graph = {}"
     ],
     "language": "python",
     "metadata": {},
     "outputs": [],
     "prompt_number": 12
    },
    {
     "cell_type": "code",
     "collapsed": false,
     "input": [
      "for conn in connections:\n",
      "    make_link(marvel_graph, conn[0], conn[1])"
     ],
     "language": "python",
     "metadata": {},
     "outputs": [],
     "prompt_number": 13
    },
    {
     "cell_type": "code",
     "collapsed": false,
     "input": [
      "books = set([conn[1] for conn in connections])"
     ],
     "language": "python",
     "metadata": {},
     "outputs": [],
     "prompt_number": 14
    },
    {
     "cell_type": "code",
     "collapsed": false,
     "input": [
      "chars = set([conn[0] for conn in connections])"
     ],
     "language": "python",
     "metadata": {},
     "outputs": [],
     "prompt_number": 16
    },
    {
     "cell_type": "code",
     "collapsed": false,
     "input": [
      "len(chars), len(books), len(connections)"
     ],
     "language": "python",
     "metadata": {},
     "outputs": [
      {
       "metadata": {},
       "output_type": "pyout",
       "prompt_number": 19,
       "text": [
        "(6444, 12811, 96514)"
       ]
      }
     ],
     "prompt_number": 19
    },
    {
     "cell_type": "code",
     "collapsed": false,
     "input": [
      "def calc_char_link(char_book_graph, books, char1, char2):\n",
      "    \"\"\" Return the number of comic books the two chars have been in together. \"\"\"\n",
      "    \n",
      "    if char1 == char2:\n",
      "        return 0\n",
      "    \n",
      "    mutual_books = 0\n",
      "    for cbook in books:\n",
      "        if char1 in char_book_graph[cbook] and char2 in char_book_graph[cbook]:\n",
      "            mutual_books += 1\n",
      "    \n",
      "    return mutual_books"
     ],
     "language": "python",
     "metadata": {},
     "outputs": [],
     "prompt_number": 23
    },
    {
     "cell_type": "code",
     "collapsed": false,
     "input": [
      "calc_char_link(marvel_graph, books, '\"24-HOUR MAN/EMMANUEL\"', '\"3-D MAN/CHARLES CHAN\"')"
     ],
     "language": "python",
     "metadata": {},
     "outputs": [
      {
       "metadata": {},
       "output_type": "pyout",
       "prompt_number": 22,
       "text": [
        "0"
       ]
      }
     ],
     "prompt_number": 22
    },
    {
     "cell_type": "code",
     "collapsed": false,
     "input": [
      "distances = {}\n",
      "for hero1 in chars:\n",
      "    for hero2 in chars:\n",
      "        dist = calc_char_link(marvel_graph, books, hero1, hero2)\n",
      "        \n",
      "        if hero1 not in distances:\n",
      "            distances[hero1] = {hero2: dist}\n",
      "        else:\n",
      "            distances[hero1][hero2] = dist"
     ],
     "language": "python",
     "metadata": {},
     "outputs": [
      {
       "ename": "KeyboardInterrupt",
       "evalue": "",
       "output_type": "pyerr",
       "traceback": [
        "\u001b[0;31m---------------------------------------------------------------------------\u001b[0m\n\u001b[0;31mKeyboardInterrupt\u001b[0m                         Traceback (most recent call last)",
        "\u001b[0;32m<ipython-input-25-0f0b79afc6fd>\u001b[0m in \u001b[0;36m<module>\u001b[0;34m()\u001b[0m\n\u001b[1;32m      2\u001b[0m \u001b[0;32mfor\u001b[0m \u001b[0mhero1\u001b[0m \u001b[0;32min\u001b[0m \u001b[0mchars\u001b[0m\u001b[0;34m:\u001b[0m\u001b[0;34m\u001b[0m\u001b[0m\n\u001b[1;32m      3\u001b[0m     \u001b[0;32mfor\u001b[0m \u001b[0mhero2\u001b[0m \u001b[0;32min\u001b[0m \u001b[0mchars\u001b[0m\u001b[0;34m:\u001b[0m\u001b[0;34m\u001b[0m\u001b[0m\n\u001b[0;32m----> 4\u001b[0;31m         \u001b[0mdist\u001b[0m \u001b[0;34m=\u001b[0m \u001b[0mcalc_char_link\u001b[0m\u001b[0;34m(\u001b[0m\u001b[0mmarvel_graph\u001b[0m\u001b[0;34m,\u001b[0m \u001b[0mbooks\u001b[0m\u001b[0;34m,\u001b[0m \u001b[0mhero1\u001b[0m\u001b[0;34m,\u001b[0m \u001b[0mhero2\u001b[0m\u001b[0;34m)\u001b[0m\u001b[0;34m\u001b[0m\u001b[0m\n\u001b[0m\u001b[1;32m      5\u001b[0m \u001b[0;34m\u001b[0m\u001b[0m\n\u001b[1;32m      6\u001b[0m         \u001b[0;32mif\u001b[0m \u001b[0mhero1\u001b[0m \u001b[0;32mnot\u001b[0m \u001b[0;32min\u001b[0m \u001b[0mdistances\u001b[0m\u001b[0;34m:\u001b[0m\u001b[0;34m\u001b[0m\u001b[0m\n",
        "\u001b[0;32m<ipython-input-23-2adf8e170622>\u001b[0m in \u001b[0;36mcalc_char_link\u001b[0;34m(char_book_graph, books, char1, char2)\u001b[0m\n\u001b[1;32m      7\u001b[0m     \u001b[0mmutual_books\u001b[0m \u001b[0;34m=\u001b[0m \u001b[0;36m0\u001b[0m\u001b[0;34m\u001b[0m\u001b[0m\n\u001b[1;32m      8\u001b[0m     \u001b[0;32mfor\u001b[0m \u001b[0mcbook\u001b[0m \u001b[0;32min\u001b[0m \u001b[0mbooks\u001b[0m\u001b[0;34m:\u001b[0m\u001b[0;34m\u001b[0m\u001b[0m\n\u001b[0;32m----> 9\u001b[0;31m         \u001b[0;32mif\u001b[0m \u001b[0mchar1\u001b[0m \u001b[0;32min\u001b[0m \u001b[0mchar_book_graph\u001b[0m\u001b[0;34m[\u001b[0m\u001b[0mcbook\u001b[0m\u001b[0;34m]\u001b[0m \u001b[0;32mand\u001b[0m \u001b[0mchar2\u001b[0m \u001b[0;32min\u001b[0m \u001b[0mchar_book_graph\u001b[0m\u001b[0;34m[\u001b[0m\u001b[0mcbook\u001b[0m\u001b[0;34m]\u001b[0m\u001b[0;34m:\u001b[0m\u001b[0;34m\u001b[0m\u001b[0m\n\u001b[0m\u001b[1;32m     10\u001b[0m             \u001b[0mmutual_books\u001b[0m \u001b[0;34m+=\u001b[0m \u001b[0;36m1\u001b[0m\u001b[0;34m\u001b[0m\u001b[0m\n\u001b[1;32m     11\u001b[0m \u001b[0;34m\u001b[0m\u001b[0m\n",
        "\u001b[0;31mKeyboardInterrupt\u001b[0m: "
       ]
      }
     ],
     "prompt_number": 25
    },
    {
     "cell_type": "markdown",
     "metadata": {},
     "source": [
      "That will take too long, let's try another idea..."
     ]
    },
    {
     "cell_type": "code",
     "collapsed": false,
     "input": [],
     "language": "python",
     "metadata": {},
     "outputs": []
    }
   ],
   "metadata": {}
  }
 ]
}