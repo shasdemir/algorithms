{
 "metadata": {
  "name": "",
  "signature": "sha256:f9e23f634bac0b07c549a0cec7dcb6378594a1e025140428c19654782ff836b8"
 },
 "nbformat": 3,
 "nbformat_minor": 0,
 "worksheets": [
  {
   "cells": [
    {
     "cell_type": "code",
     "collapsed": false,
     "input": [
      "marvel_file = \"marvel.tsv\""
     ],
     "language": "python",
     "metadata": {},
     "outputs": [],
     "prompt_number": 8
    },
    {
     "cell_type": "code",
     "collapsed": false,
     "input": [
      "connections = []\n",
      "with open(marvel_file) as mf:\n",
      "    for line in mf:\n",
      "        splitted = line.split('\\t')\n",
      "        connections.append((splitted[0], splitted[1][:-1]))"
     ],
     "language": "python",
     "metadata": {},
     "outputs": [],
     "prompt_number": 9
    },
    {
     "cell_type": "code",
     "collapsed": false,
     "input": [
      "connections[:5]"
     ],
     "language": "python",
     "metadata": {},
     "outputs": [
      {
       "metadata": {},
       "output_type": "pyout",
       "prompt_number": 10,
       "text": [
        "[('\"24-HOUR MAN/EMMANUEL\"', '\"AA2 35\"'),\n",
        " ('\"3-D MAN/CHARLES CHAN\"', '\"AVF 4\"'),\n",
        " ('\"3-D MAN/CHARLES CHAN\"', '\"AVF 5\"'),\n",
        " ('\"3-D MAN/CHARLES CHAN\"', '\"COC 1\"'),\n",
        " ('\"3-D MAN/CHARLES CHAN\"', '\"H2 251\"')]"
       ]
      }
     ],
     "prompt_number": 10
    },
    {
     "cell_type": "code",
     "collapsed": false,
     "input": [
      "def make_link(G, node1, node2):\n",
      "    if node1 not in G:\n",
      "        G[node1] = {node2: 1}\n",
      "    elif node2 not in G[node1]:\n",
      "        G[node1][node2] = 1\n",
      "    else:\n",
      "        G[node1][node2] += 1\n",
      "\n",
      "    if node2 not in G:\n",
      "        G[node2] = {node1: 1}\n",
      "    elif node1 not in G[node2]:\n",
      "        G[node2][node1] = 1\n",
      "    else:\n",
      "        G[node2][node1] += 1\n",
      "\n",
      "    return G"
     ],
     "language": "python",
     "metadata": {},
     "outputs": [],
     "prompt_number": 11
    },
    {
     "cell_type": "code",
     "collapsed": false,
     "input": [
      "marvel_graph = {}"
     ],
     "language": "python",
     "metadata": {},
     "outputs": [],
     "prompt_number": 12
    },
    {
     "cell_type": "code",
     "collapsed": false,
     "input": [
      "for conn in connections:\n",
      "    make_link(marvel_graph, conn[0], conn[1])"
     ],
     "language": "python",
     "metadata": {},
     "outputs": [],
     "prompt_number": 13
    },
    {
     "cell_type": "code",
     "collapsed": false,
     "input": [
      "books = set([conn[1] for conn in connections])"
     ],
     "language": "python",
     "metadata": {},
     "outputs": [],
     "prompt_number": 14
    },
    {
     "cell_type": "code",
     "collapsed": false,
     "input": [
      "chars = set([conn[0] for conn in connections])"
     ],
     "language": "python",
     "metadata": {},
     "outputs": [],
     "prompt_number": 16
    },
    {
     "cell_type": "code",
     "collapsed": false,
     "input": [
      "len(chars), len(books), len(connections)"
     ],
     "language": "python",
     "metadata": {},
     "outputs": [
      {
       "metadata": {},
       "output_type": "pyout",
       "prompt_number": 19,
       "text": [
        "(6444, 12811, 96514)"
       ]
      }
     ],
     "prompt_number": 19
    },
    {
     "cell_type": "code",
     "collapsed": false,
     "input": [
      "def calc_char_link(char_book_graph, books, char1, char2):\n",
      "    \"\"\" Return the number of comic books the two chars have been in together. \"\"\"\n",
      "    \n",
      "    if char1 == char2:\n",
      "        return 0\n",
      "    \n",
      "    mutual_books = 0\n",
      "    for cbook in books:\n",
      "        if char1 in char_book_graph[cbook] and char2 in char_book_graph[cbook]:\n",
      "            mutual_books += 1\n",
      "    \n",
      "    return mutual_books"
     ],
     "language": "python",
     "metadata": {},
     "outputs": [],
     "prompt_number": 23
    },
    {
     "cell_type": "code",
     "collapsed": false,
     "input": [
      "calc_char_link(marvel_graph, books, '\"24-HOUR MAN/EMMANUEL\"', '\"3-D MAN/CHARLES CHAN\"')"
     ],
     "language": "python",
     "metadata": {},
     "outputs": [
      {
       "metadata": {},
       "output_type": "pyout",
       "prompt_number": 22,
       "text": [
        "0"
       ]
      }
     ],
     "prompt_number": 22
    },
    {
     "cell_type": "code",
     "collapsed": false,
     "input": [
      "distances = {}\n",
      "for hero1 in chars:\n",
      "    for hero2 in chars:\n",
      "        dist = calc_char_link(marvel_graph, books, hero1, hero2)\n",
      "        \n",
      "        if hero1 not in distances:\n",
      "            distances[hero1] = {hero2: dist}\n",
      "        else:\n",
      "            distances[hero1][hero2] = dist"
     ],
     "language": "python",
     "metadata": {},
     "outputs": [
      {
       "ename": "KeyboardInterrupt",
       "evalue": "",
       "output_type": "pyerr",
       "traceback": [
        "\u001b[0;31m---------------------------------------------------------------------------\u001b[0m\n\u001b[0;31mKeyboardInterrupt\u001b[0m                         Traceback (most recent call last)",
        "\u001b[0;32m<ipython-input-25-0f0b79afc6fd>\u001b[0m in \u001b[0;36m<module>\u001b[0;34m()\u001b[0m\n\u001b[1;32m      2\u001b[0m \u001b[0;32mfor\u001b[0m \u001b[0mhero1\u001b[0m \u001b[0;32min\u001b[0m \u001b[0mchars\u001b[0m\u001b[0;34m:\u001b[0m\u001b[0;34m\u001b[0m\u001b[0m\n\u001b[1;32m      3\u001b[0m     \u001b[0;32mfor\u001b[0m \u001b[0mhero2\u001b[0m \u001b[0;32min\u001b[0m \u001b[0mchars\u001b[0m\u001b[0;34m:\u001b[0m\u001b[0;34m\u001b[0m\u001b[0m\n\u001b[0;32m----> 4\u001b[0;31m         \u001b[0mdist\u001b[0m \u001b[0;34m=\u001b[0m \u001b[0mcalc_char_link\u001b[0m\u001b[0;34m(\u001b[0m\u001b[0mmarvel_graph\u001b[0m\u001b[0;34m,\u001b[0m \u001b[0mbooks\u001b[0m\u001b[0;34m,\u001b[0m \u001b[0mhero1\u001b[0m\u001b[0;34m,\u001b[0m \u001b[0mhero2\u001b[0m\u001b[0;34m)\u001b[0m\u001b[0;34m\u001b[0m\u001b[0m\n\u001b[0m\u001b[1;32m      5\u001b[0m \u001b[0;34m\u001b[0m\u001b[0m\n\u001b[1;32m      6\u001b[0m         \u001b[0;32mif\u001b[0m \u001b[0mhero1\u001b[0m \u001b[0;32mnot\u001b[0m \u001b[0;32min\u001b[0m \u001b[0mdistances\u001b[0m\u001b[0;34m:\u001b[0m\u001b[0;34m\u001b[0m\u001b[0m\n",
        "\u001b[0;32m<ipython-input-23-2adf8e170622>\u001b[0m in \u001b[0;36mcalc_char_link\u001b[0;34m(char_book_graph, books, char1, char2)\u001b[0m\n\u001b[1;32m      7\u001b[0m     \u001b[0mmutual_books\u001b[0m \u001b[0;34m=\u001b[0m \u001b[0;36m0\u001b[0m\u001b[0;34m\u001b[0m\u001b[0m\n\u001b[1;32m      8\u001b[0m     \u001b[0;32mfor\u001b[0m \u001b[0mcbook\u001b[0m \u001b[0;32min\u001b[0m \u001b[0mbooks\u001b[0m\u001b[0;34m:\u001b[0m\u001b[0;34m\u001b[0m\u001b[0m\n\u001b[0;32m----> 9\u001b[0;31m         \u001b[0;32mif\u001b[0m \u001b[0mchar1\u001b[0m \u001b[0;32min\u001b[0m \u001b[0mchar_book_graph\u001b[0m\u001b[0;34m[\u001b[0m\u001b[0mcbook\u001b[0m\u001b[0;34m]\u001b[0m \u001b[0;32mand\u001b[0m \u001b[0mchar2\u001b[0m \u001b[0;32min\u001b[0m \u001b[0mchar_book_graph\u001b[0m\u001b[0;34m[\u001b[0m\u001b[0mcbook\u001b[0m\u001b[0;34m]\u001b[0m\u001b[0;34m:\u001b[0m\u001b[0;34m\u001b[0m\u001b[0m\n\u001b[0m\u001b[1;32m     10\u001b[0m             \u001b[0mmutual_books\u001b[0m \u001b[0;34m+=\u001b[0m \u001b[0;36m1\u001b[0m\u001b[0;34m\u001b[0m\u001b[0m\n\u001b[1;32m     11\u001b[0m \u001b[0;34m\u001b[0m\u001b[0m\n",
        "\u001b[0;31mKeyboardInterrupt\u001b[0m: "
       ]
      }
     ],
     "prompt_number": 25
    },
    {
     "cell_type": "markdown",
     "metadata": {},
     "source": [
      "That will take too long, let's try another idea..."
     ]
    },
    {
     "cell_type": "code",
     "collapsed": false,
     "input": [
      "hero_similarities = {}\n",
      "for cbook in books:\n",
      "    for hero1 in marvel_graph[cbook]:\n",
      "        for hero2 in marvel_graph[cbook]:\n",
      "            if hero1 != hero2:\n",
      "                make_link(hero_similarities, hero1, hero2)"
     ],
     "language": "python",
     "metadata": {},
     "outputs": [],
     "prompt_number": 28
    },
    {
     "cell_type": "code",
     "collapsed": false,
     "input": [
      "max_sim = 0\n",
      "max_h1 = None\n",
      "max_h2 = None\n",
      "for hero1 in hero_similarities:\n",
      "    for hero2 in hero_similarities[hero1]:\n",
      "        if hero_similarities[hero1][hero2] > max_sim:\n",
      "            max_sim = hero_similarities[hero1][hero2]\n",
      "            max_h1 = hero1\n",
      "            max_h2 = hero2"
     ],
     "language": "python",
     "metadata": {},
     "outputs": [],
     "prompt_number": 29
    },
    {
     "cell_type": "code",
     "collapsed": false,
     "input": [
      "max_sim"
     ],
     "language": "python",
     "metadata": {},
     "outputs": [
      {
       "metadata": {},
       "output_type": "pyout",
       "prompt_number": 30,
       "text": [
        "1488"
       ]
      }
     ],
     "prompt_number": 30
    },
    {
     "cell_type": "code",
     "collapsed": false,
     "input": [
      "max_h1"
     ],
     "language": "python",
     "metadata": {},
     "outputs": [
      {
       "metadata": {},
       "output_type": "pyout",
       "prompt_number": 31,
       "text": [
        "'\"HUMAN TORCH/JOHNNY S\"'"
       ]
      }
     ],
     "prompt_number": 31
    },
    {
     "cell_type": "code",
     "collapsed": false,
     "input": [
      "max_h2"
     ],
     "language": "python",
     "metadata": {},
     "outputs": [
      {
       "metadata": {},
       "output_type": "pyout",
       "prompt_number": 32,
       "text": [
        "'\"THING/BENJAMIN J. GR\"'"
       ]
      }
     ],
     "prompt_number": 32
    },
    {
     "cell_type": "markdown",
     "metadata": {},
     "source": [
      "---"
     ]
    },
    {
     "cell_type": "code",
     "collapsed": false,
     "input": [
      "def dijkstra(G, v):\n",
      "    dist_so_far = {v: 0}\n",
      "    final_dist = {}\n",
      "\n",
      "    while len(final_dist) < len(G):  # assuming connected graph\n",
      "        w = shortest_dist_node(dist_so_far)\n",
      "\n",
      "        # lock it down\n",
      "        final_dist[w] = dist_so_far[w]\n",
      "        del dist_so_far[w]\n",
      "\n",
      "        for x in G[w]:\n",
      "            if x not in final_dist:\n",
      "                if x not in dist_so_far:\n",
      "                    dist_so_far[x] = final_dist[w] + G[w][x]\n",
      "                elif final_dist[w] + G[w][x] < dist_so_far[x]:\n",
      "                    dist_so_far[x] = final_dist[w] + G[w][x]\n",
      "\n",
      "    return final_dist"
     ],
     "language": "python",
     "metadata": {},
     "outputs": [],
     "prompt_number": 1
    },
    {
     "cell_type": "code",
     "collapsed": false,
     "input": [
      "def shortest_dist_node(dist):\n",
      "    return min(dist.items(), key=lambda tup: tup[1])[0]  # Theta(n)"
     ],
     "language": "python",
     "metadata": {},
     "outputs": [],
     "prompt_number": 2
    },
    {
     "cell_type": "markdown",
     "metadata": {},
     "source": [
      "---"
     ]
    },
    {
     "cell_type": "markdown",
     "metadata": {},
     "source": [
      "HW"
     ]
    },
    {
     "cell_type": "code",
     "collapsed": false,
     "input": [
      "def make_link(G, node1, node2, w):\n",
      "    if node1 not in G:\n",
      "        G[node1] = {}\n",
      "    if node2 not in G[node1]:\n",
      "        (G[node1])[node2] = 0\n",
      "    (G[node1])[node2] += w\n",
      "    if node2 not in G:\n",
      "        G[node2] = {}\n",
      "    if node1 not in G[node2]:\n",
      "        (G[node2])[node1] = 0\n",
      "    (G[node2])[node1] += w\n",
      "    return G"
     ],
     "language": "python",
     "metadata": {},
     "outputs": [],
     "prompt_number": 20
    },
    {
     "cell_type": "code",
     "collapsed": false,
     "input": [
      "left = lambda i: 2 * i + 1\n",
      "right = lambda i: 2 * i + 2\n",
      "parent = lambda i: (i - 1) // 2\n",
      "is_root = lambda i: i == 0\n",
      "is_leaf = lambda L, i: right(i) > len(L) and left(i) > len(L)\n",
      "one_child = lambda L, i: right(i) == len(L)  # the node only has a left child"
     ],
     "language": "python",
     "metadata": {},
     "outputs": [],
     "prompt_number": 12
    },
    {
     "cell_type": "code",
     "collapsed": false,
     "input": [
      "def up_heapify(L, i, heaped_names):\n",
      "    if i == 0 or L[parent(i)] <= L[i]:\n",
      "        return L, heaped_names\n",
      "    else:\n",
      "        L[parent(i)], L[i] = L[i], L[parent(i)]\n",
      "        heaped_names[parent(i)], heaped_names[i] = heaped_names[i], heaped_names[parent(i)]\n",
      "        return up_heapify(L, parent(i))"
     ],
     "language": "python",
     "metadata": {},
     "outputs": [],
     "prompt_number": 13
    },
    {
     "cell_type": "code",
     "collapsed": false,
     "input": [
      "def add_to_heap(L, n, heaped_names, n_name):\n",
      "    L.append(n)\n",
      "    heaped_names.append(n_name)\n",
      "    \n",
      "    return up_heapify(L, -1, heaped_names)"
     ],
     "language": "python",
     "metadata": {},
     "outputs": [],
     "prompt_number": 14
    },
    {
     "cell_type": "code",
     "collapsed": false,
     "input": [
      "def down_heapify(L, i, heaped_names):\n",
      "    \"\"\" Call this if the heap rooted at i satisfies the heap property except perhaps i to its immediate children. \"\"\"\n",
      "\n",
      "    if len(L) == 1:\n",
      "        return L\n",
      "    \n",
      "    if is_leaf(L, i):\n",
      "        return L\n",
      "\n",
      "    if one_child(L, i):\n",
      "        if L[i] > L[left(i)]:\n",
      "            L[i], L[left(i)] = L[left(i)], L[i]\n",
      "            heaped_names[i], heaped_names[left(i)] = heaped_names[left(i)], heaped_names[i]\n",
      "        return L\n",
      "\n",
      "    # i has two children, check heap property\n",
      "    print \"in down_heapify, before 14:\"\n",
      "    print \"L: \" + str(L)\n",
      "    print \"i: \" + str(i)\n",
      "    print \"left(i): \" + str(left(i))\n",
      "    print \"right(i): \" + str(right(i))\n",
      "    \n",
      "    if min(L[left(i)], L[right(i)]) >= L[i]:\n",
      "        return L\n",
      "\n",
      "    # if that fails, swap with the smaller child, and recurse on its children\n",
      "    if L[left(i)] < L[right(i)]:\n",
      "        L[i], L[left(i)] = L[left(i)], L[i]\n",
      "        heaped_names[i], heaped_names[left(i)] = heaped_names[left(i)], heaped_names[i]\n",
      "        down_heapify(L, left(i), heaped_names)\n",
      "    else:\n",
      "        L[i], L[right(i)] = L[right(i)], L[i]\n",
      "        heaped_names[i], heaped_names[right(i)] = heaped_names[right(i)], heaped_names[i]\n",
      "        down_heapify(L, right(i), heaped_names)\n",
      "    return L"
     ],
     "language": "python",
     "metadata": {},
     "outputs": [],
     "prompt_number": 40
    },
    {
     "cell_type": "code",
     "collapsed": false,
     "input": [
      "def remove_min_h(L, heaped_names):\n",
      "    if len(L) == 1:\n",
      "        heaped_names.pop()\n",
      "        L.pop()\n",
      "        return L\n",
      "    \n",
      "    L[0] = L.pop()  # move last element to the beginning\n",
      "    heaped_names[0] = heaped_names.pop()\n",
      "    down_heapify(L, 0, heaped_names)\n",
      "    return L"
     ],
     "language": "python",
     "metadata": {},
     "outputs": [],
     "prompt_number": 28
    },
    {
     "cell_type": "markdown",
     "metadata": {},
     "source": [
      "dist_so_far_heap is the heap of distances so far. heaped_names is a list, which elements are the names of the nodes in the same position on the heap."
     ]
    },
    {
     "cell_type": "code",
     "collapsed": false,
     "input": [
      "def shortest_dist_node(dist_heap, heaped_names):\n",
      "    shortest_name = heaped_names[0]\n",
      "    shortest_distance = dist_heap[0]\n",
      "    \n",
      "    remove_min_h(dist_heap, heaped_names)\n",
      "    return shortest_name, shortest_distance"
     ],
     "language": "python",
     "metadata": {},
     "outputs": [],
     "prompt_number": 22
    },
    {
     "cell_type": "code",
     "collapsed": false,
     "input": [
      "def dijkstra(G, v):    \n",
      "    dist_so_far_heap = [0]\n",
      "    heaped_names = [v]\n",
      "\n",
      "    final_dist = {}\n",
      "\n",
      "    while len(final_dist) < len(G):  # assuming connected graph\n",
      "        w, dist_w = shortest_dist_node(dist_so_far_heap, heaped_names)\n",
      "\n",
      "        # lock it down\n",
      "        final_dist[w] = dist_w\n",
      "\n",
      "        print \"w: %s\" %w\n",
      "        print \"dist_w: %s\" %dist_w\n",
      "        \n",
      "        for x in G[w]:\n",
      "            if x not in final_dist:\n",
      "                if x not in heaped_names:\n",
      "                    add_to_heap(dist_so_far_heap, final_dist[w] + G[w][x], heaped_names, x)\n",
      "                elif final_dist[w] + G[w][x] < dist_so_far_heap[heaped_names.index(x)]:\n",
      "                    dist_so_far_heap[heaped_names.index(x)] = final_dist[w] + G[w][x]\n",
      "\n",
      "    return final_dist"
     ],
     "language": "python",
     "metadata": {},
     "outputs": [],
     "prompt_number": 49
    },
    {
     "cell_type": "markdown",
     "metadata": {},
     "source": [
      "test:"
     ]
    },
    {
     "cell_type": "code",
     "collapsed": false,
     "input": [
      "def test():\n",
      "    # shortcuts\n",
      "    (a,b,c,d,e,f,g) = ('A', 'B', 'C', 'D', 'E', 'F', 'G')\n",
      "    triples = ((a,c,3),(c,b,10),(a,b,15),(d,b,9),(a,d,4),(d,f,7),(d,e,3),\n",
      "               (e,g,1),(e,f,5),(f,g,2),(b,f,1))\n",
      "    G = {}\n",
      "    for (i,j,k) in triples:\n",
      "        make_link(G, i, j, k)\n",
      "\n",
      "    print G\n",
      "    dist = dijkstra(G, a)\n",
      "    \n",
      "    print \"dist: %s\" %dist\n",
      "    \n",
      "    assert dist[g] == 8 #(a -> d -> e -> g)\n",
      "    assert dist[b] == 11 #(a -> d -> e -> g -> f -> b)"
     ],
     "language": "python",
     "metadata": {},
     "outputs": [],
     "prompt_number": 53
    },
    {
     "cell_type": "code",
     "collapsed": false,
     "input": [
      "test()"
     ],
     "language": "python",
     "metadata": {},
     "outputs": [
      {
       "output_type": "stream",
       "stream": "stdout",
       "text": [
        "{'A': {'C': 3, 'B': 15, 'D': 4}, 'C': {'A': 3, 'B': 10}, 'B': {'A': 15, 'C': 10, 'D': 9, 'F': 1}, 'E': {'D': 3, 'G': 1, 'F': 5}, 'D': {'A': 4, 'B': 9, 'E': 3, 'F': 7}, 'G': {'E': 1, 'F': 2}, 'F': {'B': 1, 'E': 5, 'D': 7, 'G': 2}}\n",
        "w: A\n",
        "dist_w: 0\n",
        "w: C\n",
        "dist_w: 3\n",
        "w: D\n",
        "dist_w: 4\n",
        "w: B\n",
        "dist_w: 13\n",
        "w: E\n",
        "dist_w: 7\n",
        "w: F\n",
        "dist_w: 11\n",
        "w: G\n",
        "dist_w: 8\n",
        "dist: {'A': 0, 'C': 3, 'B': 13, 'E': 7, 'D': 4, 'G': 8, 'F': 11}\n"
       ]
      },
      {
       "ename": "AssertionError",
       "evalue": "",
       "output_type": "pyerr",
       "traceback": [
        "\u001b[0;31m---------------------------------------------------------------------------\u001b[0m\n\u001b[0;31mAssertionError\u001b[0m                            Traceback (most recent call last)",
        "\u001b[0;32m<ipython-input-54-ea594c21b25d>\u001b[0m in \u001b[0;36m<module>\u001b[0;34m()\u001b[0m\n\u001b[0;32m----> 1\u001b[0;31m \u001b[0mtest\u001b[0m\u001b[0;34m(\u001b[0m\u001b[0;34m)\u001b[0m\u001b[0;34m\u001b[0m\u001b[0m\n\u001b[0m",
        "\u001b[0;32m<ipython-input-53-0088ef9e7808>\u001b[0m in \u001b[0;36mtest\u001b[0;34m()\u001b[0m\n\u001b[1;32m     14\u001b[0m \u001b[0;34m\u001b[0m\u001b[0m\n\u001b[1;32m     15\u001b[0m     \u001b[0;32massert\u001b[0m \u001b[0mdist\u001b[0m\u001b[0;34m[\u001b[0m\u001b[0mg\u001b[0m\u001b[0;34m]\u001b[0m \u001b[0;34m==\u001b[0m \u001b[0;36m8\u001b[0m \u001b[0;31m#(a -> d -> e -> g)\u001b[0m\u001b[0;34m\u001b[0m\u001b[0m\n\u001b[0;32m---> 16\u001b[0;31m     \u001b[0;32massert\u001b[0m \u001b[0mdist\u001b[0m\u001b[0;34m[\u001b[0m\u001b[0mb\u001b[0m\u001b[0;34m]\u001b[0m \u001b[0;34m==\u001b[0m \u001b[0;36m11\u001b[0m \u001b[0;31m#(a -> d -> e -> g -> f -> b)\u001b[0m\u001b[0;34m\u001b[0m\u001b[0m\n\u001b[0m",
        "\u001b[0;31mAssertionError\u001b[0m: "
       ]
      }
     ],
     "prompt_number": 54
    },
    {
     "cell_type": "code",
     "collapsed": false,
     "input": [
      "# shortcuts\n",
      "(a,b,c,d,e,f,g) = ('A', 'B', 'C', 'D', 'E', 'F', 'G')\n",
      "triples = ((a,c,3),(c,b,10),(a,b,15),(d,b,9),(a,d,4),(d,f,7),(d,e,3), \n",
      "           (e,g,1),(e,f,5),(f,g,2),(b,f,1))\n",
      "G = {}\n",
      "for (i,j,k) in triples:\n",
      "    make_link(G, i, j, k)"
     ],
     "language": "python",
     "metadata": {},
     "outputs": [],
     "prompt_number": 46
    },
    {
     "cell_type": "code",
     "collapsed": false,
     "input": [
      "dist = dijkstra(G, a)"
     ],
     "language": "python",
     "metadata": {},
     "outputs": [],
     "prompt_number": 47
    },
    {
     "cell_type": "code",
     "collapsed": false,
     "input": [
      "dist"
     ],
     "language": "python",
     "metadata": {},
     "outputs": [
      {
       "metadata": {},
       "output_type": "pyout",
       "prompt_number": 48,
       "text": [
        "{'A': 0, 'B': 13, 'C': 3, 'D': 4, 'E': 7, 'F': 11, 'G': 8}"
       ]
      }
     ],
     "prompt_number": 48
    },
    {
     "cell_type": "markdown",
     "metadata": {},
     "source": [
      "---"
     ]
    },
    {
     "cell_type": "code",
     "collapsed": false,
     "input": [
      "2+2"
     ],
     "language": "python",
     "metadata": {},
     "outputs": [
      {
       "metadata": {},
       "output_type": "pyout",
       "prompt_number": 7,
       "text": [
        "4"
       ]
      }
     ],
     "prompt_number": 7
    },
    {
     "cell_type": "code",
     "collapsed": false,
     "input": [
      "def up_heapify(L, i):\n",
      "    if i == 0 or L[parent(i)] <= L[i]:\n",
      "        return L\n",
      "    else:\n",
      "        L[parent(i)], L[i] = L[i], L[parent(i)]\n",
      "        return up_heapify(L, parent(i))"
     ],
     "language": "python",
     "metadata": {},
     "outputs": []
    },
    {
     "cell_type": "markdown",
     "metadata": {},
     "source": [
      "---"
     ]
    },
    {
     "cell_type": "code",
     "collapsed": false,
     "input": [
      "a = [1, 3, 5]\n",
      "a.index(a[-1])"
     ],
     "language": "python",
     "metadata": {},
     "outputs": [
      {
       "metadata": {},
       "output_type": "pyout",
       "prompt_number": 12,
       "text": [
        "2"
       ]
      }
     ],
     "prompt_number": 12
    },
    {
     "cell_type": "code",
     "collapsed": false,
     "input": [
      "p1 = 1\n",
      "p2 = 3\n",
      "p1, p2 = (k**2 for k in (p1, p2))"
     ],
     "language": "python",
     "metadata": {},
     "outputs": [],
     "prompt_number": 15
    },
    {
     "cell_type": "code",
     "collapsed": false,
     "input": [
      "p1, p2"
     ],
     "language": "python",
     "metadata": {},
     "outputs": [
      {
       "metadata": {},
       "output_type": "pyout",
       "prompt_number": 16,
       "text": [
        "(1, 9)"
       ]
      }
     ],
     "prompt_number": 16
    },
    {
     "cell_type": "code",
     "collapsed": false,
     "input": [
      "p1, p2 = ['a', 'b']"
     ],
     "language": "python",
     "metadata": {},
     "outputs": [],
     "prompt_number": 20
    },
    {
     "cell_type": "code",
     "collapsed": false,
     "input": [
      "print p1\n",
      "print p2"
     ],
     "language": "python",
     "metadata": {},
     "outputs": [
      {
       "output_type": "stream",
       "stream": "stdout",
       "text": [
        "a\n",
        "b\n"
       ]
      }
     ],
     "prompt_number": 21
    },
    {
     "cell_type": "code",
     "collapsed": false,
     "input": [
      "(1,) * 4"
     ],
     "language": "python",
     "metadata": {},
     "outputs": [
      {
       "metadata": {},
       "output_type": "pyout",
       "prompt_number": 22,
       "text": [
        "(1, 1, 1, 1)"
       ]
      }
     ],
     "prompt_number": 22
    },
    {
     "cell_type": "code",
     "collapsed": false,
     "input": [
      "114 - 26 + 1"
     ],
     "language": "python",
     "metadata": {},
     "outputs": [
      {
       "metadata": {},
       "output_type": "pyout",
       "prompt_number": 23,
       "text": [
        "89"
       ]
      }
     ],
     "prompt_number": 23
    },
    {
     "cell_type": "markdown",
     "metadata": {},
     "source": [
      "---"
     ]
    },
    {
     "cell_type": "code",
     "collapsed": false,
     "input": [
      "sorted([(3, 'z'), (2, 'a')])"
     ],
     "language": "python",
     "metadata": {},
     "outputs": [
      {
       "metadata": {},
       "output_type": "pyout",
       "prompt_number": 27,
       "text": [
        "[(2, 'a'), (3, 'z')]"
       ]
      }
     ],
     "prompt_number": 27
    },
    {
     "cell_type": "code",
     "collapsed": false,
     "input": [
      "aa = {k: k**2 for k in range(9)}\n",
      "aa"
     ],
     "language": "python",
     "metadata": {},
     "outputs": [
      {
       "metadata": {},
       "output_type": "pyout",
       "prompt_number": 30,
       "text": [
        "{0: 0, 1: 1, 2: 4, 3: 9, 4: 16, 5: 25, 6: 36, 7: 49, 8: 64}"
       ]
      }
     ],
     "prompt_number": 30
    },
    {
     "cell_type": "code",
     "collapsed": false,
     "input": [
      "aa[2], aa[3] = aa[3], aa[2]\n",
      "aa"
     ],
     "language": "python",
     "metadata": {},
     "outputs": [
      {
       "metadata": {},
       "output_type": "pyout",
       "prompt_number": 31,
       "text": [
        "{0: 0, 1: 1, 2: 9, 3: 4, 4: 16, 5: 25, 6: 36, 7: 49, 8: 64}"
       ]
      }
     ],
     "prompt_number": 31
    },
    {
     "cell_type": "code",
     "collapsed": false,
     "input": [],
     "language": "python",
     "metadata": {},
     "outputs": []
    }
   ],
   "metadata": {}
  }
 ]
}