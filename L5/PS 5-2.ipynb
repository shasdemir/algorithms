{
 "metadata": {
  "name": "",
  "signature": "sha256:7839a293e46cbcba2b380339396dcaab575d900665c751b0fe31c3521e2de507"
 },
 "nbformat": 3,
 "nbformat_minor": 0,
 "worksheets": [
  {
   "cells": [
    {
     "cell_type": "code",
     "collapsed": false,
     "input": [
      "marvel_file = \"marvel.tsv\""
     ],
     "language": "python",
     "metadata": {},
     "outputs": [],
     "prompt_number": 1
    },
    {
     "cell_type": "code",
     "collapsed": false,
     "input": [
      "connections = []\n",
      "with open(marvel_file) as mf:\n",
      "    for line in mf:\n",
      "        splitted = line.split('\\t')\n",
      "        connections.append((splitted[0], splitted[1][:-1]))"
     ],
     "language": "python",
     "metadata": {},
     "outputs": [],
     "prompt_number": 2
    },
    {
     "cell_type": "code",
     "collapsed": false,
     "input": [
      "connections[:5]"
     ],
     "language": "python",
     "metadata": {},
     "outputs": [
      {
       "metadata": {},
       "output_type": "pyout",
       "prompt_number": 3,
       "text": [
        "[('\"24-HOUR MAN/EMMANUEL\"', '\"AA2 35\"'),\n",
        " ('\"3-D MAN/CHARLES CHAN\"', '\"AVF 4\"'),\n",
        " ('\"3-D MAN/CHARLES CHAN\"', '\"AVF 5\"'),\n",
        " ('\"3-D MAN/CHARLES CHAN\"', '\"COC 1\"'),\n",
        " ('\"3-D MAN/CHARLES CHAN\"', '\"H2 251\"')]"
       ]
      }
     ],
     "prompt_number": 3
    },
    {
     "cell_type": "code",
     "collapsed": false,
     "input": [
      "def make_link(G, node1, node2, w=1):\n",
      "    if node1 not in G:\n",
      "        G[node1] = {}\n",
      "    if node2 not in G[node1]:\n",
      "        (G[node1])[node2] = 0\n",
      "    (G[node1])[node2] += w\n",
      "    if node2 not in G:\n",
      "        G[node2] = {}\n",
      "    if node1 not in G[node2]:\n",
      "        (G[node2])[node1] = 0\n",
      "    (G[node2])[node1] += w\n",
      "    return G"
     ],
     "language": "python",
     "metadata": {},
     "outputs": [],
     "prompt_number": 4
    },
    {
     "cell_type": "code",
     "collapsed": false,
     "input": [
      "marvel_graph = {}"
     ],
     "language": "python",
     "metadata": {},
     "outputs": [],
     "prompt_number": 6
    },
    {
     "cell_type": "code",
     "collapsed": false,
     "input": [
      "for conn in connections:\n",
      "    make_link(marvel_graph, conn[0], conn[1])"
     ],
     "language": "python",
     "metadata": {},
     "outputs": [],
     "prompt_number": 7
    },
    {
     "cell_type": "code",
     "collapsed": false,
     "input": [
      "books = set([conn[1] for conn in connections])\n",
      "chars = set([conn[0] for conn in connections])\n",
      "len(chars), len(books), len(connections)"
     ],
     "language": "python",
     "metadata": {},
     "outputs": [
      {
       "metadata": {},
       "output_type": "pyout",
       "prompt_number": 9,
       "text": [
        "(6444, 12811, 96514)"
       ]
      }
     ],
     "prompt_number": 9
    },
    {
     "cell_type": "code",
     "collapsed": false,
     "input": [
      "hero_sim_graph = {}\n",
      "for cbook in books:\n",
      "    for hero1 in marvel_graph[cbook]:\n",
      "        for hero2 in marvel_graph[cbook]:\n",
      "            if hero1 != hero2:\n",
      "                make_link(hero_sim_graph, hero1, hero2)"
     ],
     "language": "python",
     "metadata": {},
     "outputs": [],
     "prompt_number": 10
    },
    {
     "cell_type": "code",
     "collapsed": false,
     "input": [
      "len(hero_sim_graph)"
     ],
     "language": "python",
     "metadata": {},
     "outputs": [
      {
       "metadata": {},
       "output_type": "pyout",
       "prompt_number": 13,
       "text": [
        "6426"
       ]
      }
     ],
     "prompt_number": 13
    },
    {
     "cell_type": "markdown",
     "metadata": {},
     "source": [
      "Data prepared."
     ]
    },
    {
     "cell_type": "markdown",
     "metadata": {},
     "source": [
      "---"
     ]
    },
    {
     "cell_type": "markdown",
     "metadata": {},
     "source": [
      "Readjust weights to signify distance rather than similarity."
     ]
    },
    {
     "cell_type": "code",
     "collapsed": false,
     "input": [
      "import copy"
     ],
     "language": "python",
     "metadata": {},
     "outputs": [],
     "prompt_number": 16
    },
    {
     "cell_type": "code",
     "collapsed": false,
     "input": [
      "hero_dist_graph = copy.deepcopy(hero_sim_graph)\n",
      "for hero1 in hero_dist_graph:\n",
      "    for hero2 in hero_dist_graph[hero1]:\n",
      "        hero_dist_graph[hero1][hero2] = 1. / hero_dist_graph[hero1][hero2]"
     ],
     "language": "python",
     "metadata": {},
     "outputs": [],
     "prompt_number": 17
    },
    {
     "cell_type": "code",
     "collapsed": false,
     "input": [
      "len(hero_dist_graph)"
     ],
     "language": "python",
     "metadata": {},
     "outputs": [
      {
       "metadata": {},
       "output_type": "pyout",
       "prompt_number": 18,
       "text": [
        "6426"
       ]
      }
     ],
     "prompt_number": 18
    },
    {
     "cell_type": "code",
     "collapsed": false,
     "input": [
      "hero_edges_graph = copy.deepcopy(hero_dist_graph)\n",
      "for hero1 in hero_edges_graph:\n",
      "    for hero2 in hero_edges_graph[hero1]:\n",
      "        hero_edges_graph[hero1][hero2] = 1."
     ],
     "language": "python",
     "metadata": {},
     "outputs": [],
     "prompt_number": 22
    },
    {
     "cell_type": "code",
     "collapsed": false,
     "input": [
      "len(hero_edges_graph)"
     ],
     "language": "python",
     "metadata": {},
     "outputs": [
      {
       "metadata": {},
       "output_type": "pyout",
       "prompt_number": 23,
       "text": [
        "6426"
       ]
      }
     ],
     "prompt_number": 23
    },
    {
     "cell_type": "markdown",
     "metadata": {},
     "source": [
      "Now, we need functions to calculate shortest path by weight and number of edges."
     ]
    },
    {
     "cell_type": "code",
     "collapsed": false,
     "input": [
      "import heapq as hq"
     ],
     "language": "python",
     "metadata": {},
     "outputs": [],
     "prompt_number": 19
    },
    {
     "cell_type": "code",
     "collapsed": false,
     "input": [
      "def dijkstra(G, v):\n",
      "    dist_so_far = [(0, v)]\n",
      "    dsf_values_map = {v: 0}\n",
      "    final_dist = {}\n",
      "\n",
      "    while len(dist_so_far) > 0:  # assuming connected graph\n",
      "        w_dist, w = hq.heappop(dist_so_far)\n",
      "\n",
      "        if w in final_dist:\n",
      "            continue\n",
      "\n",
      "        del dsf_values_map[w]  # lock it down\n",
      "        final_dist[w] = w_dist\n",
      "\n",
      "        for x in G[w]:\n",
      "            if x not in final_dist:\n",
      "                route_dist = final_dist[w] + G[w][x]\n",
      "\n",
      "                if x not in dsf_values_map or route_dist < dsf_values_map[x]:\n",
      "                    hq.heappush(dist_so_far, (route_dist, x))\n",
      "                    dsf_values_map[x] = route_dist\n",
      "    return final_dist"
     ],
     "language": "python",
     "metadata": {},
     "outputs": [],
     "prompt_number": 21
    },
    {
     "cell_type": "code",
     "collapsed": false,
     "input": [
      "def bfs(G, v):\n",
      "    open_list = [v]\n",
      "    distance_from_start = {v: 0}\n",
      "\n",
      "    while open_list:\n",
      "        current = open_list.pop(0)  # bfs\n",
      "\n",
      "        for neighbor in G[current]:\n",
      "            if neighbor not in distance_from_start:\n",
      "                distance_from_start[neighbor] = distance_from_start[current] + 1\n",
      "                open_list.append(neighbor)\n",
      "    return distance_from_start"
     ],
     "language": "python",
     "metadata": {},
     "outputs": [],
     "prompt_number": 24
    },
    {
     "cell_type": "code",
     "collapsed": false,
     "input": [],
     "language": "python",
     "metadata": {},
     "outputs": []
    }
   ],
   "metadata": {}
  }
 ]
}