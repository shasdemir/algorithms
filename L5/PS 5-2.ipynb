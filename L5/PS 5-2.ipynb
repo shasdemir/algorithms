{
 "metadata": {
  "name": "",
  "signature": "sha256:97dbe2639b53718afb4efec5f4c8e06ad38525778f4689ef54b2a92fef43dc47"
 },
 "nbformat": 3,
 "nbformat_minor": 0,
 "worksheets": [
  {
   "cells": [
    {
     "cell_type": "code",
     "collapsed": false,
     "input": [
      "marvel_file = \"marvel.tsv\""
     ],
     "language": "python",
     "metadata": {},
     "outputs": [],
     "prompt_number": 1
    },
    {
     "cell_type": "code",
     "collapsed": false,
     "input": [
      "connections = []\n",
      "with open(marvel_file) as mf:\n",
      "    for line in mf:\n",
      "        splitted = line.split('\\t')\n",
      "        connections.append((splitted[0], splitted[1][:-1]))"
     ],
     "language": "python",
     "metadata": {},
     "outputs": [],
     "prompt_number": 2
    },
    {
     "cell_type": "code",
     "collapsed": false,
     "input": [
      "connections[:5]"
     ],
     "language": "python",
     "metadata": {},
     "outputs": [
      {
       "metadata": {},
       "output_type": "pyout",
       "prompt_number": 3,
       "text": [
        "[('\"24-HOUR MAN/EMMANUEL\"', '\"AA2 35\"'),\n",
        " ('\"3-D MAN/CHARLES CHAN\"', '\"AVF 4\"'),\n",
        " ('\"3-D MAN/CHARLES CHAN\"', '\"AVF 5\"'),\n",
        " ('\"3-D MAN/CHARLES CHAN\"', '\"COC 1\"'),\n",
        " ('\"3-D MAN/CHARLES CHAN\"', '\"H2 251\"')]"
       ]
      }
     ],
     "prompt_number": 3
    },
    {
     "cell_type": "code",
     "collapsed": false,
     "input": [
      "def make_link(G, node1, node2, w=1):\n",
      "    if node1 not in G:\n",
      "        G[node1] = {}\n",
      "    if node2 not in G[node1]:\n",
      "        (G[node1])[node2] = 0\n",
      "    (G[node1])[node2] += w\n",
      "    if node2 not in G:\n",
      "        G[node2] = {}\n",
      "    if node1 not in G[node2]:\n",
      "        (G[node2])[node1] = 0\n",
      "    (G[node2])[node1] += w\n",
      "    return G"
     ],
     "language": "python",
     "metadata": {},
     "outputs": [],
     "prompt_number": 4
    },
    {
     "cell_type": "code",
     "collapsed": false,
     "input": [
      "marvel_graph = {}"
     ],
     "language": "python",
     "metadata": {},
     "outputs": [],
     "prompt_number": 6
    },
    {
     "cell_type": "code",
     "collapsed": false,
     "input": [
      "for conn in connections:\n",
      "    make_link(marvel_graph, conn[0], conn[1])"
     ],
     "language": "python",
     "metadata": {},
     "outputs": [],
     "prompt_number": 7
    },
    {
     "cell_type": "code",
     "collapsed": false,
     "input": [
      "books = set([conn[1] for conn in connections])\n",
      "chars = set([conn[0] for conn in connections])\n",
      "len(chars), len(books), len(connections)"
     ],
     "language": "python",
     "metadata": {},
     "outputs": [
      {
       "metadata": {},
       "output_type": "pyout",
       "prompt_number": 9,
       "text": [
        "(6444, 12811, 96514)"
       ]
      }
     ],
     "prompt_number": 9
    },
    {
     "cell_type": "code",
     "collapsed": false,
     "input": [
      "hero_sim_graph = {}\n",
      "for cbook in books:\n",
      "    for hero1 in marvel_graph[cbook]:\n",
      "        for hero2 in marvel_graph[cbook]:\n",
      "            if hero1 != hero2:\n",
      "                make_link(hero_sim_graph, hero1, hero2)"
     ],
     "language": "python",
     "metadata": {},
     "outputs": [],
     "prompt_number": 10
    },
    {
     "cell_type": "code",
     "collapsed": false,
     "input": [
      "len(hero_sim_graph)"
     ],
     "language": "python",
     "metadata": {},
     "outputs": [
      {
       "metadata": {},
       "output_type": "pyout",
       "prompt_number": 13,
       "text": [
        "6426"
       ]
      }
     ],
     "prompt_number": 13
    },
    {
     "cell_type": "markdown",
     "metadata": {},
     "source": [
      "Data prepared."
     ]
    },
    {
     "cell_type": "code",
     "collapsed": false,
     "input": [],
     "language": "python",
     "metadata": {},
     "outputs": []
    }
   ],
   "metadata": {}
  }
 ]
}