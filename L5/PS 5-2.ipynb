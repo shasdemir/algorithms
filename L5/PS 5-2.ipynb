{
 "metadata": {
  "name": "",
  "signature": "sha256:7d4be46c3ad0d04fcb1f508cc44f7f56927bcd545b057f8fce499f31c675f021"
 },
 "nbformat": 3,
 "nbformat_minor": 0,
 "worksheets": [
  {
   "cells": [
    {
     "cell_type": "code",
     "collapsed": false,
     "input": [
      "marvel_file = \"marvel.tsv\""
     ],
     "language": "python",
     "metadata": {},
     "outputs": [],
     "prompt_number": 1
    },
    {
     "cell_type": "code",
     "collapsed": false,
     "input": [
      "connections = []\n",
      "with open(marvel_file) as mf:\n",
      "    for line in mf:\n",
      "        splitted = line.split('\\t')\n",
      "        connections.append((splitted[0], splitted[1][:-1]))"
     ],
     "language": "python",
     "metadata": {},
     "outputs": [],
     "prompt_number": 2
    },
    {
     "cell_type": "code",
     "collapsed": false,
     "input": [
      "connections[:5]"
     ],
     "language": "python",
     "metadata": {},
     "outputs": [
      {
       "metadata": {},
       "output_type": "pyout",
       "prompt_number": 3,
       "text": [
        "[('\"24-HOUR MAN/EMMANUEL\"', '\"AA2 35\"'),\n",
        " ('\"3-D MAN/CHARLES CHAN\"', '\"AVF 4\"'),\n",
        " ('\"3-D MAN/CHARLES CHAN\"', '\"AVF 5\"'),\n",
        " ('\"3-D MAN/CHARLES CHAN\"', '\"COC 1\"'),\n",
        " ('\"3-D MAN/CHARLES CHAN\"', '\"H2 251\"')]"
       ]
      }
     ],
     "prompt_number": 3
    },
    {
     "cell_type": "markdown",
     "metadata": {},
     "source": [
      "Small cleanup:"
     ]
    },
    {
     "cell_type": "code",
     "collapsed": false,
     "input": [
      "connections = [(k[0][1:-1], k[1][1:-1]) for k in connections]"
     ],
     "language": "python",
     "metadata": {},
     "outputs": [],
     "prompt_number": 4
    },
    {
     "cell_type": "code",
     "collapsed": false,
     "input": [
      "connections[:5]"
     ],
     "language": "python",
     "metadata": {},
     "outputs": [
      {
       "metadata": {},
       "output_type": "pyout",
       "prompt_number": 5,
       "text": [
        "[('24-HOUR MAN/EMMANUEL', 'AA2 35'),\n",
        " ('3-D MAN/CHARLES CHAN', 'AVF 4'),\n",
        " ('3-D MAN/CHARLES CHAN', 'AVF 5'),\n",
        " ('3-D MAN/CHARLES CHAN', 'COC 1'),\n",
        " ('3-D MAN/CHARLES CHAN', 'H2 251')]"
       ]
      }
     ],
     "prompt_number": 5
    },
    {
     "cell_type": "code",
     "collapsed": false,
     "input": [
      "def make_link(G, node1, node2, w=1):\n",
      "    if node1 not in G:\n",
      "        G[node1] = {}\n",
      "    if node2 not in G[node1]:\n",
      "        (G[node1])[node2] = 0\n",
      "    (G[node1])[node2] += w\n",
      "    if node2 not in G:\n",
      "        G[node2] = {}\n",
      "    if node1 not in G[node2]:\n",
      "        (G[node2])[node1] = 0\n",
      "    (G[node2])[node1] += w\n",
      "    return G"
     ],
     "language": "python",
     "metadata": {},
     "outputs": [],
     "prompt_number": 6
    },
    {
     "cell_type": "code",
     "collapsed": false,
     "input": [
      "marvel_graph = {}"
     ],
     "language": "python",
     "metadata": {},
     "outputs": [],
     "prompt_number": 7
    },
    {
     "cell_type": "code",
     "collapsed": false,
     "input": [
      "for conn in connections:\n",
      "    make_link(marvel_graph, conn[0], conn[1])"
     ],
     "language": "python",
     "metadata": {},
     "outputs": [],
     "prompt_number": 8
    },
    {
     "cell_type": "code",
     "collapsed": false,
     "input": [
      "books = set([conn[1] for conn in connections])\n",
      "chars = set([conn[0] for conn in connections])\n",
      "len(chars), len(books), len(connections)"
     ],
     "language": "python",
     "metadata": {},
     "outputs": [
      {
       "metadata": {},
       "output_type": "pyout",
       "prompt_number": 9,
       "text": [
        "(6444, 12811, 96514)"
       ]
      }
     ],
     "prompt_number": 9
    },
    {
     "cell_type": "code",
     "collapsed": false,
     "input": [
      "hero_sim_graph = {}\n",
      "for cbook in books:\n",
      "    for hero1 in marvel_graph[cbook]:\n",
      "        for hero2 in marvel_graph[cbook]:\n",
      "            if hero1 != hero2:\n",
      "                make_link(hero_sim_graph, hero1, hero2)"
     ],
     "language": "python",
     "metadata": {},
     "outputs": [],
     "prompt_number": 10
    },
    {
     "cell_type": "code",
     "collapsed": false,
     "input": [
      "len(hero_sim_graph)"
     ],
     "language": "python",
     "metadata": {},
     "outputs": [
      {
       "metadata": {},
       "output_type": "pyout",
       "prompt_number": 11,
       "text": [
        "6426"
       ]
      }
     ],
     "prompt_number": 11
    },
    {
     "cell_type": "markdown",
     "metadata": {},
     "source": [
      "Data prepared."
     ]
    },
    {
     "cell_type": "markdown",
     "metadata": {},
     "source": [
      "---"
     ]
    },
    {
     "cell_type": "markdown",
     "metadata": {},
     "source": [
      "Readjust weights to signify distance rather than similarity."
     ]
    },
    {
     "cell_type": "code",
     "collapsed": false,
     "input": [
      "import copy"
     ],
     "language": "python",
     "metadata": {},
     "outputs": [],
     "prompt_number": 12
    },
    {
     "cell_type": "code",
     "collapsed": false,
     "input": [
      "hero_dist_graph = copy.deepcopy(hero_sim_graph)\n",
      "for hero1 in hero_dist_graph:\n",
      "    for hero2 in hero_dist_graph[hero1]:\n",
      "        hero_dist_graph[hero1][hero2] = 1. / hero_dist_graph[hero1][hero2]"
     ],
     "language": "python",
     "metadata": {},
     "outputs": [],
     "prompt_number": 13
    },
    {
     "cell_type": "code",
     "collapsed": false,
     "input": [
      "len(hero_dist_graph)"
     ],
     "language": "python",
     "metadata": {},
     "outputs": [
      {
       "metadata": {},
       "output_type": "pyout",
       "prompt_number": 14,
       "text": [
        "6426"
       ]
      }
     ],
     "prompt_number": 14
    },
    {
     "cell_type": "code",
     "collapsed": false,
     "input": [
      "hero_edges_graph = copy.deepcopy(hero_dist_graph)\n",
      "for hero1 in hero_edges_graph:\n",
      "    for hero2 in hero_edges_graph[hero1]:\n",
      "        hero_edges_graph[hero1][hero2] = 1."
     ],
     "language": "python",
     "metadata": {},
     "outputs": [],
     "prompt_number": 15
    },
    {
     "cell_type": "code",
     "collapsed": false,
     "input": [
      "len(hero_edges_graph)"
     ],
     "language": "python",
     "metadata": {},
     "outputs": [
      {
       "metadata": {},
       "output_type": "pyout",
       "prompt_number": 16,
       "text": [
        "6426"
       ]
      }
     ],
     "prompt_number": 16
    },
    {
     "cell_type": "markdown",
     "metadata": {},
     "source": [
      "Now, we need functions to calculate shortest path by weight and number of edges."
     ]
    },
    {
     "cell_type": "code",
     "collapsed": false,
     "input": [
      "import heapq as hq"
     ],
     "language": "python",
     "metadata": {},
     "outputs": [],
     "prompt_number": 17
    },
    {
     "cell_type": "code",
     "collapsed": false,
     "input": [
      "def dijkstra(G, v):\n",
      "    dist_so_far = [(0, v)]\n",
      "    dsf_values_map = {v: 0}\n",
      "    final_dist = {}\n",
      "\n",
      "    while len(dist_so_far) > 0:  # assuming connected graph\n",
      "        w_dist, w = hq.heappop(dist_so_far)\n",
      "\n",
      "        if w in final_dist:\n",
      "            continue\n",
      "\n",
      "        del dsf_values_map[w]  # lock it down\n",
      "        final_dist[w] = w_dist\n",
      "\n",
      "        for x in G[w]:\n",
      "            if x not in final_dist:\n",
      "                route_dist = final_dist[w] + G[w][x]\n",
      "\n",
      "                if x not in dsf_values_map or route_dist < dsf_values_map[x]:\n",
      "                    hq.heappush(dist_so_far, (route_dist, x))\n",
      "                    dsf_values_map[x] = route_dist\n",
      "    return final_dist"
     ],
     "language": "python",
     "metadata": {},
     "outputs": [],
     "prompt_number": 18
    },
    {
     "cell_type": "code",
     "collapsed": false,
     "input": [
      "def bfs(G, v):\n",
      "    open_list = [v]\n",
      "    distance_from_start = {v: 0}\n",
      "\n",
      "    while open_list:\n",
      "        current = open_list.pop(0)  # bfs\n",
      "\n",
      "        for neighbor in G[current]:\n",
      "            if neighbor not in distance_from_start:\n",
      "                distance_from_start[neighbor] = distance_from_start[current] + 1\n",
      "                open_list.append(neighbor)\n",
      "    return distance_from_start"
     ],
     "language": "python",
     "metadata": {},
     "outputs": [],
     "prompt_number": 22
    },
    {
     "cell_type": "code",
     "collapsed": false,
     "input": [
      "question_heroes = ['SPIDER-MAN/PETER PAR', 'GREEN GOBLIN/NORMAN ', 'WOLVERINE/LOGAN ', 'PROFESSOR X/CHARLES ', 'CAPTAIN AMERICA']\n",
      "question_heroes"
     ],
     "language": "python",
     "metadata": {},
     "outputs": [
      {
       "metadata": {},
       "output_type": "pyout",
       "prompt_number": 25,
       "text": [
        "['SPIDER-MAN/PETER PAR',\n",
        " 'GREEN GOBLIN/NORMAN ',\n",
        " 'WOLVERINE/LOGAN ',\n",
        " 'PROFESSOR X/CHARLES ',\n",
        " 'CAPTAIN AMERICA']"
       ]
      }
     ],
     "prompt_number": 25
    },
    {
     "cell_type": "code",
     "collapsed": false,
     "input": [
      "edges_distances = bfs(hero_dist_graph, 'SPIDER-MAN/PETER PAR')\n",
      "edges_distances.keys()[0]"
     ],
     "language": "python",
     "metadata": {},
     "outputs": [
      {
       "metadata": {},
       "output_type": "pyout",
       "prompt_number": 31,
       "text": [
        "'QUESADA, JOE'"
       ]
      }
     ],
     "prompt_number": 31
    },
    {
     "cell_type": "code",
     "collapsed": false,
     "input": [
      "weighted_distances = dijkstra(hero_dist_graph, 'SPIDER-MAN/PETER PAR')\n",
      "weighted_distances.keys()[1]"
     ],
     "language": "python",
     "metadata": {},
     "outputs": [
      {
       "metadata": {},
       "output_type": "pyout",
       "prompt_number": 33,
       "text": [
        "'ZEITGEIST II/AXEL CL'"
       ]
      }
     ],
     "prompt_number": 33
    },
    {
     "cell_type": "code",
     "collapsed": false,
     "input": [
      "n_different = 0\n",
      "for q_hero in question_heroes:\n",
      "    edges_distances = bfs(hero_dist_graph, q_hero)\n",
      "    weighted_distances = dijkstra(hero_dist_graph, q_hero)\n",
      "    \n",
      "    for hero2 in edges_distances:\n",
      "        if weighted_distances[hero2] != edges_distances[hero2]:\n",
      "            n_different += 1"
     ],
     "language": "python",
     "metadata": {},
     "outputs": [],
     "prompt_number": 35
    },
    {
     "cell_type": "code",
     "collapsed": false,
     "input": [
      "n_different"
     ],
     "language": "python",
     "metadata": {},
     "outputs": [
      {
       "metadata": {},
       "output_type": "pyout",
       "prompt_number": 38,
       "text": [
        "32035"
       ]
      }
     ],
     "prompt_number": 38
    },
    {
     "cell_type": "markdown",
     "metadata": {},
     "source": [
      "We solved the wrong problem. We don't need the number of heroes that have different length of shortest path, we need the number of heroes with a different path. The same path will have different lengths when weights != 0."
     ]
    },
    {
     "cell_type": "code",
     "collapsed": false,
     "input": [
      "def path(G, v1, v2):\n",
      "    open_list = [v1]\n",
      "    path_from_start = {v1: [v1]}\n",
      "\n",
      "    if v1 == v2:\n",
      "        return path_from_start[v1]\n",
      "\n",
      "    while open_list:\n",
      "        current = open_list.pop(0)  # bfs\n",
      "\n",
      "        for neighbor in G[current]:\n",
      "            if neighbor not in path_from_start:\n",
      "                path_from_start[neighbor] = path_from_start[current] + [neighbor]\n",
      "                if neighbor == v2:\n",
      "                    return path_from_start[v2]\n",
      "                open_list.append(neighbor)\n",
      "    return False"
     ],
     "language": "python",
     "metadata": {},
     "outputs": [],
     "prompt_number": 39
    },
    {
     "cell_type": "code",
     "collapsed": false,
     "input": [
      "def bfs_allpaths(G, v):\n",
      "    open_list = [v]\n",
      "    path_from_start = {v: [v]}\n",
      "\n",
      "    while open_list:\n",
      "        current = open_list.pop(0)  # bfs\n",
      "\n",
      "        for neighbor in G[current]:\n",
      "            if neighbor not in path_from_start:\n",
      "                path_from_start[neighbor] = path_from_start[current] + [neighbor]\n",
      "                open_list.append(neighbor)\n",
      "    return path_from_start"
     ],
     "language": "python",
     "metadata": {},
     "outputs": [],
     "prompt_number": 40
    },
    {
     "cell_type": "markdown",
     "metadata": {},
     "source": [
      "Now test bfs_allpaths:"
     ]
    },
    {
     "cell_type": "code",
     "collapsed": false,
     "input": [
      "(a, b, c, d, e, f, g) = (0, 1, 2, 3, 4, 5, 6)\n",
      "triples = ((a, b, 2), (a, c, 2), (a, d, 4), (a, e, 2), (a, f, 4), (b, g, 5), (c, d, 4), (d, e, 1))\n",
      "G = {}\n",
      "for (i, j, k) in triples:\n",
      "    make_link(G, i, j, k)"
     ],
     "language": "python",
     "metadata": {},
     "outputs": [],
     "prompt_number": 41
    },
    {
     "cell_type": "code",
     "collapsed": false,
     "input": [
      "G"
     ],
     "language": "python",
     "metadata": {},
     "outputs": [
      {
       "metadata": {},
       "output_type": "pyout",
       "prompt_number": 42,
       "text": [
        "{0: {1: 2, 2: 2, 3: 4, 4: 2, 5: 4},\n",
        " 1: {0: 2, 6: 5},\n",
        " 2: {0: 2, 3: 4},\n",
        " 3: {0: 4, 2: 4, 4: 1},\n",
        " 4: {0: 2, 3: 1},\n",
        " 5: {0: 4},\n",
        " 6: {1: 5}}"
       ]
      }
     ],
     "prompt_number": 42
    },
    {
     "cell_type": "code",
     "collapsed": false,
     "input": [
      "bfs_allpaths(G, 2)"
     ],
     "language": "python",
     "metadata": {},
     "outputs": [
      {
       "metadata": {},
       "output_type": "pyout",
       "prompt_number": 43,
       "text": [
        "{0: [2, 0],\n",
        " 1: [2, 0, 1],\n",
        " 2: [2],\n",
        " 3: [2, 3],\n",
        " 4: [2, 0, 4],\n",
        " 5: [2, 0, 5],\n",
        " 6: [2, 0, 1, 6]}"
       ]
      }
     ],
     "prompt_number": 43
    },
    {
     "cell_type": "markdown",
     "metadata": {},
     "source": [
      "Seems to be working."
     ]
    },
    {
     "cell_type": "markdown",
     "metadata": {},
     "source": [
      "Now we need to make dijkstra return paths..."
     ]
    },
    {
     "cell_type": "code",
     "collapsed": false,
     "input": [
      "def dijkstra_paths(G, v):\n",
      "    dist_path_so_far = [(0, v, [v])]\n",
      "    dsf_values_map = {v: 0}\n",
      "    final_dist_path = {}\n",
      "\n",
      "    while len(dist_path_so_far) > 0:  # assuming connected graph\n",
      "        w_dist, w, w_path = hq.heappop(dist_path_so_far)\n",
      "\n",
      "        if w in final_dist_path:\n",
      "            continue\n",
      "\n",
      "        del dsf_values_map[w]  # lock it down\n",
      "        final_dist_path[w] = (w_dist, w_path)\n",
      "\n",
      "        for x in G[w]:\n",
      "            if x not in final_dist_path:\n",
      "                route_dist = final_dist_path[w][0] + G[w][x]\n",
      "                route_path = final_dist_path[w][1] + [x]\n",
      "\n",
      "                if x not in dsf_values_map or route_dist < dsf_values_map[x]:\n",
      "                    hq.heappush(dist_path_so_far, (route_dist, x, route_path))\n",
      "                    dsf_values_map[x] = route_dist\n",
      "    # return final_dist_path\n",
      "    # erase distances from final_dist_path\n",
      "    for hero in final_dist_path:\n",
      "        final_dist_path[hero] = final_dist_path[hero][1]\n",
      "    return final_dist_path"
     ],
     "language": "python",
     "metadata": {},
     "outputs": [],
     "prompt_number": 62
    },
    {
     "cell_type": "code",
     "collapsed": false,
     "input": [
      "dijkstra_paths(G, 2)"
     ],
     "language": "python",
     "metadata": {},
     "outputs": [
      {
       "metadata": {},
       "output_type": "pyout",
       "prompt_number": 63,
       "text": [
        "{0: [2, 0],\n",
        " 1: [2, 0, 1],\n",
        " 2: [2],\n",
        " 3: [2, 3],\n",
        " 4: [2, 0, 4],\n",
        " 5: [2, 0, 5],\n",
        " 6: [2, 0, 1, 6]}"
       ]
      }
     ],
     "prompt_number": 63
    },
    {
     "cell_type": "markdown",
     "metadata": {},
     "source": [
      "Let's try on the real data:"
     ]
    },
    {
     "cell_type": "code",
     "collapsed": false,
     "input": [
      "n_different = 0\n",
      "for q_hero in question_heroes:\n",
      "    edges_paths = bfs_allpaths(hero_edges_graph, q_hero)\n",
      "    weighted_paths = dijkstra_paths(hero_dist_graph, q_hero)\n",
      "    \n",
      "    for hero2 in edges_distances:\n",
      "        if weighted_paths[hero2] != edges_paths[hero2]:\n",
      "            n_different += 1"
     ],
     "language": "python",
     "metadata": {},
     "outputs": [],
     "prompt_number": 55
    },
    {
     "cell_type": "code",
     "collapsed": false,
     "input": [
      "n_different"
     ],
     "language": "python",
     "metadata": {},
     "outputs": [
      {
       "metadata": {},
       "output_type": "pyout",
       "prompt_number": 56,
       "text": [
        "32040"
       ]
      }
     ],
     "prompt_number": 56
    },
    {
     "cell_type": "markdown",
     "metadata": {},
     "source": [
      "Wrong answer."
     ]
    },
    {
     "cell_type": "code",
     "collapsed": false,
     "input": [
      "spdy_edges_paths = bfs_allpaths(hero_edges_graph, 'SPIDER-MAN/PETER PAR')"
     ],
     "language": "python",
     "metadata": {},
     "outputs": [],
     "prompt_number": 57
    },
    {
     "cell_type": "code",
     "collapsed": false,
     "input": [
      "spdy_edges_paths['YAP']"
     ],
     "language": "python",
     "metadata": {},
     "outputs": [
      {
       "metadata": {},
       "output_type": "pyout",
       "prompt_number": 58,
       "text": [
        "['SPIDER-MAN/PETER PAR', 'YAP']"
       ]
      }
     ],
     "prompt_number": 58
    },
    {
     "cell_type": "code",
     "collapsed": false,
     "input": [
      "spdy_weighted_paths = dijkstra_paths(hero_dist_graph, 'SPIDER-MAN/PETER PAR')"
     ],
     "language": "python",
     "metadata": {},
     "outputs": [],
     "prompt_number": 60
    },
    {
     "cell_type": "code",
     "collapsed": false,
     "input": [
      "spdy_weighted_paths['YAP']"
     ],
     "language": "python",
     "metadata": {},
     "outputs": [
      {
       "metadata": {},
       "output_type": "pyout",
       "prompt_number": 61,
       "text": [
        "(0.13589508781816473,\n",
        " ['SPIDER-MAN/PETER PAR', 'WOLVERINE/LOGAN ', 'SHADOWCAT/KATHERINE ', 'YAP'])"
       ]
      }
     ],
     "prompt_number": 61
    },
    {
     "cell_type": "code",
     "collapsed": false,
     "input": [
      "def dijkstra_paths(G, v):\n",
      "    dist_path_so_far = [(0, v, [v])]\n",
      "    dsf_values_map = {v: 0}\n",
      "    final_dist_path = {}\n",
      "\n",
      "    while len(dist_path_so_far) > 0:  # assuming connected graph\n",
      "        w_dist, w, w_path = hq.heappop(dist_path_so_far)\n",
      "\n",
      "        if w in final_dist_path:\n",
      "            continue\n",
      "\n",
      "        del dsf_values_map[w]  # lock it down\n",
      "        final_dist_path[w] = (w_dist, w_path)\n",
      "\n",
      "        for x in G[w]:\n",
      "            if x not in final_dist_path:\n",
      "                route_dist = final_dist_path[w][0] + G[w][x]\n",
      "                route_path = final_dist_path[w][1] + [x]\n",
      "\n",
      "                if x not in dsf_values_map or route_dist < dsf_values_map[x]:\n",
      "                    hq.heappush(dist_path_so_far, (route_dist, x, route_path))\n",
      "                    dsf_values_map[x] = route_dist\n",
      "\n",
      "    # erase distances from final_dist_path\n",
      "    for hero in final_dist_path:\n",
      "        final_dist_path[hero] = final_dist_path[hero][1]\n",
      "    return final_dist_path"
     ],
     "language": "python",
     "metadata": {},
     "outputs": [],
     "prompt_number": 64
    },
    {
     "cell_type": "code",
     "collapsed": false,
     "input": [
      "n_different = 0\n",
      "for q_hero in question_heroes:\n",
      "    edges_paths = bfs_allpaths(hero_edges_graph, q_hero)\n",
      "    weighted_paths = dijkstra_paths(hero_dist_graph, q_hero)\n",
      "    \n",
      "    for hero2 in edges_distances:\n",
      "        if weighted_paths[hero2] != edges_paths[hero2]:\n",
      "            n_different += 1"
     ],
     "language": "python",
     "metadata": {},
     "outputs": [],
     "prompt_number": 65
    },
    {
     "cell_type": "code",
     "collapsed": false,
     "input": [
      "n_different"
     ],
     "language": "python",
     "metadata": {},
     "outputs": [
      {
       "metadata": {},
       "output_type": "pyout",
       "prompt_number": 66,
       "text": [
        "28886"
       ]
      }
     ],
     "prompt_number": 66
    },
    {
     "cell_type": "markdown",
     "metadata": {},
     "source": [
      "Wrong again..."
     ]
    },
    {
     "cell_type": "code",
     "collapsed": false,
     "input": [
      "spdy_weighted_paths = dijkstra_paths(hero_dist_graph, 'SPIDER-MAN/PETER PAR')"
     ],
     "language": "python",
     "metadata": {},
     "outputs": [],
     "prompt_number": 67
    },
    {
     "cell_type": "code",
     "collapsed": false,
     "input": [
      "spdy_weighted_paths['YAP']"
     ],
     "language": "python",
     "metadata": {},
     "outputs": [
      {
       "metadata": {},
       "output_type": "pyout",
       "prompt_number": 68,
       "text": [
        "['SPIDER-MAN/PETER PAR', 'WOLVERINE/LOGAN ', 'SHADOWCAT/KATHERINE ', 'YAP']"
       ]
      }
     ],
     "prompt_number": 68
    },
    {
     "cell_type": "code",
     "collapsed": false,
     "input": [],
     "language": "python",
     "metadata": {},
     "outputs": []
    }
   ],
   "metadata": {}
  }
 ]
}