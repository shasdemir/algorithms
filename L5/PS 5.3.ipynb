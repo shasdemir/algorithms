{
 "metadata": {
  "name": "",
  "signature": "sha256:16afb60b788808cfdfca00b11fe0de68a352addea58fa92d5236827ac7d0a806"
 },
 "nbformat": 3,
 "nbformat_minor": 0,
 "worksheets": [
  {
   "cells": [
    {
     "cell_type": "code",
     "collapsed": false,
     "input": [
      "answer = {(u'Boone Junior, Mark', u'Del Toro, Benicio'): None,\n",
      "          (u'Braine, Richard', u'Coogan, Will'): None,\n",
      "          (u'Byrne, Michael (I)', u'Quinn, Al (I)'): None,\n",
      "          (u'Cartwright, Veronica', u'Edelstein, Lisa'): None,\n",
      "          (u'Curry, Jon (II)', u'Wise, Ray (I)'): None,\n",
      "          (u'Di Benedetto, John', u'Hallgrey, Johnathan'): None,\n",
      "          (u'Hochendoner, Jeff', u'Cross, Kendall'): None,\n",
      "          (u'Izquierdo, Ty', u'Kimball, Donna'): None,\n",
      "          (u'Jace, Michael', u'Snell, Don'): None,\n",
      "          (u'James, Charity', u'Tuerpe, Paul'): None,\n",
      "          (u'Kay, Dominic Scott', u'Cathey, Reg E.'): None,\n",
      "          (u'McCabe, Richard', u'Washington, Denzel'): None,\n",
      "          (u'Reid, Kevin (I)', u'Affleck, Rab'): None,\n",
      "          (u'Reid, R.D.', u'Boston, David (IV)'): None,\n",
      "          (u'Restivo, Steve', u'Preston, Carrie (I)'): None,\n",
      "          (u'Rodriguez, Ramon (II)', u'Mulrooney, Kelsey'): None,\n",
      "          (u'Rooker, Michael (I)', u'Grady, Kevin (I)'): None,\n",
      "          (u'Ruscoe, Alan', u'Thornton, Cooper'): None,\n",
      "          (u'Sloan, Tina', u'Dever, James D.'): None,\n",
      "          (u'Wasserman, Jerry', u'Sizemore, Tom'): None}"
     ],
     "language": "python",
     "metadata": {},
     "outputs": [],
     "prompt_number": 1
    },
    {
     "cell_type": "code",
     "collapsed": false,
     "input": [
      "# Here are some test cases.\n",
      "# For example, the obscurity score of the least obscure path\n",
      "# between 'Ali, Tony' and 'Allen, Woody' is 0.5657\n",
      "test = {(u'Ali, Tony', u'Allen, Woody'): 0.5657,\n",
      "        (u'Auberjonois, Rene', u'MacInnes, Angus'): 0.0814,\n",
      "        (u'Avery, Shondrella', u'Dorsey, Kimberly (I)'): 0.7837,\n",
      "        (u'Bollo, Lou', u'Jeremy, Ron'): 0.4763,\n",
      "        (u'Byrne, P.J.', u'Clarke, Larry'): 0.109,\n",
      "        (u'Couturier, Sandra-Jessica', u'Jean-Louis, Jimmy'): 0.3649,\n",
      "        (u'Crawford, Eve (I)', u'Cutler, Tom'): 0.2052,\n",
      "        (u'Flemyng, Jason', u'Newman, Laraine'): 0.139,\n",
      "        (u'French, Dawn', u'Smallwood, Tucker'): 0.2979,\n",
      "        (u'Gunton, Bob', u'Nagra, Joti'): 0.2136,\n",
      "        (u'Hoffman, Jake (I)', u'Shook, Carol'): 0.6073,\n",
      "        (u'Kamiki, Ry\\xfbnosuke', u'Thor, Cameron'): 0.3644,\n",
      "        (u'Roache, Linus', u'Dreyfuss, Richard'): 0.6731,\n",
      "        (u'Sanchez, Phillip (I)', u'Wiest, Dianne'): 0.5083,\n",
      "        (u'Sheppard, William Morgan', u'Crook, Mackenzie'): 0.0849,\n",
      "        (u'Stan, Sebastian', u'Malahide, Patrick'): 0.2857,\n",
      "        (u'Tessiero, Michael A.', u'Molen, Gerald R.'): 0.2056,\n",
      "        (u'Thomas, Ken (I)', u'Bell, Jamie (I)'): 0.3941,\n",
      "        (u'Thompson, Sophie (I)', u'Foley, Dave (I)'): 0.1095,\n",
      "        (u'Tzur, Mira', u'Heston, Charlton'): 0.3642}"
     ],
     "language": "python",
     "metadata": {},
     "outputs": [],
     "prompt_number": 2
    },
    {
     "cell_type": "code",
     "collapsed": false,
     "input": [],
     "language": "python",
     "metadata": {},
     "outputs": []
    }
   ],
   "metadata": {}
  }
 ]
}