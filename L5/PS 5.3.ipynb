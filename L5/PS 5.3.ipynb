{
 "metadata": {
  "name": "",
  "signature": "sha256:4c55fc4e5a73b1a1cf08606650abcea914931ee3c48e7277aa753b10e00d9a0b"
 },
 "nbformat": 3,
 "nbformat_minor": 0,
 "worksheets": [
  {
   "cells": [
    {
     "cell_type": "code",
     "collapsed": false,
     "input": [
      "answer = {(u'Boone Junior, Mark', u'Del Toro, Benicio'): None,\n",
      "          (u'Braine, Richard', u'Coogan, Will'): None,\n",
      "          (u'Byrne, Michael (I)', u'Quinn, Al (I)'): None,\n",
      "          (u'Cartwright, Veronica', u'Edelstein, Lisa'): None,\n",
      "          (u'Curry, Jon (II)', u'Wise, Ray (I)'): None,\n",
      "          (u'Di Benedetto, John', u'Hallgrey, Johnathan'): None,\n",
      "          (u'Hochendoner, Jeff', u'Cross, Kendall'): None,\n",
      "          (u'Izquierdo, Ty', u'Kimball, Donna'): None,\n",
      "          (u'Jace, Michael', u'Snell, Don'): None,\n",
      "          (u'James, Charity', u'Tuerpe, Paul'): None,\n",
      "          (u'Kay, Dominic Scott', u'Cathey, Reg E.'): None,\n",
      "          (u'McCabe, Richard', u'Washington, Denzel'): None,\n",
      "          (u'Reid, Kevin (I)', u'Affleck, Rab'): None,\n",
      "          (u'Reid, R.D.', u'Boston, David (IV)'): None,\n",
      "          (u'Restivo, Steve', u'Preston, Carrie (I)'): None,\n",
      "          (u'Rodriguez, Ramon (II)', u'Mulrooney, Kelsey'): None,\n",
      "          (u'Rooker, Michael (I)', u'Grady, Kevin (I)'): None,\n",
      "          (u'Ruscoe, Alan', u'Thornton, Cooper'): None,\n",
      "          (u'Sloan, Tina', u'Dever, James D.'): None,\n",
      "          (u'Wasserman, Jerry', u'Sizemore, Tom'): None}"
     ],
     "language": "python",
     "metadata": {},
     "outputs": [],
     "prompt_number": 1
    },
    {
     "cell_type": "code",
     "collapsed": false,
     "input": [
      "# Here are some test cases.\n",
      "# For example, the obscurity score of the least obscure path\n",
      "# between 'Ali, Tony' and 'Allen, Woody' is 0.5657\n",
      "test = {(u'Ali, Tony', u'Allen, Woody'): 0.5657,\n",
      "        (u'Auberjonois, Rene', u'MacInnes, Angus'): 0.0814,\n",
      "        (u'Avery, Shondrella', u'Dorsey, Kimberly (I)'): 0.7837,\n",
      "        (u'Bollo, Lou', u'Jeremy, Ron'): 0.4763,\n",
      "        (u'Byrne, P.J.', u'Clarke, Larry'): 0.109,\n",
      "        (u'Couturier, Sandra-Jessica', u'Jean-Louis, Jimmy'): 0.3649,\n",
      "        (u'Crawford, Eve (I)', u'Cutler, Tom'): 0.2052,\n",
      "        (u'Flemyng, Jason', u'Newman, Laraine'): 0.139,\n",
      "        (u'French, Dawn', u'Smallwood, Tucker'): 0.2979,\n",
      "        (u'Gunton, Bob', u'Nagra, Joti'): 0.2136,\n",
      "        (u'Hoffman, Jake (I)', u'Shook, Carol'): 0.6073,\n",
      "        (u'Kamiki, Ry\\xfbnosuke', u'Thor, Cameron'): 0.3644,\n",
      "        (u'Roache, Linus', u'Dreyfuss, Richard'): 0.6731,\n",
      "        (u'Sanchez, Phillip (I)', u'Wiest, Dianne'): 0.5083,\n",
      "        (u'Sheppard, William Morgan', u'Crook, Mackenzie'): 0.0849,\n",
      "        (u'Stan, Sebastian', u'Malahide, Patrick'): 0.2857,\n",
      "        (u'Tessiero, Michael A.', u'Molen, Gerald R.'): 0.2056,\n",
      "        (u'Thomas, Ken (I)', u'Bell, Jamie (I)'): 0.3941,\n",
      "        (u'Thompson, Sophie (I)', u'Foley, Dave (I)'): 0.1095,\n",
      "        (u'Tzur, Mira', u'Heston, Charlton'): 0.3642}"
     ],
     "language": "python",
     "metadata": {},
     "outputs": [],
     "prompt_number": 2
    },
    {
     "cell_type": "code",
     "collapsed": false,
     "input": [
      "imdb_edges = []\n",
      "with open('imdb-1.tsv') as actors_movies:\n",
      "    for line in actors_movies:\n",
      "        imdb_edges.append(line.split('\\t'))"
     ],
     "language": "python",
     "metadata": {},
     "outputs": [],
     "prompt_number": 3
    },
    {
     "cell_type": "code",
     "collapsed": false,
     "input": [
      "imdb_edges[:5]"
     ],
     "language": "python",
     "metadata": {},
     "outputs": [
      {
       "metadata": {},
       "output_type": "pyout",
       "prompt_number": 4,
       "text": [
        "[['McClure, Marc (I)', 'Freaky Friday', '2003\\n'],\n",
        " ['McClure, Marc (I)', 'Coach Carter', '2005\\n'],\n",
        " ['McClure, Marc (I)', 'Superman II', '1980\\n'],\n",
        " ['McClure, Marc (I)', 'Apollo 13', '1995\\n'],\n",
        " ['McClure, Marc (I)', 'Superman', '1978\\n']]"
       ]
      }
     ],
     "prompt_number": 4
    },
    {
     "cell_type": "markdown",
     "metadata": {},
     "source": [
      "We don't need years..."
     ]
    },
    {
     "cell_type": "code",
     "collapsed": false,
     "input": [
      "imdb_edges = [k[:2] for k in imdb_edges]"
     ],
     "language": "python",
     "metadata": {},
     "outputs": [],
     "prompt_number": 5
    },
    {
     "cell_type": "code",
     "collapsed": false,
     "input": [
      "imdb_edges[:5]"
     ],
     "language": "python",
     "metadata": {},
     "outputs": [
      {
       "metadata": {},
       "output_type": "pyout",
       "prompt_number": 6,
       "text": [
        "[['McClure, Marc (I)', 'Freaky Friday'],\n",
        " ['McClure, Marc (I)', 'Coach Carter'],\n",
        " ['McClure, Marc (I)', 'Superman II'],\n",
        " ['McClure, Marc (I)', 'Apollo 13'],\n",
        " ['McClure, Marc (I)', 'Superman']]"
       ]
      }
     ],
     "prompt_number": 6
    },
    {
     "cell_type": "code",
     "collapsed": false,
     "input": [
      "imdb_weights = []\n",
      "with open('imdb-weights.tsv') as movies_weights:\n",
      "    for line in movies_weights:\n",
      "        imdb_weights.append(line.split('\\t'))"
     ],
     "language": "python",
     "metadata": {},
     "outputs": [],
     "prompt_number": 11
    },
    {
     "cell_type": "code",
     "collapsed": false,
     "input": [
      "imdb_weights[:5]"
     ],
     "language": "python",
     "metadata": {},
     "outputs": [
      {
       "metadata": {},
       "output_type": "pyout",
       "prompt_number": 12,
       "text": [
        "[[\"'Crocodile' Dundee II\", '1988', '1.6339\\n'],\n",
        " ['10', '1979', '7.6177\\n'],\n",
        " ['10 Things I Hate About You', '1999', '1.2864\\n'],\n",
        " ['10,000 BC', '2008', '0.3243\\n'],\n",
        " ['101 Dalmatians', '1996', '0.3376\\n']]"
       ]
      }
     ],
     "prompt_number": 12
    },
    {
     "cell_type": "code",
     "collapsed": false,
     "input": [
      "imdb_weights = [[k[0], float(k[2][:-1])] for k in imdb_weights]"
     ],
     "language": "python",
     "metadata": {},
     "outputs": [],
     "prompt_number": 13
    },
    {
     "cell_type": "code",
     "collapsed": false,
     "input": [
      "imdb_weights[:5]"
     ],
     "language": "python",
     "metadata": {},
     "outputs": [
      {
       "metadata": {},
       "output_type": "pyout",
       "prompt_number": 14,
       "text": [
        "[[\"'Crocodile' Dundee II\", 1.6339],\n",
        " ['10', 7.6177],\n",
        " ['10 Things I Hate About You', 1.2864],\n",
        " ['10,000 BC', 0.3243],\n",
        " ['101 Dalmatians', 0.3376]]"
       ]
      }
     ],
     "prompt_number": 14
    },
    {
     "cell_type": "markdown",
     "metadata": {},
     "source": [
      "Imported data."
     ]
    },
    {
     "cell_type": "markdown",
     "metadata": {},
     "source": [
      "---"
     ]
    },
    {
     "cell_type": "code",
     "collapsed": false,
     "input": [
      "weights_map = {}\n",
      "for movie, weight in imdb_weights:\n",
      "    weights_map[movie] = weight"
     ],
     "language": "python",
     "metadata": {},
     "outputs": [],
     "prompt_number": 15
    },
    {
     "cell_type": "code",
     "collapsed": false,
     "input": [
      "len(weights_map.keys())"
     ],
     "language": "python",
     "metadata": {},
     "outputs": [
      {
       "metadata": {},
       "output_type": "pyout",
       "prompt_number": 16,
       "text": [
        "3536"
       ]
      }
     ],
     "prompt_number": 16
    },
    {
     "cell_type": "code",
     "collapsed": false,
     "input": [
      "weights_map['101 Dalmatians']"
     ],
     "language": "python",
     "metadata": {},
     "outputs": [
      {
       "metadata": {},
       "output_type": "pyout",
       "prompt_number": 17,
       "text": [
        "0.3376"
       ]
      }
     ],
     "prompt_number": 17
    },
    {
     "cell_type": "markdown",
     "metadata": {},
     "source": [
      "---"
     ]
    },
    {
     "cell_type": "code",
     "collapsed": false,
     "input": [
      "actor_movies_map = {}\n",
      "for actor, movie in imdb_edges:\n",
      "    if actor not in actor_movies_map:\n",
      "        actor_movies_map[actor] = set()\n",
      "    \n",
      "    actor_movies_map[actor].add(movie)"
     ],
     "language": "python",
     "metadata": {},
     "outputs": [],
     "prompt_number": 20
    },
    {
     "cell_type": "code",
     "collapsed": false,
     "input": [
      "len(actor_movies_map)"
     ],
     "language": "python",
     "metadata": {},
     "outputs": [
      {
       "metadata": {},
       "output_type": "pyout",
       "prompt_number": 21,
       "text": [
        "6527"
       ]
      }
     ],
     "prompt_number": 21
    },
    {
     "cell_type": "code",
     "collapsed": false,
     "input": [
      "actor_movies_map['McClure, Marc (I)']"
     ],
     "language": "python",
     "metadata": {},
     "outputs": [
      {
       "metadata": {},
       "output_type": "pyout",
       "prompt_number": 22,
       "text": [
        "{'Apollo 13',\n",
        " 'Back to the Future',\n",
        " 'Back to the Future Part III',\n",
        " 'Coach Carter',\n",
        " 'Freaky Friday',\n",
        " 'Superman',\n",
        " 'Superman II'}"
       ]
      }
     ],
     "prompt_number": 22
    },
    {
     "cell_type": "markdown",
     "metadata": {},
     "source": [
      "---"
     ]
    },
    {
     "cell_type": "code",
     "collapsed": false,
     "input": [
      "def find_link_strength(actor1, actor2):\n",
      "    \"\"\" Given 2 actors, find the maximum obscurity of the common movies. \"\"\"\n",
      "    \n",
      "    common_movies = actor_movies_map[actor1].intersection(actor_movies_map[actor2])\n",
      "    \n",
      "    return max(weights_map[movie] for movie in common_movies) if common_movies else None"
     ],
     "language": "python",
     "metadata": {},
     "outputs": [],
     "prompt_number": 27
    },
    {
     "cell_type": "code",
     "collapsed": false,
     "input": [
      "actors = set(e[0] for e in imdb_edges)"
     ],
     "language": "python",
     "metadata": {},
     "outputs": [],
     "prompt_number": 24
    },
    {
     "cell_type": "code",
     "collapsed": false,
     "input": [
      "len(actors)"
     ],
     "language": "python",
     "metadata": {},
     "outputs": [
      {
       "metadata": {},
       "output_type": "pyout",
       "prompt_number": 25,
       "text": [
        "6527"
       ]
      }
     ],
     "prompt_number": 25
    },
    {
     "cell_type": "code",
     "collapsed": false,
     "input": [
      "def make_link(G, node1, node2, w):\n",
      "    if node1 not in G:\n",
      "        G[node1] = {}\n",
      "    if node2 not in G[node1]:\n",
      "        (G[node1])[node2] = 0\n",
      "    (G[node1])[node2] += w\n",
      "    if node2 not in G:\n",
      "        G[node2] = {}\n",
      "    if node1 not in G[node2]:\n",
      "        (G[node2])[node1] = 0\n",
      "    (G[node2])[node1] += w\n",
      "    return G"
     ],
     "language": "python",
     "metadata": {},
     "outputs": [],
     "prompt_number": 19
    },
    {
     "cell_type": "code",
     "collapsed": false,
     "input": [
      "imdb_graph = {}\n",
      "for actor1 in actors:\n",
      "    for actor2 in actors:\n",
      "        if actor1 == actor2:\n",
      "            continue\n",
      "        \n",
      "        link_strength = find_link_strength(actor1, actor2)\n",
      "        \n",
      "        if link_strength is not None:\n",
      "            make_link(imdb_graph, actor1, actor2, link_strength / 2.)"
     ],
     "language": "python",
     "metadata": {},
     "outputs": [],
     "prompt_number": 29
    },
    {
     "cell_type": "code",
     "collapsed": false,
     "input": [
      "len(imdb_graph.keys())"
     ],
     "language": "python",
     "metadata": {},
     "outputs": [
      {
       "metadata": {},
       "output_type": "pyout",
       "prompt_number": 30,
       "text": [
        "6527"
       ]
      }
     ],
     "prompt_number": 30
    },
    {
     "cell_type": "markdown",
     "metadata": {},
     "source": [
      "---"
     ]
    },
    {
     "cell_type": "code",
     "collapsed": false,
     "input": [
      "import heapq as hq"
     ],
     "language": "python",
     "metadata": {},
     "outputs": [],
     "prompt_number": 34
    },
    {
     "cell_type": "code",
     "collapsed": false,
     "input": [
      "def dijkstra_obscure_paths(G, v):\n",
      "    dist_path_so_far = [(0, v, [v])]\n",
      "    dsf_values_map = {v: 0}\n",
      "    final_dist_path = {}\n",
      "\n",
      "    while len(dist_path_so_far) > 0:  # assuming connected graph\n",
      "        w_dist, w, w_path = hq.heappop(dist_path_so_far)\n",
      "\n",
      "        if w in final_dist_path:\n",
      "            continue\n",
      "\n",
      "        del dsf_values_map[w]  # lock it down\n",
      "        final_dist_path[w] = (w_dist, w_path)\n",
      "\n",
      "        for x in G[w]:\n",
      "            if x not in final_dist_path:\n",
      "                route_dist = max(final_dist_path[w][0], G[w][x])\n",
      "                route_path = final_dist_path[w][1] + [x]\n",
      "\n",
      "                if x not in dsf_values_map or route_dist < dsf_values_map[x]:\n",
      "                    hq.heappush(dist_path_so_far, (route_dist, x, route_path))\n",
      "                    dsf_values_map[x] = route_dist\n",
      "\n",
      "    return final_dist_path"
     ],
     "language": "python",
     "metadata": {},
     "outputs": [],
     "prompt_number": 31
    },
    {
     "cell_type": "code",
     "collapsed": false,
     "input": [
      "mcclure_distances = dijkstra_obscure_paths(imdb_graph, 'McClure, Marc (I)')"
     ],
     "language": "python",
     "metadata": {},
     "outputs": [],
     "prompt_number": 35
    },
    {
     "cell_type": "code",
     "collapsed": false,
     "input": [
      "mcclure_distances.keys()[:5]"
     ],
     "language": "python",
     "metadata": {},
     "outputs": [
      {
       "metadata": {},
       "output_type": "pyout",
       "prompt_number": 36,
       "text": [
        "['McClure, Marc (I)',\n",
        " 'Cooper, Chris (I)',\n",
        " 'Kogan, Milt',\n",
        " 'Knight, Shirley (I)',\n",
        " 'Jolie, Angelina']"
       ]
      }
     ],
     "prompt_number": 36
    },
    {
     "cell_type": "code",
     "collapsed": false,
     "input": [
      "mcclure_distances['McClure, Marc (I)']"
     ],
     "language": "python",
     "metadata": {},
     "outputs": [
      {
       "metadata": {},
       "output_type": "pyout",
       "prompt_number": 37,
       "text": [
        "(0, ['McClure, Marc (I)'])"
       ]
      }
     ],
     "prompt_number": 37
    },
    {
     "cell_type": "code",
     "collapsed": false,
     "input": [
      "mcclure_distances['Jolie, Angelina']"
     ],
     "language": "python",
     "metadata": {},
     "outputs": [
      {
       "metadata": {},
       "output_type": "pyout",
       "prompt_number": 38,
       "text": [
        "(0.1904,\n",
        " ['McClure, Marc (I)',\n",
        "  'Fullilove, Donald',\n",
        "  'Alan, Lori (I)',\n",
        "  'Allen, Tim (I)',\n",
        "  'Baldwin, Greg (I)',\n",
        "  'Jolie, Angelina'])"
       ]
      }
     ],
     "prompt_number": 38
    },
    {
     "cell_type": "code",
     "collapsed": false,
     "input": [
      "allen_distances = dijkstra_obscure_paths(imdb_graph, 'Allen, Woody')"
     ],
     "language": "python",
     "metadata": {},
     "outputs": [],
     "prompt_number": 39
    },
    {
     "cell_type": "code",
     "collapsed": false,
     "input": [
      "allen_distances['Ali, Tony']"
     ],
     "language": "python",
     "metadata": {},
     "outputs": [
      {
       "metadata": {},
       "output_type": "pyout",
       "prompt_number": 40,
       "text": [
        "(0.5657,\n",
        " ['Allen, Woody',\n",
        "  'Aykroyd, Dan',\n",
        "  'Affleck, Ben',\n",
        "  'Affleck, Casey',\n",
        "  'Abernathy, Don',\n",
        "  'Annable, Odette',\n",
        "  'Anderson, Anthony (I)',\n",
        "  'Ali, Tony'])"
       ]
      }
     ],
     "prompt_number": 40
    },
    {
     "cell_type": "code",
     "collapsed": false,
     "input": [
      "linus_distances = dijkstra_obscure_paths(imdb_graph, 'Roache, Linus')"
     ],
     "language": "python",
     "metadata": {},
     "outputs": [],
     "prompt_number": 43
    },
    {
     "cell_type": "code",
     "collapsed": false,
     "input": [
      "linus_distances['Dreyfuss, Richard']"
     ],
     "language": "python",
     "metadata": {},
     "outputs": [
      {
       "metadata": {},
       "output_type": "pyout",
       "prompt_number": 44,
       "text": [
        "(0.6731,\n",
        " ['Roache, Linus',\n",
        "  'Argenti, Alex',\n",
        "  'Bjelac, Predrag',\n",
        "  'Bach, John (I)',\n",
        "  'Baker, Sala',\n",
        "  'Bennett, Jimmy (III)',\n",
        "  'Dreyfuss, Richard'])"
       ]
      }
     ],
     "prompt_number": 44
    },
    {
     "cell_type": "markdown",
     "metadata": {},
     "source": [
      "---"
     ]
    },
    {
     "cell_type": "markdown",
     "metadata": {},
     "source": [
      "Perform all tests:"
     ]
    },
    {
     "cell_type": "code",
     "collapsed": false,
     "input": [
      "for test_case in test:\n",
      "    actor1, actor2 = test_case\n",
      "    real_distance = test[test_case]\n",
      "    \n",
      "    calculated_distance = min(dijkstra_obscure_paths(imdb_graph, actor1)[actor2][0],\n",
      "                              dijkstra_obscure_paths(imdb_graph, actor2)[actor1][0])\n",
      "    \n",
      "    if real_distance != calculated_distance:\n",
      "        print \"TEST FAILED!!!\"\n",
      "        print \"Actor 1: %s\" %actor1\n",
      "        print \"Actor 2: %s\" %actor2\n",
      "        print \"Real distance: %s\" %real_distance\n",
      "        print \"Calculated distance: \" + str(calculated_distance)"
     ],
     "language": "python",
     "metadata": {},
     "outputs": [
      {
       "output_type": "stream",
       "stream": "stdout",
       "text": [
        "TEST FAILED!!!\n",
        "Actor 1: Gunton, Bob\n",
        "Actor 2: Nagra, Joti\n",
        "Real distance: 0.2136\n",
        "Calculated distance: 1.2836\n"
       ]
      },
      {
       "ename": "KeyError",
       "evalue": "u'Kamiki, Ry\\xfbnosuke'",
       "output_type": "pyerr",
       "traceback": [
        "\u001b[0;31m---------------------------------------------------------------------------\u001b[0m\n\u001b[0;31mKeyError\u001b[0m                                  Traceback (most recent call last)",
        "\u001b[0;32m<ipython-input-49-a957175515ec>\u001b[0m in \u001b[0;36m<module>\u001b[0;34m()\u001b[0m\n\u001b[1;32m      3\u001b[0m     \u001b[0mreal_distance\u001b[0m \u001b[0;34m=\u001b[0m \u001b[0mtest\u001b[0m\u001b[0;34m[\u001b[0m\u001b[0mtest_case\u001b[0m\u001b[0;34m]\u001b[0m\u001b[0;34m\u001b[0m\u001b[0m\n\u001b[1;32m      4\u001b[0m \u001b[0;34m\u001b[0m\u001b[0m\n\u001b[0;32m----> 5\u001b[0;31m     \u001b[0mcalculated_distance\u001b[0m \u001b[0;34m=\u001b[0m \u001b[0mdijkstra_obscure_paths\u001b[0m\u001b[0;34m(\u001b[0m\u001b[0mimdb_graph\u001b[0m\u001b[0;34m,\u001b[0m \u001b[0mactor1\u001b[0m\u001b[0;34m)\u001b[0m\u001b[0;34m[\u001b[0m\u001b[0mactor2\u001b[0m\u001b[0;34m]\u001b[0m\u001b[0;34m[\u001b[0m\u001b[0;36m0\u001b[0m\u001b[0;34m]\u001b[0m\u001b[0;34m\u001b[0m\u001b[0m\n\u001b[0m\u001b[1;32m      6\u001b[0m \u001b[0;34m\u001b[0m\u001b[0m\n\u001b[1;32m      7\u001b[0m     \u001b[0;32mif\u001b[0m \u001b[0mreal_distance\u001b[0m \u001b[0;34m!=\u001b[0m \u001b[0mcalculated_distance\u001b[0m\u001b[0;34m:\u001b[0m\u001b[0;34m\u001b[0m\u001b[0m\n",
        "\u001b[0;32m<ipython-input-31-b82861159ade>\u001b[0m in \u001b[0;36mdijkstra_obscure_paths\u001b[0;34m(G, v)\u001b[0m\n\u001b[1;32m     13\u001b[0m         \u001b[0mfinal_dist_path\u001b[0m\u001b[0;34m[\u001b[0m\u001b[0mw\u001b[0m\u001b[0;34m]\u001b[0m \u001b[0;34m=\u001b[0m \u001b[0;34m(\u001b[0m\u001b[0mw_dist\u001b[0m\u001b[0;34m,\u001b[0m \u001b[0mw_path\u001b[0m\u001b[0;34m)\u001b[0m\u001b[0;34m\u001b[0m\u001b[0m\n\u001b[1;32m     14\u001b[0m \u001b[0;34m\u001b[0m\u001b[0m\n\u001b[0;32m---> 15\u001b[0;31m         \u001b[0;32mfor\u001b[0m \u001b[0mx\u001b[0m \u001b[0;32min\u001b[0m \u001b[0mG\u001b[0m\u001b[0;34m[\u001b[0m\u001b[0mw\u001b[0m\u001b[0;34m]\u001b[0m\u001b[0;34m:\u001b[0m\u001b[0;34m\u001b[0m\u001b[0m\n\u001b[0m\u001b[1;32m     16\u001b[0m             \u001b[0;32mif\u001b[0m \u001b[0mx\u001b[0m \u001b[0;32mnot\u001b[0m \u001b[0;32min\u001b[0m \u001b[0mfinal_dist_path\u001b[0m\u001b[0;34m:\u001b[0m\u001b[0;34m\u001b[0m\u001b[0m\n\u001b[1;32m     17\u001b[0m                 \u001b[0mroute_dist\u001b[0m \u001b[0;34m=\u001b[0m \u001b[0mmax\u001b[0m\u001b[0;34m(\u001b[0m\u001b[0mfinal_dist_path\u001b[0m\u001b[0;34m[\u001b[0m\u001b[0mw\u001b[0m\u001b[0;34m]\u001b[0m\u001b[0;34m[\u001b[0m\u001b[0;36m0\u001b[0m\u001b[0;34m]\u001b[0m\u001b[0;34m,\u001b[0m \u001b[0mG\u001b[0m\u001b[0;34m[\u001b[0m\u001b[0mw\u001b[0m\u001b[0;34m]\u001b[0m\u001b[0;34m[\u001b[0m\u001b[0mx\u001b[0m\u001b[0;34m]\u001b[0m\u001b[0;34m)\u001b[0m\u001b[0;34m\u001b[0m\u001b[0m\n",
        "\u001b[0;31mKeyError\u001b[0m: u'Kamiki, Ry\\xfbnosuke'"
       ]
      }
     ],
     "prompt_number": 49
    },
    {
     "cell_type": "code",
     "collapsed": false,
     "input": [
      "# Here are some test cases.\n",
      "# For example, the obscurity score of the least obscure path\n",
      "# between 'Ali, Tony' and 'Allen, Woody' is 0.5657\n",
      "test = {(u'Ali, Tony', u'Allen, Woody'): 0.5657,\n",
      "        (u'Auberjonois, Rene', u'MacInnes, Angus'): 0.0814,\n",
      "        (u'Avery, Shondrella', u'Dorsey, Kimberly (I)'): 0.7837,\n",
      "        (u'Bollo, Lou', u'Jeremy, Ron'): 0.4763,\n",
      "        (u'Byrne, P.J.', u'Clarke, Larry'): 0.109,\n",
      "        (u'Couturier, Sandra-Jessica', u'Jean-Louis, Jimmy'): 0.3649,\n",
      "        (u'Crawford, Eve (I)', u'Cutler, Tom'): 0.2052,\n",
      "        (u'Flemyng, Jason', u'Newman, Laraine'): 0.139,\n",
      "        (u'French, Dawn', u'Smallwood, Tucker'): 0.2979,\n",
      "        (u'Gunton, Bob', u'Nagra, Joti'): 0.2136,\n",
      "        (u'Hoffman, Jake (I)', u'Shook, Carol'): 0.6073,\n",
      "        (u'Roache, Linus', u'Dreyfuss, Richard'): 0.6731,\n",
      "        (u'Sanchez, Phillip (I)', u'Wiest, Dianne'): 0.5083,\n",
      "        (u'Sheppard, William Morgan', u'Crook, Mackenzie'): 0.0849,\n",
      "        (u'Stan, Sebastian', u'Malahide, Patrick'): 0.2857,\n",
      "        (u'Tessiero, Michael A.', u'Molen, Gerald R.'): 0.2056,\n",
      "        (u'Thomas, Ken (I)', u'Bell, Jamie (I)'): 0.3941,\n",
      "        (u'Thompson, Sophie (I)', u'Foley, Dave (I)'): 0.1095,\n",
      "        (u'Tzur, Mira', u'Heston, Charlton'): 0.3642}"
     ],
     "language": "python",
     "metadata": {},
     "outputs": [],
     "prompt_number": 50
    },
    {
     "cell_type": "code",
     "collapsed": false,
     "input": [
      "for test_case in test:\n",
      "    actor1, actor2 = test_case\n",
      "    real_distance = test[test_case]\n",
      "    \n",
      "    calculated_distance = min(dijkstra_obscure_paths(imdb_graph, actor1)[actor2][0],\n",
      "                              dijkstra_obscure_paths(imdb_graph, actor2)[actor1][0])\n",
      "    \n",
      "    if real_distance != calculated_distance:\n",
      "        print \"TEST FAILED!!!\"\n",
      "        print \"Actor 1: %s\" %actor1\n",
      "        print \"Actor 2: %s\" %actor2\n",
      "        print \"Real distance: %s\" %real_distance\n",
      "        print \"Calculated distance: \" + str(calculated_distance)"
     ],
     "language": "python",
     "metadata": {},
     "outputs": [
      {
       "output_type": "stream",
       "stream": "stdout",
       "text": [
        "TEST FAILED!!!\n",
        "Actor 1: Gunton, Bob\n",
        "Actor 2: Nagra, Joti\n",
        "Real distance: 0.2136\n",
        "Calculated distance: 1.2836\n"
       ]
      }
     ],
     "prompt_number": 51
    },
    {
     "cell_type": "code",
     "collapsed": false,
     "input": [],
     "language": "python",
     "metadata": {},
     "outputs": []
    }
   ],
   "metadata": {}
  }
 ]
}