{
 "metadata": {
  "name": "",
  "signature": "sha256:f88eb15f09b240428b325993a7b9624bebd530986b33747b7938400f0f9d90c9"
 },
 "nbformat": 3,
 "nbformat_minor": 0,
 "worksheets": [
  {
   "cells": [
    {
     "cell_type": "code",
     "collapsed": false,
     "input": [
      "answer = {(u'Boone Junior, Mark', u'Del Toro, Benicio'): None,\n",
      "          (u'Braine, Richard', u'Coogan, Will'): None,\n",
      "          (u'Byrne, Michael (I)', u'Quinn, Al (I)'): None,\n",
      "          (u'Cartwright, Veronica', u'Edelstein, Lisa'): None,\n",
      "          (u'Curry, Jon (II)', u'Wise, Ray (I)'): None,\n",
      "          (u'Di Benedetto, John', u'Hallgrey, Johnathan'): None,\n",
      "          (u'Hochendoner, Jeff', u'Cross, Kendall'): None,\n",
      "          (u'Izquierdo, Ty', u'Kimball, Donna'): None,\n",
      "          (u'Jace, Michael', u'Snell, Don'): None,\n",
      "          (u'James, Charity', u'Tuerpe, Paul'): None,\n",
      "          (u'Kay, Dominic Scott', u'Cathey, Reg E.'): None,\n",
      "          (u'McCabe, Richard', u'Washington, Denzel'): None,\n",
      "          (u'Reid, Kevin (I)', u'Affleck, Rab'): None,\n",
      "          (u'Reid, R.D.', u'Boston, David (IV)'): None,\n",
      "          (u'Restivo, Steve', u'Preston, Carrie (I)'): None,\n",
      "          (u'Rodriguez, Ramon (II)', u'Mulrooney, Kelsey'): None,\n",
      "          (u'Rooker, Michael (I)', u'Grady, Kevin (I)'): None,\n",
      "          (u'Ruscoe, Alan', u'Thornton, Cooper'): None,\n",
      "          (u'Sloan, Tina', u'Dever, James D.'): None,\n",
      "          (u'Wasserman, Jerry', u'Sizemore, Tom'): None}"
     ],
     "language": "python",
     "metadata": {},
     "outputs": [],
     "prompt_number": 1
    },
    {
     "cell_type": "code",
     "collapsed": false,
     "input": [
      "# Here are some test cases.\n",
      "# For example, the obscurity score of the least obscure path\n",
      "# between 'Ali, Tony' and 'Allen, Woody' is 0.5657\n",
      "test = {(u'Ali, Tony', u'Allen, Woody'): 0.5657,\n",
      "        (u'Auberjonois, Rene', u'MacInnes, Angus'): 0.0814,\n",
      "        (u'Avery, Shondrella', u'Dorsey, Kimberly (I)'): 0.7837,\n",
      "        (u'Bollo, Lou', u'Jeremy, Ron'): 0.4763,\n",
      "        (u'Byrne, P.J.', u'Clarke, Larry'): 0.109,\n",
      "        (u'Couturier, Sandra-Jessica', u'Jean-Louis, Jimmy'): 0.3649,\n",
      "        (u'Crawford, Eve (I)', u'Cutler, Tom'): 0.2052,\n",
      "        (u'Flemyng, Jason', u'Newman, Laraine'): 0.139,\n",
      "        (u'French, Dawn', u'Smallwood, Tucker'): 0.2979,\n",
      "        (u'Gunton, Bob', u'Nagra, Joti'): 0.2136,\n",
      "        (u'Hoffman, Jake (I)', u'Shook, Carol'): 0.6073,\n",
      "        (u'Kamiki, Ry\\xfbnosuke', u'Thor, Cameron'): 0.3644,\n",
      "        (u'Roache, Linus', u'Dreyfuss, Richard'): 0.6731,\n",
      "        (u'Sanchez, Phillip (I)', u'Wiest, Dianne'): 0.5083,\n",
      "        (u'Sheppard, William Morgan', u'Crook, Mackenzie'): 0.0849,\n",
      "        (u'Stan, Sebastian', u'Malahide, Patrick'): 0.2857,\n",
      "        (u'Tessiero, Michael A.', u'Molen, Gerald R.'): 0.2056,\n",
      "        (u'Thomas, Ken (I)', u'Bell, Jamie (I)'): 0.3941,\n",
      "        (u'Thompson, Sophie (I)', u'Foley, Dave (I)'): 0.1095,\n",
      "        (u'Tzur, Mira', u'Heston, Charlton'): 0.3642}"
     ],
     "language": "python",
     "metadata": {},
     "outputs": [],
     "prompt_number": 2
    },
    {
     "cell_type": "code",
     "collapsed": false,
     "input": [
      "imdb_edges = []\n",
      "with open('imdb-1.tsv') as actors_movies:\n",
      "    for line in actors_movies:\n",
      "        imdb_edges.append(line.split('\\t'))"
     ],
     "language": "python",
     "metadata": {},
     "outputs": [],
     "prompt_number": 3
    },
    {
     "cell_type": "code",
     "collapsed": false,
     "input": [
      "imdb_edges[:5]"
     ],
     "language": "python",
     "metadata": {},
     "outputs": [
      {
       "metadata": {},
       "output_type": "pyout",
       "prompt_number": 4,
       "text": [
        "[['McClure, Marc (I)', 'Freaky Friday', '2003\\n'],\n",
        " ['McClure, Marc (I)', 'Coach Carter', '2005\\n'],\n",
        " ['McClure, Marc (I)', 'Superman II', '1980\\n'],\n",
        " ['McClure, Marc (I)', 'Apollo 13', '1995\\n'],\n",
        " ['McClure, Marc (I)', 'Superman', '1978\\n']]"
       ]
      }
     ],
     "prompt_number": 4
    },
    {
     "cell_type": "markdown",
     "metadata": {},
     "source": [
      "We don't need years..."
     ]
    },
    {
     "cell_type": "code",
     "collapsed": false,
     "input": [
      "imdb_edges = [k[:2] for k in imdb_edges]"
     ],
     "language": "python",
     "metadata": {},
     "outputs": [],
     "prompt_number": 5
    },
    {
     "cell_type": "code",
     "collapsed": false,
     "input": [
      "imdb_edges[:5]"
     ],
     "language": "python",
     "metadata": {},
     "outputs": [
      {
       "metadata": {},
       "output_type": "pyout",
       "prompt_number": 6,
       "text": [
        "[['McClure, Marc (I)', 'Freaky Friday'],\n",
        " ['McClure, Marc (I)', 'Coach Carter'],\n",
        " ['McClure, Marc (I)', 'Superman II'],\n",
        " ['McClure, Marc (I)', 'Apollo 13'],\n",
        " ['McClure, Marc (I)', 'Superman']]"
       ]
      }
     ],
     "prompt_number": 6
    },
    {
     "cell_type": "code",
     "collapsed": false,
     "input": [
      "imdb_weights = []\n",
      "with open('imdb-weights.tsv') as movies_weights:\n",
      "    for line in movies_weights:\n",
      "        imdb_weights.append(line.split('\\t'))"
     ],
     "language": "python",
     "metadata": {},
     "outputs": [],
     "prompt_number": 11
    },
    {
     "cell_type": "code",
     "collapsed": false,
     "input": [
      "imdb_weights[:5]"
     ],
     "language": "python",
     "metadata": {},
     "outputs": [
      {
       "metadata": {},
       "output_type": "pyout",
       "prompt_number": 12,
       "text": [
        "[[\"'Crocodile' Dundee II\", '1988', '1.6339\\n'],\n",
        " ['10', '1979', '7.6177\\n'],\n",
        " ['10 Things I Hate About You', '1999', '1.2864\\n'],\n",
        " ['10,000 BC', '2008', '0.3243\\n'],\n",
        " ['101 Dalmatians', '1996', '0.3376\\n']]"
       ]
      }
     ],
     "prompt_number": 12
    },
    {
     "cell_type": "code",
     "collapsed": false,
     "input": [
      "imdb_weights = [[k[0], float(k[2][:-1])] for k in imdb_weights]"
     ],
     "language": "python",
     "metadata": {},
     "outputs": [],
     "prompt_number": 13
    },
    {
     "cell_type": "code",
     "collapsed": false,
     "input": [
      "imdb_weights[:5]"
     ],
     "language": "python",
     "metadata": {},
     "outputs": [
      {
       "metadata": {},
       "output_type": "pyout",
       "prompt_number": 14,
       "text": [
        "[[\"'Crocodile' Dundee II\", 1.6339],\n",
        " ['10', 7.6177],\n",
        " ['10 Things I Hate About You', 1.2864],\n",
        " ['10,000 BC', 0.3243],\n",
        " ['101 Dalmatians', 0.3376]]"
       ]
      }
     ],
     "prompt_number": 14
    },
    {
     "cell_type": "markdown",
     "metadata": {},
     "source": [
      "Imported data."
     ]
    },
    {
     "cell_type": "markdown",
     "metadata": {},
     "source": [
      "---"
     ]
    },
    {
     "cell_type": "code",
     "collapsed": false,
     "input": [
      "weights_map = {}\n",
      "for movie, weight in imdb_weights:\n",
      "    weights_map[movie] = weight"
     ],
     "language": "python",
     "metadata": {},
     "outputs": [],
     "prompt_number": 15
    },
    {
     "cell_type": "code",
     "collapsed": false,
     "input": [
      "len(weights_map.keys())"
     ],
     "language": "python",
     "metadata": {},
     "outputs": [
      {
       "metadata": {},
       "output_type": "pyout",
       "prompt_number": 16,
       "text": [
        "3536"
       ]
      }
     ],
     "prompt_number": 16
    },
    {
     "cell_type": "code",
     "collapsed": false,
     "input": [
      "weights_map['101 Dalmatians']"
     ],
     "language": "python",
     "metadata": {},
     "outputs": [
      {
       "metadata": {},
       "output_type": "pyout",
       "prompt_number": 17,
       "text": [
        "0.3376"
       ]
      }
     ],
     "prompt_number": 17
    },
    {
     "cell_type": "markdown",
     "metadata": {},
     "source": [
      "---"
     ]
    },
    {
     "cell_type": "code",
     "collapsed": false,
     "input": [
      "actor_movies_map = {}\n",
      "for actor, movie in imdb_edges:\n",
      "    if actor not in actor_movies_map:\n",
      "        actor_movies_map[actor] = set()\n",
      "    \n",
      "    actor_movies_map[actor].add(movie)"
     ],
     "language": "python",
     "metadata": {},
     "outputs": [],
     "prompt_number": 20
    },
    {
     "cell_type": "code",
     "collapsed": false,
     "input": [
      "len(actor_movies_map)"
     ],
     "language": "python",
     "metadata": {},
     "outputs": [
      {
       "metadata": {},
       "output_type": "pyout",
       "prompt_number": 21,
       "text": [
        "6527"
       ]
      }
     ],
     "prompt_number": 21
    },
    {
     "cell_type": "code",
     "collapsed": false,
     "input": [
      "actor_movies_map['McClure, Marc (I)']"
     ],
     "language": "python",
     "metadata": {},
     "outputs": [
      {
       "metadata": {},
       "output_type": "pyout",
       "prompt_number": 22,
       "text": [
        "{'Apollo 13',\n",
        " 'Back to the Future',\n",
        " 'Back to the Future Part III',\n",
        " 'Coach Carter',\n",
        " 'Freaky Friday',\n",
        " 'Superman',\n",
        " 'Superman II'}"
       ]
      }
     ],
     "prompt_number": 22
    },
    {
     "cell_type": "code",
     "collapsed": false,
     "input": [],
     "language": "python",
     "metadata": {},
     "outputs": []
    },
    {
     "cell_type": "code",
     "collapsed": false,
     "input": [
      "def make_link(G, node1, node2, w):\n",
      "    if node1 not in G:\n",
      "        G[node1] = {}\n",
      "    if node2 not in G[node1]:\n",
      "        (G[node1])[node2] = 0\n",
      "    (G[node1])[node2] += w\n",
      "    if node2 not in G:\n",
      "        G[node2] = {}\n",
      "    if node1 not in G[node2]:\n",
      "        (G[node2])[node1] = 0\n",
      "    (G[node2])[node1] += w\n",
      "    return G"
     ],
     "language": "python",
     "metadata": {},
     "outputs": [],
     "prompt_number": 19
    },
    {
     "cell_type": "code",
     "collapsed": false,
     "input": [
      "imdb_graph = {}\n"
     ],
     "language": "python",
     "metadata": {},
     "outputs": []
    }
   ],
   "metadata": {}
  }
 ]
}