{
 "metadata": {
  "name": "",
  "signature": "sha256:05c926a18deea593c20dbde1e3e9ab0f9612c0e9f45501d7709ab71a412e5acd"
 },
 "nbformat": 3,
 "nbformat_minor": 0,
 "worksheets": [
  {
   "cells": [
    {
     "cell_type": "code",
     "collapsed": false,
     "input": [
      "from L5 import *"
     ],
     "language": "python",
     "metadata": {},
     "outputs": [],
     "prompt_number": 1
    },
    {
     "cell_type": "code",
     "collapsed": false,
     "input": [
      "def test_uh():\n",
      "    L = [2, 4, 3, 5, 9, 7, 7]\n",
      "    L.append(1)\n",
      "    up_heapify(L, 7)\n",
      "    assert 1 == L[0]\n",
      "    assert 2 == L[1]"
     ],
     "language": "python",
     "metadata": {},
     "outputs": []
    }
   ],
   "metadata": {}
  }
 ]
}