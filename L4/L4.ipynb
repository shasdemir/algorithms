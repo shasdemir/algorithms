{
 "metadata": {
  "name": "",
  "signature": "sha256:f5126ba0984740c8c63259a8fe55145f55f13e204b6886a86716a4be1353ab11"
 },
 "nbformat": 3,
 "nbformat_minor": 0,
 "worksheets": [
  {
   "cells": [
    {
     "cell_type": "code",
     "collapsed": false,
     "input": [
      "from L4 import *"
     ],
     "language": "python",
     "metadata": {},
     "outputs": [
      {
       "output_type": "stream",
       "stream": "stdout",
       "text": [
        "0 mouse ( 30.7 )\n",
        "1 frog ( 70.5 )\n",
        "2 sparrow ( 83.072 )\n",
        "3 rabbit ( 186 )\n",
        "4 dog ( 568 )\n",
        "5 shark ( 974 )\n",
        "6 lion ( 1514 )\n",
        "7 horse ( 2087 )\n",
        "8 human ( 2840 )\n",
        "9 hippopotamus ( 5778 )\n",
        "10 elephant ( 17160 )\n"
       ]
      }
     ],
     "prompt_number": 1
    },
    {
     "cell_type": "code",
     "collapsed": false,
     "input": [
      "#            animal       speed   weight lifespan brain\n",
      "#                          (mph)   (kg)  (years) mass (g)\n",
      "animals = [(\"dog\",          46,   35,     13,  280    ),\n",
      "           (\"elephant\",     30, 3500,     50, 6250    ),\n",
      "           (\"frog\",          5,    0.5,    8,    3    ),\n",
      "           (\"hippopotamus\", 45, 1600,     45,  573    ),\n",
      "           (\"horse\",        40,  385,     30, 642     ),\n",
      "           (\"human\",        27,   80,     78, 2000    ),\n",
      "           (\"lion\",         50,  250,     30,  454    ),\n",
      "           (\"mouse\",         8,    0.025,  2,    0.625),\n",
      "           (\"rabbit\",       25,    4,     12,   40    ), \n",
      "           (\"shark\",        26,  230,     20,   92    ),\n",
      "           (\"sparrow\",      16,    0.024,  7,    2    )]\n",
      "\n",
      "def importance_rank(items, weights):\n",
      "    names = [item[0] for item in items]  # get the list of animal names\n",
      "    scores = [sum([a*b for (a,b) in zip(item[1:], weights)]) for item in items]  # get the list of overall scores for each animal\n",
      "    results = zip(scores,names) # make a list of tuple\n",
      "    res2 = sorted(results) # sort the tuple based on the score\n",
      "    return res2\n",
      "\n",
      "answer = importance_rank(animals, (45,67,7,12))\n",
      "\n",
      "for i in range(len(answer)):\n",
      "    print i, answer[i][1], \"(\", answer[i][0], \")\""
     ],
     "language": "python",
     "metadata": {},
     "outputs": [
      {
       "output_type": "stream",
       "stream": "stdout",
       "text": [
        "0 frog ( 350.5 )\n",
        "1 mouse ( 383.175 )\n",
        "2 sparrow ( 794.608 )\n",
        "3 rabbit ( 1957 )\n",
        "4 dog ( 7866 )\n",
        "5 shark ( 17824 )\n",
        "6 lion ( 24658 )\n",
        "7 human ( 31121 )\n",
        "8 horse ( 35509 )\n",
        "9 hippopotamus ( 116416 )\n",
        "10 elephant ( 311200 )\n"
       ]
      }
     ],
     "prompt_number": 2
    },
    {
     "cell_type": "markdown",
     "metadata": {},
     "source": [
      "---"
     ]
    },
    {
     "cell_type": "code",
     "collapsed": false,
     "input": [
      "numbers = [21, 43, 48, 49, 50, 51, 75, 77, 79, 87, 93]"
     ],
     "language": "python",
     "metadata": {},
     "outputs": [],
     "prompt_number": 7
    },
    {
     "cell_type": "code",
     "collapsed": false,
     "input": [
      "sorted(numbers)"
     ],
     "language": "python",
     "metadata": {},
     "outputs": [
      {
       "metadata": {},
       "output_type": "pyout",
       "prompt_number": 8,
       "text": [
        "[21, 43, 48, 49, 50, 51, 75, 77, 79, 87, 93]"
       ]
      }
     ],
     "prompt_number": 8
    },
    {
     "cell_type": "code",
     "collapsed": false,
     "input": [
      "midpoint = (numbers[0] + numbers[-1]) / 2.\n",
      "midpoint"
     ],
     "language": "python",
     "metadata": {},
     "outputs": [
      {
       "metadata": {},
       "output_type": "pyout",
       "prompt_number": 10,
       "text": [
        "57.0"
       ]
      }
     ],
     "prompt_number": 10
    },
    {
     "cell_type": "code",
     "collapsed": false,
     "input": [
      "median = numbers[len(numbers)/2]\n",
      "median"
     ],
     "language": "python",
     "metadata": {},
     "outputs": [
      {
       "metadata": {},
       "output_type": "pyout",
       "prompt_number": 12,
       "text": [
        "51"
       ]
      }
     ],
     "prompt_number": 12
    },
    {
     "cell_type": "code",
     "collapsed": false,
     "input": [
      "(midpoint + median) / 2."
     ],
     "language": "python",
     "metadata": {},
     "outputs": [
      {
       "metadata": {},
       "output_type": "pyout",
       "prompt_number": 13,
       "text": [
        "54.0"
       ]
      }
     ],
     "prompt_number": 13
    },
    {
     "cell_type": "markdown",
     "metadata": {},
     "source": [
      "---"
     ]
    },
    {
     "cell_type": "code",
     "collapsed": false,
     "input": [
      "yob_file = open('yob1995.txt')"
     ],
     "language": "python",
     "metadata": {},
     "outputs": [],
     "prompt_number": 44
    },
    {
     "cell_type": "code",
     "collapsed": false,
     "input": [
      "data = {}\n",
      "for line in yob_file:\n",
      "    name, gender, count = line.split(',')\n",
      "    \n",
      "    if gender == 'F':\n",
      "        if name not in data:\n",
      "            data[name] = count\n",
      "        else:\n",
      "            data[name] += count"
     ],
     "language": "python",
     "metadata": {},
     "outputs": [],
     "prompt_number": 45
    },
    {
     "cell_type": "code",
     "collapsed": false,
     "input": [
      "yob_file.close()"
     ],
     "language": "python",
     "metadata": {},
     "outputs": [],
     "prompt_number": 53
    },
    {
     "cell_type": "code",
     "collapsed": false,
     "input": [
      "for name in data:\n",
      "    if data[name][-1] == \"\\n\":\n",
      "        data[name] = data[name][:-1]"
     ],
     "language": "python",
     "metadata": {},
     "outputs": [],
     "prompt_number": 47
    },
    {
     "cell_type": "code",
     "collapsed": false,
     "input": [
      "for name in data:\n",
      "    data[name] = int(data[name])"
     ],
     "language": "python",
     "metadata": {},
     "outputs": [],
     "prompt_number": 48
    },
    {
     "cell_type": "code",
     "collapsed": false,
     "input": [
      "listed = [(data[name], name) for name in data]"
     ],
     "language": "python",
     "metadata": {},
     "outputs": [],
     "prompt_number": 49
    },
    {
     "cell_type": "code",
     "collapsed": false,
     "input": [
      "listed.sort()"
     ],
     "language": "python",
     "metadata": {},
     "outputs": [],
     "prompt_number": 50
    },
    {
     "cell_type": "code",
     "collapsed": false,
     "input": [
      "listed[-2]"
     ],
     "language": "python",
     "metadata": {},
     "outputs": [
      {
       "metadata": {},
       "output_type": "pyout",
       "prompt_number": 52,
       "text": [
        "(26596, 'Ashley')"
       ]
      }
     ],
     "prompt_number": 52
    },
    {
     "cell_type": "markdown",
     "metadata": {},
     "source": [
      "---"
     ]
    },
    {
     "cell_type": "code",
     "collapsed": false,
     "input": [
      "def rank(L, v):\n",
      "    pos = 0\n",
      "    for val in L:\n",
      "        if val < v:\n",
      "            pos += 1\n",
      "    return pos"
     ],
     "language": "python",
     "metadata": {},
     "outputs": [],
     "prompt_number": 56
    },
    {
     "cell_type": "code",
     "collapsed": false,
     "input": [
      "def partition(L, v):\n",
      "    left = []\n",
      "    right = []\n",
      "    for val in L:\n",
      "        if val < v:\n",
      "            left.append(val)\n",
      "        elif v < val:\n",
      "            right.append(val)\n",
      "    return left, [v], right"
     ],
     "language": "python",
     "metadata": {},
     "outputs": [],
     "prompt_number": 116
    },
    {
     "cell_type": "code",
     "collapsed": false,
     "input": [
      "partition(range(5), 3)"
     ],
     "language": "python",
     "metadata": {},
     "outputs": [
      {
       "metadata": {},
       "output_type": "pyout",
       "prompt_number": 117,
       "text": [
        "([0, 1, 2], [3], [4])"
       ]
      }
     ],
     "prompt_number": 117
    },
    {
     "cell_type": "code",
     "collapsed": false,
     "input": [
      "partition(range(6), 4)"
     ],
     "language": "python",
     "metadata": {},
     "outputs": [
      {
       "metadata": {},
       "output_type": "pyout",
       "prompt_number": 118,
       "text": [
        "([0, 1, 2, 3], [4], [5])"
       ]
      }
     ],
     "prompt_number": 118
    },
    {
     "cell_type": "markdown",
     "metadata": {},
     "source": [
      "---"
     ]
    },
    {
     "cell_type": "code",
     "collapsed": false,
     "input": [
      "def top_k(L, k):  # actually the smallest k\n",
      "    v = random.choice(L)\n",
      "\n",
      "    left, middle, right = partition(L, v)\n",
      "\n",
      "    if len(left) == k:\n",
      "        return left\n",
      "    if len(left) + 1 == k:\n",
      "        return left + [v]\n",
      "    if len(left) > k:\n",
      "        return top_k(left, k)\n",
      "    else:\n",
      "        return left + [v] + top_k(right, k - len(left) - 1)"
     ],
     "language": "python",
     "metadata": {},
     "outputs": [],
     "prompt_number": 122
    },
    {
     "cell_type": "code",
     "collapsed": false,
     "input": [
      "L = [31, 45, 91, 51, 66, 82, 28, 33, 11, 89, 84, 27, 36]"
     ],
     "language": "python",
     "metadata": {},
     "outputs": [],
     "prompt_number": 123
    },
    {
     "cell_type": "code",
     "collapsed": false,
     "input": [
      "top_k(L, 6)"
     ],
     "language": "python",
     "metadata": {},
     "outputs": [
      {
       "metadata": {},
       "output_type": "pyout",
       "prompt_number": 124,
       "text": [
        "[31, 28, 11, 27, 33, 36]"
       ]
      }
     ],
     "prompt_number": 124
    },
    {
     "cell_type": "code",
     "collapsed": false,
     "input": [
      "top_k(range(5), 3)"
     ],
     "language": "python",
     "metadata": {},
     "outputs": [
      {
       "metadata": {},
       "output_type": "pyout",
       "prompt_number": 125,
       "text": [
        "[0, 1, 2]"
       ]
      }
     ],
     "prompt_number": 125
    },
    {
     "cell_type": "code",
     "collapsed": false,
     "input": [
      "top_k(range(10), 5)"
     ],
     "language": "python",
     "metadata": {},
     "outputs": [
      {
       "metadata": {},
       "output_type": "pyout",
       "prompt_number": 127,
       "text": [
        "[0, 1, 2, 3, 4]"
       ]
      }
     ],
     "prompt_number": 127
    },
    {
     "cell_type": "code",
     "collapsed": false,
     "input": [],
     "language": "python",
     "metadata": {},
     "outputs": []
    },
    {
     "cell_type": "markdown",
     "metadata": {},
     "source": [
      "---"
     ]
    },
    {
     "cell_type": "code",
     "collapsed": false,
     "input": [
      "left = lambda i: 2 * i + 1\n",
      "right = lambda i: 2 * i + 2\n",
      "parent = lambda i: (i - 1) // 2\n",
      "is_root = lambda i: i == 0\n",
      "is_leaf = lambda L, i: right(i) > len(L) and left(i) > len(L)\n",
      "one_child = lambda L, i: right(i) == len(L)  # the node only has a left child"
     ],
     "language": "python",
     "metadata": {},
     "outputs": [],
     "prompt_number": 9
    },
    {
     "cell_type": "code",
     "collapsed": false,
     "input": [
      "def down_heapify(L, i):\n",
      "    \"\"\" Call this if the heap rooted at i satisfies the heap property except perhaps i to its immediate children. \"\"\"\n",
      "\n",
      "    if is_leaf(L, i):\n",
      "        return L\n",
      "\n",
      "    if one_child(L, i):\n",
      "        if L[i] > L[left(i)]:\n",
      "            L[i], L[left(i)] = L[left(i)], L[i]\n",
      "            return L\n",
      "\n",
      "    # i has two children, check heap property\n",
      "    if min(L[left(i)], L[right(i)]) >= L[i]:\n",
      "        return L\n",
      "\n",
      "    # if that fails, swap with the smaller child, and recurse on its children\n",
      "    if L[left(i)] < L[right(i)]:\n",
      "        L[i], L[left(i)] = L[left(i)], L[i]\n",
      "        down_heapify(L, left(i))\n",
      "    else:\n",
      "        L[i], L[right(i)] = L[right(i)], L[i]\n",
      "        down_heapify(L, right(i))\n",
      "    return L"
     ],
     "language": "python",
     "metadata": {},
     "outputs": [],
     "prompt_number": 20
    },
    {
     "cell_type": "code",
     "collapsed": false,
     "input": [
      "def build_heap(L):\n",
      "    for i in range(len(L)-1, -1, -1):\n",
      "        down_heapify(L, i)\n",
      "    return L"
     ],
     "language": "python",
     "metadata": {},
     "outputs": [],
     "prompt_number": 21
    },
    {
     "cell_type": "code",
     "collapsed": false,
     "input": [
      "def remove_min(L):\n",
      "    minimum = L.pop(0)\n",
      "\n",
      "    L[0], L[1:] = L[-1], L[:-1]  # move last element to the beginning\n",
      "    down_heapify(L, 0)\n",
      "\n",
      "    return L  # return minimum"
     ],
     "language": "python",
     "metadata": {},
     "outputs": [],
     "prompt_number": 25
    },
    {
     "cell_type": "code",
     "collapsed": false,
     "input": [
      "l2 = [0, 1, 2, 3, 4, 5, 6, 7, 8, 9]"
     ],
     "language": "python",
     "metadata": {},
     "outputs": [],
     "prompt_number": 26
    },
    {
     "cell_type": "code",
     "collapsed": false,
     "input": [
      "remove_min(l2)"
     ],
     "language": "python",
     "metadata": {},
     "outputs": [
      {
       "metadata": {},
       "output_type": "pyout",
       "prompt_number": 27,
       "text": [
        "[1, 3, 2, 7, 4, 5, 6, 9, 8]"
       ]
      }
     ],
     "prompt_number": 27
    },
    {
     "cell_type": "markdown",
     "metadata": {},
     "source": [
      "---"
     ]
    },
    {
     "cell_type": "code",
     "collapsed": false,
     "input": [
      "def build_heap(L):\n",
      "    for i in range(len(L)-1, -1, -1):\n",
      "        down_heapify(L, i)\n",
      "    return L"
     ],
     "language": "python",
     "metadata": {},
     "outputs": [],
     "prompt_number": 28
    },
    {
     "cell_type": "code",
     "collapsed": false,
     "input": [
      "def remove_min(L):\n",
      "    L[0] = L.pop()  # move last element to the beginning\n",
      "    down_heapify(L, 0)\n",
      "\n",
      "    return L"
     ],
     "language": "python",
     "metadata": {},
     "outputs": [],
     "prompt_number": 31
    },
    {
     "cell_type": "code",
     "collapsed": false,
     "input": [
      "def insert_heap(L, v):\n",
      "    L.append(v)\n",
      "    up_heapify(L, len(L)-1)"
     ],
     "language": "python",
     "metadata": {},
     "outputs": [],
     "prompt_number": 30
    },
    {
     "cell_type": "markdown",
     "metadata": {},
     "source": [
      "---"
     ]
    },
    {
     "cell_type": "code",
     "collapsed": false,
     "input": [
      "def median(L):  # theta(n)\n",
      "    lower_half = top_k(L, ((len(L)+1) / 2 ))\n",
      "    return sorted(lower_half)[-1]"
     ],
     "language": "python",
     "metadata": {},
     "outputs": [],
     "prompt_number": 101
    },
    {
     "cell_type": "code",
     "collapsed": false,
     "input": [
      "median([1, 2, 3, 4, 5])"
     ],
     "language": "python",
     "metadata": {},
     "outputs": [
      {
       "metadata": {},
       "output_type": "pyout",
       "prompt_number": 134,
       "text": [
        "3"
       ]
      }
     ],
     "prompt_number": 134
    },
    {
     "cell_type": "code",
     "collapsed": false,
     "input": [
      "median(range(1, 8))"
     ],
     "language": "python",
     "metadata": {},
     "outputs": [
      {
       "metadata": {},
       "output_type": "pyout",
       "prompt_number": 135,
       "text": [
        "4"
       ]
      }
     ],
     "prompt_number": 135
    },
    {
     "cell_type": "code",
     "collapsed": false,
     "input": [
      "median(range(1, 10))"
     ],
     "language": "python",
     "metadata": {},
     "outputs": [
      {
       "metadata": {},
       "output_type": "pyout",
       "prompt_number": 137,
       "text": [
        "5"
       ]
      }
     ],
     "prompt_number": 137
    },
    {
     "cell_type": "code",
     "collapsed": false,
     "input": [
      "def minimize_absolute(L):\n",
      "    return median(L)"
     ],
     "language": "python",
     "metadata": {},
     "outputs": [],
     "prompt_number": 138
    },
    {
     "cell_type": "code",
     "collapsed": false,
     "input": [],
     "language": "python",
     "metadata": {},
     "outputs": []
    }
   ],
   "metadata": {}
  }
 ]
}