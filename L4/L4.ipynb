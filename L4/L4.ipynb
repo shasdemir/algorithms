{
 "metadata": {
  "name": "",
  "signature": "sha256:ce7b8cc0b4d1eb4e33dce6898b464f6d69fbae1d6146351b598bca5d664293af"
 },
 "nbformat": 3,
 "nbformat_minor": 0,
 "worksheets": [
  {
   "cells": [
    {
     "cell_type": "code",
     "collapsed": false,
     "input": [
      "#            animal       speed   weight lifespan brain\n",
      "#                          (mph)   (kg)  (years) mass (g)\n",
      "animals = [(\"dog\",          46,   35,     13,  280    ),\n",
      "           (\"elephant\",     30, 3500,     50, 6250    ),\n",
      "           (\"frog\",          5,    0.5,    8,    3    ),\n",
      "           (\"hippopotamus\", 45, 1600,     45,  573    ),\n",
      "           (\"horse\",        40,  385,     30, 642     ),\n",
      "           (\"human\",        27,   80,     78, 2000    ),\n",
      "           (\"lion\",         50,  250,     30,  454    ),\n",
      "           (\"mouse\",         8,    0.025,  2,    0.625),\n",
      "           (\"rabbit\",       25,    4,     12,   40    ), \n",
      "           (\"shark\",        26,  230,     20,   92    ),\n",
      "           (\"sparrow\",      16,    0.024,  7,    2    )]\n",
      "\n",
      "def importance_rank(items, weights):\n",
      "    names = [item[0] for item in items]  # get the list of animal names\n",
      "    scores = [sum([a*b for (a,b) in zip(item[1:], weights)]) for item in items]  # get the list of overall scores for each animal\n",
      "    results = zip(scores,names) # make a list of tuple\n",
      "    res2 = sorted(results) # sort the tuple based on the score\n",
      "    return res2\n",
      "\n",
      "answer = importance_rank(animals, (2,3,7,1))\n",
      "\n",
      "for i in range(len(answer)):\n",
      "    print i, answer[i][1], \"(\", answer[i][0], \")\""
     ],
     "language": "python",
     "metadata": {},
     "outputs": [
      {
       "output_type": "stream",
       "stream": "stdout",
       "text": [
        "0 mouse ( 30.7 )\n",
        "1 frog ( 70.5 )\n",
        "2 sparrow ( 83.072 )\n",
        "3 rabbit ( 186 )\n",
        "4 dog ( 568 )\n",
        "5 shark ( 974 )\n",
        "6 lion ( 1514 )\n",
        "7 horse ( 2087 )\n",
        "8 human ( 2840 )\n",
        "9 hippopotamus ( 5778 )\n",
        "10 elephant ( 17160 )\n"
       ]
      }
     ],
     "prompt_number": 1
    },
    {
     "cell_type": "code",
     "collapsed": false,
     "input": [],
     "language": "python",
     "metadata": {},
     "outputs": []
    }
   ],
   "metadata": {}
  }
 ]
}