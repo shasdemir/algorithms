{
 "metadata": {
  "name": "",
  "signature": "sha256:4ebf0e5313fb0a5d9c13e3508c01ceb3da7554deeca5f1fff3c547d457d9092a"
 },
 "nbformat": 3,
 "nbformat_minor": 0,
 "worksheets": [
  {
   "cells": [
    {
     "cell_type": "code",
     "collapsed": false,
     "input": [
      "#            animal       speed   weight lifespan brain\n",
      "#                          (mph)   (kg)  (years) mass (g)\n",
      "animals = [(\"dog\",          46,   35,     13,  280    ),\n",
      "           (\"elephant\",     30, 3500,     50, 6250    ),\n",
      "           (\"frog\",          5,    0.5,    8,    3    ),\n",
      "           (\"hippopotamus\", 45, 1600,     45,  573    ),\n",
      "           (\"horse\",        40,  385,     30, 642     ),\n",
      "           (\"human\",        27,   80,     78, 2000    ),\n",
      "           (\"lion\",         50,  250,     30,  454    ),\n",
      "           (\"mouse\",         8,    0.025,  2,    0.625),\n",
      "           (\"rabbit\",       25,    4,     12,   40    ), \n",
      "           (\"shark\",        26,  230,     20,   92    ),\n",
      "           (\"sparrow\",      16,    0.024,  7,    2    )]\n",
      "\n",
      "def importance_rank(items, weights):\n",
      "    names = [item[0] for item in items]  # get the list of animal names\n",
      "    scores = [sum([a*b for (a,b) in zip(item[1:], weights)]) for item in items]  # get the list of overall scores for each animal\n",
      "    results = zip(scores,names) # make a list of tuple\n",
      "    res2 = sorted(results) # sort the tuple based on the score\n",
      "    return res2\n",
      "\n",
      "answer = importance_rank(animals, (45,67,7,12))\n",
      "\n",
      "for i in range(len(answer)):\n",
      "    print i, answer[i][1], \"(\", answer[i][0], \")\""
     ],
     "language": "python",
     "metadata": {},
     "outputs": [
      {
       "output_type": "stream",
       "stream": "stdout",
       "text": [
        "0 frog ( 350.5 )\n",
        "1 mouse ( 383.175 )\n",
        "2 sparrow ( 794.608 )\n",
        "3 rabbit ( 1957 )\n",
        "4 dog ( 7866 )\n",
        "5 shark ( 17824 )\n",
        "6 lion ( 24658 )\n",
        "7 human ( 31121 )\n",
        "8 horse ( 35509 )\n",
        "9 hippopotamus ( 116416 )\n",
        "10 elephant ( 311200 )\n"
       ]
      }
     ],
     "prompt_number": 2
    },
    {
     "cell_type": "markdown",
     "metadata": {},
     "source": [
      "---"
     ]
    },
    {
     "cell_type": "code",
     "collapsed": false,
     "input": [
      "numbers = [21, 43, 48, 49, 50, 51, 75, 77, 79, 87, 93]"
     ],
     "language": "python",
     "metadata": {},
     "outputs": [],
     "prompt_number": 7
    },
    {
     "cell_type": "code",
     "collapsed": false,
     "input": [
      "sorted(numbers)"
     ],
     "language": "python",
     "metadata": {},
     "outputs": [
      {
       "metadata": {},
       "output_type": "pyout",
       "prompt_number": 8,
       "text": [
        "[21, 43, 48, 49, 50, 51, 75, 77, 79, 87, 93]"
       ]
      }
     ],
     "prompt_number": 8
    },
    {
     "cell_type": "code",
     "collapsed": false,
     "input": [
      "midpoint = (numbers[0] + numbers[-1]) / 2.\n",
      "midpoint"
     ],
     "language": "python",
     "metadata": {},
     "outputs": [
      {
       "metadata": {},
       "output_type": "pyout",
       "prompt_number": 10,
       "text": [
        "57.0"
       ]
      }
     ],
     "prompt_number": 10
    },
    {
     "cell_type": "code",
     "collapsed": false,
     "input": [
      "median = numbers[len(numbers)/2]\n",
      "median"
     ],
     "language": "python",
     "metadata": {},
     "outputs": [
      {
       "metadata": {},
       "output_type": "pyout",
       "prompt_number": 12,
       "text": [
        "51"
       ]
      }
     ],
     "prompt_number": 12
    },
    {
     "cell_type": "code",
     "collapsed": false,
     "input": [
      "(midpoint + median) / 2."
     ],
     "language": "python",
     "metadata": {},
     "outputs": [
      {
       "metadata": {},
       "output_type": "pyout",
       "prompt_number": 13,
       "text": [
        "54.0"
       ]
      }
     ],
     "prompt_number": 13
    },
    {
     "cell_type": "markdown",
     "metadata": {},
     "source": [
      "---"
     ]
    },
    {
     "cell_type": "code",
     "collapsed": false,
     "input": [
      "yob_file = open('yob1995.txt')"
     ],
     "language": "python",
     "metadata": {},
     "outputs": [],
     "prompt_number": 44
    },
    {
     "cell_type": "code",
     "collapsed": false,
     "input": [
      "data = {}\n",
      "for line in yob_file:\n",
      "    name, gender, count = line.split(',')\n",
      "    \n",
      "    if gender == 'F':\n",
      "        if name not in data:\n",
      "            data[name] = count\n",
      "        else:\n",
      "            data[name] += count"
     ],
     "language": "python",
     "metadata": {},
     "outputs": [],
     "prompt_number": 45
    },
    {
     "cell_type": "code",
     "collapsed": false,
     "input": [
      "yob_file.close()"
     ],
     "language": "python",
     "metadata": {},
     "outputs": [],
     "prompt_number": 53
    },
    {
     "cell_type": "code",
     "collapsed": false,
     "input": [
      "for name in data:\n",
      "    if data[name][-1] == \"\\n\":\n",
      "        data[name] = data[name][:-1]"
     ],
     "language": "python",
     "metadata": {},
     "outputs": [],
     "prompt_number": 47
    },
    {
     "cell_type": "code",
     "collapsed": false,
     "input": [
      "for name in data:\n",
      "    data[name] = int(data[name])"
     ],
     "language": "python",
     "metadata": {},
     "outputs": [],
     "prompt_number": 48
    },
    {
     "cell_type": "code",
     "collapsed": false,
     "input": [
      "listed = [(data[name], name) for name in data]"
     ],
     "language": "python",
     "metadata": {},
     "outputs": [],
     "prompt_number": 49
    },
    {
     "cell_type": "code",
     "collapsed": false,
     "input": [
      "listed.sort()"
     ],
     "language": "python",
     "metadata": {},
     "outputs": [],
     "prompt_number": 50
    },
    {
     "cell_type": "code",
     "collapsed": false,
     "input": [
      "listed[-2]"
     ],
     "language": "python",
     "metadata": {},
     "outputs": [
      {
       "metadata": {},
       "output_type": "pyout",
       "prompt_number": 52,
       "text": [
        "(26596, 'Ashley')"
       ]
      }
     ],
     "prompt_number": 52
    },
    {
     "cell_type": "markdown",
     "metadata": {},
     "source": [
      "---"
     ]
    },
    {
     "cell_type": "code",
     "collapsed": false,
     "input": [],
     "language": "python",
     "metadata": {},
     "outputs": []
    }
   ],
   "metadata": {}
  }
 ]
}