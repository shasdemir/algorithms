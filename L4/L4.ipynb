{
 "metadata": {
  "name": "",
  "signature": "sha256:87a3ee09ab143bb58ae11ef83ab944cd9d0229b27f323d3c8aa66645ad0033d1"
 },
 "nbformat": 3,
 "nbformat_minor": 0,
 "worksheets": [
  {
   "cells": [
    {
     "cell_type": "code",
     "collapsed": false,
     "input": [
      "from L4 import *"
     ],
     "language": "python",
     "metadata": {},
     "outputs": [],
     "prompt_number": 1
    },
    {
     "cell_type": "code",
     "collapsed": false,
     "input": [
      "#            animal       speed   weight lifespan brain\n",
      "#                          (mph)   (kg)  (years) mass (g)\n",
      "animals = [(\"dog\",          46,   35,     13,  280    ),\n",
      "           (\"elephant\",     30, 3500,     50, 6250    ),\n",
      "           (\"frog\",          5,    0.5,    8,    3    ),\n",
      "           (\"hippopotamus\", 45, 1600,     45,  573    ),\n",
      "           (\"horse\",        40,  385,     30, 642     ),\n",
      "           (\"human\",        27,   80,     78, 2000    ),\n",
      "           (\"lion\",         50,  250,     30,  454    ),\n",
      "           (\"mouse\",         8,    0.025,  2,    0.625),\n",
      "           (\"rabbit\",       25,    4,     12,   40    ), \n",
      "           (\"shark\",        26,  230,     20,   92    ),\n",
      "           (\"sparrow\",      16,    0.024,  7,    2    )]\n",
      "\n",
      "def importance_rank(items, weights):\n",
      "    names = [item[0] for item in items]  # get the list of animal names\n",
      "    scores = [sum([a*b for (a,b) in zip(item[1:], weights)]) for item in items]  # get the list of overall scores for each animal\n",
      "    results = zip(scores,names) # make a list of tuple\n",
      "    res2 = sorted(results) # sort the tuple based on the score\n",
      "    return res2\n",
      "\n",
      "answer = importance_rank(animals, (45,67,7,12))\n",
      "\n",
      "for i in range(len(answer)):\n",
      "    print i, answer[i][1], \"(\", answer[i][0], \")\""
     ],
     "language": "python",
     "metadata": {},
     "outputs": [
      {
       "output_type": "stream",
       "stream": "stdout",
       "text": [
        "0 frog ( 350.5 )\n",
        "1 mouse ( 383.175 )\n",
        "2 sparrow ( 794.608 )\n",
        "3 rabbit ( 1957 )\n",
        "4 dog ( 7866 )\n",
        "5 shark ( 17824 )\n",
        "6 lion ( 24658 )\n",
        "7 human ( 31121 )\n",
        "8 horse ( 35509 )\n",
        "9 hippopotamus ( 116416 )\n",
        "10 elephant ( 311200 )\n"
       ]
      }
     ],
     "prompt_number": 2
    },
    {
     "cell_type": "markdown",
     "metadata": {},
     "source": [
      "---"
     ]
    },
    {
     "cell_type": "code",
     "collapsed": false,
     "input": [
      "numbers = [21, 43, 48, 49, 50, 51, 75, 77, 79, 87, 93]"
     ],
     "language": "python",
     "metadata": {},
     "outputs": [],
     "prompt_number": 3
    },
    {
     "cell_type": "code",
     "collapsed": false,
     "input": [
      "sorted(numbers)"
     ],
     "language": "python",
     "metadata": {},
     "outputs": [
      {
       "metadata": {},
       "output_type": "pyout",
       "prompt_number": 4,
       "text": [
        "[21, 43, 48, 49, 50, 51, 75, 77, 79, 87, 93]"
       ]
      }
     ],
     "prompt_number": 4
    },
    {
     "cell_type": "code",
     "collapsed": false,
     "input": [
      "midpoint = (numbers[0] + numbers[-1]) / 2.\n",
      "midpoint"
     ],
     "language": "python",
     "metadata": {},
     "outputs": [
      {
       "metadata": {},
       "output_type": "pyout",
       "prompt_number": 5,
       "text": [
        "57.0"
       ]
      }
     ],
     "prompt_number": 5
    },
    {
     "cell_type": "code",
     "collapsed": false,
     "input": [
      "median = numbers[len(numbers)/2]\n",
      "median"
     ],
     "language": "python",
     "metadata": {},
     "outputs": [
      {
       "metadata": {},
       "output_type": "pyout",
       "prompt_number": 6,
       "text": [
        "51"
       ]
      }
     ],
     "prompt_number": 6
    },
    {
     "cell_type": "code",
     "collapsed": false,
     "input": [
      "(midpoint + median) / 2."
     ],
     "language": "python",
     "metadata": {},
     "outputs": [
      {
       "metadata": {},
       "output_type": "pyout",
       "prompt_number": 7,
       "text": [
        "54.0"
       ]
      }
     ],
     "prompt_number": 7
    },
    {
     "cell_type": "markdown",
     "metadata": {},
     "source": [
      "---"
     ]
    },
    {
     "cell_type": "code",
     "collapsed": false,
     "input": [
      "yob_file = open('yob1995.txt')"
     ],
     "language": "python",
     "metadata": {},
     "outputs": [],
     "prompt_number": 8
    },
    {
     "cell_type": "code",
     "collapsed": false,
     "input": [
      "data = {}\n",
      "for line in yob_file:\n",
      "    name, gender, count = line.split(',')\n",
      "    \n",
      "    if gender == 'F':\n",
      "        if name not in data:\n",
      "            data[name] = count\n",
      "        else:\n",
      "            data[name] += count"
     ],
     "language": "python",
     "metadata": {},
     "outputs": [],
     "prompt_number": 9
    },
    {
     "cell_type": "code",
     "collapsed": false,
     "input": [
      "yob_file.close()"
     ],
     "language": "python",
     "metadata": {},
     "outputs": [],
     "prompt_number": 10
    },
    {
     "cell_type": "code",
     "collapsed": false,
     "input": [
      "for name in data:\n",
      "    if data[name][-1] == \"\\n\":\n",
      "        data[name] = data[name][:-1]"
     ],
     "language": "python",
     "metadata": {},
     "outputs": [],
     "prompt_number": 11
    },
    {
     "cell_type": "code",
     "collapsed": false,
     "input": [
      "for name in data:\n",
      "    data[name] = int(data[name])"
     ],
     "language": "python",
     "metadata": {},
     "outputs": [],
     "prompt_number": 12
    },
    {
     "cell_type": "code",
     "collapsed": false,
     "input": [
      "listed = [(data[name], name) for name in data]"
     ],
     "language": "python",
     "metadata": {},
     "outputs": [],
     "prompt_number": 13
    },
    {
     "cell_type": "code",
     "collapsed": false,
     "input": [
      "listed.sort()"
     ],
     "language": "python",
     "metadata": {},
     "outputs": [],
     "prompt_number": 14
    },
    {
     "cell_type": "code",
     "collapsed": false,
     "input": [
      "listed[-2]"
     ],
     "language": "python",
     "metadata": {},
     "outputs": [
      {
       "metadata": {},
       "output_type": "pyout",
       "prompt_number": 15,
       "text": [
        "(26596, 'Ashley')"
       ]
      }
     ],
     "prompt_number": 15
    },
    {
     "cell_type": "markdown",
     "metadata": {},
     "source": [
      "---"
     ]
    },
    {
     "cell_type": "code",
     "collapsed": false,
     "input": [
      "def rank(L, v):\n",
      "    pos = 0\n",
      "    for val in L:\n",
      "        if val < v:\n",
      "            pos += 1\n",
      "    return pos"
     ],
     "language": "python",
     "metadata": {},
     "outputs": [],
     "prompt_number": 16
    },
    {
     "cell_type": "code",
     "collapsed": false,
     "input": [
      "def partition(L, v):\n",
      "    left = []\n",
      "    right = []\n",
      "    for val in L:\n",
      "        if val < v:\n",
      "            left.append(val)\n",
      "        elif v < val:\n",
      "            right.append(val)\n",
      "    return left, [v], right"
     ],
     "language": "python",
     "metadata": {},
     "outputs": [],
     "prompt_number": 17
    },
    {
     "cell_type": "code",
     "collapsed": false,
     "input": [
      "partition(range(5), 3)"
     ],
     "language": "python",
     "metadata": {},
     "outputs": [
      {
       "metadata": {},
       "output_type": "pyout",
       "prompt_number": 18,
       "text": [
        "([0, 1, 2], [3], [4])"
       ]
      }
     ],
     "prompt_number": 18
    },
    {
     "cell_type": "code",
     "collapsed": false,
     "input": [
      "partition(range(6), 4)"
     ],
     "language": "python",
     "metadata": {},
     "outputs": [
      {
       "metadata": {},
       "output_type": "pyout",
       "prompt_number": 19,
       "text": [
        "([0, 1, 2, 3], [4], [5])"
       ]
      }
     ],
     "prompt_number": 19
    },
    {
     "cell_type": "markdown",
     "metadata": {},
     "source": [
      "---"
     ]
    },
    {
     "cell_type": "code",
     "collapsed": false,
     "input": [
      "def top_k(L, k):  # actually the smallest k\n",
      "    v = random.choice(L)\n",
      "\n",
      "    left, middle, right = partition(L, v)\n",
      "\n",
      "    if len(left) == k:\n",
      "        return left\n",
      "    if len(left) + 1 == k:\n",
      "        return left + [v]\n",
      "    if len(left) > k:\n",
      "        return top_k(left, k)\n",
      "    else:\n",
      "        return left + [v] + top_k(right, k - len(left) - 1)"
     ],
     "language": "python",
     "metadata": {},
     "outputs": [],
     "prompt_number": 20
    },
    {
     "cell_type": "code",
     "collapsed": false,
     "input": [
      "L = [31, 45, 91, 51, 66, 82, 28, 33, 11, 89, 84, 27, 36]"
     ],
     "language": "python",
     "metadata": {},
     "outputs": [],
     "prompt_number": 21
    },
    {
     "cell_type": "code",
     "collapsed": false,
     "input": [
      "top_k(L, 6)"
     ],
     "language": "python",
     "metadata": {},
     "outputs": [
      {
       "metadata": {},
       "output_type": "pyout",
       "prompt_number": 22,
       "text": [
        "[28, 11, 27, 31, 33, 36]"
       ]
      }
     ],
     "prompt_number": 22
    },
    {
     "cell_type": "code",
     "collapsed": false,
     "input": [
      "top_k(range(5), 3)"
     ],
     "language": "python",
     "metadata": {},
     "outputs": [
      {
       "metadata": {},
       "output_type": "pyout",
       "prompt_number": 23,
       "text": [
        "[0, 1, 2]"
       ]
      }
     ],
     "prompt_number": 23
    },
    {
     "cell_type": "code",
     "collapsed": false,
     "input": [
      "top_k(range(10), 5)"
     ],
     "language": "python",
     "metadata": {},
     "outputs": [
      {
       "metadata": {},
       "output_type": "pyout",
       "prompt_number": 24,
       "text": [
        "[0, 1, 2, 3, 4]"
       ]
      }
     ],
     "prompt_number": 24
    },
    {
     "cell_type": "markdown",
     "metadata": {},
     "source": [
      "---"
     ]
    },
    {
     "cell_type": "code",
     "collapsed": false,
     "input": [
      "left = lambda i: 2 * i + 1\n",
      "right = lambda i: 2 * i + 2\n",
      "parent = lambda i: (i - 1) // 2\n",
      "is_root = lambda i: i == 0\n",
      "is_leaf = lambda L, i: right(i) > len(L) and left(i) > len(L)\n",
      "one_child = lambda L, i: right(i) == len(L)  # the node only has a left child"
     ],
     "language": "python",
     "metadata": {},
     "outputs": [],
     "prompt_number": 25
    },
    {
     "cell_type": "code",
     "collapsed": false,
     "input": [
      "def down_heapify(L, i):\n",
      "    \"\"\" Call this if the heap rooted at i satisfies the heap property except perhaps i to its immediate children. \"\"\"\n",
      "\n",
      "    if is_leaf(L, i):\n",
      "        return L\n",
      "\n",
      "    if one_child(L, i):\n",
      "        if L[i] > L[left(i)]:\n",
      "            L[i], L[left(i)] = L[left(i)], L[i]\n",
      "            return L\n",
      "\n",
      "    # i has two children, check heap property\n",
      "    if min(L[left(i)], L[right(i)]) >= L[i]:\n",
      "        return L\n",
      "\n",
      "    # if that fails, swap with the smaller child, and recurse on its children\n",
      "    if L[left(i)] < L[right(i)]:\n",
      "        L[i], L[left(i)] = L[left(i)], L[i]\n",
      "        down_heapify(L, left(i))\n",
      "    else:\n",
      "        L[i], L[right(i)] = L[right(i)], L[i]\n",
      "        down_heapify(L, right(i))\n",
      "    return L"
     ],
     "language": "python",
     "metadata": {},
     "outputs": [],
     "prompt_number": 26
    },
    {
     "cell_type": "code",
     "collapsed": false,
     "input": [
      "def build_heap(L):\n",
      "    for i in range(len(L)-1, -1, -1):\n",
      "        down_heapify(L, i)\n",
      "    return L"
     ],
     "language": "python",
     "metadata": {},
     "outputs": [],
     "prompt_number": 27
    },
    {
     "cell_type": "code",
     "collapsed": false,
     "input": [
      "def remove_min(L):\n",
      "    minimum = L.pop(0)\n",
      "\n",
      "    L[0], L[1:] = L[-1], L[:-1]  # move last element to the beginning\n",
      "    down_heapify(L, 0)\n",
      "\n",
      "    return L  # return minimum"
     ],
     "language": "python",
     "metadata": {},
     "outputs": [],
     "prompt_number": 28
    },
    {
     "cell_type": "code",
     "collapsed": false,
     "input": [
      "l2 = [0, 1, 2, 3, 4, 5, 6, 7, 8, 9]"
     ],
     "language": "python",
     "metadata": {},
     "outputs": [],
     "prompt_number": 29
    },
    {
     "cell_type": "code",
     "collapsed": false,
     "input": [
      "remove_min(l2)"
     ],
     "language": "python",
     "metadata": {},
     "outputs": [
      {
       "metadata": {},
       "output_type": "pyout",
       "prompt_number": 30,
       "text": [
        "[1, 3, 2, 7, 4, 5, 6, 9, 8]"
       ]
      }
     ],
     "prompt_number": 30
    },
    {
     "cell_type": "markdown",
     "metadata": {},
     "source": [
      "---"
     ]
    },
    {
     "cell_type": "code",
     "collapsed": false,
     "input": [
      "def build_heap(L):\n",
      "    for i in range(len(L)-1, -1, -1):\n",
      "        down_heapify(L, i)\n",
      "    return L"
     ],
     "language": "python",
     "metadata": {},
     "outputs": [],
     "prompt_number": 31
    },
    {
     "cell_type": "code",
     "collapsed": false,
     "input": [
      "def remove_min(L):\n",
      "    L[0] = L.pop()  # move last element to the beginning\n",
      "    down_heapify(L, 0)\n",
      "\n",
      "    return L"
     ],
     "language": "python",
     "metadata": {},
     "outputs": [],
     "prompt_number": 32
    },
    {
     "cell_type": "code",
     "collapsed": false,
     "input": [
      "def insert_heap(L, v):\n",
      "    L.append(v)\n",
      "    up_heapify(L, len(L)-1)"
     ],
     "language": "python",
     "metadata": {},
     "outputs": [],
     "prompt_number": 33
    },
    {
     "cell_type": "markdown",
     "metadata": {},
     "source": [
      "---"
     ]
    },
    {
     "cell_type": "code",
     "collapsed": false,
     "input": [
      "def median(L):  # theta(n)\n",
      "    lower_half = top_k(L, ((len(L)+1) / 2))\n",
      "    return sorted(lower_half)[-1]"
     ],
     "language": "python",
     "metadata": {},
     "outputs": [],
     "prompt_number": 34
    },
    {
     "cell_type": "code",
     "collapsed": false,
     "input": [
      "median([1, 2, 3, 4, 5])"
     ],
     "language": "python",
     "metadata": {},
     "outputs": [
      {
       "metadata": {},
       "output_type": "pyout",
       "prompt_number": 35,
       "text": [
        "3"
       ]
      }
     ],
     "prompt_number": 35
    },
    {
     "cell_type": "code",
     "collapsed": false,
     "input": [
      "median(range(1, 8))"
     ],
     "language": "python",
     "metadata": {},
     "outputs": [
      {
       "metadata": {},
       "output_type": "pyout",
       "prompt_number": 36,
       "text": [
        "4"
       ]
      }
     ],
     "prompt_number": 36
    },
    {
     "cell_type": "code",
     "collapsed": false,
     "input": [
      "median(range(1, 10))"
     ],
     "language": "python",
     "metadata": {},
     "outputs": [
      {
       "metadata": {},
       "output_type": "pyout",
       "prompt_number": 37,
       "text": [
        "5"
       ]
      }
     ],
     "prompt_number": 37
    },
    {
     "cell_type": "code",
     "collapsed": false,
     "input": [
      "def minimize_absolute(L):\n",
      "    return median(L)"
     ],
     "language": "python",
     "metadata": {},
     "outputs": [],
     "prompt_number": 38
    },
    {
     "cell_type": "code",
     "collapsed": false,
     "input": [
      "{1: 2, 3: 4}.items()"
     ],
     "language": "python",
     "metadata": {},
     "outputs": [
      {
       "metadata": {},
       "output_type": "pyout",
       "prompt_number": 39,
       "text": [
        "[(1, 2), (3, 4)]"
       ]
      }
     ],
     "prompt_number": 39
    },
    {
     "cell_type": "code",
     "collapsed": false,
     "input": [
      "def mode(L):\n",
      "    counts = {}\n",
      "    for item in L:\n",
      "        if item not in counts:\n",
      "            counts[item] = 1\n",
      "        else:\n",
      "            counts[item] += 1\n",
      "    \n",
      "    return sorted(counts.items(), key=lambda x: x[1])[-1][0]"
     ],
     "language": "python",
     "metadata": {},
     "outputs": [],
     "prompt_number": 40
    },
    {
     "cell_type": "code",
     "collapsed": false,
     "input": [
      "mode([1, 2, 2, 3, 4, 6, 6, 6, 6, 8, 9])"
     ],
     "language": "python",
     "metadata": {},
     "outputs": [
      {
       "metadata": {},
       "output_type": "pyout",
       "prompt_number": 41,
       "text": [
        "6"
       ]
      }
     ],
     "prompt_number": 41
    },
    {
     "cell_type": "code",
     "collapsed": false,
     "input": [
      "mode([1, 1, 3, 3, 2])"
     ],
     "language": "python",
     "metadata": {},
     "outputs": [
      {
       "metadata": {},
       "output_type": "pyout",
       "prompt_number": 42,
       "text": [
        "3"
       ]
      }
     ],
     "prompt_number": 42
    },
    {
     "cell_type": "code",
     "collapsed": false,
     "input": [
      "mode([1, 1, 1, 1, 2])"
     ],
     "language": "python",
     "metadata": {},
     "outputs": [
      {
       "metadata": {},
       "output_type": "pyout",
       "prompt_number": 43,
       "text": [
        "1"
       ]
      }
     ],
     "prompt_number": 43
    },
    {
     "cell_type": "markdown",
     "metadata": {},
     "source": [
      "---"
     ]
    },
    {
     "cell_type": "code",
     "collapsed": false,
     "input": [
      "def up_heapify(L, i):\n",
      "    print \"number is: \" + str(L[i])\n",
      "    print \"parent is: \" + str(L[parent(i)])\n",
      "    print \"old L is: \" + str(L)\n",
      "    \n",
      "    if L[parent(i)] <= L[i]:\n",
      "        return L\n",
      "    else:\n",
      "        L[parent(i)], L[i] = L[i], L[parent(i)]\n",
      "        \n",
      "        print \"new L is: \" + str(L)\n",
      "        return up_heapify(L, parent(i))"
     ],
     "language": "python",
     "metadata": {},
     "outputs": [],
     "prompt_number": 44
    },
    {
     "cell_type": "code",
     "collapsed": false,
     "input": [
      "def test_uh():\n",
      "    L = [2, 4, 3, 5, 9, 7, 7]\n",
      "    L.append(1)\n",
      "    up_heapify(L, 7)\n",
      "    assert 1 == L[0]\n",
      "    assert 2 == L[1]"
     ],
     "language": "python",
     "metadata": {},
     "outputs": [],
     "prompt_number": 45
    },
    {
     "cell_type": "code",
     "collapsed": false,
     "input": [
      "test_uh()"
     ],
     "language": "python",
     "metadata": {},
     "outputs": [
      {
       "output_type": "stream",
       "stream": "stdout",
       "text": [
        "number is: 1\n",
        "parent is: 5\n",
        "old L is: [2, 4, 3, 5, 9, 7, 7, 1]\n",
        "new L is: [2, 4, 3, 1, 9, 7, 7, 5]\n",
        "number is: 1\n",
        "parent is: 4\n",
        "old L is: [2, 4, 3, 1, 9, 7, 7, 5]\n",
        "new L is: [2, 1, 3, 4, 9, 7, 7, 5]\n",
        "number is: 1\n",
        "parent is: 2\n",
        "old L is: [2, 1, 3, 4, 9, 7, 7, 5]\n",
        "new L is: [1, 2, 3, 4, 9, 7, 7, 5]\n",
        "number is: 1\n",
        "parent is: 5\n",
        "old L is: [1, 2, 3, 4, 9, 7, 7, 5]\n",
        "new L is: [5, 2, 3, 4, 9, 7, 7, 1]\n",
        "number is: 1\n",
        "parent is: 1\n",
        "old L is: [5, 2, 3, 4, 9, 7, 7, 1]\n"
       ]
      },
      {
       "ename": "AssertionError",
       "evalue": "",
       "output_type": "pyerr",
       "traceback": [
        "\u001b[0;31m---------------------------------------------------------------------------\u001b[0m\n\u001b[0;31mAssertionError\u001b[0m                            Traceback (most recent call last)",
        "\u001b[0;32m<ipython-input-46-6d834873a97b>\u001b[0m in \u001b[0;36m<module>\u001b[0;34m()\u001b[0m\n\u001b[0;32m----> 1\u001b[0;31m \u001b[0mtest_uh\u001b[0m\u001b[0;34m(\u001b[0m\u001b[0;34m)\u001b[0m\u001b[0;34m\u001b[0m\u001b[0m\n\u001b[0m",
        "\u001b[0;32m<ipython-input-45-27b1975fdbc4>\u001b[0m in \u001b[0;36mtest_uh\u001b[0;34m()\u001b[0m\n\u001b[1;32m      3\u001b[0m     \u001b[0mL\u001b[0m\u001b[0;34m.\u001b[0m\u001b[0mappend\u001b[0m\u001b[0;34m(\u001b[0m\u001b[0;36m1\u001b[0m\u001b[0;34m)\u001b[0m\u001b[0;34m\u001b[0m\u001b[0m\n\u001b[1;32m      4\u001b[0m     \u001b[0mup_heapify\u001b[0m\u001b[0;34m(\u001b[0m\u001b[0mL\u001b[0m\u001b[0;34m,\u001b[0m \u001b[0;36m7\u001b[0m\u001b[0;34m)\u001b[0m\u001b[0;34m\u001b[0m\u001b[0m\n\u001b[0;32m----> 5\u001b[0;31m     \u001b[0;32massert\u001b[0m \u001b[0;36m1\u001b[0m \u001b[0;34m==\u001b[0m \u001b[0mL\u001b[0m\u001b[0;34m[\u001b[0m\u001b[0;36m0\u001b[0m\u001b[0;34m]\u001b[0m\u001b[0;34m\u001b[0m\u001b[0m\n\u001b[0m\u001b[1;32m      6\u001b[0m     \u001b[0;32massert\u001b[0m \u001b[0;36m2\u001b[0m \u001b[0;34m==\u001b[0m \u001b[0mL\u001b[0m\u001b[0;34m[\u001b[0m\u001b[0;36m1\u001b[0m\u001b[0;34m]\u001b[0m\u001b[0;34m\u001b[0m\u001b[0m\n",
        "\u001b[0;31mAssertionError\u001b[0m: "
       ]
      }
     ],
     "prompt_number": 46
    },
    {
     "cell_type": "code",
     "collapsed": false,
     "input": [
      "L = [2, 4, 3, 5, 9, 7, 7]\n",
      "L.append(1)"
     ],
     "language": "python",
     "metadata": {},
     "outputs": [],
     "prompt_number": 47
    },
    {
     "cell_type": "code",
     "collapsed": false,
     "input": [
      "up_heapify(L, 7)"
     ],
     "language": "python",
     "metadata": {},
     "outputs": [
      {
       "output_type": "stream",
       "stream": "stdout",
       "text": [
        "number is: 1\n",
        "parent is: 5\n",
        "old L is: [2, 4, 3, 5, 9, 7, 7, 1]\n",
        "new L is: [2, 4, 3, 1, 9, 7, 7, 5]\n",
        "number is: 1\n",
        "parent is: 4\n",
        "old L is: [2, 4, 3, 1, 9, 7, 7, 5]\n",
        "new L is: [2, 1, 3, 4, 9, 7, 7, 5]\n",
        "number is: 1\n",
        "parent is: 2\n",
        "old L is: [2, 1, 3, 4, 9, 7, 7, 5]\n",
        "new L is: [1, 2, 3, 4, 9, 7, 7, 5]\n",
        "number is: 1\n",
        "parent is: 5\n",
        "old L is: [1, 2, 3, 4, 9, 7, 7, 5]\n",
        "new L is: [5, 2, 3, 4, 9, 7, 7, 1]\n",
        "number is: 1\n",
        "parent is: 1\n",
        "old L is: [5, 2, 3, 4, 9, 7, 7, 1]\n"
       ]
      },
      {
       "metadata": {},
       "output_type": "pyout",
       "prompt_number": 48,
       "text": [
        "[5, 2, 3, 4, 9, 7, 7, 1]"
       ]
      }
     ],
     "prompt_number": 48
    },
    {
     "cell_type": "markdown",
     "metadata": {},
     "source": [
      "parent(i) is wrong..."
     ]
    },
    {
     "cell_type": "code",
     "collapsed": false,
     "input": [
      "parent = lambda i: (i - 1) // 2 if i != 0 else 0"
     ],
     "language": "python",
     "metadata": {},
     "outputs": [],
     "prompt_number": 49
    },
    {
     "cell_type": "code",
     "collapsed": false,
     "input": [
      "def up_heapify(L, i):\n",
      "    if i == 0 or L[parent(i)] <= L[i]:\n",
      "        return L\n",
      "    else:\n",
      "        L[parent(i)], L[i] = L[i], L[parent(i)]\n",
      "        return up_heapify(L, parent(i))"
     ],
     "language": "python",
     "metadata": {},
     "outputs": [],
     "prompt_number": 50
    },
    {
     "cell_type": "code",
     "collapsed": false,
     "input": [
      "test_uh()"
     ],
     "language": "python",
     "metadata": {},
     "outputs": [],
     "prompt_number": 51
    },
    {
     "cell_type": "markdown",
     "metadata": {},
     "source": [
      "---"
     ]
    },
    {
     "cell_type": "code",
     "collapsed": false,
     "input": [
      "def make_link(G, node1, node2):\n",
      "    if node1 not in G:\n",
      "        G[node1] = {node2: 1}\n",
      "    elif node2 not in G[node1]:\n",
      "        G[node1][node2] = 1\n",
      "    else:\n",
      "        G[node1][node2] += 1\n",
      "\n",
      "    if node2 not in G:\n",
      "        G[node2] = {node1: 1}\n",
      "    elif node1 not in G[node2]:\n",
      "        G[node2][node1] = 1\n",
      "    else:\n",
      "        G[node2][node1] += 1\n",
      "\n",
      "    return G"
     ],
     "language": "python",
     "metadata": {},
     "outputs": [],
     "prompt_number": 52
    },
    {
     "cell_type": "code",
     "collapsed": false,
     "input": [
      "def centrality(G, v):\n",
      "    open_list = [v]\n",
      "    distance_from_start = {v: 0}\n",
      "\n",
      "    while open_list:\n",
      "        current = open_list.pop(0)  # bfs\n",
      "\n",
      "        for neighbor in G[current]:\n",
      "            if neighbor not in distance_from_start:\n",
      "                distance_from_start[neighbor] = distance_from_start[current] + 1\n",
      "                open_list.append(neighbor)\n",
      "    return sum(distance_from_start.values()) / float(len(distance_from_start))"
     ],
     "language": "python",
     "metadata": {},
     "outputs": [],
     "prompt_number": 88
    },
    {
     "cell_type": "code",
     "collapsed": false,
     "input": [
      "imdb_file = open('imdb-1.tsv')\n",
      "imdb_data = []\n",
      "for line in imdb_file:\n",
      "    imdb_data.append(line)"
     ],
     "language": "python",
     "metadata": {},
     "outputs": [],
     "prompt_number": 80
    },
    {
     "cell_type": "code",
     "collapsed": false,
     "input": [
      "imdb_file.close()"
     ],
     "language": "python",
     "metadata": {},
     "outputs": [],
     "prompt_number": 81
    },
    {
     "cell_type": "code",
     "collapsed": false,
     "input": [
      "imdb_data[0]"
     ],
     "language": "python",
     "metadata": {},
     "outputs": [
      {
       "metadata": {},
       "output_type": "pyout",
       "prompt_number": 82,
       "text": [
        "'McClure, Marc (I)\\tFreaky Friday\\t2003\\n'"
       ]
      }
     ],
     "prompt_number": 82
    },
    {
     "cell_type": "code",
     "collapsed": false,
     "input": [
      "graph = {}\n",
      "for line in imdb_data:\n",
      "    sep = line.split('\\t')\n",
      "    make_link(graph, sep[0], sep[1])"
     ],
     "language": "python",
     "metadata": {},
     "outputs": [],
     "prompt_number": 83
    },
    {
     "cell_type": "code",
     "collapsed": false,
     "input": [
      "actors = {line.split('\\t')[0] for line in imdb_data}"
     ],
     "language": "python",
     "metadata": {},
     "outputs": [],
     "prompt_number": 84
    },
    {
     "cell_type": "code",
     "collapsed": false,
     "input": [
      "len(actors)"
     ],
     "language": "python",
     "metadata": {},
     "outputs": [
      {
       "metadata": {},
       "output_type": "pyout",
       "prompt_number": 85,
       "text": [
        "6527"
       ]
      }
     ],
     "prompt_number": 85
    },
    {
     "cell_type": "code",
     "collapsed": false,
     "input": [
      "list(actors)[:5]"
     ],
     "language": "python",
     "metadata": {},
     "outputs": [
      {
       "metadata": {},
       "output_type": "pyout",
       "prompt_number": 86,
       "text": [
        "['McClure, Marc (I)',\n",
        " 'Cooper, Chris (I)',\n",
        " 'Cassavetes, Frank',\n",
        " 'Knight, Shirley (I)',\n",
        " 'Jolie, Angelina']"
       ]
      }
     ],
     "prompt_number": 86
    },
    {
     "cell_type": "code",
     "collapsed": false,
     "input": [
      "actor_centralities = {actor: centrality(graph, actor) for actor in actors}"
     ],
     "language": "python",
     "metadata": {},
     "outputs": [],
     "prompt_number": 89
    },
    {
     "cell_type": "code",
     "collapsed": false,
     "input": [
      "ac_list = [(actor, cent) for actor, cent in actor_centralities.items()]"
     ],
     "language": "python",
     "metadata": {},
     "outputs": [],
     "prompt_number": 90
    },
    {
     "cell_type": "code",
     "collapsed": false,
     "input": [
      "len(ac_list)"
     ],
     "language": "python",
     "metadata": {},
     "outputs": [
      {
       "metadata": {},
       "output_type": "pyout",
       "prompt_number": 91,
       "text": [
        "6527"
       ]
      }
     ],
     "prompt_number": 91
    },
    {
     "cell_type": "code",
     "collapsed": false,
     "input": [
      "ac_list.sort(key=lambda tup: tup[1])"
     ],
     "language": "python",
     "metadata": {},
     "outputs": [],
     "prompt_number": 92
    },
    {
     "cell_type": "code",
     "collapsed": false,
     "input": [
      "ac_list[:5]"
     ],
     "language": "python",
     "metadata": {},
     "outputs": [
      {
       "metadata": {},
       "output_type": "pyout",
       "prompt_number": 93,
       "text": [
        "[('Tatasciore, Fred', 3.6173726676752396),\n",
        " ('Jackson, Samuel L.', 3.698814926878467),\n",
        " ('Welker, Frank', 3.714447806354009),\n",
        " ('Harnell, Jess', 3.7341149773071103),\n",
        " ('Willis, Bruce', 3.7436964195663136)]"
       ]
      }
     ],
     "prompt_number": 93
    },
    {
     "cell_type": "code",
     "collapsed": false,
     "input": [
      "ac_list[19]"
     ],
     "language": "python",
     "metadata": {},
     "outputs": [
      {
       "metadata": {},
       "output_type": "pyout",
       "prompt_number": 94,
       "text": [
        "('North, Nolan', 3.7936207766011094)"
       ]
      }
     ],
     "prompt_number": 94
    },
    {
     "cell_type": "code",
     "collapsed": false,
     "input": [
      "ac_list[15:25]"
     ],
     "language": "python",
     "metadata": {},
     "outputs": [
      {
       "metadata": {},
       "output_type": "pyout",
       "prompt_number": 95,
       "text": [
        "[('Pitt, Brad', 3.786812909732728),\n",
        " ('Baldwin, Alec', 3.7885779122541603),\n",
        " ('Diaz, Cameron', 3.78958648512355),\n",
        " ('Hoffman, Dustin', 3.7936207766011094),\n",
        " ('North, Nolan', 3.7936207766011094),\n",
        " ('Morrison, Rana', 3.796142208774584),\n",
        " ('Sogliuzzo, Andr\\xc3\\xa9', 3.797150781643974),\n",
        " ('Freeman, Morgan (I)', 3.7976550680786687),\n",
        " ('Lee, Stan (I)', 3.799924357034796),\n",
        " ('De Niro, Robert', 3.803958648512355)]"
       ]
      }
     ],
     "prompt_number": 95
    },
    {
     "cell_type": "markdown",
     "metadata": {},
     "source": [
      "---"
     ]
    },
    {
     "cell_type": "markdown",
     "metadata": {},
     "source": [
      "Try the biggest file:"
     ]
    },
    {
     "cell_type": "code",
     "collapsed": false,
     "input": [
      "def imdb_prep_data(filename):\n",
      "    with open(filename) as imdb_file:\n",
      "        imdb_data = []\n",
      "        for line in imdb_file:\n",
      "            imdb_data.append(line)\n",
      "    \n",
      "    graph = {}\n",
      "    for line in imdb_data:\n",
      "        sep = line.split('\\t')\n",
      "        make_link(graph, sep[0], sep[1])\n",
      "    \n",
      "    actors = {line.split('\\t')[0] for line in imdb_data}\n",
      "    \n",
      "    ac_list = sorted([(actor, centrality(graph, actor)) for actor in actors], key=lambda tup: tup[1])\n",
      "    return ac_list"
     ],
     "language": "python",
     "metadata": {},
     "outputs": [],
     "prompt_number": 107
    },
    {
     "cell_type": "code",
     "collapsed": false,
     "input": [
      "ac_list = imdb_prep_data('imdb-1.tsv')"
     ],
     "language": "python",
     "metadata": {},
     "outputs": [],
     "prompt_number": 108
    },
    {
     "cell_type": "code",
     "collapsed": false,
     "input": [
      "ac_list[:10]"
     ],
     "language": "python",
     "metadata": {},
     "outputs": [
      {
       "metadata": {},
       "output_type": "pyout",
       "prompt_number": 109,
       "text": [
        "[('Tatasciore, Fred', 3.6173726676752396),\n",
        " ('Jackson, Samuel L.', 3.698814926878467),\n",
        " ('Welker, Frank', 3.714447806354009),\n",
        " ('Harnell, Jess', 3.7341149773071103),\n",
        " ('Willis, Bruce', 3.7436964195663136),\n",
        " ('Hanks, Tom', 3.7459657085224407),\n",
        " ('Blum, Steve (IX)', 3.7631114473020677),\n",
        " ('Papajohn, Michael', 3.770927887039839),\n",
        " ('Voight, Jon', 3.7711800302571863),\n",
        " ('Starr, Arne', 3.771684316691881)]"
       ]
      }
     ],
     "prompt_number": 109
    },
    {
     "cell_type": "code",
     "collapsed": false,
     "input": [
      "ac_list2 = imdb_prep_data('imdb-2.tsv')"
     ],
     "language": "python",
     "metadata": {},
     "outputs": [],
     "prompt_number": 110
    },
    {
     "cell_type": "code",
     "collapsed": false,
     "input": [
      "ac_list2[:10]"
     ],
     "language": "python",
     "metadata": {},
     "outputs": [
      {
       "metadata": {},
       "output_type": "pyout",
       "prompt_number": 111,
       "text": [
        "[('Tatasciore, Fred', 3.6819110635399435),\n",
        " ('Jackson, Samuel L.', 3.7404884693976843),\n",
        " ('Welker, Frank', 3.746521358373066),\n",
        " ('Willis, Bruce', 3.749440498199864),\n",
        " ('Damon, Matt', 3.756835652427751),\n",
        " ('Abernathy, Don', 3.789724627809672),\n",
        " ('Hanks, Tom', 3.8004281405079303),\n",
        " ('Morrison, Rana', 3.8012065777950763),\n",
        " ('Harnell, Jess', 3.804514936265447),\n",
        " ('Wilson, Owen (I)', 3.80938016931011)]"
       ]
      }
     ],
     "prompt_number": 111
    },
    {
     "cell_type": "code",
     "collapsed": false,
     "input": [
      "ac_list3 = imdb_prep_data('imdb-3.tsv')"
     ],
     "language": "python",
     "metadata": {},
     "outputs": [],
     "prompt_number": 112
    },
    {
     "cell_type": "code",
     "collapsed": false,
     "input": [
      "ac_list3[:10]"
     ],
     "language": "python",
     "metadata": {},
     "outputs": [
      {
       "metadata": {},
       "output_type": "pyout",
       "prompt_number": 113,
       "text": [
        "[('Tatasciore, Fred', 3.7807059794949427),\n",
        " ('Jackson, Samuel L.', 3.8093304892314044),\n",
        " ('Willis, Bruce', 3.8112571389252046),\n",
        " ('Damon, Matt', 3.8166242345007912),\n",
        " ('Welker, Frank', 3.821991330076378),\n",
        " ('De Niro, Robert', 3.84304685887291),\n",
        " ('Hanks, Tom', 3.8489644257895823),\n",
        " ('Freeman, Morgan (I)', 3.8548819927062548),\n",
        " ('Abernathy, Don', 3.857771967246955),\n",
        " ('Papajohn, Michael', 3.8581848207527694)]"
       ]
      }
     ],
     "prompt_number": 113
    },
    {
     "cell_type": "code",
     "collapsed": false,
     "input": [
      "ac_list4 = imdb_prep_data('imdb-4.tsv')"
     ],
     "language": "python",
     "metadata": {},
     "outputs": [],
     "prompt_number": 114
    },
    {
     "cell_type": "code",
     "collapsed": false,
     "input": [
      "ac_list4[:10]"
     ],
     "language": "python",
     "metadata": {},
     "outputs": [
      {
       "metadata": {},
       "output_type": "pyout",
       "prompt_number": 115,
       "text": [
        "[('Jackson, Samuel L.', 3.8000102664134285),\n",
        " ('Tatasciore, Fred', 3.8128432831990144),\n",
        " ('Willis, Bruce', 3.8349160720702224),\n",
        " ('Welker, Frank', 3.8467224475129616),\n",
        " ('De Niro, Robert', 3.847441096452954),\n",
        " ('Damon, Matt', 3.849340382937221),\n",
        " ('Papajohn, Michael', 3.8742364355012575),\n",
        " ('Rosales Jr., Thomas', 3.8828602227811713),\n",
        " ('Hanks, Tom', 3.885529490272573),\n",
        " ('Morrison, Rana', 3.8874801088239823)]"
       ]
      }
     ],
     "prompt_number": 115
    },
    {
     "cell_type": "code",
     "collapsed": false,
     "input": [],
     "language": "python",
     "metadata": {},
     "outputs": []
    }
   ],
   "metadata": {}
  }
 ]
}