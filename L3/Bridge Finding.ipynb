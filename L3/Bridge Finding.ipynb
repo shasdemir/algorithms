{
 "metadata": {
  "name": "",
  "signature": "sha256:48de89a9b65a45f12dbfafaf1630a4e94ac32841853aa8596d2308cf4b471207"
 },
 "nbformat": 3,
 "nbformat_minor": 0,
 "worksheets": [
  {
   "cells": [
    {
     "cell_type": "code",
     "collapsed": false,
     "input": [
      "from L3 import *"
     ],
     "language": "python",
     "metadata": {},
     "outputs": [],
     "prompt_number": 2
    },
    {
     "cell_type": "code",
     "collapsed": false,
     "input": [
      "def make_colored_link(G, node1, node2, color=1):\n",
      "    if node1 not in G:\n",
      "        G[node1] = {node2: 1}\n",
      "    elif node2 not in G[node1]:\n",
      "        G[node1][node2] = 1\n",
      "    else:\n",
      "        G[node1][node2] += 1\n",
      "\n",
      "    if node2 not in G:\n",
      "        G[node2] = {node1: 1}\n",
      "    elif node1 not in G[node2]:\n",
      "        G[node2][node1] = 1\n",
      "    else:\n",
      "        G[node2][node1] += 1\n",
      "\n",
      "    return G"
     ],
     "language": "python",
     "metadata": {},
     "outputs": []
    },
    {
     "cell_type": "code",
     "collapsed": false,
     "input": [
      "G = {'a': {'c': 1, 'b': 1},\n",
      "     'b': {'a': 1, 'd': 1},\n",
      "     'c': {'a': 1, 'd': 1},\n",
      "     'd': {'c': 1, 'b': 1, 'e': 1},\n",
      "     'e': {'d': 1, 'g': 1, 'f': 1},\n",
      "     'f': {'e': 1, 'g': 1},\n",
      "     'g': {'e': 1, 'f': 1}}"
     ],
     "language": "python",
     "metadata": {},
     "outputs": [],
     "prompt_number": 1
    },
    {
     "cell_type": "code",
     "collapsed": false,
     "input": [
      "def mark_component_nr(G, node, marked):\n",
      "    marked[node] = True\n",
      "    open_list = [node]\n",
      "\n",
      "    while open_list:\n",
      "        current = open_list.pop(0)  # bfs\n",
      "        for neighbor in G[current]:\n",
      "            if neighbor not in marked:\n",
      "                marked[neighbor] = True\n",
      "                open_list.append(neighbor)\n",
      "    return len(marked)"
     ],
     "language": "python",
     "metadata": {},
     "outputs": [],
     "prompt_number": 3
    },
    {
     "cell_type": "code",
     "collapsed": false,
     "input": [
      "def create_rooted_spanning_tree(G):\n",
      "    colored_graph = {}\n",
      "    \n",
      "    open_list = [G.keys()[0]]\n",
      "    \n",
      "    while open_list:\n",
      "        current = open_list.pop(0)\n",
      "        \n",
      "        for neighbor in G[current]:\n",
      "            \n",
      "            if neighbor not in "
     ],
     "language": "python",
     "metadata": {},
     "outputs": []
    }
   ],
   "metadata": {}
  }
 ]
}