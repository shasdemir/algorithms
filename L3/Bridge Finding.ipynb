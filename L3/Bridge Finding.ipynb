{
 "metadata": {
  "name": "",
  "signature": "sha256:d1ecfd41150fbd998d70d123aab2981f2b8f657cd3a036bdf4a759e668617022"
 },
 "nbformat": 3,
 "nbformat_minor": 0,
 "worksheets": [
  {
   "cells": [
    {
     "cell_type": "code",
     "collapsed": false,
     "input": [
      "from L3 import *"
     ],
     "language": "python",
     "metadata": {},
     "outputs": [],
     "prompt_number": 1
    },
    {
     "cell_type": "heading",
     "level": 3,
     "metadata": {},
     "source": [
      "create_rooted_spanning_tree"
     ]
    },
    {
     "cell_type": "code",
     "collapsed": false,
     "input": [
      "def make_colored_link(G, node1, node2, color):\n",
      "    if node1 not in G:\n",
      "        G[node1] = {node2: color}\n",
      "    elif node2 not in G[node1]:\n",
      "        G[node1][node2] = color\n",
      "\n",
      "    if node2 not in G:\n",
      "        G[node2] = {node1: color}\n",
      "    elif node1 not in G[node2]:\n",
      "        G[node2][node1] = color\n",
      "\n",
      "    return G"
     ],
     "language": "python",
     "metadata": {},
     "outputs": [],
     "prompt_number": 2
    },
    {
     "cell_type": "code",
     "collapsed": false,
     "input": [
      "G = {'a': {'c': 1, 'b': 1},\n",
      "     'b': {'a': 1, 'd': 1},\n",
      "     'c': {'a': 1, 'd': 1},\n",
      "     'd': {'c': 1, 'b': 1, 'e': 1},\n",
      "     'e': {'d': 1, 'g': 1, 'f': 1},\n",
      "     'f': {'e': 1, 'g': 1},\n",
      "     'g': {'e': 1, 'f': 1}}"
     ],
     "language": "python",
     "metadata": {},
     "outputs": [],
     "prompt_number": 3
    },
    {
     "cell_type": "code",
     "collapsed": false,
     "input": [
      "def create_uncolored_tree(G, root):\n",
      "    spanning_tree = {}\n",
      "\n",
      "    open_list = [root]\n",
      "    checked = {open_list[0]}\n",
      "\n",
      "    while open_list:\n",
      "        current = open_list.pop(0)\n",
      "\n",
      "        if current not in spanning_tree:\n",
      "            spanning_tree[current] = {}\n",
      "\n",
      "        for neighbor in G[current]:\n",
      "            if neighbor not in checked:\n",
      "                checked.add(neighbor)\n",
      "                open_list.append(neighbor)\n",
      "\n",
      "                make_link(G=spanning_tree, node1=current, node2=neighbor)\n",
      "\n",
      "    return spanning_tree"
     ],
     "language": "python",
     "metadata": {},
     "outputs": [],
     "prompt_number": 4
    },
    {
     "cell_type": "code",
     "collapsed": false,
     "input": [
      "create_uncolored_tree(G, 'a')"
     ],
     "language": "python",
     "metadata": {},
     "outputs": [
      {
       "metadata": {},
       "output_type": "pyout",
       "prompt_number": 6,
       "text": [
        "{'a': {'b': 1, 'c': 1},\n",
        " 'b': {'a': 1},\n",
        " 'c': {'a': 1, 'd': 1},\n",
        " 'd': {'c': 1, 'e': 1},\n",
        " 'e': {'d': 1, 'f': 1, 'g': 1},\n",
        " 'f': {'e': 1},\n",
        " 'g': {'e': 1}}"
       ]
      }
     ],
     "prompt_number": 6
    },
    {
     "cell_type": "code",
     "collapsed": false,
     "input": [
      "def create_rooted_spanning_tree(G, root):\n",
      "    spanning_tree = create_uncolored_tree(G, root)\n",
      "\n",
      "    colored_tree = {}\n",
      "    for node in G:\n",
      "        for nbor in G[node]:\n",
      "            if nbor in spanning_tree[node]:\n",
      "                make_colored_link(G=colored_tree, node1=node, node2=nbor, color='green')\n",
      "            else:\n",
      "                make_colored_link(G=colored_tree, node1=node, node2=nbor, color='red')\n",
      "\n",
      "    return colored_tree"
     ],
     "language": "python",
     "metadata": {},
     "outputs": [],
     "prompt_number": 7
    },
    {
     "cell_type": "code",
     "collapsed": false,
     "input": [
      "create_rooted_spanning_tree(G, 'a')"
     ],
     "language": "python",
     "metadata": {},
     "outputs": [
      {
       "metadata": {},
       "output_type": "pyout",
       "prompt_number": 8,
       "text": [
        "{'a': {'b': 'green', 'c': 'green'},\n",
        " 'b': {'a': 'green', 'd': 'red'},\n",
        " 'c': {'a': 'green', 'd': 'green'},\n",
        " 'd': {'b': 'red', 'c': 'green', 'e': 'green'},\n",
        " 'e': {'d': 'green', 'f': 'green', 'g': 'green'},\n",
        " 'f': {'e': 'green', 'g': 'red'},\n",
        " 'g': {'e': 'green', 'f': 'red'}}"
       ]
      }
     ],
     "prompt_number": 8
    },
    {
     "cell_type": "code",
     "collapsed": false,
     "input": [
      "S = {'a': {'c': 'green', 'b': 'green'}, \n",
      "     'b': {'a': 'green', 'd': 'red'}, \n",
      "     'c': {'a': 'green', 'd': 'green'}, \n",
      "     'd': {'c': 'green', 'b': 'red', 'e': 'green'}, \n",
      "     'e': {'d': 'green', 'g': 'green', 'f': 'green'}, \n",
      "     'f': {'e': 'green', 'g': 'red'},\n",
      "     'g': {'e': 'green', 'f': 'red'}}"
     ],
     "language": "python",
     "metadata": {},
     "outputs": [],
     "prompt_number": 9
    },
    {
     "cell_type": "code",
     "collapsed": false,
     "input": [
      "create_rooted_spanning_tree(G, 'a') == S"
     ],
     "language": "python",
     "metadata": {},
     "outputs": [
      {
       "metadata": {},
       "output_type": "pyout",
       "prompt_number": 11,
       "text": [
        "True"
       ]
      }
     ],
     "prompt_number": 11
    },
    {
     "cell_type": "markdown",
     "metadata": {},
     "source": [
      "Voila."
     ]
    },
    {
     "cell_type": "markdown",
     "metadata": {},
     "source": [
      "---"
     ]
    },
    {
     "cell_type": "heading",
     "level": 3,
     "metadata": {},
     "source": [
      "post_order"
     ]
    },
    {
     "cell_type": "code",
     "collapsed": false,
     "input": [
      "def "
     ],
     "language": "python",
     "metadata": {},
     "outputs": []
    }
   ],
   "metadata": {}
  }
 ]
}