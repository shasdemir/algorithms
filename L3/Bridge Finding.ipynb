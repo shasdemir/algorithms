{
 "metadata": {
  "name": "",
  "signature": "sha256:a8dd00b3c0ccfc8c1c52dc8df04fa19580fcdca5bfd89eb19a42693f15a721da"
 },
 "nbformat": 3,
 "nbformat_minor": 0,
 "worksheets": [
  {
   "cells": [
    {
     "cell_type": "code",
     "collapsed": false,
     "input": [
      "from L3 import *"
     ],
     "language": "python",
     "metadata": {},
     "outputs": [],
     "prompt_number": 1
    },
    {
     "cell_type": "heading",
     "level": 3,
     "metadata": {},
     "source": [
      "create_rooted_spanning_tree"
     ]
    },
    {
     "cell_type": "code",
     "collapsed": false,
     "input": [
      "def make_colored_link(G, node1, node2, color):\n",
      "    if node1 not in G:\n",
      "        G[node1] = {node2: color}\n",
      "    elif node2 not in G[node1]:\n",
      "        G[node1][node2] = color\n",
      "\n",
      "    if node2 not in G:\n",
      "        G[node2] = {node1: color}\n",
      "    elif node1 not in G[node2]:\n",
      "        G[node2][node1] = color\n",
      "\n",
      "    return G"
     ],
     "language": "python",
     "metadata": {},
     "outputs": [],
     "prompt_number": 2
    },
    {
     "cell_type": "code",
     "collapsed": false,
     "input": [
      "G = {'a': {'c': 1, 'b': 1},\n",
      "     'b': {'a': 1, 'd': 1},\n",
      "     'c': {'a': 1, 'd': 1},\n",
      "     'd': {'c': 1, 'b': 1, 'e': 1},\n",
      "     'e': {'d': 1, 'g': 1, 'f': 1},\n",
      "     'f': {'e': 1, 'g': 1},\n",
      "     'g': {'e': 1, 'f': 1}}"
     ],
     "language": "python",
     "metadata": {},
     "outputs": [],
     "prompt_number": 3
    },
    {
     "cell_type": "code",
     "collapsed": false,
     "input": [
      "def create_uncolored_tree(G, root):\n",
      "    spanning_tree = {}\n",
      "\n",
      "    open_list = [root]\n",
      "    checked = {open_list[0]}\n",
      "\n",
      "    while open_list:\n",
      "        current = open_list.pop(0)\n",
      "\n",
      "        if current not in spanning_tree:\n",
      "            spanning_tree[current] = {}\n",
      "\n",
      "        for neighbor in G[current]:\n",
      "            if neighbor not in checked:\n",
      "                checked.add(neighbor)\n",
      "                open_list.append(neighbor)\n",
      "\n",
      "                make_link(G=spanning_tree, node1=current, node2=neighbor)\n",
      "\n",
      "    return spanning_tree"
     ],
     "language": "python",
     "metadata": {},
     "outputs": [],
     "prompt_number": 4
    },
    {
     "cell_type": "code",
     "collapsed": false,
     "input": [
      "create_uncolored_tree(G, 'a')"
     ],
     "language": "python",
     "metadata": {},
     "outputs": [
      {
       "metadata": {},
       "output_type": "pyout",
       "prompt_number": 5,
       "text": [
        "{'a': {'b': 1, 'c': 1},\n",
        " 'b': {'a': 1},\n",
        " 'c': {'a': 1, 'd': 1},\n",
        " 'd': {'c': 1, 'e': 1},\n",
        " 'e': {'d': 1, 'f': 1, 'g': 1},\n",
        " 'f': {'e': 1},\n",
        " 'g': {'e': 1}}"
       ]
      }
     ],
     "prompt_number": 5
    },
    {
     "cell_type": "code",
     "collapsed": false,
     "input": [
      "def create_rooted_spanning_tree(G, root):\n",
      "    spanning_tree = create_uncolored_tree(G, root)\n",
      "\n",
      "    colored_tree = {}\n",
      "    for node in G:\n",
      "        for nbor in G[node]:\n",
      "            if nbor in spanning_tree[node]:\n",
      "                make_colored_link(G=colored_tree, node1=node, node2=nbor, color='green')\n",
      "            else:\n",
      "                make_colored_link(G=colored_tree, node1=node, node2=nbor, color='red')\n",
      "\n",
      "    return colored_tree"
     ],
     "language": "python",
     "metadata": {},
     "outputs": [],
     "prompt_number": 6
    },
    {
     "cell_type": "code",
     "collapsed": false,
     "input": [
      "create_rooted_spanning_tree(G, 'a')"
     ],
     "language": "python",
     "metadata": {},
     "outputs": [
      {
       "metadata": {},
       "output_type": "pyout",
       "prompt_number": 7,
       "text": [
        "{'a': {'b': 'green', 'c': 'green'},\n",
        " 'b': {'a': 'green', 'd': 'red'},\n",
        " 'c': {'a': 'green', 'd': 'green'},\n",
        " 'd': {'b': 'red', 'c': 'green', 'e': 'green'},\n",
        " 'e': {'d': 'green', 'f': 'green', 'g': 'green'},\n",
        " 'f': {'e': 'green', 'g': 'red'},\n",
        " 'g': {'e': 'green', 'f': 'red'}}"
       ]
      }
     ],
     "prompt_number": 7
    },
    {
     "cell_type": "code",
     "collapsed": false,
     "input": [
      "S = {'a': {'c': 'green', 'b': 'green'}, \n",
      "     'b': {'a': 'green', 'd': 'red'}, \n",
      "     'c': {'a': 'green', 'd': 'green'}, \n",
      "     'd': {'c': 'green', 'b': 'red', 'e': 'green'}, \n",
      "     'e': {'d': 'green', 'g': 'green', 'f': 'green'}, \n",
      "     'f': {'e': 'green', 'g': 'red'},\n",
      "     'g': {'e': 'green', 'f': 'red'}}"
     ],
     "language": "python",
     "metadata": {},
     "outputs": [],
     "prompt_number": 8
    },
    {
     "cell_type": "code",
     "collapsed": false,
     "input": [
      "create_rooted_spanning_tree(G, 'a') == S"
     ],
     "language": "python",
     "metadata": {},
     "outputs": [
      {
       "metadata": {},
       "output_type": "pyout",
       "prompt_number": 9,
       "text": [
        "True"
       ]
      }
     ],
     "prompt_number": 9
    },
    {
     "cell_type": "markdown",
     "metadata": {},
     "source": [
      "Voila."
     ]
    },
    {
     "cell_type": "markdown",
     "metadata": {},
     "source": [
      "---"
     ]
    },
    {
     "cell_type": "heading",
     "level": 3,
     "metadata": {},
     "source": [
      "post_order"
     ]
    },
    {
     "cell_type": "code",
     "collapsed": false,
     "input": [
      "def post_order(graph, root):\n",
      "    \"\"\" Return mapping between nodes in graph and their post-order. \"\"\"\n",
      "\n",
      "    def calc_po(spanning_tree, root, node, po_counter, po):\n",
      "        children = direct_children(spanning_tree, root, node)\n",
      "\n",
      "        for child in children:\n",
      "            po_counter, po = calc_po(spanning_tree, root, child, po_counter, po)\n",
      "\n",
      "        po_counter += 1\n",
      "        po[node] = po_counter\n",
      "        return po_counter, po\n",
      "\n",
      "    spanning_tree = create_uncolored_tree(graph, root)\n",
      "    po = {}\n",
      "    po_counter = 0\n",
      "    calc_po(spanning_tree, root, root, po_counter, po)\n",
      "    \n",
      "    return po"
     ],
     "language": "python",
     "metadata": {},
     "outputs": [],
     "prompt_number": 10
    },
    {
     "cell_type": "code",
     "collapsed": false,
     "input": [
      "def direct_children(spanning_tree, root, node):\n",
      "    \"\"\" Return the list of direct children of node node, in a tree with root root.\"\"\"\n",
      "    \n",
      "    neighbors = spanning_tree[node].keys()\n",
      "    \n",
      "    if node == root:\n",
      "        return neighbors\n",
      "    \n",
      "    path_to_node = path(spanning_tree, root, node)\n",
      "    \n",
      "    return [node for node in neighbors if node not in path_to_node]"
     ],
     "language": "python",
     "metadata": {},
     "outputs": [],
     "prompt_number": 11
    },
    {
     "cell_type": "code",
     "collapsed": false,
     "input": [
      "G"
     ],
     "language": "python",
     "metadata": {},
     "outputs": [
      {
       "metadata": {},
       "output_type": "pyout",
       "prompt_number": 12,
       "text": [
        "{'a': {'b': 1, 'c': 1},\n",
        " 'b': {'a': 1, 'd': 1},\n",
        " 'c': {'a': 1, 'd': 1},\n",
        " 'd': {'b': 1, 'c': 1, 'e': 1},\n",
        " 'e': {'d': 1, 'f': 1, 'g': 1},\n",
        " 'f': {'e': 1, 'g': 1},\n",
        " 'g': {'e': 1, 'f': 1}}"
       ]
      }
     ],
     "prompt_number": 12
    },
    {
     "cell_type": "code",
     "collapsed": false,
     "input": [
      "tree = create_uncolored_tree(G, 'a')\n",
      "tree"
     ],
     "language": "python",
     "metadata": {},
     "outputs": [
      {
       "metadata": {},
       "output_type": "pyout",
       "prompt_number": 13,
       "text": [
        "{'a': {'b': 1, 'c': 1},\n",
        " 'b': {'a': 1},\n",
        " 'c': {'a': 1, 'd': 1},\n",
        " 'd': {'c': 1, 'e': 1},\n",
        " 'e': {'d': 1, 'f': 1, 'g': 1},\n",
        " 'f': {'e': 1},\n",
        " 'g': {'e': 1}}"
       ]
      }
     ],
     "prompt_number": 13
    },
    {
     "cell_type": "code",
     "collapsed": false,
     "input": [
      "direct_children(tree, 'a', 'a')"
     ],
     "language": "python",
     "metadata": {},
     "outputs": [
      {
       "metadata": {},
       "output_type": "pyout",
       "prompt_number": 14,
       "text": [
        "['c', 'b']"
       ]
      }
     ],
     "prompt_number": 14
    },
    {
     "cell_type": "code",
     "collapsed": false,
     "input": [
      "direct_children(tree, 'a', 'c')"
     ],
     "language": "python",
     "metadata": {},
     "outputs": [
      {
       "metadata": {},
       "output_type": "pyout",
       "prompt_number": 15,
       "text": [
        "['d']"
       ]
      }
     ],
     "prompt_number": 15
    },
    {
     "cell_type": "code",
     "collapsed": false,
     "input": [
      "direct_children(tree, 'a', 'e')"
     ],
     "language": "python",
     "metadata": {},
     "outputs": [
      {
       "metadata": {},
       "output_type": "pyout",
       "prompt_number": 16,
       "text": [
        "['g', 'f']"
       ]
      }
     ],
     "prompt_number": 16
    },
    {
     "cell_type": "code",
     "collapsed": false,
     "input": [
      "direct_children(tree, 'a', 'g')"
     ],
     "language": "python",
     "metadata": {},
     "outputs": [
      {
       "metadata": {},
       "output_type": "pyout",
       "prompt_number": 17,
       "text": [
        "[]"
       ]
      }
     ],
     "prompt_number": 17
    },
    {
     "cell_type": "code",
     "collapsed": false,
     "input": [
      "post_order(G, 'a')"
     ],
     "language": "python",
     "metadata": {},
     "outputs": [
      {
       "metadata": {},
       "output_type": "pyout",
       "prompt_number": 18,
       "text": [
        "{'a': 7, 'b': 6, 'c': 5, 'd': 4, 'e': 3, 'f': 2, 'g': 1}"
       ]
      }
     ],
     "prompt_number": 18
    },
    {
     "cell_type": "markdown",
     "metadata": {},
     "source": [
      "---"
     ]
    },
    {
     "cell_type": "heading",
     "level": 3,
     "metadata": {},
     "source": [
      "number_of_descendants"
     ]
    },
    {
     "cell_type": "code",
     "collapsed": false,
     "input": [
      "def list_descendants(spanning_tree, root, node):\n",
      "    \"\"\" List all descendants of node, including itself. \"\"\"\n",
      "    \n",
      "    spanning_tree = create_uncolored_tree(spanning_tree, root)  # we only need green connections\n",
      "    \n",
      "    all_nodes = spanning_tree.keys()\n",
      "    \n",
      "    if node == root:\n",
      "        return all_nodes\n",
      "    \n",
      "    path_to_node = path(spanning_tree, root, node)\n",
      "    dist_to_node = len(path_to_node)\n",
      "    \n",
      "    return [other for other in all_nodes if path(spanning_tree, root, other)[:dist_to_node] == path_to_node]"
     ],
     "language": "python",
     "metadata": {},
     "outputs": [],
     "prompt_number": 45
    },
    {
     "cell_type": "code",
     "collapsed": false,
     "input": [
      "def number_of_descendants(spanning_tree, root):\n",
      "    \"\"\" Return the mapping between the nodes of spanning_tree and number of their descendants. \"\"\"\n",
      "\n",
      "    return {node: len(list_descendants(spanning_tree, root, node)) for node in spanning_tree}"
     ],
     "language": "python",
     "metadata": {},
     "outputs": [],
     "prompt_number": 20
    },
    {
     "cell_type": "code",
     "collapsed": false,
     "input": [
      "test_S = create_rooted_spanning_tree(G, 'a')\n",
      "test_S"
     ],
     "language": "python",
     "metadata": {},
     "outputs": [
      {
       "metadata": {},
       "output_type": "pyout",
       "prompt_number": 21,
       "text": [
        "{'a': {'b': 'green', 'c': 'green'},\n",
        " 'b': {'a': 'green', 'd': 'red'},\n",
        " 'c': {'a': 'green', 'd': 'green'},\n",
        " 'd': {'b': 'red', 'c': 'green', 'e': 'green'},\n",
        " 'e': {'d': 'green', 'f': 'green', 'g': 'green'},\n",
        " 'f': {'e': 'green', 'g': 'red'},\n",
        " 'g': {'e': 'green', 'f': 'red'}}"
       ]
      }
     ],
     "prompt_number": 21
    },
    {
     "cell_type": "code",
     "collapsed": false,
     "input": [
      "number_of_descendants(test_S, 'a')"
     ],
     "language": "python",
     "metadata": {},
     "outputs": [
      {
       "metadata": {},
       "output_type": "pyout",
       "prompt_number": 22,
       "text": [
        "{'a': 7, 'b': 1, 'c': 5, 'd': 4, 'e': 3, 'f': 1, 'g': 1}"
       ]
      }
     ],
     "prompt_number": 22
    },
    {
     "cell_type": "code",
     "collapsed": false,
     "input": [
      "list_descendants(test_uc, 'a', 'e')"
     ],
     "language": "python",
     "metadata": {},
     "outputs": [
      {
       "metadata": {},
       "output_type": "pyout",
       "prompt_number": 24,
       "text": [
        "['e', 'g', 'f']"
       ]
      }
     ],
     "prompt_number": 24
    },
    {
     "cell_type": "code",
     "collapsed": false,
     "input": [
      "path(test_uc, 'a', 'a')"
     ],
     "language": "python",
     "metadata": {},
     "outputs": [
      {
       "metadata": {},
       "output_type": "pyout",
       "prompt_number": 25,
       "text": [
        "['a']"
       ]
      }
     ],
     "prompt_number": 25
    },
    {
     "cell_type": "markdown",
     "metadata": {},
     "source": [
      "Works!"
     ]
    },
    {
     "cell_type": "markdown",
     "metadata": {},
     "source": [
      "---"
     ]
    },
    {
     "cell_type": "heading",
     "level": 3,
     "metadata": {},
     "source": [
      "lowest_post_order"
     ]
    },
    {
     "cell_type": "code",
     "collapsed": false,
     "input": [
      "def find_search_set(spanning_tree, root, node):\n",
      "    \"\"\" Return the set of nodes to compare post_order values to calculate L (red)\n",
      "    number for the node. \"\"\"\n",
      "    \n",
      "    descendants = list_descendants(spanning_tree, root, node)\n",
      "    \n",
      "    # find points reachable from the descendants with a single red line\n",
      "    reachable = set()\n",
      "    for desc in descendants:\n",
      "        for nbor in spanning_tree[desc]:\n",
      "            if spanning_tree[desc][nbor] == 'red':\n",
      "                reachable.add(nbor)\n",
      "\n",
      "    return reachable.union(set(descendants))"
     ],
     "language": "python",
     "metadata": {},
     "outputs": [],
     "prompt_number": 71
    },
    {
     "cell_type": "code",
     "collapsed": false,
     "input": [
      "test_S = create_rooted_spanning_tree(G, 'a')\n",
      "test_S"
     ],
     "language": "python",
     "metadata": {},
     "outputs": [
      {
       "metadata": {},
       "output_type": "pyout",
       "prompt_number": 72,
       "text": [
        "{'a': {'b': 'green', 'c': 'green'},\n",
        " 'b': {'a': 'green', 'd': 'red'},\n",
        " 'c': {'a': 'green', 'd': 'green'},\n",
        " 'd': {'b': 'red', 'c': 'green', 'e': 'green'},\n",
        " 'e': {'d': 'green', 'f': 'green', 'g': 'green'},\n",
        " 'f': {'e': 'green', 'g': 'red'},\n",
        " 'g': {'e': 'green', 'f': 'red'}}"
       ]
      }
     ],
     "prompt_number": 72
    },
    {
     "cell_type": "code",
     "collapsed": false,
     "input": [
      "find_search_set(test_S, 'a', 'e')"
     ],
     "language": "python",
     "metadata": {},
     "outputs": [
      {
       "metadata": {},
       "output_type": "pyout",
       "prompt_number": 73,
       "text": [
        "{'e', 'f', 'g'}"
       ]
      }
     ],
     "prompt_number": 73
    },
    {
     "cell_type": "code",
     "collapsed": false,
     "input": [
      "find_search_set(test_S, 'a', 'd')"
     ],
     "language": "python",
     "metadata": {},
     "outputs": [
      {
       "metadata": {},
       "output_type": "pyout",
       "prompt_number": 74,
       "text": [
        "{'b', 'd', 'e', 'f', 'g'}"
       ]
      }
     ],
     "prompt_number": 74
    },
    {
     "cell_type": "code",
     "collapsed": false,
     "input": [
      "def lowest_post_order(spanning_tree, root, po):\n",
      "    lpo = {}\n",
      "    \n",
      "    for node in po:\n",
      "        search_set = find_search_set(spanning_tree, root, node)\n",
      "        lpo[node] = min([po[s_node] for s_node in search_set])\n",
      "    \n",
      "    return lpo"
     ],
     "language": "python",
     "metadata": {},
     "outputs": [],
     "prompt_number": 75
    },
    {
     "cell_type": "code",
     "collapsed": false,
     "input": [
      "test_po = post_order(G, 'a')\n",
      "test_po"
     ],
     "language": "python",
     "metadata": {},
     "outputs": [
      {
       "metadata": {},
       "output_type": "pyout",
       "prompt_number": 76,
       "text": [
        "{'a': 7, 'b': 6, 'c': 5, 'd': 4, 'e': 3, 'f': 2, 'g': 1}"
       ]
      }
     ],
     "prompt_number": 76
    },
    {
     "cell_type": "code",
     "collapsed": false,
     "input": [
      "lowest_post_order(test_S, 'a', test_po)"
     ],
     "language": "python",
     "metadata": {},
     "outputs": [
      {
       "metadata": {},
       "output_type": "pyout",
       "prompt_number": 77,
       "text": [
        "{'a': 1, 'b': 4, 'c': 1, 'd': 1, 'e': 1, 'f': 1, 'g': 1}"
       ]
      }
     ],
     "prompt_number": 77
    },
    {
     "cell_type": "markdown",
     "metadata": {},
     "source": [
      "OK."
     ]
    },
    {
     "cell_type": "markdown",
     "metadata": {},
     "source": [
      "---"
     ]
    },
    {
     "cell_type": "heading",
     "level": 3,
     "metadata": {},
     "source": [
      "highest_post_order"
     ]
    },
    {
     "cell_type": "code",
     "collapsed": false,
     "input": [
      "def highest_post_order(spanning_tree, root, po):\n",
      "    hpo = {}\n",
      "    \n",
      "    for node in po:\n",
      "        search_set = find_search_set(spanning_tree, root, node)\n",
      "        hpo[node] = max([po[s_node] for s_node in search_set])\n",
      "    \n",
      "    return hpo"
     ],
     "language": "python",
     "metadata": {},
     "outputs": [],
     "prompt_number": 78
    },
    {
     "cell_type": "code",
     "collapsed": false,
     "input": [
      "highest_post_order(test_S, 'a', test_po)"
     ],
     "language": "python",
     "metadata": {},
     "outputs": [
      {
       "metadata": {},
       "output_type": "pyout",
       "prompt_number": 79,
       "text": [
        "{'a': 7, 'b': 6, 'c': 6, 'd': 6, 'e': 3, 'f': 2, 'g': 2}"
       ]
      }
     ],
     "prompt_number": 79
    },
    {
     "cell_type": "code",
     "collapsed": false,
     "input": [],
     "language": "python",
     "metadata": {},
     "outputs": []
    }
   ],
   "metadata": {}
  }
 ]
}