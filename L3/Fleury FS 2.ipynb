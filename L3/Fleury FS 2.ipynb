{
 "metadata": {
  "name": "",
  "signature": "sha256:ca7f2f57accc05c90f543d0ac429a47275dc4276049ce7c6981f537bcc090c93"
 },
 "nbformat": 3,
 "nbformat_minor": 0,
 "worksheets": [
  {
   "cells": [
    {
     "cell_type": "code",
     "collapsed": false,
     "input": [
      "import copy"
     ],
     "language": "python",
     "metadata": {},
     "outputs": [],
     "prompt_number": 1
    },
    {
     "cell_type": "code",
     "collapsed": false,
     "input": [
      "def fleury(G, verbose=False):\n",
      "    \"\"\" Implement Fleury's Algorithm of finding Eulerian Tours of graph G as descibed in\n",
      "    http://www.ctl.ua.edu/math103/euler/ifagraph.htm. Return list of nodes visited. \"\"\"\n",
      "\n",
      "    if not check_all_even_degree(G):\n",
      "        return None\n",
      "    \n",
      "    graph = copy.deepcopy(G)\n",
      "\n",
      "    remaining_edges = make_edge_counter(graph)\n",
      "    path = [graph.keys()[0]]  # start from a random point\n",
      "\n",
      "    while remaining_edges:\n",
      "        graph_of_remaining_edges = graph_from_edge_counter(remaining_edges)\n",
      "\n",
      "        possible_edges_to_go = edges_to_nbors(graph_of_remaining_edges, path[-1])\n",
      "\n",
      "        is_bridge_of_untravelled = {edge: is_bridge_edge(graph_of_remaining_edges, *edge)\n",
      "                                    for edge in possible_edges_to_go}\n",
      "\n",
      "        edge_taken = None\n",
      "        if is_bridge_of_untravelled == {edge: True for edge in is_bridge_of_untravelled}:\n",
      "            edge_taken = is_bridge_of_untravelled.keys()[0]\n",
      "        else:\n",
      "            edge_taken = [edge for edge in possible_edges_to_go if is_bridge_of_untravelled[edge] is False][0]\n",
      "        if not edge_taken:\n",
      "            raise Exception(\"Can't find Eulerian path.\")\n",
      "\n",
      "        if verbose:\n",
      "            print\n",
      "            print \"**************\"\n",
      "            print \"remaining edges before removal: \" + str(remaining_edges)\n",
      "            print \"edge_taken: \" + str(edge_taken)\n",
      "\n",
      "        decrement_edge_counter(remaining_edges, edge_taken)\n",
      "\n",
      "        if verbose:\n",
      "            print \"remaining edges after set difference: \" + str(remaining_edges)\n",
      "\n",
      "        path.append(edge_taken[1] if path[-1] == edge_taken[0] else edge_taken[0])\n",
      "\n",
      "        if verbose:\n",
      "            print \"path after appending this edge: \" + str(path)\n",
      "            print \"**************\"\n",
      "            \n",
      "    return path"
     ],
     "language": "python",
     "metadata": {},
     "outputs": [],
     "prompt_number": 2
    },
    {
     "cell_type": "code",
     "collapsed": false,
     "input": [
      "def degree(G, node):\n",
      "    return len(edges_to_nbors(G, node))"
     ],
     "language": "python",
     "metadata": {},
     "outputs": [],
     "prompt_number": 30
    },
    {
     "cell_type": "code",
     "collapsed": false,
     "input": [
      "def check_all_even_degree(G):\n",
      "    degrees = [degree(G, node) for node in G]\n",
      "    remainders = [deg % 2 for deg in degrees]\n",
      "    \n",
      "    return 1 not in remainders"
     ],
     "language": "python",
     "metadata": {},
     "outputs": [],
     "prompt_number": 31
    },
    {
     "cell_type": "code",
     "collapsed": false,
     "input": [
      "def make_fleury_trial_graph():\n",
      "    edges = \"AB, BC, BC, AE, AE, EB, EC, AF, FE, FD, FD, DE, DC\".split(', ')\n",
      "    edges = [(edge[0], edge[1]) for edge in edges]\n",
      "\n",
      "    return graph_from_edge_list(edges)"
     ],
     "language": "python",
     "metadata": {},
     "outputs": [],
     "prompt_number": 3
    },
    {
     "cell_type": "code",
     "collapsed": false,
     "input": [
      "def graph_from_edge_list(e_list):\n",
      "    graph = {}\n",
      "    for edge in e_list:\n",
      "        make_link(graph, *edge)\n",
      "    return graph"
     ],
     "language": "python",
     "metadata": {},
     "outputs": [],
     "prompt_number": 4
    },
    {
     "cell_type": "code",
     "collapsed": false,
     "input": [
      "def graph_from_edge_counter(e_counter):\n",
      "    graph = {}\n",
      "    for edge in e_counter:\n",
      "        for n_links in range(e_counter[edge]):\n",
      "            make_link(graph, *edge)\n",
      "    return graph"
     ],
     "language": "python",
     "metadata": {},
     "outputs": [],
     "prompt_number": 5
    },
    {
     "cell_type": "code",
     "collapsed": false,
     "input": [
      "def make_link(G, node1, node2):\n",
      "    if node1 not in G:\n",
      "        G[node1] = {node2: 1}\n",
      "    elif node2 not in G[node1]:\n",
      "        G[node1][node2] = 1\n",
      "    else:\n",
      "        G[node1][node2] += 1\n",
      "\n",
      "    if node2 not in G:\n",
      "        G[node2] = {node1: 1}\n",
      "    elif node1 not in G[node2]:\n",
      "        G[node2][node1] = 1\n",
      "    else:\n",
      "        G[node2][node1] += 1\n",
      "\n",
      "    return G"
     ],
     "language": "python",
     "metadata": {},
     "outputs": [],
     "prompt_number": 6
    },
    {
     "cell_type": "code",
     "collapsed": false,
     "input": [
      "def make_edge_counter(G):\n",
      "    \"\"\" Return the edges in graph G as a counter of tuples. \"\"\"\n",
      "\n",
      "    def grow_edge_counter(counter, edge):\n",
      "        if edge in counter:\n",
      "            counter[edge] += 1\n",
      "        elif edge[::-1] in counter:\n",
      "            counter[edge[::-1]] += 1\n",
      "        else:\n",
      "            counter[edge] = 1\n",
      "\n",
      "    edge_counter = {}\n",
      "    for node in G:\n",
      "        for end in G[node]:\n",
      "            for n_links in range(G[node][end]):\n",
      "                grow_edge_counter(edge_counter, (node, end))\n",
      "\n",
      "    for edge in edge_counter:\n",
      "        edge_counter[edge] /= 2\n",
      "\n",
      "    return edge_counter"
     ],
     "language": "python",
     "metadata": {},
     "outputs": [],
     "prompt_number": 7
    },
    {
     "cell_type": "code",
     "collapsed": false,
     "input": [
      "def edges_to_nbors(G, node):\n",
      "    \"\"\" Return the list of all edges connected to node. \"\"\"\n",
      "\n",
      "    edges = []\n",
      "    for nbor in G[node]:\n",
      "        edges += [(node, nbor)] * G[node][nbor]\n",
      "\n",
      "    return edges"
     ],
     "language": "python",
     "metadata": {},
     "outputs": [],
     "prompt_number": 8
    },
    {
     "cell_type": "code",
     "collapsed": false,
     "input": [
      "def is_bridge_edge(G, v1, v2):\n",
      "    \"\"\" Given a connected graph G and edge = (v1, v2) in G, return if G is a bridge edge. \"\"\"\n",
      "\n",
      "    # strategy: remove edge from the graph, and count the number of connected components. If 2, edge was a bridge edge.\n",
      "    # in either case, put edge back into the graph.\n",
      "    remove_link(G, v1, v2)\n",
      "    result = count_connected_components(G) == 2\n",
      "    make_link(G, v1, v2)\n",
      "\n",
      "    return result"
     ],
     "language": "python",
     "metadata": {},
     "outputs": [],
     "prompt_number": 9
    },
    {
     "cell_type": "code",
     "collapsed": false,
     "input": [
      "def count_connected_components(G):\n",
      "    n_components = 0\n",
      "    marked = {}\n",
      "    for node in G:\n",
      "        if node not in marked:\n",
      "            mark_component(G, node, marked)\n",
      "            n_components += 1\n",
      "    return n_components"
     ],
     "language": "python",
     "metadata": {},
     "outputs": [],
     "prompt_number": 19
    },
    {
     "cell_type": "code",
     "collapsed": false,
     "input": [
      "def mark_component(G, node, marked):\n",
      "    marked[node] = True\n",
      "    total_marked = 1\n",
      "    for neighbor in G[node]:\n",
      "        if neighbor not in marked:\n",
      "            total_marked += mark_component(G, neighbor, marked)\n",
      "    return total_marked"
     ],
     "language": "python",
     "metadata": {},
     "outputs": [],
     "prompt_number": 20
    },
    {
     "cell_type": "code",
     "collapsed": false,
     "input": [
      "def remove_link(G, v1, v2):\n",
      "    for points in (v1, v2), (v2, v1):\n",
      "        G[points[0]][points[1]] -= 1\n",
      "        if G[points[0]][points[1]] == 0:\n",
      "            del G[points[0]][points[1]]"
     ],
     "language": "python",
     "metadata": {},
     "outputs": [],
     "prompt_number": 21
    },
    {
     "cell_type": "code",
     "collapsed": false,
     "input": [
      "def decrement_edge_counter(edge_counter, edge):\n",
      "    if edge in edge_counter:\n",
      "        edge_counter[edge] -= 1\n",
      "        if edge_counter[edge] == 0:\n",
      "            del edge_counter[edge]\n",
      "    elif edge[::-1] in edge_counter:\n",
      "        edge_counter[edge[::-1]] -= 1\n",
      "        if edge_counter[edge[::-1]] == 0:\n",
      "            del edge_counter[edge[::-1]]\n",
      "    else:\n",
      "        raise ValueError(\"Edge not in counter.\")\n",
      "\n",
      "    return edge_counter"
     ],
     "language": "python",
     "metadata": {},
     "outputs": [],
     "prompt_number": 22
    },
    {
     "cell_type": "code",
     "collapsed": false,
     "input": [
      "f_graph = make_fleury_trial_graph()"
     ],
     "language": "python",
     "metadata": {},
     "outputs": [],
     "prompt_number": 23
    },
    {
     "cell_type": "code",
     "collapsed": false,
     "input": [
      "fleury(f_graph, verbose=True)"
     ],
     "language": "python",
     "metadata": {},
     "outputs": [
      {
       "output_type": "stream",
       "stream": "stdout",
       "text": [
        "\n",
        "**************\n",
        "remaining edges before removal: {('E', 'F'): 1, ('E', 'D'): 1, ('D', 'F'): 2, ('A', 'F'): 1, ('C', 'E'): 1, ('C', 'B'): 2, ('A', 'E'): 2, ('C', 'D'): 1, ('B', 'E'): 1, ('A', 'B'): 1}\n",
        "edge_taken: ('A', 'B')\n",
        "remaining edges after set difference: {('E', 'F'): 1, ('E', 'D'): 1, ('D', 'F'): 2, ('A', 'F'): 1, ('C', 'E'): 1, ('C', 'B'): 2, ('A', 'E'): 2, ('C', 'D'): 1, ('B', 'E'): 1}\n",
        "path after appending this edge: ['A', 'B']\n",
        "**************\n",
        "\n",
        "**************\n",
        "remaining edges before removal: {('E', 'F'): 1, ('E', 'D'): 1, ('D', 'F'): 2, ('A', 'F'): 1, ('C', 'E'): 1, ('C', 'B'): 2, ('A', 'E'): 2, ('C', 'D'): 1, ('B', 'E'): 1}\n",
        "edge_taken: ('B', 'C')\n",
        "remaining edges after set difference: {('E', 'F'): 1, ('E', 'D'): 1, ('D', 'F'): 2, ('A', 'F'): 1, ('C', 'E'): 1, ('C', 'B'): 1, ('A', 'E'): 2, ('C', 'D'): 1, ('B', 'E'): 1}\n",
        "path after appending this edge: ['A', 'B', 'C']\n",
        "**************\n",
        "\n",
        "**************\n",
        "remaining edges before removal: {('E', 'F'): 1, ('E', 'D'): 1, ('D', 'F'): 2, ('A', 'F'): 1, ('C', 'E'): 1, ('C', 'B'): 1, ('A', 'E'): 2, ('C', 'D'): 1, ('B', 'E'): 1}\n",
        "edge_taken: ('C', 'B')\n",
        "remaining edges after set difference: {('E', 'F'): 1, ('E', 'D'): 1, ('D', 'F'): 2, ('A', 'F'): 1, ('C', 'E'): 1, ('A', 'E'): 2, ('C', 'D'): 1, ('B', 'E'): 1}\n",
        "path after appending this edge: ['A', 'B', 'C', 'B']\n",
        "**************\n",
        "\n",
        "**************\n",
        "remaining edges before removal: {('E', 'F'): 1, ('E', 'D'): 1, ('D', 'F'): 2, ('A', 'F'): 1, ('C', 'E'): 1, ('A', 'E'): 2, ('C', 'D'): 1, ('B', 'E'): 1}\n",
        "edge_taken: ('B', 'E')\n",
        "remaining edges after set difference: {('E', 'F'): 1, ('E', 'D'): 1, ('D', 'F'): 2, ('A', 'F'): 1, ('C', 'E'): 1, ('A', 'E'): 2, ('C', 'D'): 1}\n",
        "path after appending this edge: ['A', 'B', 'C', 'B', 'E']\n",
        "**************\n",
        "\n",
        "**************\n",
        "remaining edges before removal: {('E', 'F'): 1, ('E', 'D'): 1, ('D', 'F'): 2, ('A', 'F'): 1, ('C', 'E'): 1, ('A', 'E'): 2, ('C', 'D'): 1}\n",
        "edge_taken: ('E', 'A')\n",
        "remaining edges after set difference: {('E', 'F'): 1, ('E', 'D'): 1, ('D', 'F'): 2, ('A', 'F'): 1, ('C', 'E'): 1, ('A', 'E'): 1, ('C', 'D'): 1}\n",
        "path after appending this edge: ['A', 'B', 'C', 'B', 'E', 'A']\n",
        "**************\n",
        "\n",
        "**************\n",
        "remaining edges before removal: {('E', 'F'): 1, ('E', 'D'): 1, ('D', 'F'): 2, ('A', 'F'): 1, ('C', 'E'): 1, ('A', 'E'): 1, ('C', 'D'): 1}\n",
        "edge_taken: ('A', 'E')\n",
        "remaining edges after set difference: {('E', 'F'): 1, ('E', 'D'): 1, ('D', 'F'): 2, ('A', 'F'): 1, ('C', 'E'): 1, ('C', 'D'): 1}\n",
        "path after appending this edge: ['A', 'B', 'C', 'B', 'E', 'A', 'E']\n",
        "**************\n",
        "\n",
        "**************\n",
        "remaining edges before removal: {('E', 'F'): 1, ('E', 'D'): 1, ('D', 'F'): 2, ('A', 'F'): 1, ('C', 'E'): 1, ('C', 'D'): 1}\n",
        "edge_taken: ('E', 'C')\n",
        "remaining edges after set difference: {('E', 'F'): 1, ('E', 'D'): 1, ('D', 'F'): 2, ('A', 'F'): 1, ('C', 'D'): 1}\n",
        "path after appending this edge: ['A', 'B', 'C', 'B', 'E', 'A', 'E', 'C']\n",
        "**************\n",
        "\n",
        "**************\n",
        "remaining edges before removal: {('E', 'F'): 1, ('E', 'D'): 1, ('D', 'F'): 2, ('A', 'F'): 1, ('C', 'D'): 1}\n",
        "edge_taken: ('C', 'D')\n",
        "remaining edges after set difference: {('E', 'F'): 1, ('E', 'D'): 1, ('D', 'F'): 2, ('A', 'F'): 1}\n",
        "path after appending this edge: ['A', 'B', 'C', 'B', 'E', 'A', 'E', 'C', 'D']\n",
        "**************\n",
        "\n",
        "**************\n",
        "remaining edges before removal: {('E', 'F'): 1, ('E', 'D'): 1, ('D', 'F'): 2, ('A', 'F'): 1}\n",
        "edge_taken: ('D', 'E')\n",
        "remaining edges after set difference: {('E', 'F'): 1, ('D', 'F'): 2, ('A', 'F'): 1}\n",
        "path after appending this edge: ['A', 'B', 'C', 'B', 'E', 'A', 'E', 'C', 'D', 'E']\n",
        "**************\n",
        "\n",
        "**************\n",
        "remaining edges before removal: {('E', 'F'): 1, ('D', 'F'): 2, ('A', 'F'): 1}\n",
        "edge_taken: ('E', 'F')\n",
        "remaining edges after set difference: {('D', 'F'): 2, ('A', 'F'): 1}\n",
        "path after appending this edge: ['A', 'B', 'C', 'B', 'E', 'A', 'E', 'C', 'D', 'E', 'F']\n",
        "**************\n",
        "\n",
        "**************\n",
        "remaining edges before removal: {('D', 'F'): 2, ('A', 'F'): 1}\n",
        "edge_taken: ('F', 'D')\n",
        "remaining edges after set difference: {('D', 'F'): 1, ('A', 'F'): 1}\n",
        "path after appending this edge: ['A', 'B', 'C', 'B', 'E', 'A', 'E', 'C', 'D', 'E', 'F', 'D']\n",
        "**************\n",
        "\n",
        "**************\n",
        "remaining edges before removal: {('D', 'F'): 1, ('A', 'F'): 1}\n",
        "edge_taken: ('D', 'F')\n",
        "remaining edges after set difference: {('A', 'F'): 1}\n",
        "path after appending this edge: ['A', 'B', 'C', 'B', 'E', 'A', 'E', 'C', 'D', 'E', 'F', 'D', 'F']\n",
        "**************\n",
        "\n",
        "**************\n",
        "remaining edges before removal: {('A', 'F'): 1}\n",
        "edge_taken: ('F', 'A')\n",
        "remaining edges after set difference: {}\n",
        "path after appending this edge: ['A', 'B', 'C', 'B', 'E', 'A', 'E', 'C', 'D', 'E', 'F', 'D', 'F', 'A']\n",
        "**************\n"
       ]
      },
      {
       "metadata": {},
       "output_type": "pyout",
       "prompt_number": 24,
       "text": [
        "['A', 'B', 'C', 'B', 'E', 'A', 'E', 'C', 'D', 'E', 'F', 'D', 'F', 'A']"
       ]
      }
     ],
     "prompt_number": 24
    },
    {
     "cell_type": "code",
     "collapsed": false,
     "input": [
      "def find_eulerian_tour(e_list):\n",
      "    return fleury(graph_from_edge_list(e_list))"
     ],
     "language": "python",
     "metadata": {},
     "outputs": [],
     "prompt_number": 25
    },
    {
     "cell_type": "code",
     "collapsed": false,
     "input": [
      "print find_eulerian_tour([(1, 2), (1, 6), (2, 5), (2, 5), (6, 5), (5, 4), (3, 4), (2, 3)])"
     ],
     "language": "python",
     "metadata": {},
     "outputs": [
      {
       "output_type": "stream",
       "stream": "stdout",
       "text": [
        "[1, 2, 3, 4, 5, 2, 5, 6, 1]\n"
       ]
      }
     ],
     "prompt_number": 26
    },
    {
     "cell_type": "markdown",
     "metadata": {},
     "source": [
      "Extra: Count all the degrees of the nodes, return None if any is odd."
     ]
    },
    {
     "cell_type": "code",
     "collapsed": false,
     "input": [
      "def degree(G, node):\n",
      "    return len(edges_to_nbors(G, node))"
     ],
     "language": "python",
     "metadata": {},
     "outputs": [],
     "prompt_number": 27
    },
    {
     "cell_type": "code",
     "collapsed": false,
     "input": [
      "def check_all_even_degree(G):\n",
      "    degrees = [degree(G, node) for node in G]\n",
      "    remainders = [deg % 2 for deg in degrees]\n",
      "    \n",
      "    return 1 not in remainders"
     ],
     "language": "python",
     "metadata": {},
     "outputs": [],
     "prompt_number": 29
    },
    {
     "cell_type": "markdown",
     "metadata": {},
     "source": [
      "At this point we pass the use_harder_tests cases."
     ]
    },
    {
     "cell_type": "code",
     "collapsed": false,
     "input": [],
     "language": "python",
     "metadata": {},
     "outputs": []
    }
   ],
   "metadata": {}
  }
 ]
}