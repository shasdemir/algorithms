{
 "metadata": {
  "name": "",
  "signature": "sha256:6fb8cd2b5c080eaa663202330aa1d057143e2c1259b71e361ad3eb789f5c221b"
 },
 "nbformat": 3,
 "nbformat_minor": 0,
 "worksheets": [
  {
   "cells": [
    {
     "cell_type": "code",
     "collapsed": false,
     "input": [
      "def mark_component(G, node, marked):\n",
      "    marked[node] = True\n",
      "    total_marked = 1\n",
      "    for neighbor in G[node]:\n",
      "        if neighbor not in marked:\n",
      "            total_marked += mark_component(G, neighbor, marked)\n",
      "    return total_marked"
     ],
     "language": "python",
     "metadata": {},
     "outputs": [],
     "prompt_number": 2
    },
    {
     "cell_type": "code",
     "collapsed": false,
     "input": [
      "def mark_component_nr(G, node, marked):\n",
      "    marked[node] = True\n",
      "    open_list = [node]\n",
      "\n",
      "    current = open_list.pop(0)\n",
      "    for neighbor in G[current]:\n",
      "        if neighbor not in marked:\n",
      "            marked[neighbor] = True\n",
      "            open_list.append(neighbor)\n",
      "    return len(marked)"
     ],
     "language": "python",
     "metadata": {},
     "outputs": [],
     "prompt_number": 1
    },
    {
     "cell_type": "code",
     "collapsed": false,
     "input": [
      "test_graph = {1: {2: 1}, 2: {1: 1, 3: 1, 4: 1}, 3: {2: 1, 4: 1}, 4: {2: 1, 3: 1}}"
     ],
     "language": "python",
     "metadata": {},
     "outputs": [],
     "prompt_number": 3
    },
    {
     "cell_type": "code",
     "collapsed": false,
     "input": [
      "marked = {}"
     ],
     "language": "python",
     "metadata": {},
     "outputs": [],
     "prompt_number": 4
    },
    {
     "cell_type": "code",
     "collapsed": false,
     "input": [
      "mark_component(G=test_graph, node=1, marked=marked)"
     ],
     "language": "python",
     "metadata": {},
     "outputs": [
      {
       "metadata": {},
       "output_type": "pyout",
       "prompt_number": 5,
       "text": [
        "4"
       ]
      }
     ],
     "prompt_number": 5
    },
    {
     "cell_type": "code",
     "collapsed": false,
     "input": [
      "marked"
     ],
     "language": "python",
     "metadata": {},
     "outputs": [
      {
       "metadata": {},
       "output_type": "pyout",
       "prompt_number": 6,
       "text": [
        "{1: True, 2: True, 3: True, 4: True}"
       ]
      }
     ],
     "prompt_number": 6
    },
    {
     "cell_type": "code",
     "collapsed": false,
     "input": [
      "marked = {}"
     ],
     "language": "python",
     "metadata": {},
     "outputs": [],
     "prompt_number": 7
    },
    {
     "cell_type": "code",
     "collapsed": false,
     "input": [
      "mark_component_nr(G=test_graph, node=1, marked=marked)"
     ],
     "language": "python",
     "metadata": {},
     "outputs": [
      {
       "metadata": {},
       "output_type": "pyout",
       "prompt_number": 8,
       "text": [
        "2"
       ]
      }
     ],
     "prompt_number": 8
    },
    {
     "cell_type": "code",
     "collapsed": false,
     "input": [
      "marked"
     ],
     "language": "python",
     "metadata": {},
     "outputs": [
      {
       "metadata": {},
       "output_type": "pyout",
       "prompt_number": 9,
       "text": [
        "{1: True, 2: True}"
       ]
      }
     ],
     "prompt_number": 9
    },
    {
     "cell_type": "code",
     "collapsed": false,
     "input": [],
     "language": "python",
     "metadata": {},
     "outputs": []
    }
   ],
   "metadata": {}
  }
 ]
}