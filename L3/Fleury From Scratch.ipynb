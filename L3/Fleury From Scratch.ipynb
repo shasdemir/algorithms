{
 "metadata": {
  "name": "",
  "signature": "sha256:67c8cd841ebd1fd9f418fb97c78d88145025a83b0461141d38ad294809c7a5a5"
 },
 "nbformat": 3,
 "nbformat_minor": 0,
 "worksheets": [
  {
   "cells": [
    {
     "cell_type": "code",
     "collapsed": false,
     "input": [
      "import copy"
     ],
     "language": "python",
     "metadata": {},
     "outputs": [],
     "prompt_number": 3
    },
    {
     "cell_type": "code",
     "collapsed": false,
     "input": [
      "def fleury(G, verbose=False):\n",
      "    \"\"\" Implement Fleury's Algorithm of finding Eulerian Tours of graph G as descibed in\n",
      "    http://www.ctl.ua.edu/math103/euler/ifagraph.htm. Return list of nodes visited. \"\"\"\n",
      "\n",
      "    graph = copy.deepcopy(G)\n",
      "\n",
      "    remaining_edges = make_edge_counter(graph)\n",
      "    path = [graph.keys()[0]]  # start from a random point\n",
      "\n",
      "    itercount = 0\n",
      "    while remaining_edges:\n",
      "        graph_of_remaining_edges = graph_from_edge_counter(remaining_edges)\n",
      "\n",
      "        possible_edges_to_go = edges_to_nbors(graph_of_remaining_edges, path[-1])\n",
      "\n",
      "        is_bridge_of_untravelled = {edge: is_bridge_edge(graph_of_remaining_edges, *edge)\n",
      "                                    for edge in possible_edges_to_go}\n",
      "\n",
      "        edge_taken = None\n",
      "        if is_bridge_of_untravelled == {edge: True for edge in is_bridge_of_untravelled}:\n",
      "            edge_taken = is_bridge_of_untravelled.keys()[0]\n",
      "        else:\n",
      "            edge_taken = [edge for edge in possible_edges_to_go if is_bridge_of_untravelled[edge] is False][0]\n",
      "        if not edge_taken:\n",
      "            raise Exception(\"Can't find Eulerian path.\")\n",
      "\n",
      "        if verbose:\n",
      "            print\n",
      "            print \"**************\"\n",
      "            print \"remaining edges before removal: \" + str(remaining_edges)\n",
      "            print \"edge_taken: \" + str(edge_taken)\n",
      "\n",
      "        if edge_taken in remaining_edges:\n",
      "            decrement_edge_counter(remaining_edges, edge_taken)\n",
      "\n",
      "        if verbose:\n",
      "            print \"remaining edges after set difference: \" + str(remaining_edges)\n",
      "\n",
      "        path.append(edge_taken[1] if path[-1] == edge_taken[0] else edge_taken[0])\n",
      "\n",
      "        if verbose:\n",
      "            print \"path after appending this edge: \" + str(path)\n",
      "            print \"**************\"\n",
      "\n",
      "        itercount += 1\n",
      "        if itercount > 10:\n",
      "            remaining_edges = None\n",
      "    return path"
     ],
     "language": "python",
     "metadata": {},
     "outputs": [],
     "prompt_number": 1
    },
    {
     "cell_type": "code",
     "collapsed": false,
     "input": [
      "def make_fleury_trial_graph():\n",
      "    edges = \"AB, BC, BC, AE, AE, EB, EC, AF, FE, FD, FD, DE, DC\".split(', ')\n",
      "    edges = [(edge[0], edge[1]) for edge in edges]\n",
      "\n",
      "    return graph_from_edge_list(edges)"
     ],
     "language": "python",
     "metadata": {},
     "outputs": [],
     "prompt_number": 2
    },
    {
     "cell_type": "code",
     "collapsed": false,
     "input": [
      "def graph_from_edge_list(e_list):\n",
      "    graph = {}\n",
      "    for edge in e_list:\n",
      "        make_link(graph, *edge)\n",
      "    return graph"
     ],
     "language": "python",
     "metadata": {},
     "outputs": [],
     "prompt_number": 5
    },
    {
     "cell_type": "code",
     "collapsed": false,
     "input": [
      "def graph_from_edge_counter(e_counter):\n",
      "    graph = {}\n",
      "    for edge in e_counter:\n",
      "        for n_links in range(e_counter[edge]):\n",
      "            make_link(graph, *edge)\n",
      "    return graph"
     ],
     "language": "python",
     "metadata": {},
     "outputs": [],
     "prompt_number": 6
    },
    {
     "cell_type": "code",
     "collapsed": false,
     "input": [
      "def make_link(G, node1, node2):\n",
      "    if node1 not in G:\n",
      "        G[node1] = {node2: 1}\n",
      "    elif node2 not in G[node1]:\n",
      "        G[node1][node2] = 1\n",
      "    else:\n",
      "        G[node1][node2] += 1\n",
      "\n",
      "    if node2 not in G:\n",
      "        G[node2] = {node1: 1}\n",
      "    elif node1 not in G[node2]:\n",
      "        G[node2][node1] = 1\n",
      "    else:\n",
      "        G[node2][node1] += 1\n",
      "\n",
      "    return G"
     ],
     "language": "python",
     "metadata": {},
     "outputs": [],
     "prompt_number": 8
    },
    {
     "cell_type": "code",
     "collapsed": false,
     "input": [
      "f_graph = make_fleury_trial_graph()\n",
      "f_graph"
     ],
     "language": "python",
     "metadata": {},
     "outputs": [
      {
       "metadata": {},
       "output_type": "pyout",
       "prompt_number": 9,
       "text": [
        "{'A': {'B': 1, 'E': 2, 'F': 1},\n",
        " 'B': {'A': 1, 'C': 2, 'E': 1},\n",
        " 'C': {'B': 2, 'D': 1, 'E': 1},\n",
        " 'D': {'C': 1, 'E': 1, 'F': 2},\n",
        " 'E': {'A': 2, 'B': 1, 'C': 1, 'D': 1, 'F': 1},\n",
        " 'F': {'A': 1, 'D': 2, 'E': 1}}"
       ]
      }
     ],
     "prompt_number": 9
    },
    {
     "cell_type": "code",
     "collapsed": false,
     "input": [
      "def make_edge_counter(G):\n",
      "    \"\"\" Return the edges in graph G as a counter of tuples. \"\"\"\n",
      "\n",
      "    def grow_edge_counter(counter, edge):\n",
      "        if edge in counter:\n",
      "            counter[edge] += 1\n",
      "        elif edge[::-1] in counter:\n",
      "            counter[edge[::-1]] += 1\n",
      "        else:\n",
      "            counter[edge] = 1\n",
      "\n",
      "    edge_counter = {}\n",
      "    for node in G:\n",
      "        for end in G[node]:\n",
      "            for n_links in range(G[node][end]):\n",
      "                grow_edge_counter(edge_counter, (node, end))\n",
      "\n",
      "    for edge in edge_counter:\n",
      "        edge_counter[edge] /= 2\n",
      "\n",
      "    return edge_counter"
     ],
     "language": "python",
     "metadata": {},
     "outputs": [],
     "prompt_number": 11
    },
    {
     "cell_type": "code",
     "collapsed": false,
     "input": [
      "def edges_to_nbors(G, node):\n",
      "    \"\"\" Return the list of all edges connected to node. \"\"\"\n",
      "\n",
      "    edges = []\n",
      "    for nbor in G[node]:\n",
      "        edges += [(node, nbor)] * G[node][nbor]\n",
      "\n",
      "    return edges"
     ],
     "language": "python",
     "metadata": {},
     "outputs": [],
     "prompt_number": 13
    },
    {
     "cell_type": "code",
     "collapsed": false,
     "input": [
      "def is_bridge_edge(G, v1, v2):\n",
      "    \"\"\" Given a connected graph G and edge = (v1, v2) in G, return if G is a bridge edge. \"\"\"\n",
      "\n",
      "    # strategy: remove edge from the graph, and count the number of connected components. If 2, edge was a bridge edge.\n",
      "    # in either case, put edge back into the graph.\n",
      "    remove_link(G, v1, v2)\n",
      "    result = count_connected_components(G) == 2\n",
      "    make_link(G, v1, v2)\n",
      "\n",
      "    return result"
     ],
     "language": "python",
     "metadata": {},
     "outputs": [],
     "prompt_number": 15
    },
    {
     "cell_type": "code",
     "collapsed": false,
     "input": [
      "def count_connected_components(G):\n",
      "    n_components = 0\n",
      "    marked = {}\n",
      "    for node in G:\n",
      "        if node not in marked:\n",
      "            mark_component_nr(G, node, marked)\n",
      "            n_components += 1\n",
      "    return n_components"
     ],
     "language": "python",
     "metadata": {},
     "outputs": [],
     "prompt_number": 17
    },
    {
     "cell_type": "code",
     "collapsed": false,
     "input": [
      "def mark_component_nr(G, node, marked):\n",
      "    marked[node] = True\n",
      "    open_list = [node]\n",
      "\n",
      "    current = open_list.pop(0)\n",
      "    for neighbor in G[current]:\n",
      "        if neighbor not in marked:\n",
      "            marked[neighbor] = True\n",
      "            open_list.append(neighbor)\n",
      "    return len(marked)"
     ],
     "language": "python",
     "metadata": {},
     "outputs": [],
     "prompt_number": 16
    },
    {
     "cell_type": "code",
     "collapsed": false,
     "input": [
      "def remove_link(G, v1, v2):\n",
      "    for points in (v1, v2), (v2, v1):\n",
      "        G[points[0]][points[1]] -= 1\n",
      "        if G[points[0]][points[1]] == 0:\n",
      "            del G[points[0]][points[1]]"
     ],
     "language": "python",
     "metadata": {},
     "outputs": [],
     "prompt_number": 19
    },
    {
     "cell_type": "code",
     "collapsed": false,
     "input": [
      "def decrement_edge_counter(edge_counter, edge):\n",
      "    if edge in edge_counter:\n",
      "        edge_counter[edge] -= 1\n",
      "    elif edge[::-1] in edge_counter:\n",
      "        edge_counter[edge[::-1]] -= 1\n",
      "    else:\n",
      "        raise ValueError(\"Edge not in counter.\")\n",
      "\n",
      "    return edge_counter"
     ],
     "language": "python",
     "metadata": {},
     "outputs": [],
     "prompt_number": 21
    },
    {
     "cell_type": "code",
     "collapsed": false,
     "input": [
      "fleury(f_graph)"
     ],
     "language": "python",
     "metadata": {},
     "outputs": [
      {
       "metadata": {},
       "output_type": "pyout",
       "prompt_number": 22,
       "text": [
        "['A', 'F', 'E', 'A', 'B', 'C', 'B', 'C', 'B', 'E', 'A', 'E']"
       ]
      }
     ],
     "prompt_number": 22
    },
    {
     "cell_type": "code",
     "collapsed": false,
     "input": [],
     "language": "python",
     "metadata": {},
     "outputs": []
    }
   ],
   "metadata": {}
  }
 ]
}