{
 "metadata": {
  "name": "",
  "signature": "sha256:c11227b3c7de31736bb872f46532517a4b74c1d3fc036fedba2dc80397a10808"
 },
 "nbformat": 3,
 "nbformat_minor": 0,
 "worksheets": [
  {
   "cells": [
    {
     "cell_type": "code",
     "collapsed": false,
     "input": [
      "import copy"
     ],
     "language": "python",
     "metadata": {},
     "outputs": [],
     "prompt_number": 3
    },
    {
     "cell_type": "code",
     "collapsed": false,
     "input": [
      "def fleury(G, verbose=False):\n",
      "    \"\"\" Implement Fleury's Algorithm of finding Eulerian Tours of graph G as descibed in\n",
      "    http://www.ctl.ua.edu/math103/euler/ifagraph.htm. Return list of nodes visited. \"\"\"\n",
      "\n",
      "    graph = copy.deepcopy(G)\n",
      "\n",
      "    remaining_edges = make_edge_counter(graph)\n",
      "    path = [graph.keys()[0]]  # start from a random point\n",
      "\n",
      "    itercount = 0\n",
      "    while remaining_edges:\n",
      "        graph_of_remaining_edges = graph_from_edge_counter(remaining_edges)\n",
      "\n",
      "        possible_edges_to_go = edges_to_nbors(graph_of_remaining_edges, path[-1])\n",
      "\n",
      "        is_bridge_of_untravelled = {edge: is_bridge_edge(graph_of_remaining_edges, *edge)\n",
      "                                    for edge in possible_edges_to_go}\n",
      "\n",
      "        edge_taken = None\n",
      "        if is_bridge_of_untravelled == {edge: True for edge in is_bridge_of_untravelled}:\n",
      "            edge_taken = is_bridge_of_untravelled.keys()[0]\n",
      "        else:\n",
      "            edge_taken = [edge for edge in possible_edges_to_go if is_bridge_of_untravelled[edge] is False][0]\n",
      "        if not edge_taken:\n",
      "            raise Exception(\"Can't find Eulerian path.\")\n",
      "\n",
      "        if verbose:\n",
      "            print\n",
      "            print \"**************\"\n",
      "            print \"remaining edges before removal: \" + str(remaining_edges)\n",
      "            print \"edge_taken: \" + str(edge_taken)\n",
      "\n",
      "        decrement_edge_counter(remaining_edges, edge_taken)\n",
      "\n",
      "        if verbose:\n",
      "            print \"remaining edges after set difference: \" + str(remaining_edges)\n",
      "\n",
      "        path.append(edge_taken[1] if path[-1] == edge_taken[0] else edge_taken[0])\n",
      "\n",
      "        if verbose:\n",
      "            print \"path after appending this edge: \" + str(path)\n",
      "            print \"**************\"\n",
      "\n",
      "        itercount += 1\n",
      "        if itercount > 10:\n",
      "            remaining_edges = None\n",
      "    return path"
     ],
     "language": "python",
     "metadata": {},
     "outputs": [],
     "prompt_number": 48
    },
    {
     "cell_type": "code",
     "collapsed": false,
     "input": [
      "def make_fleury_trial_graph():\n",
      "    edges = \"AB, BC, BC, AE, AE, EB, EC, AF, FE, FD, FD, DE, DC\".split(', ')\n",
      "    edges = [(edge[0], edge[1]) for edge in edges]\n",
      "\n",
      "    return graph_from_edge_list(edges)"
     ],
     "language": "python",
     "metadata": {},
     "outputs": [],
     "prompt_number": 2
    },
    {
     "cell_type": "code",
     "collapsed": false,
     "input": [
      "def graph_from_edge_list(e_list):\n",
      "    graph = {}\n",
      "    for edge in e_list:\n",
      "        make_link(graph, *edge)\n",
      "    return graph"
     ],
     "language": "python",
     "metadata": {},
     "outputs": [],
     "prompt_number": 5
    },
    {
     "cell_type": "code",
     "collapsed": false,
     "input": [
      "def graph_from_edge_counter(e_counter):\n",
      "    graph = {}\n",
      "    for edge in e_counter:\n",
      "        for n_links in range(e_counter[edge]):\n",
      "            make_link(graph, *edge)\n",
      "    return graph"
     ],
     "language": "python",
     "metadata": {},
     "outputs": [],
     "prompt_number": 6
    },
    {
     "cell_type": "code",
     "collapsed": false,
     "input": [
      "def make_link(G, node1, node2):\n",
      "    if node1 not in G:\n",
      "        G[node1] = {node2: 1}\n",
      "    elif node2 not in G[node1]:\n",
      "        G[node1][node2] = 1\n",
      "    else:\n",
      "        G[node1][node2] += 1\n",
      "\n",
      "    if node2 not in G:\n",
      "        G[node2] = {node1: 1}\n",
      "    elif node1 not in G[node2]:\n",
      "        G[node2][node1] = 1\n",
      "    else:\n",
      "        G[node2][node1] += 1\n",
      "\n",
      "    return G"
     ],
     "language": "python",
     "metadata": {},
     "outputs": [],
     "prompt_number": 8
    },
    {
     "cell_type": "code",
     "collapsed": false,
     "input": [
      "f_graph = make_fleury_trial_graph()\n",
      "f_graph"
     ],
     "language": "python",
     "metadata": {},
     "outputs": [
      {
       "metadata": {},
       "output_type": "pyout",
       "prompt_number": 9,
       "text": [
        "{'A': {'B': 1, 'E': 2, 'F': 1},\n",
        " 'B': {'A': 1, 'C': 2, 'E': 1},\n",
        " 'C': {'B': 2, 'D': 1, 'E': 1},\n",
        " 'D': {'C': 1, 'E': 1, 'F': 2},\n",
        " 'E': {'A': 2, 'B': 1, 'C': 1, 'D': 1, 'F': 1},\n",
        " 'F': {'A': 1, 'D': 2, 'E': 1}}"
       ]
      }
     ],
     "prompt_number": 9
    },
    {
     "cell_type": "code",
     "collapsed": false,
     "input": [
      "make_edge_counter(f_graph)"
     ],
     "language": "python",
     "metadata": {},
     "outputs": [
      {
       "metadata": {},
       "output_type": "pyout",
       "prompt_number": 28,
       "text": [
        "{('A', 'B'): 1,\n",
        " ('A', 'E'): 2,\n",
        " ('A', 'F'): 1,\n",
        " ('B', 'E'): 1,\n",
        " ('C', 'B'): 2,\n",
        " ('C', 'D'): 1,\n",
        " ('C', 'E'): 1,\n",
        " ('D', 'F'): 2,\n",
        " ('E', 'D'): 1,\n",
        " ('E', 'F'): 1}"
       ]
      }
     ],
     "prompt_number": 28
    },
    {
     "cell_type": "code",
     "collapsed": false,
     "input": [
      "def make_edge_counter(G):\n",
      "    \"\"\" Return the edges in graph G as a counter of tuples. \"\"\"\n",
      "\n",
      "    def grow_edge_counter(counter, edge):\n",
      "        if edge in counter:\n",
      "            counter[edge] += 1\n",
      "        elif edge[::-1] in counter:\n",
      "            counter[edge[::-1]] += 1\n",
      "        else:\n",
      "            counter[edge] = 1\n",
      "\n",
      "    edge_counter = {}\n",
      "    for node in G:\n",
      "        for end in G[node]:\n",
      "            for n_links in range(G[node][end]):\n",
      "                grow_edge_counter(edge_counter, (node, end))\n",
      "\n",
      "    for edge in edge_counter:\n",
      "        edge_counter[edge] /= 2\n",
      "\n",
      "    return edge_counter"
     ],
     "language": "python",
     "metadata": {},
     "outputs": [],
     "prompt_number": 11
    },
    {
     "cell_type": "code",
     "collapsed": false,
     "input": [
      "def edges_to_nbors(G, node):\n",
      "    \"\"\" Return the list of all edges connected to node. \"\"\"\n",
      "\n",
      "    edges = []\n",
      "    for nbor in G[node]:\n",
      "        edges += [(node, nbor)] * G[node][nbor]\n",
      "\n",
      "    return edges"
     ],
     "language": "python",
     "metadata": {},
     "outputs": [],
     "prompt_number": 13
    },
    {
     "cell_type": "code",
     "collapsed": false,
     "input": [
      "def is_bridge_edge(G, v1, v2):\n",
      "    \"\"\" Given a connected graph G and edge = (v1, v2) in G, return if G is a bridge edge. \"\"\"\n",
      "\n",
      "    # strategy: remove edge from the graph, and count the number of connected components. If 2, edge was a bridge edge.\n",
      "    # in either case, put edge back into the graph.\n",
      "    remove_link(G, v1, v2)\n",
      "    result = count_connected_components(G) == 2\n",
      "    make_link(G, v1, v2)\n",
      "\n",
      "    return result"
     ],
     "language": "python",
     "metadata": {},
     "outputs": [],
     "prompt_number": 15
    },
    {
     "cell_type": "code",
     "collapsed": false,
     "input": [
      "def count_connected_components(G):\n",
      "    n_components = 0\n",
      "    marked = {}\n",
      "    for node in G:\n",
      "        if node not in marked:\n",
      "            mark_component_nr(G, node, marked)\n",
      "            n_components += 1\n",
      "    return n_components"
     ],
     "language": "python",
     "metadata": {},
     "outputs": [],
     "prompt_number": 17
    },
    {
     "cell_type": "code",
     "collapsed": false,
     "input": [
      "def mark_component_nr(G, node, marked):\n",
      "    marked[node] = True\n",
      "    open_list = [node]\n",
      "\n",
      "    current = open_list.pop(0)\n",
      "    for neighbor in G[current]:\n",
      "        if neighbor not in marked:\n",
      "            marked[neighbor] = True\n",
      "            open_list.append(neighbor)\n",
      "    return len(marked)"
     ],
     "language": "python",
     "metadata": {},
     "outputs": [],
     "prompt_number": 16
    },
    {
     "cell_type": "code",
     "collapsed": false,
     "input": [
      "def remove_link(G, v1, v2):\n",
      "    for points in (v1, v2), (v2, v1):\n",
      "        G[points[0]][points[1]] -= 1\n",
      "        if G[points[0]][points[1]] == 0:\n",
      "            del G[points[0]][points[1]]"
     ],
     "language": "python",
     "metadata": {},
     "outputs": [],
     "prompt_number": 19
    },
    {
     "cell_type": "code",
     "collapsed": false,
     "input": [
      "def decrement_edge_counter(edge_counter, edge):\n",
      "    if edge in edge_counter:\n",
      "        edge_counter[edge] -= 1\n",
      "        if edge_counter[edge] == 0:\n",
      "            del edge_counter[edge]\n",
      "    elif edge[::-1] in edge_counter:\n",
      "        edge_counter[edge[::-1]] -= 1\n",
      "        if edge_counter[edge[::-1]] == 0:\n",
      "            del edge_counter[edge[::-1]]\n",
      "    else:\n",
      "        raise ValueError(\"Edge not in counter.\")\n",
      "\n",
      "    return edge_counter"
     ],
     "language": "python",
     "metadata": {},
     "outputs": [],
     "prompt_number": 44
    },
    {
     "cell_type": "code",
     "collapsed": false,
     "input": [
      "fleury(f_graph, verbose=True)"
     ],
     "language": "python",
     "metadata": {},
     "outputs": [
      {
       "output_type": "stream",
       "stream": "stdout",
       "text": [
        "\n",
        "**************\n",
        "remaining edges before removal: {('E', 'F'): 1, ('E', 'D'): 1, ('D', 'F'): 2, ('A', 'F'): 1, ('C', 'E'): 1, ('C', 'B'): 2, ('A', 'E'): 2, ('C', 'D'): 1, ('B', 'E'): 1, ('A', 'B'): 1}\n",
        "edge_taken: ('A', 'F')\n",
        "remaining edges after set difference: {('E', 'F'): 1, ('E', 'D'): 1, ('D', 'F'): 2, ('C', 'E'): 1, ('C', 'B'): 2, ('A', 'E'): 2, ('C', 'D'): 1, ('B', 'E'): 1, ('A', 'B'): 1}\n",
        "path after appending this edge: ['A', 'F']\n",
        "**************\n",
        "\n",
        "**************\n",
        "remaining edges before removal: {('E', 'F'): 1, ('E', 'D'): 1, ('D', 'F'): 2, ('C', 'E'): 1, ('C', 'B'): 2, ('A', 'E'): 2, ('C', 'D'): 1, ('B', 'E'): 1, ('A', 'B'): 1}\n",
        "edge_taken: ('F', 'E')\n",
        "remaining edges after set difference: {('E', 'D'): 1, ('D', 'F'): 2, ('C', 'E'): 1, ('C', 'B'): 2, ('A', 'E'): 2, ('C', 'D'): 1, ('B', 'E'): 1, ('A', 'B'): 1}\n",
        "path after appending this edge: ['A', 'F', 'E']\n",
        "**************\n",
        "\n",
        "**************\n",
        "remaining edges before removal: {('E', 'D'): 1, ('D', 'F'): 2, ('C', 'E'): 1, ('C', 'B'): 2, ('A', 'E'): 2, ('C', 'D'): 1, ('B', 'E'): 1, ('A', 'B'): 1}\n",
        "edge_taken: ('E', 'A')\n",
        "remaining edges after set difference: {('E', 'D'): 1, ('D', 'F'): 2, ('C', 'E'): 1, ('C', 'B'): 2, ('A', 'E'): 1, ('C', 'D'): 1, ('B', 'E'): 1, ('A', 'B'): 1}\n",
        "path after appending this edge: ['A', 'F', 'E', 'A']\n",
        "**************\n",
        "\n",
        "**************\n",
        "remaining edges before removal: {('E', 'D'): 1, ('D', 'F'): 2, ('C', 'E'): 1, ('C', 'B'): 2, ('A', 'E'): 1, ('C', 'D'): 1, ('B', 'E'): 1, ('A', 'B'): 1}\n",
        "edge_taken: ('A', 'B')\n",
        "remaining edges after set difference: {('E', 'D'): 1, ('D', 'F'): 2, ('C', 'E'): 1, ('C', 'B'): 2, ('A', 'E'): 1, ('C', 'D'): 1, ('B', 'E'): 1}\n",
        "path after appending this edge: ['A', 'F', 'E', 'A', 'B']\n",
        "**************\n",
        "\n",
        "**************\n",
        "remaining edges before removal: {('E', 'D'): 1, ('D', 'F'): 2, ('C', 'E'): 1, ('C', 'B'): 2, ('A', 'E'): 1, ('C', 'D'): 1, ('B', 'E'): 1}\n",
        "edge_taken: ('B', 'C')\n",
        "remaining edges after set difference: {('E', 'D'): 1, ('D', 'F'): 2, ('C', 'E'): 1, ('C', 'B'): 1, ('A', 'E'): 1, ('C', 'D'): 1, ('B', 'E'): 1}\n",
        "path after appending this edge: ['A', 'F', 'E', 'A', 'B', 'C']\n",
        "**************\n",
        "\n",
        "**************\n",
        "remaining edges before removal: {('E', 'D'): 1, ('D', 'F'): 2, ('C', 'E'): 1, ('C', 'B'): 1, ('A', 'E'): 1, ('C', 'D'): 1, ('B', 'E'): 1}\n",
        "edge_taken: ('C', 'B')\n",
        "remaining edges after set difference: {('E', 'D'): 1, ('D', 'F'): 2, ('C', 'E'): 1, ('A', 'E'): 1, ('C', 'D'): 1, ('B', 'E'): 1}\n",
        "path after appending this edge: ['A', 'F', 'E', 'A', 'B', 'C', 'B']\n",
        "**************\n",
        "\n",
        "**************\n",
        "remaining edges before removal: {('E', 'D'): 1, ('D', 'F'): 2, ('C', 'E'): 1, ('A', 'E'): 1, ('C', 'D'): 1, ('B', 'E'): 1}\n",
        "edge_taken: ('B', 'E')\n",
        "remaining edges after set difference: {('E', 'D'): 1, ('D', 'F'): 2, ('C', 'E'): 1, ('A', 'E'): 1, ('C', 'D'): 1}\n",
        "path after appending this edge: ['A', 'F', 'E', 'A', 'B', 'C', 'B', 'E']\n",
        "**************\n",
        "\n",
        "**************\n",
        "remaining edges before removal: {('E', 'D'): 1, ('D', 'F'): 2, ('C', 'E'): 1, ('A', 'E'): 1, ('C', 'D'): 1}\n",
        "edge_taken: ('E', 'A')\n",
        "remaining edges after set difference: {('E', 'D'): 1, ('D', 'F'): 2, ('C', 'E'): 1, ('C', 'D'): 1}\n",
        "path after appending this edge: ['A', 'F', 'E', 'A', 'B', 'C', 'B', 'E', 'A']\n",
        "**************\n"
       ]
      },
      {
       "ename": "KeyError",
       "evalue": "'A'",
       "output_type": "pyerr",
       "traceback": [
        "\u001b[0;31m---------------------------------------------------------------------------\u001b[0m\n\u001b[0;31mKeyError\u001b[0m                                  Traceback (most recent call last)",
        "\u001b[0;32m<ipython-input-49-c50372769e6e>\u001b[0m in \u001b[0;36m<module>\u001b[0;34m()\u001b[0m\n\u001b[0;32m----> 1\u001b[0;31m \u001b[0mfleury\u001b[0m\u001b[0;34m(\u001b[0m\u001b[0mf_graph\u001b[0m\u001b[0;34m,\u001b[0m \u001b[0mverbose\u001b[0m\u001b[0;34m=\u001b[0m\u001b[0mTrue\u001b[0m\u001b[0;34m)\u001b[0m\u001b[0;34m\u001b[0m\u001b[0m\n\u001b[0m",
        "\u001b[0;32m<ipython-input-48-0f4da8ea3260>\u001b[0m in \u001b[0;36mfleury\u001b[0;34m(G, verbose)\u001b[0m\n\u001b[1;32m     12\u001b[0m         \u001b[0mgraph_of_remaining_edges\u001b[0m \u001b[0;34m=\u001b[0m \u001b[0mgraph_from_edge_counter\u001b[0m\u001b[0;34m(\u001b[0m\u001b[0mremaining_edges\u001b[0m\u001b[0;34m)\u001b[0m\u001b[0;34m\u001b[0m\u001b[0m\n\u001b[1;32m     13\u001b[0m \u001b[0;34m\u001b[0m\u001b[0m\n\u001b[0;32m---> 14\u001b[0;31m         \u001b[0mpossible_edges_to_go\u001b[0m \u001b[0;34m=\u001b[0m \u001b[0medges_to_nbors\u001b[0m\u001b[0;34m(\u001b[0m\u001b[0mgraph_of_remaining_edges\u001b[0m\u001b[0;34m,\u001b[0m \u001b[0mpath\u001b[0m\u001b[0;34m[\u001b[0m\u001b[0;34m-\u001b[0m\u001b[0;36m1\u001b[0m\u001b[0;34m]\u001b[0m\u001b[0;34m)\u001b[0m\u001b[0;34m\u001b[0m\u001b[0m\n\u001b[0m\u001b[1;32m     15\u001b[0m \u001b[0;34m\u001b[0m\u001b[0m\n\u001b[1;32m     16\u001b[0m         is_bridge_of_untravelled = {edge: is_bridge_edge(graph_of_remaining_edges, *edge)\n",
        "\u001b[0;32m<ipython-input-13-3de5d5a60b61>\u001b[0m in \u001b[0;36medges_to_nbors\u001b[0;34m(G, node)\u001b[0m\n\u001b[1;32m      3\u001b[0m \u001b[0;34m\u001b[0m\u001b[0m\n\u001b[1;32m      4\u001b[0m     \u001b[0medges\u001b[0m \u001b[0;34m=\u001b[0m \u001b[0;34m[\u001b[0m\u001b[0;34m]\u001b[0m\u001b[0;34m\u001b[0m\u001b[0m\n\u001b[0;32m----> 5\u001b[0;31m     \u001b[0;32mfor\u001b[0m \u001b[0mnbor\u001b[0m \u001b[0;32min\u001b[0m \u001b[0mG\u001b[0m\u001b[0;34m[\u001b[0m\u001b[0mnode\u001b[0m\u001b[0;34m]\u001b[0m\u001b[0;34m:\u001b[0m\u001b[0;34m\u001b[0m\u001b[0m\n\u001b[0m\u001b[1;32m      6\u001b[0m         \u001b[0medges\u001b[0m \u001b[0;34m+=\u001b[0m \u001b[0;34m[\u001b[0m\u001b[0;34m(\u001b[0m\u001b[0mnode\u001b[0m\u001b[0;34m,\u001b[0m \u001b[0mnbor\u001b[0m\u001b[0;34m)\u001b[0m\u001b[0;34m]\u001b[0m \u001b[0;34m*\u001b[0m \u001b[0mG\u001b[0m\u001b[0;34m[\u001b[0m\u001b[0mnode\u001b[0m\u001b[0;34m]\u001b[0m\u001b[0;34m[\u001b[0m\u001b[0mnbor\u001b[0m\u001b[0;34m]\u001b[0m\u001b[0;34m\u001b[0m\u001b[0m\n\u001b[1;32m      7\u001b[0m \u001b[0;34m\u001b[0m\u001b[0m\n",
        "\u001b[0;31mKeyError\u001b[0m: 'A'"
       ]
      }
     ],
     "prompt_number": 49
    },
    {
     "cell_type": "markdown",
     "metadata": {},
     "source": [
      "Took wrong route from E to A, could not see EA was a bridge edge of remaining graph."
     ]
    },
    {
     "cell_type": "code",
     "collapsed": false,
     "input": [
      "chain_3 = {1: {2: 1}, 2: {1: 1, 3: 1}, 3: {2: 1}}"
     ],
     "language": "python",
     "metadata": {},
     "outputs": [],
     "prompt_number": 50
    },
    {
     "cell_type": "code",
     "collapsed": false,
     "input": [
      "is_bridge_edge(chain_3, 1, 2)"
     ],
     "language": "python",
     "metadata": {},
     "outputs": [
      {
       "metadata": {},
       "output_type": "pyout",
       "prompt_number": 51,
       "text": [
        "True"
       ]
      }
     ],
     "prompt_number": 51
    },
    {
     "cell_type": "code",
     "collapsed": false,
     "input": [
      "rem_1 = {('E', 'D'): 1, ('D', 'F'): 2, ('C', 'E'): 1, ('A', 'E'): 1, ('C', 'D'): 1}"
     ],
     "language": "python",
     "metadata": {},
     "outputs": [],
     "prompt_number": 52
    },
    {
     "cell_type": "code",
     "collapsed": false,
     "input": [
      "g_rem_1 = graph_from_edge_counter(rem_1)\n",
      "g_rem_1"
     ],
     "language": "python",
     "metadata": {},
     "outputs": [
      {
       "metadata": {},
       "output_type": "pyout",
       "prompt_number": 58,
       "text": [
        "{'A': {'E': 1},\n",
        " 'C': {'D': 1, 'E': 1},\n",
        " 'D': {'C': 1, 'E': 1, 'F': 2},\n",
        " 'E': {'A': 1, 'C': 1, 'D': 1},\n",
        " 'F': {'D': 2}}"
       ]
      }
     ],
     "prompt_number": 58
    },
    {
     "cell_type": "code",
     "collapsed": false,
     "input": [
      "is_bridge_edge(g_rem_1, 'A', 'E')  # there's the problem!"
     ],
     "language": "python",
     "metadata": {},
     "outputs": [
      {
       "metadata": {},
       "output_type": "pyout",
       "prompt_number": 59,
       "text": [
        "False"
       ]
      }
     ],
     "prompt_number": 59
    },
    {
     "cell_type": "code",
     "collapsed": false,
     "input": [],
     "language": "python",
     "metadata": {},
     "outputs": []
    },
    {
     "cell_type": "markdown",
     "metadata": {},
     "source": [
      "---"
     ]
    },
    {
     "cell_type": "code",
     "collapsed": false,
     "input": [],
     "language": "python",
     "metadata": {},
     "outputs": [],
     "prompt_number": 23
    },
    {
     "cell_type": "code",
     "collapsed": false,
     "input": [],
     "language": "python",
     "metadata": {},
     "outputs": []
    },
    {
     "cell_type": "code",
     "collapsed": false,
     "input": [],
     "language": "python",
     "metadata": {},
     "outputs": []
    },
    {
     "cell_type": "code",
     "collapsed": false,
     "input": [],
     "language": "python",
     "metadata": {},
     "outputs": []
    },
    {
     "cell_type": "code",
     "collapsed": false,
     "input": [],
     "language": "python",
     "metadata": {},
     "outputs": []
    },
    {
     "cell_type": "code",
     "collapsed": false,
     "input": [],
     "language": "python",
     "metadata": {},
     "outputs": []
    },
    {
     "cell_type": "code",
     "collapsed": false,
     "input": [],
     "language": "python",
     "metadata": {},
     "outputs": []
    },
    {
     "cell_type": "code",
     "collapsed": false,
     "input": [],
     "language": "python",
     "metadata": {},
     "outputs": []
    },
    {
     "cell_type": "code",
     "collapsed": false,
     "input": [],
     "language": "python",
     "metadata": {},
     "outputs": []
    },
    {
     "cell_type": "code",
     "collapsed": false,
     "input": [
      "def find_eulerian_tour(e_list):\n",
      "    return fleury(graph_from_edge_list(e_list))"
     ],
     "language": "python",
     "metadata": {},
     "outputs": []
    },
    {
     "cell_type": "code",
     "collapsed": false,
     "input": [
      "print find_eulerian_tour([(1, 2), (1, 6), (2, 5), (2, 5), (6, 5), (5, 4), (3, 4), (2, 3)])"
     ],
     "language": "python",
     "metadata": {},
     "outputs": [
      {
       "ename": "KeyError",
       "evalue": "6",
       "output_type": "pyerr",
       "traceback": [
        "\u001b[0;31m---------------------------------------------------------------------------\u001b[0m\n\u001b[0;31mKeyError\u001b[0m                                  Traceback (most recent call last)",
        "\u001b[0;32m<ipython-input-24-c163a90bf6a6>\u001b[0m in \u001b[0;36m<module>\u001b[0;34m()\u001b[0m\n\u001b[0;32m----> 1\u001b[0;31m \u001b[0;32mprint\u001b[0m \u001b[0mfind_eulerian_tour\u001b[0m\u001b[0;34m(\u001b[0m\u001b[0;34m[\u001b[0m\u001b[0;34m(\u001b[0m\u001b[0;36m1\u001b[0m\u001b[0;34m,\u001b[0m \u001b[0;36m2\u001b[0m\u001b[0;34m)\u001b[0m\u001b[0;34m,\u001b[0m \u001b[0;34m(\u001b[0m\u001b[0;36m1\u001b[0m\u001b[0;34m,\u001b[0m \u001b[0;36m6\u001b[0m\u001b[0;34m)\u001b[0m\u001b[0;34m,\u001b[0m \u001b[0;34m(\u001b[0m\u001b[0;36m2\u001b[0m\u001b[0;34m,\u001b[0m \u001b[0;36m5\u001b[0m\u001b[0;34m)\u001b[0m\u001b[0;34m,\u001b[0m \u001b[0;34m(\u001b[0m\u001b[0;36m2\u001b[0m\u001b[0;34m,\u001b[0m \u001b[0;36m5\u001b[0m\u001b[0;34m)\u001b[0m\u001b[0;34m,\u001b[0m \u001b[0;34m(\u001b[0m\u001b[0;36m6\u001b[0m\u001b[0;34m,\u001b[0m \u001b[0;36m5\u001b[0m\u001b[0;34m)\u001b[0m\u001b[0;34m,\u001b[0m \u001b[0;34m(\u001b[0m\u001b[0;36m5\u001b[0m\u001b[0;34m,\u001b[0m \u001b[0;36m4\u001b[0m\u001b[0;34m)\u001b[0m\u001b[0;34m,\u001b[0m \u001b[0;34m(\u001b[0m\u001b[0;36m3\u001b[0m\u001b[0;34m,\u001b[0m \u001b[0;36m4\u001b[0m\u001b[0;34m)\u001b[0m\u001b[0;34m,\u001b[0m \u001b[0;34m(\u001b[0m\u001b[0;36m2\u001b[0m\u001b[0;34m,\u001b[0m \u001b[0;36m3\u001b[0m\u001b[0;34m)\u001b[0m\u001b[0;34m]\u001b[0m\u001b[0;34m)\u001b[0m\u001b[0;34m\u001b[0m\u001b[0m\n\u001b[0m",
        "\u001b[0;32m<ipython-input-23-45136a664cc1>\u001b[0m in \u001b[0;36mfind_eulerian_tour\u001b[0;34m(e_list)\u001b[0m\n\u001b[1;32m      1\u001b[0m \u001b[0;32mdef\u001b[0m \u001b[0mfind_eulerian_tour\u001b[0m\u001b[0;34m(\u001b[0m\u001b[0me_list\u001b[0m\u001b[0;34m)\u001b[0m\u001b[0;34m:\u001b[0m\u001b[0;34m\u001b[0m\u001b[0m\n\u001b[0;32m----> 2\u001b[0;31m     \u001b[0;32mreturn\u001b[0m \u001b[0mfleury\u001b[0m\u001b[0;34m(\u001b[0m\u001b[0mgraph_from_edge_list\u001b[0m\u001b[0;34m(\u001b[0m\u001b[0me_list\u001b[0m\u001b[0;34m)\u001b[0m\u001b[0;34m)\u001b[0m\u001b[0;34m\u001b[0m\u001b[0m\n\u001b[0m",
        "\u001b[0;32m<ipython-input-1-946daeff7ce3>\u001b[0m in \u001b[0;36mfleury\u001b[0;34m(G, verbose)\u001b[0m\n\u001b[1;32m     12\u001b[0m         \u001b[0mgraph_of_remaining_edges\u001b[0m \u001b[0;34m=\u001b[0m \u001b[0mgraph_from_edge_counter\u001b[0m\u001b[0;34m(\u001b[0m\u001b[0mremaining_edges\u001b[0m\u001b[0;34m)\u001b[0m\u001b[0;34m\u001b[0m\u001b[0m\n\u001b[1;32m     13\u001b[0m \u001b[0;34m\u001b[0m\u001b[0m\n\u001b[0;32m---> 14\u001b[0;31m         \u001b[0mpossible_edges_to_go\u001b[0m \u001b[0;34m=\u001b[0m \u001b[0medges_to_nbors\u001b[0m\u001b[0;34m(\u001b[0m\u001b[0mgraph_of_remaining_edges\u001b[0m\u001b[0;34m,\u001b[0m \u001b[0mpath\u001b[0m\u001b[0;34m[\u001b[0m\u001b[0;34m-\u001b[0m\u001b[0;36m1\u001b[0m\u001b[0;34m]\u001b[0m\u001b[0;34m)\u001b[0m\u001b[0;34m\u001b[0m\u001b[0m\n\u001b[0m\u001b[1;32m     15\u001b[0m \u001b[0;34m\u001b[0m\u001b[0m\n\u001b[1;32m     16\u001b[0m         is_bridge_of_untravelled = {edge: is_bridge_edge(graph_of_remaining_edges, *edge)\n",
        "\u001b[0;32m<ipython-input-13-3de5d5a60b61>\u001b[0m in \u001b[0;36medges_to_nbors\u001b[0;34m(G, node)\u001b[0m\n\u001b[1;32m      3\u001b[0m \u001b[0;34m\u001b[0m\u001b[0m\n\u001b[1;32m      4\u001b[0m     \u001b[0medges\u001b[0m \u001b[0;34m=\u001b[0m \u001b[0;34m[\u001b[0m\u001b[0;34m]\u001b[0m\u001b[0;34m\u001b[0m\u001b[0m\n\u001b[0;32m----> 5\u001b[0;31m     \u001b[0;32mfor\u001b[0m \u001b[0mnbor\u001b[0m \u001b[0;32min\u001b[0m \u001b[0mG\u001b[0m\u001b[0;34m[\u001b[0m\u001b[0mnode\u001b[0m\u001b[0;34m]\u001b[0m\u001b[0;34m:\u001b[0m\u001b[0;34m\u001b[0m\u001b[0m\n\u001b[0m\u001b[1;32m      6\u001b[0m         \u001b[0medges\u001b[0m \u001b[0;34m+=\u001b[0m \u001b[0;34m[\u001b[0m\u001b[0;34m(\u001b[0m\u001b[0mnode\u001b[0m\u001b[0;34m,\u001b[0m \u001b[0mnbor\u001b[0m\u001b[0;34m)\u001b[0m\u001b[0;34m]\u001b[0m \u001b[0;34m*\u001b[0m \u001b[0mG\u001b[0m\u001b[0;34m[\u001b[0m\u001b[0mnode\u001b[0m\u001b[0;34m]\u001b[0m\u001b[0;34m[\u001b[0m\u001b[0mnbor\u001b[0m\u001b[0;34m]\u001b[0m\u001b[0;34m\u001b[0m\u001b[0m\n\u001b[1;32m      7\u001b[0m \u001b[0;34m\u001b[0m\u001b[0m\n",
        "\u001b[0;31mKeyError\u001b[0m: 6"
       ]
      }
     ],
     "prompt_number": 24
    },
    {
     "cell_type": "code",
     "collapsed": false,
     "input": [],
     "language": "python",
     "metadata": {},
     "outputs": []
    }
   ],
   "metadata": {}
  }
 ]
}