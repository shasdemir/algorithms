{
 "metadata": {
  "name": "",
  "signature": "sha256:f9ba365168c8aad5550c0b380eb7a864316793b267574c7df661a53efa5e0b73"
 },
 "nbformat": 3,
 "nbformat_minor": 0,
 "worksheets": [
  {
   "cells": [
    {
     "cell_type": "code",
     "collapsed": false,
     "input": [
      "def make_link(G, node1, node2):\n",
      "    if node1 not in G:\n",
      "        G[node1] = {}\n",
      "    (G[node1])[node2] = 1\n",
      "    if node2 not in G:\n",
      "        G[node2] = {}\n",
      "    (G[node2])[node1] = 1\n",
      "    return G"
     ],
     "language": "python",
     "metadata": {},
     "outputs": [],
     "prompt_number": 107
    },
    {
     "cell_type": "code",
     "collapsed": false,
     "input": [
      "def mark_component(G, node, marked):\n",
      "    marked[node] = True\n",
      "    total_marked = 1\n",
      "    for neighbor in G[node]:\n",
      "        if neighbor not in marked:\n",
      "            total_marked += mark_component(G, neighbor, marked)\n",
      "    return total_marked"
     ],
     "language": "python",
     "metadata": {},
     "outputs": [],
     "prompt_number": 2
    },
    {
     "cell_type": "code",
     "collapsed": false,
     "input": [
      "def list_component_sizes(G):\n",
      "    marked = {}\n",
      "    for node in G:\n",
      "        if node not in marked:\n",
      "            print \"Component containing\", node, \":\", mark_component(G, node, marked)"
     ],
     "language": "python",
     "metadata": {},
     "outputs": [],
     "prompt_number": 3
    },
    {
     "cell_type": "code",
     "collapsed": false,
     "input": [
      "print 'osman', 2, 3, 'google'"
     ],
     "language": "python",
     "metadata": {},
     "outputs": [
      {
       "output_type": "stream",
       "stream": "stdout",
       "text": [
        "osman 2 3 google\n"
       ]
      }
     ],
     "prompt_number": 4
    },
    {
     "cell_type": "code",
     "collapsed": false,
     "input": [
      "connections = [('a', 'g'), ('a', 'd'), ('d', 'g'), ('g', 'c'), ('b', 'f'), ('f', 'e'), ('e', 'h')]\n",
      "\n",
      "G = {}\n",
      "for (x, y) in connections:\n",
      "    make_link(G, x, y)"
     ],
     "language": "python",
     "metadata": {},
     "outputs": [],
     "prompt_number": 5
    },
    {
     "cell_type": "code",
     "collapsed": false,
     "input": [
      "list_component_sizes(G)"
     ],
     "language": "python",
     "metadata": {},
     "outputs": [
      {
       "output_type": "stream",
       "stream": "stdout",
       "text": [
        "Component containing a : 4\n",
        "Component containing b : 4\n"
       ]
      }
     ],
     "prompt_number": 6
    },
    {
     "cell_type": "markdown",
     "metadata": {},
     "source": [
      "---"
     ]
    },
    {
     "cell_type": "code",
     "collapsed": false,
     "input": [
      "def check_connection(G, v1, v2):\n",
      "    marked = {}\n",
      "    mark_component(G, v1, marked)\n",
      "\n",
      "    return v2 in marked"
     ],
     "language": "python",
     "metadata": {},
     "outputs": [],
     "prompt_number": 7
    },
    {
     "cell_type": "code",
     "collapsed": false,
     "input": [
      "check_connection(G, 'a', 'c')"
     ],
     "language": "python",
     "metadata": {},
     "outputs": [
      {
       "metadata": {},
       "output_type": "pyout",
       "prompt_number": 11,
       "text": [
        "True"
       ]
      }
     ],
     "prompt_number": 11
    },
    {
     "cell_type": "code",
     "collapsed": false,
     "input": [
      "5 -1."
     ],
     "language": "python",
     "metadata": {},
     "outputs": [
      {
       "metadata": {},
       "output_type": "pyout",
       "prompt_number": 12,
       "text": [
        "4.0"
       ]
      }
     ],
     "prompt_number": 12
    },
    {
     "cell_type": "markdown",
     "metadata": {},
     "source": [
      "---"
     ]
    },
    {
     "cell_type": "code",
     "collapsed": false,
     "input": [
      "def path(G, v1, v2):\n",
      "    path_from_start = {}\n",
      "\n",
      "    open_list = [v1]\n",
      "    path_from_start[v1] = [v1]\n",
      "\n",
      "    while open_list:\n",
      "        current = open_list.pop(0)  # bfs\n",
      "\n",
      "        for neighbor in G[current]:\n",
      "            if neighbor not in path_from_start:\n",
      "                path_from_start[neighbor] = path_from_start[current] + [neighbor]\n",
      "                if neighbor == v2:\n",
      "                    return path_from_start[v2]\n",
      "                open_list.append(neighbor)\n",
      "    return False"
     ],
     "language": "python",
     "metadata": {},
     "outputs": [],
     "prompt_number": 13
    },
    {
     "cell_type": "code",
     "collapsed": false,
     "input": [
      "def centrality(G, v):\n",
      "    path_lengths = [len(path(G, v, other))-1 for other in G]\n",
      "    return sum(path_lengths) / (len(path_lengths)-1.)"
     ],
     "language": "python",
     "metadata": {},
     "outputs": [],
     "prompt_number": 14
    },
    {
     "cell_type": "code",
     "collapsed": false,
     "input": [
      "path(G, 'a', 'c')"
     ],
     "language": "python",
     "metadata": {},
     "outputs": [
      {
       "metadata": {},
       "output_type": "pyout",
       "prompt_number": 15,
       "text": [
        "['a', 'g', 'c']"
       ]
      }
     ],
     "prompt_number": 15
    },
    {
     "cell_type": "code",
     "collapsed": false,
     "input": [
      "flights = [(\"ORD\", \"SEA\"), (\"ORD\", \"LAX\"), ('ORD', 'DFW'), ('ORD', 'PIT'),\n",
      "           ('SEA', 'LAX'), ('LAX', 'DFW'), ('ATL', 'PIT'), ('ATL', 'RDU'),\n",
      "           ('RDU', 'PHL'), ('PIT', 'PHL'), ('PHL', 'PVD')]\n",
      "\n",
      "G = {}\n",
      "for (x, y) in flights:\n",
      "    make_link(G, x, y)"
     ],
     "language": "python",
     "metadata": {},
     "outputs": [],
     "prompt_number": 18
    },
    {
     "cell_type": "code",
     "collapsed": false,
     "input": [
      "list_component_sizes(G)"
     ],
     "language": "python",
     "metadata": {},
     "outputs": [
      {
       "output_type": "stream",
       "stream": "stdout",
       "text": [
        "Component containing RDU : 9\n"
       ]
      }
     ],
     "prompt_number": 23
    },
    {
     "cell_type": "code",
     "collapsed": false,
     "input": [
      "path(G, 'ORD', 'ATL')"
     ],
     "language": "python",
     "metadata": {},
     "outputs": [
      {
       "metadata": {},
       "output_type": "pyout",
       "prompt_number": 21,
       "text": [
        "['ORD', 'PIT', 'ATL']"
       ]
      }
     ],
     "prompt_number": 21
    },
    {
     "cell_type": "code",
     "collapsed": false,
     "input": [
      "centrality(G, 'ATL')"
     ],
     "language": "python",
     "metadata": {},
     "outputs": [
      {
       "ename": "TypeError",
       "evalue": "object of type 'bool' has no len()",
       "output_type": "pyerr",
       "traceback": [
        "\u001b[0;31m---------------------------------------------------------------------------\u001b[0m\n\u001b[0;31mTypeError\u001b[0m                                 Traceback (most recent call last)",
        "\u001b[0;32m<ipython-input-22-2acf89a4b9e4>\u001b[0m in \u001b[0;36m<module>\u001b[0;34m()\u001b[0m\n\u001b[0;32m----> 1\u001b[0;31m \u001b[0mcentrality\u001b[0m\u001b[0;34m(\u001b[0m\u001b[0mG\u001b[0m\u001b[0;34m,\u001b[0m \u001b[0;34m'ATL'\u001b[0m\u001b[0;34m)\u001b[0m\u001b[0;34m\u001b[0m\u001b[0m\n\u001b[0m",
        "\u001b[0;32m<ipython-input-14-462b0cc6bf48>\u001b[0m in \u001b[0;36mcentrality\u001b[0;34m(G, v)\u001b[0m\n\u001b[1;32m      1\u001b[0m \u001b[0;32mdef\u001b[0m \u001b[0mcentrality\u001b[0m\u001b[0;34m(\u001b[0m\u001b[0mG\u001b[0m\u001b[0;34m,\u001b[0m \u001b[0mv\u001b[0m\u001b[0;34m)\u001b[0m\u001b[0;34m:\u001b[0m\u001b[0;34m\u001b[0m\u001b[0m\n\u001b[0;32m----> 2\u001b[0;31m     \u001b[0mpath_lengths\u001b[0m \u001b[0;34m=\u001b[0m \u001b[0;34m[\u001b[0m\u001b[0mlen\u001b[0m\u001b[0;34m(\u001b[0m\u001b[0mpath\u001b[0m\u001b[0;34m(\u001b[0m\u001b[0mG\u001b[0m\u001b[0;34m,\u001b[0m \u001b[0mv\u001b[0m\u001b[0;34m,\u001b[0m \u001b[0mother\u001b[0m\u001b[0;34m)\u001b[0m\u001b[0;34m)\u001b[0m\u001b[0;34m-\u001b[0m\u001b[0;36m1\u001b[0m \u001b[0;32mfor\u001b[0m \u001b[0mother\u001b[0m \u001b[0;32min\u001b[0m \u001b[0mG\u001b[0m\u001b[0;34m]\u001b[0m\u001b[0;34m\u001b[0m\u001b[0m\n\u001b[0m\u001b[1;32m      3\u001b[0m     \u001b[0;32mreturn\u001b[0m \u001b[0msum\u001b[0m\u001b[0;34m(\u001b[0m\u001b[0mpath_lengths\u001b[0m\u001b[0;34m)\u001b[0m \u001b[0;34m/\u001b[0m \u001b[0;34m(\u001b[0m\u001b[0mlen\u001b[0m\u001b[0;34m(\u001b[0m\u001b[0mpath_lengths\u001b[0m\u001b[0;34m)\u001b[0m\u001b[0;34m-\u001b[0m\u001b[0;36m1.\u001b[0m\u001b[0;34m)\u001b[0m\u001b[0;34m\u001b[0m\u001b[0m\n",
        "\u001b[0;31mTypeError\u001b[0m: object of type 'bool' has no len()"
       ]
      }
     ],
     "prompt_number": 22
    },
    {
     "cell_type": "markdown",
     "metadata": {},
     "source": [
      "---"
     ]
    },
    {
     "cell_type": "code",
     "collapsed": false,
     "input": [
      "marked = {}"
     ],
     "language": "python",
     "metadata": {},
     "outputs": [],
     "prompt_number": 27
    },
    {
     "cell_type": "code",
     "collapsed": false,
     "input": [
      "def mark_component_nr(G, node, marked):\n",
      "    marked[node] = True\n",
      "    open_list = [node]\n",
      "\n",
      "    while open_list:\n",
      "        current = open_list.pop(0)\n",
      "        for neighbor in G[current]:\n",
      "            if neighbor not in marked:\n",
      "                marked[neighbor] = True\n",
      "                open_list.append(neighbor)\n",
      "    return len(marked)"
     ],
     "language": "python",
     "metadata": {},
     "outputs": [],
     "prompt_number": 33
    },
    {
     "cell_type": "code",
     "collapsed": false,
     "input": [
      "def test():\n",
      "    test_edges = [(1, 2), (2, 3), (4, 5), (5, 6)]\n",
      "    G = {}\n",
      "    for n1, n2 in test_edges:\n",
      "        make_link(G, n1, n2)\n",
      "    marked = {}\n",
      "    assert mark_component_nr(G, 1, marked) == 3\n",
      "    assert 1 in marked\n",
      "    assert 2 in marked\n",
      "    assert 3 in marked\n",
      "    assert 4 not in marked\n",
      "    assert 5 not in marked\n",
      "    assert 6 not in marked"
     ],
     "language": "python",
     "metadata": {},
     "outputs": [],
     "prompt_number": 34
    },
    {
     "cell_type": "code",
     "collapsed": false,
     "input": [
      "test()"
     ],
     "language": "python",
     "metadata": {},
     "outputs": [],
     "prompt_number": 35
    },
    {
     "cell_type": "markdown",
     "metadata": {},
     "source": [
      "---"
     ]
    },
    {
     "cell_type": "markdown",
     "metadata": {},
     "source": [
      "Copy of path() above:"
     ]
    },
    {
     "cell_type": "code",
     "collapsed": false,
     "input": [
      "def path(G, v1, v2):\n",
      "    path_from_start = {}\n",
      "\n",
      "    open_list = [v1]\n",
      "    path_from_start[v1] = [v1]\n",
      "\n",
      "    while open_list:\n",
      "        current = open_list.pop(0)  # bfs\n",
      "\n",
      "        for neighbor in G[current]:\n",
      "            if neighbor not in path_from_start:\n",
      "                path_from_start[neighbor] = path_from_start[current] + [neighbor]\n",
      "                if neighbor == v2:\n",
      "                    return path_from_start[v2]\n",
      "                open_list.append(neighbor)\n",
      "    return False"
     ],
     "language": "python",
     "metadata": {},
     "outputs": [],
     "prompt_number": 45
    },
    {
     "cell_type": "code",
     "collapsed": false,
     "input": [
      "def centrality_max(G, v):\n",
      "    path_lengths = [len(path(G, v, other))-1 for other in G if other != v]\n",
      "    return max(path_lengths)"
     ],
     "language": "python",
     "metadata": {},
     "outputs": [],
     "prompt_number": 42
    },
    {
     "cell_type": "code",
     "collapsed": false,
     "input": [
      "def test():\n",
      "    chain = ((1,2), (2,3), (3,4), (4,5), (5,6))\n",
      "    G = {}\n",
      "    for n1, n2 in chain:\n",
      "        make_link(G, n1, n2)\n",
      "    assert centrality_max(G, 1) == 5\n",
      "    assert centrality_max(G, 3) == 3\n",
      "    tree = ((1, 2), (1, 3),\n",
      "            (2, 4), (2, 5),\n",
      "            (3, 6), (3, 7),\n",
      "            (4, 8), (4, 9),\n",
      "            (6, 10), (6, 11))\n",
      "    G = {}\n",
      "    for n1, n2 in tree:\n",
      "        make_link(G, n1, n2)\n",
      "    assert centrality_max(G, 1) == 3\n",
      "    assert centrality_max(G, 11) == 6"
     ],
     "language": "python",
     "metadata": {},
     "outputs": [],
     "prompt_number": 43
    },
    {
     "cell_type": "code",
     "collapsed": false,
     "input": [
      "test()"
     ],
     "language": "python",
     "metadata": {},
     "outputs": [],
     "prompt_number": 44
    },
    {
     "cell_type": "markdown",
     "metadata": {},
     "source": [
      "---"
     ]
    },
    {
     "cell_type": "code",
     "collapsed": false,
     "input": [
      "def remove_link(G, v1, v2):\n",
      "    for points in (v1, v2), (v2, v1):\n",
      "        G[points[0]][points[1]] -= 1\n",
      "        if G[points[0]][points[1]] == 0:\n",
      "            del G[points[0]][points[1]] "
     ],
     "language": "python",
     "metadata": {},
     "outputs": [],
     "prompt_number": 46
    },
    {
     "cell_type": "code",
     "collapsed": false,
     "input": [
      "def count_connected_components(G):\n",
      "    n_components = 0\n",
      "    marked = {}\n",
      "    for node in G:\n",
      "        if node not in marked:\n",
      "            mark_component_nr(G, node, marked)\n",
      "            n_components += 1\n",
      "    return n_components"
     ],
     "language": "python",
     "metadata": {},
     "outputs": [],
     "prompt_number": 48
    },
    {
     "cell_type": "code",
     "collapsed": false,
     "input": [
      "flights = [(\"ORD\", \"SEA\"), (\"ORD\", \"LAX\"), ('ORD', 'DFW'), ('ORD', 'PIT'),\n",
      "           ('SEA', 'LAX'), ('LAX', 'DFW'), ('ATL', 'PIT'), ('ATL', 'RDU'),\n",
      "           ('RDU', 'PHL'), ('PIT', 'PHL'), ('PHL', 'PVD')]\n",
      "\n",
      "G = {}\n",
      "for (x, y) in flights:\n",
      "    make_link(G, x, y)"
     ],
     "language": "python",
     "metadata": {},
     "outputs": [],
     "prompt_number": 53
    },
    {
     "cell_type": "code",
     "collapsed": false,
     "input": [
      "G"
     ],
     "language": "python",
     "metadata": {},
     "outputs": [
      {
       "metadata": {},
       "output_type": "pyout",
       "prompt_number": 54,
       "text": [
        "{'ATL': {'PIT': 1, 'RDU': 1},\n",
        " 'DFW': {'LAX': 1, 'ORD': 1},\n",
        " 'LAX': {'DFW': 1, 'ORD': 1, 'SEA': 1},\n",
        " 'ORD': {'DFW': 1, 'LAX': 1, 'PIT': 1, 'SEA': 1},\n",
        " 'PHL': {'PIT': 1, 'PVD': 1, 'RDU': 1},\n",
        " 'PIT': {'ATL': 1, 'ORD': 1, 'PHL': 1},\n",
        " 'PVD': {'PHL': 1},\n",
        " 'RDU': {'ATL': 1, 'PHL': 1},\n",
        " 'SEA': {'LAX': 1, 'ORD': 1}}"
       ]
      }
     ],
     "prompt_number": 54
    },
    {
     "cell_type": "code",
     "collapsed": false,
     "input": [
      "count_connected_components(G)"
     ],
     "language": "python",
     "metadata": {},
     "outputs": [
      {
       "metadata": {},
       "output_type": "pyout",
       "prompt_number": 49,
       "text": [
        "1"
       ]
      }
     ],
     "prompt_number": 49
    },
    {
     "cell_type": "code",
     "collapsed": false,
     "input": [
      "remove_link(G, \"ORD\", \"LAX\")"
     ],
     "language": "python",
     "metadata": {},
     "outputs": [],
     "prompt_number": 55
    },
    {
     "cell_type": "code",
     "collapsed": false,
     "input": [
      "count_connected_components(G)"
     ],
     "language": "python",
     "metadata": {},
     "outputs": [
      {
       "metadata": {},
       "output_type": "pyout",
       "prompt_number": 56,
       "text": [
        "1"
       ]
      }
     ],
     "prompt_number": 56
    },
    {
     "cell_type": "code",
     "collapsed": false,
     "input": [
      "G"
     ],
     "language": "python",
     "metadata": {},
     "outputs": [
      {
       "metadata": {},
       "output_type": "pyout",
       "prompt_number": 60,
       "text": [
        "{'ATL': {'PIT': 1, 'RDU': 1},\n",
        " 'DFW': {'LAX': 1, 'ORD': 1},\n",
        " 'LAX': {'DFW': 1, 'SEA': 1},\n",
        " 'ORD': {'DFW': 1, 'PIT': 1, 'SEA': 1},\n",
        " 'PHL': {'PIT': 1, 'PVD': 1, 'RDU': 1},\n",
        " 'PIT': {'ATL': 1, 'ORD': 1, 'PHL': 1},\n",
        " 'PVD': {'PHL': 1},\n",
        " 'RDU': {'ATL': 1, 'PHL': 1},\n",
        " 'SEA': {'LAX': 1, 'ORD': 1}}"
       ]
      }
     ],
     "prompt_number": 60
    },
    {
     "cell_type": "code",
     "collapsed": false,
     "input": [
      "def is_bridge_edge(G, v1, v2):\n",
      "    \"\"\" Given a connected graph G and edge = (v1, v2) in G, return if G is a bridge edge. \"\"\"\n",
      "\n",
      "    # strategy: remove edge from the graph, and count the number of connected components. If 2, edge was a bridge edge.\n",
      "    # in either case, put edge back into the graph.\n",
      "    remove_link(G, v1, v2)\n",
      "    result = count_connected_components(G) == 2\n",
      "    make_link(G, v1, v2)\n",
      "\n",
      "    return result"
     ],
     "language": "python",
     "metadata": {},
     "outputs": [],
     "prompt_number": 74
    },
    {
     "cell_type": "code",
     "collapsed": false,
     "input": [
      "def list_edges(G):\n",
      "    \"\"\" Return the edges in graph G as a counter of tuples. \"\"\"\n",
      "\n",
      "    def grow_edge_counter(counter, edge):\n",
      "        for rep in edge, edge[::-1]:\n",
      "            if rep in counter:\n",
      "                counter[rep] += 1\n",
      "            else:\n",
      "                counter[rep] = 1\n",
      "        if edge[::-1] in counter:\n",
      "            del counter[edge]\n",
      "\n",
      "    edge_counter = {}\n",
      "    for node in G:\n",
      "        for end in G[node]:\n",
      "            grow_edge_counter(edge_counter, (node, end))\n",
      "\n",
      "    return edge_counter"
     ],
     "language": "python",
     "metadata": {},
     "outputs": [],
     "prompt_number": 70
    },
    {
     "cell_type": "code",
     "collapsed": false,
     "input": [
      "list_edges(G)"
     ],
     "language": "python",
     "metadata": {},
     "outputs": [
      {
       "metadata": {},
       "output_type": "pyout",
       "prompt_number": 71,
       "text": [
        "{('ATL', 'PIT'): 1,\n",
        " ('LAX', 'DFW'): 1,\n",
        " ('LAX', 'SEA'): 1,\n",
        " ('ORD', 'DFW'): 1,\n",
        " ('ORD', 'PIT'): 1,\n",
        " ('PHL', 'PIT'): 1,\n",
        " ('PHL', 'PVD'): 1,\n",
        " ('RDU', 'ATL'): 1,\n",
        " ('RDU', 'PHL'): 1,\n",
        " ('SEA', 'ORD'): 1}"
       ]
      }
     ],
     "prompt_number": 71
    },
    {
     "cell_type": "code",
     "collapsed": false,
     "input": [
      "(1,2)[::-1]"
     ],
     "language": "python",
     "metadata": {},
     "outputs": [
      {
       "metadata": {},
       "output_type": "pyout",
       "prompt_number": 65,
       "text": [
        "(2, 1)"
       ]
      }
     ],
     "prompt_number": 65
    },
    {
     "cell_type": "code",
     "collapsed": false,
     "input": [
      "def list_bridge_edges(G):\n",
      "    \"\"\" Return a list od bridge edges in G. \"\"\"\n",
      "\n",
      "    all_edges = list_edges(G)\n",
      "\n",
      "    return [edge for edge in all_edges if is_bridge_edge(G, *edge)]"
     ],
     "language": "python",
     "metadata": {},
     "outputs": [],
     "prompt_number": 77
    },
    {
     "cell_type": "code",
     "collapsed": false,
     "input": [
      "list_bridge_edges(G)"
     ],
     "language": "python",
     "metadata": {},
     "outputs": [
      {
       "metadata": {},
       "output_type": "pyout",
       "prompt_number": 78,
       "text": [
        "[('PHL', 'PVD'), ('ORD', 'PIT')]"
       ]
      }
     ],
     "prompt_number": 78
    },
    {
     "cell_type": "markdown",
     "metadata": {},
     "source": [
      "---"
     ]
    },
    {
     "cell_type": "code",
     "collapsed": false,
     "input": [
      "def remove_node(G, node):\n",
      "    \"\"\" Remove a node and all edges connected to it from the graph G. \"\"\"\n",
      "\n",
      "    for neighbor in G[node]:\n",
      "        del G[neighbor][node]\n",
      "    del G[node]"
     ],
     "language": "python",
     "metadata": {},
     "outputs": [],
     "prompt_number": 93
    },
    {
     "cell_type": "code",
     "collapsed": false,
     "input": [
      "G"
     ],
     "language": "python",
     "metadata": {},
     "outputs": [
      {
       "metadata": {},
       "output_type": "pyout",
       "prompt_number": 95,
       "text": [
        "{'ATL': {'PIT': 1, 'RDU': 1},\n",
        " 'DFW': {'LAX': 1, 'ORD': 1},\n",
        " 'LAX': {'DFW': 1, 'SEA': 1},\n",
        " 'ORD': {'DFW': 1, 'PIT': 1, 'SEA': 1},\n",
        " 'PHL': {'PIT': 1, 'PVD': 1, 'RDU': 1},\n",
        " 'PIT': {'ATL': 1, 'ORD': 1, 'PHL': 1},\n",
        " 'PVD': {'PHL': 1},\n",
        " 'RDU': {'ATL': 1, 'PHL': 1},\n",
        " 'SEA': {'LAX': 1, 'ORD': 1}}"
       ]
      }
     ],
     "prompt_number": 95
    },
    {
     "cell_type": "code",
     "collapsed": false,
     "input": [
      "remove_node(G, 'ATL')"
     ],
     "language": "python",
     "metadata": {},
     "outputs": [],
     "prompt_number": 96
    },
    {
     "cell_type": "code",
     "collapsed": false,
     "input": [
      "G"
     ],
     "language": "python",
     "metadata": {},
     "outputs": [
      {
       "metadata": {},
       "output_type": "pyout",
       "prompt_number": 97,
       "text": [
        "{'DFW': {'LAX': 1, 'ORD': 1},\n",
        " 'LAX': {'DFW': 1, 'SEA': 1},\n",
        " 'ORD': {'DFW': 1, 'PIT': 1, 'SEA': 1},\n",
        " 'PHL': {'PIT': 1, 'PVD': 1, 'RDU': 1},\n",
        " 'PIT': {'ORD': 1, 'PHL': 1},\n",
        " 'PVD': {'PHL': 1},\n",
        " 'RDU': {'PHL': 1},\n",
        " 'SEA': {'LAX': 1, 'ORD': 1}}"
       ]
      }
     ],
     "prompt_number": 97
    },
    {
     "cell_type": "markdown",
     "metadata": {},
     "source": [
      "---"
     ]
    },
    {
     "cell_type": "code",
     "collapsed": false,
     "input": [
      "def reset_G():\n",
      "    flights = [(\"ORD\", \"SEA\"), (\"ORD\", \"LAX\"), ('ORD', 'DFW'), ('ORD', 'PIT'),\n",
      "               ('SEA', 'LAX'), ('LAX', 'DFW'), ('ATL', 'PIT'), ('ATL', 'RDU'),\n",
      "               ('RDU', 'PHL'), ('PIT', 'PHL'), ('PHL', 'PVD')]\n",
      "    G = {}\n",
      "    for (x, y) in flights:\n",
      "        make_link(G, x, y)\n",
      "    return G"
     ],
     "language": "python",
     "metadata": {},
     "outputs": [],
     "prompt_number": 108
    },
    {
     "cell_type": "code",
     "collapsed": false,
     "input": [
      "G = reset_G()"
     ],
     "language": "python",
     "metadata": {},
     "outputs": [],
     "prompt_number": 109
    },
    {
     "cell_type": "code",
     "collapsed": false,
     "input": [
      "G"
     ],
     "language": "python",
     "metadata": {},
     "outputs": [
      {
       "metadata": {},
       "output_type": "pyout",
       "prompt_number": 110,
       "text": [
        "{'ATL': {'PIT': 1, 'RDU': 1},\n",
        " 'DFW': {'LAX': 1, 'ORD': 1},\n",
        " 'LAX': {'DFW': 1, 'ORD': 1, 'SEA': 1},\n",
        " 'ORD': {'DFW': 1, 'LAX': 1, 'PIT': 1, 'SEA': 1},\n",
        " 'PHL': {'PIT': 1, 'PVD': 1, 'RDU': 1},\n",
        " 'PIT': {'ATL': 1, 'ORD': 1, 'PHL': 1},\n",
        " 'PVD': {'PHL': 1},\n",
        " 'RDU': {'ATL': 1, 'PHL': 1},\n",
        " 'SEA': {'LAX': 1, 'ORD': 1}}"
       ]
      }
     ],
     "prompt_number": 110
    },
    {
     "cell_type": "code",
     "collapsed": false,
     "input": [
      "def edges_to_nbors(G, node):\n",
      "    \"\"\" Return the list of all edges connected to node. \"\"\"\n",
      "\n",
      "    edges = []\n",
      "    for nbor in G[node]:\n",
      "        edges += [(node, nbor)] * G[node][nbor]\n",
      "\n",
      "    return edges"
     ],
     "language": "python",
     "metadata": {},
     "outputs": [],
     "prompt_number": 98
    },
    {
     "cell_type": "code",
     "collapsed": false,
     "input": [
      "edges_to_nbors(G, 'LAX')"
     ],
     "language": "python",
     "metadata": {},
     "outputs": [
      {
       "metadata": {},
       "output_type": "pyout",
       "prompt_number": 111,
       "text": [
        "[('LAX', 'ORD'), ('LAX', 'DFW'), ('LAX', 'SEA')]"
       ]
      }
     ],
     "prompt_number": 111
    },
    {
     "cell_type": "markdown",
     "metadata": {},
     "source": [
      "---"
     ]
    },
    {
     "cell_type": "code",
     "collapsed": false,
     "input": [
      "import copy"
     ],
     "language": "python",
     "metadata": {},
     "outputs": [],
     "prompt_number": 114
    },
    {
     "cell_type": "code",
     "collapsed": false,
     "input": [
      "def graph_from_edge_list(e_list):\n",
      "    graph = {}\n",
      "    for edge in e_list:\n",
      "        make_link(graph, *edge)\n",
      "    return graph"
     ],
     "language": "python",
     "metadata": {},
     "outputs": [],
     "prompt_number": 117
    },
    {
     "cell_type": "code",
     "collapsed": false,
     "input": [
      "def fleury(G):\n",
      "    \"\"\" Implement Fleury's Algorithm of finding Eulerian Tours of graph G as descibed in\n",
      "    http://www.ctl.ua.edu/math103/euler/ifagraph.htm. Return list of nodes visited. \"\"\"\n",
      "\n",
      "    graph = copy.deepcopy(G)\n",
      "\n",
      "    remaining_edges = set(list_edges(graph))\n",
      "    path = [graph.keys()[0]]  # start from a random point\n",
      "\n",
      "    while remaining_edges:\n",
      "        graph_of_remaining_edges = graph_from_edge_list(remaining_edges)\n",
      "\n",
      "        possible_edges_to_go = edges_to_nbors(graph_of_remaining_edges, path[-1])\n",
      "\n",
      "        is_bridge_of_untravelled = {edge: is_bridge_edge(graph_of_remaining_edges, *edge)\n",
      "                                    for edge in possible_edges_to_go}\n",
      "\n",
      "        edge_taken = None\n",
      "        if is_bridge_of_untravelled == {edge: True for edge in is_bridge_of_untravelled}:\n",
      "            edge_taken = is_bridge_of_untravelled.keys()[0]\n",
      "        else:\n",
      "            edge_taken = [edge for edge in possible_edges_to_go if is_bridge_of_untravelled[edge] is False][0]\n",
      "        if not edge_taken:\n",
      "            raise Exception(\"Can't find Eulerian path.\")\n",
      "\n",
      "        remaining_edges -= set(edge_taken)\n",
      "\n",
      "        path.append(edge_taken[1] if path[-1] == edge_taken[0] else edge_taken[0])\n",
      "\n",
      "    return path"
     ],
     "language": "python",
     "metadata": {},
     "outputs": [],
     "prompt_number": 123
    },
    {
     "cell_type": "code",
     "collapsed": false,
     "input": [],
     "language": "python",
     "metadata": {},
     "outputs": [
      {
       "ename": "KeyboardInterrupt",
       "evalue": "",
       "output_type": "pyerr",
       "traceback": [
        "\u001b[0;31m---------------------------------------------------------------------------\u001b[0m\n\u001b[0;31mKeyboardInterrupt\u001b[0m                         Traceback (most recent call last)",
        "\u001b[0;32m<ipython-input-121-3150bd922912>\u001b[0m in \u001b[0;36m<module>\u001b[0;34m()\u001b[0m\n\u001b[0;32m----> 1\u001b[0;31m \u001b[0mfleury\u001b[0m\u001b[0;34m(\u001b[0m\u001b[0mG\u001b[0m\u001b[0;34m)\u001b[0m\u001b[0;34m\u001b[0m\u001b[0m\n\u001b[0m",
        "\u001b[0;32m<ipython-input-120-4daffdc236b2>\u001b[0m in \u001b[0;36mfleury\u001b[0;34m(G)\u001b[0m\n\u001b[1;32m     14\u001b[0m \u001b[0;34m\u001b[0m\u001b[0m\n\u001b[1;32m     15\u001b[0m         is_bridge_of_untravelled = {edge: is_bridge_edge(graph_of_remaining_edges, *edge)\n\u001b[0;32m---> 16\u001b[0;31m                                     for edge in possible_edges_to_go}\n\u001b[0m\u001b[1;32m     17\u001b[0m \u001b[0;34m\u001b[0m\u001b[0m\n\u001b[1;32m     18\u001b[0m         \u001b[0;32mif\u001b[0m \u001b[0mis_bridge_of_untravelled\u001b[0m \u001b[0;34m==\u001b[0m \u001b[0;34m{\u001b[0m\u001b[0medge\u001b[0m\u001b[0;34m:\u001b[0m \u001b[0mTrue\u001b[0m \u001b[0;32mfor\u001b[0m \u001b[0medge\u001b[0m \u001b[0;32min\u001b[0m \u001b[0mis_bridge_of_untravelled\u001b[0m\u001b[0;34m}\u001b[0m\u001b[0;34m:\u001b[0m\u001b[0;34m\u001b[0m\u001b[0m\n",
        "\u001b[0;32m<ipython-input-120-4daffdc236b2>\u001b[0m in \u001b[0;36m<dictcomp>\u001b[0;34m((edge,))\u001b[0m\n\u001b[1;32m     14\u001b[0m \u001b[0;34m\u001b[0m\u001b[0m\n\u001b[1;32m     15\u001b[0m         is_bridge_of_untravelled = {edge: is_bridge_edge(graph_of_remaining_edges, *edge)\n\u001b[0;32m---> 16\u001b[0;31m                                     for edge in possible_edges_to_go}\n\u001b[0m\u001b[1;32m     17\u001b[0m \u001b[0;34m\u001b[0m\u001b[0m\n\u001b[1;32m     18\u001b[0m         \u001b[0;32mif\u001b[0m \u001b[0mis_bridge_of_untravelled\u001b[0m \u001b[0;34m==\u001b[0m \u001b[0;34m{\u001b[0m\u001b[0medge\u001b[0m\u001b[0;34m:\u001b[0m \u001b[0mTrue\u001b[0m \u001b[0;32mfor\u001b[0m \u001b[0medge\u001b[0m \u001b[0;32min\u001b[0m \u001b[0mis_bridge_of_untravelled\u001b[0m\u001b[0;34m}\u001b[0m\u001b[0;34m:\u001b[0m\u001b[0;34m\u001b[0m\u001b[0m\n",
        "\u001b[0;32m<ipython-input-74-b0821a801935>\u001b[0m in \u001b[0;36mis_bridge_edge\u001b[0;34m(G, v1, v2)\u001b[0m\n\u001b[1;32m      5\u001b[0m     \u001b[0;31m# in either case, put edge back into the graph.\u001b[0m\u001b[0;34m\u001b[0m\u001b[0;34m\u001b[0m\u001b[0m\n\u001b[1;32m      6\u001b[0m     \u001b[0mremove_link\u001b[0m\u001b[0;34m(\u001b[0m\u001b[0mG\u001b[0m\u001b[0;34m,\u001b[0m \u001b[0mv1\u001b[0m\u001b[0;34m,\u001b[0m \u001b[0mv2\u001b[0m\u001b[0;34m)\u001b[0m\u001b[0;34m\u001b[0m\u001b[0m\n\u001b[0;32m----> 7\u001b[0;31m     \u001b[0mresult\u001b[0m \u001b[0;34m=\u001b[0m \u001b[0mcount_connected_components\u001b[0m\u001b[0;34m(\u001b[0m\u001b[0mG\u001b[0m\u001b[0;34m)\u001b[0m \u001b[0;34m==\u001b[0m \u001b[0;36m2\u001b[0m\u001b[0;34m\u001b[0m\u001b[0m\n\u001b[0m\u001b[1;32m      8\u001b[0m     \u001b[0mmake_link\u001b[0m\u001b[0;34m(\u001b[0m\u001b[0mG\u001b[0m\u001b[0;34m,\u001b[0m \u001b[0mv1\u001b[0m\u001b[0;34m,\u001b[0m \u001b[0mv2\u001b[0m\u001b[0;34m)\u001b[0m\u001b[0;34m\u001b[0m\u001b[0m\n\u001b[1;32m      9\u001b[0m \u001b[0;34m\u001b[0m\u001b[0m\n",
        "\u001b[0;32m<ipython-input-48-20d7c161a84d>\u001b[0m in \u001b[0;36mcount_connected_components\u001b[0;34m(G)\u001b[0m\n\u001b[1;32m      4\u001b[0m     \u001b[0;32mfor\u001b[0m \u001b[0mnode\u001b[0m \u001b[0;32min\u001b[0m \u001b[0mG\u001b[0m\u001b[0;34m:\u001b[0m\u001b[0;34m\u001b[0m\u001b[0m\n\u001b[1;32m      5\u001b[0m         \u001b[0;32mif\u001b[0m \u001b[0mnode\u001b[0m \u001b[0;32mnot\u001b[0m \u001b[0;32min\u001b[0m \u001b[0mmarked\u001b[0m\u001b[0;34m:\u001b[0m\u001b[0;34m\u001b[0m\u001b[0m\n\u001b[0;32m----> 6\u001b[0;31m             \u001b[0mmark_component_nr\u001b[0m\u001b[0;34m(\u001b[0m\u001b[0mG\u001b[0m\u001b[0;34m,\u001b[0m \u001b[0mnode\u001b[0m\u001b[0;34m,\u001b[0m \u001b[0mmarked\u001b[0m\u001b[0;34m)\u001b[0m\u001b[0;34m\u001b[0m\u001b[0m\n\u001b[0m\u001b[1;32m      7\u001b[0m             \u001b[0mn_components\u001b[0m \u001b[0;34m+=\u001b[0m \u001b[0;36m1\u001b[0m\u001b[0;34m\u001b[0m\u001b[0m\n\u001b[1;32m      8\u001b[0m     \u001b[0;32mreturn\u001b[0m \u001b[0mn_components\u001b[0m\u001b[0;34m\u001b[0m\u001b[0m\n",
        "\u001b[0;32m<ipython-input-33-5bf5ad0076ee>\u001b[0m in \u001b[0;36mmark_component_nr\u001b[0;34m(G, node, marked)\u001b[0m\n\u001b[1;32m      7\u001b[0m         \u001b[0;32mfor\u001b[0m \u001b[0mneighbor\u001b[0m \u001b[0;32min\u001b[0m \u001b[0mG\u001b[0m\u001b[0;34m[\u001b[0m\u001b[0mcurrent\u001b[0m\u001b[0;34m]\u001b[0m\u001b[0;34m:\u001b[0m\u001b[0;34m\u001b[0m\u001b[0m\n\u001b[1;32m      8\u001b[0m             \u001b[0;32mif\u001b[0m \u001b[0mneighbor\u001b[0m \u001b[0;32mnot\u001b[0m \u001b[0;32min\u001b[0m \u001b[0mmarked\u001b[0m\u001b[0;34m:\u001b[0m\u001b[0;34m\u001b[0m\u001b[0m\n\u001b[0;32m----> 9\u001b[0;31m                 \u001b[0mmarked\u001b[0m\u001b[0;34m[\u001b[0m\u001b[0mneighbor\u001b[0m\u001b[0;34m]\u001b[0m \u001b[0;34m=\u001b[0m \u001b[0mTrue\u001b[0m\u001b[0;34m\u001b[0m\u001b[0m\n\u001b[0m\u001b[1;32m     10\u001b[0m                 \u001b[0mopen_list\u001b[0m\u001b[0;34m.\u001b[0m\u001b[0mappend\u001b[0m\u001b[0;34m(\u001b[0m\u001b[0mneighbor\u001b[0m\u001b[0;34m)\u001b[0m\u001b[0;34m\u001b[0m\u001b[0m\n\u001b[1;32m     11\u001b[0m     \u001b[0;32mreturn\u001b[0m \u001b[0mlen\u001b[0m\u001b[0;34m(\u001b[0m\u001b[0mmarked\u001b[0m\u001b[0;34m)\u001b[0m\u001b[0;34m\u001b[0m\u001b[0m\n",
        "\u001b[0;31mKeyboardInterrupt\u001b[0m: "
       ]
      }
     ],
     "prompt_number": 121
    },
    {
     "cell_type": "code",
     "collapsed": false,
     "input": [],
     "language": "python",
     "metadata": {},
     "outputs": []
    }
   ],
   "metadata": {}
  }
 ]
}