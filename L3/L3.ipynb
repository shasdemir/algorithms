{
 "metadata": {
  "name": "",
  "signature": "sha256:39fee2e39cb7adf4193a59df0368a3bc2b783994ac1caa2c5a8e1603bd4196ef"
 },
 "nbformat": 3,
 "nbformat_minor": 0,
 "worksheets": [
  {
   "cells": [
    {
     "cell_type": "code",
     "collapsed": false,
     "input": [
      "def make_link(G, node1, node2):\n",
      "    if node1 not in G:\n",
      "        G[node1] = {}\n",
      "    (G[node1])[node2] = 1\n",
      "    if node2 not in G:\n",
      "        G[node2] = {}\n",
      "    (G[node2])[node1] = 1\n",
      "    return G"
     ],
     "language": "python",
     "metadata": {},
     "outputs": [],
     "prompt_number": 2
    },
    {
     "cell_type": "code",
     "collapsed": false,
     "input": [
      "def mark_component(G, node, marked):\n",
      "    marked[node] = True\n",
      "    total_marked = 1\n",
      "    for neighbor in G[node]:\n",
      "        if neighbor not in marked:\n",
      "            total_marked += mark_component(G, neighbor, marked)\n",
      "    return total_marked"
     ],
     "language": "python",
     "metadata": {},
     "outputs": [],
     "prompt_number": 3
    },
    {
     "cell_type": "code",
     "collapsed": false,
     "input": [
      "def list_component_sizes(G):\n",
      "    marked = {}\n",
      "    for node in G:\n",
      "        if node not in marked:\n",
      "            print \"Component containing\", node, \":\", mark_component(G, node, marked)"
     ],
     "language": "python",
     "metadata": {},
     "outputs": [],
     "prompt_number": 4
    },
    {
     "cell_type": "code",
     "collapsed": false,
     "input": [
      "print 'osman', 2, 3, 'google'"
     ],
     "language": "python",
     "metadata": {},
     "outputs": [
      {
       "output_type": "stream",
       "stream": "stdout",
       "text": [
        "osman 2 3 google\n"
       ]
      }
     ],
     "prompt_number": 5
    },
    {
     "cell_type": "code",
     "collapsed": false,
     "input": [
      "connections = [('a', 'g'), ('a', 'd'), ('d', 'g'), ('g', 'c'), ('b', 'f'), ('f', 'e'), ('e', 'h')]\n",
      "\n",
      "G = {}\n",
      "for (x, y) in connections:\n",
      "    make_link(G, x, y)"
     ],
     "language": "python",
     "metadata": {},
     "outputs": [],
     "prompt_number": 6
    },
    {
     "cell_type": "code",
     "collapsed": false,
     "input": [
      "list_component_sizes(G)"
     ],
     "language": "python",
     "metadata": {},
     "outputs": [
      {
       "output_type": "stream",
       "stream": "stdout",
       "text": [
        "Component containing a : 4\n",
        "Component containing b : 4\n"
       ]
      }
     ],
     "prompt_number": 7
    },
    {
     "cell_type": "markdown",
     "metadata": {},
     "source": [
      "---"
     ]
    },
    {
     "cell_type": "code",
     "collapsed": false,
     "input": [
      "def check_connection(G, v1, v2):\n",
      "    marked = {}\n",
      "    mark_component(G, v1, marked)\n",
      "\n",
      "    return v2 in marked"
     ],
     "language": "python",
     "metadata": {},
     "outputs": [],
     "prompt_number": 8
    },
    {
     "cell_type": "code",
     "collapsed": false,
     "input": [
      "check_connection(G, 'a', 'c')"
     ],
     "language": "python",
     "metadata": {},
     "outputs": [
      {
       "metadata": {},
       "output_type": "pyout",
       "prompt_number": 9,
       "text": [
        "True"
       ]
      }
     ],
     "prompt_number": 9
    },
    {
     "cell_type": "code",
     "collapsed": false,
     "input": [
      "5 -1."
     ],
     "language": "python",
     "metadata": {},
     "outputs": [
      {
       "metadata": {},
       "output_type": "pyout",
       "prompt_number": 10,
       "text": [
        "4.0"
       ]
      }
     ],
     "prompt_number": 10
    },
    {
     "cell_type": "markdown",
     "metadata": {},
     "source": [
      "---"
     ]
    },
    {
     "cell_type": "code",
     "collapsed": false,
     "input": [
      "def path(G, v1, v2):\n",
      "    path_from_start = {}\n",
      "\n",
      "    open_list = [v1]\n",
      "    path_from_start[v1] = [v1]\n",
      "\n",
      "    while open_list:\n",
      "        current = open_list.pop(0)  # bfs\n",
      "\n",
      "        for neighbor in G[current]:\n",
      "            if neighbor not in path_from_start:\n",
      "                path_from_start[neighbor] = path_from_start[current] + [neighbor]\n",
      "                if neighbor == v2:\n",
      "                    return path_from_start[v2]\n",
      "                open_list.append(neighbor)\n",
      "    return False"
     ],
     "language": "python",
     "metadata": {},
     "outputs": [],
     "prompt_number": 11
    },
    {
     "cell_type": "code",
     "collapsed": false,
     "input": [
      "def centrality(G, v):\n",
      "    path_lengths = [len(path(G, v, other))-1 for other in G]\n",
      "    return sum(path_lengths) / (len(path_lengths)-1.)"
     ],
     "language": "python",
     "metadata": {},
     "outputs": [],
     "prompt_number": 12
    },
    {
     "cell_type": "code",
     "collapsed": false,
     "input": [
      "path(G, 'a', 'c')"
     ],
     "language": "python",
     "metadata": {},
     "outputs": [
      {
       "metadata": {},
       "output_type": "pyout",
       "prompt_number": 13,
       "text": [
        "['a', 'g', 'c']"
       ]
      }
     ],
     "prompt_number": 13
    },
    {
     "cell_type": "code",
     "collapsed": false,
     "input": [
      "flights = [(\"ORD\", \"SEA\"), (\"ORD\", \"LAX\"), ('ORD', 'DFW'), ('ORD', 'PIT'),\n",
      "           ('SEA', 'LAX'), ('LAX', 'DFW'), ('ATL', 'PIT'), ('ATL', 'RDU'),\n",
      "           ('RDU', 'PHL'), ('PIT', 'PHL'), ('PHL', 'PVD')]\n",
      "\n",
      "G = {}\n",
      "for (x, y) in flights:\n",
      "    make_link(G, x, y)"
     ],
     "language": "python",
     "metadata": {},
     "outputs": [],
     "prompt_number": 14
    },
    {
     "cell_type": "code",
     "collapsed": false,
     "input": [
      "list_component_sizes(G)"
     ],
     "language": "python",
     "metadata": {},
     "outputs": [
      {
       "output_type": "stream",
       "stream": "stdout",
       "text": [
        "Component containing RDU : 9\n"
       ]
      }
     ],
     "prompt_number": 15
    },
    {
     "cell_type": "code",
     "collapsed": false,
     "input": [
      "path(G, 'ORD', 'ATL')"
     ],
     "language": "python",
     "metadata": {},
     "outputs": [
      {
       "metadata": {},
       "output_type": "pyout",
       "prompt_number": 16,
       "text": [
        "['ORD', 'PIT', 'ATL']"
       ]
      }
     ],
     "prompt_number": 16
    },
    {
     "cell_type": "code",
     "collapsed": false,
     "input": [
      "centrality(G, 'ATL')"
     ],
     "language": "python",
     "metadata": {},
     "outputs": [
      {
       "ename": "TypeError",
       "evalue": "object of type 'bool' has no len()",
       "output_type": "pyerr",
       "traceback": [
        "\u001b[0;31m---------------------------------------------------------------------------\u001b[0m\n\u001b[0;31mTypeError\u001b[0m                                 Traceback (most recent call last)",
        "\u001b[0;32m<ipython-input-17-2acf89a4b9e4>\u001b[0m in \u001b[0;36m<module>\u001b[0;34m()\u001b[0m\n\u001b[0;32m----> 1\u001b[0;31m \u001b[0mcentrality\u001b[0m\u001b[0;34m(\u001b[0m\u001b[0mG\u001b[0m\u001b[0;34m,\u001b[0m \u001b[0;34m'ATL'\u001b[0m\u001b[0;34m)\u001b[0m\u001b[0;34m\u001b[0m\u001b[0m\n\u001b[0m",
        "\u001b[0;32m<ipython-input-12-462b0cc6bf48>\u001b[0m in \u001b[0;36mcentrality\u001b[0;34m(G, v)\u001b[0m\n\u001b[1;32m      1\u001b[0m \u001b[0;32mdef\u001b[0m \u001b[0mcentrality\u001b[0m\u001b[0;34m(\u001b[0m\u001b[0mG\u001b[0m\u001b[0;34m,\u001b[0m \u001b[0mv\u001b[0m\u001b[0;34m)\u001b[0m\u001b[0;34m:\u001b[0m\u001b[0;34m\u001b[0m\u001b[0m\n\u001b[0;32m----> 2\u001b[0;31m     \u001b[0mpath_lengths\u001b[0m \u001b[0;34m=\u001b[0m \u001b[0;34m[\u001b[0m\u001b[0mlen\u001b[0m\u001b[0;34m(\u001b[0m\u001b[0mpath\u001b[0m\u001b[0;34m(\u001b[0m\u001b[0mG\u001b[0m\u001b[0;34m,\u001b[0m \u001b[0mv\u001b[0m\u001b[0;34m,\u001b[0m \u001b[0mother\u001b[0m\u001b[0;34m)\u001b[0m\u001b[0;34m)\u001b[0m\u001b[0;34m-\u001b[0m\u001b[0;36m1\u001b[0m \u001b[0;32mfor\u001b[0m \u001b[0mother\u001b[0m \u001b[0;32min\u001b[0m \u001b[0mG\u001b[0m\u001b[0;34m]\u001b[0m\u001b[0;34m\u001b[0m\u001b[0m\n\u001b[0m\u001b[1;32m      3\u001b[0m     \u001b[0;32mreturn\u001b[0m \u001b[0msum\u001b[0m\u001b[0;34m(\u001b[0m\u001b[0mpath_lengths\u001b[0m\u001b[0;34m)\u001b[0m \u001b[0;34m/\u001b[0m \u001b[0;34m(\u001b[0m\u001b[0mlen\u001b[0m\u001b[0;34m(\u001b[0m\u001b[0mpath_lengths\u001b[0m\u001b[0;34m)\u001b[0m\u001b[0;34m-\u001b[0m\u001b[0;36m1.\u001b[0m\u001b[0;34m)\u001b[0m\u001b[0;34m\u001b[0m\u001b[0m\n",
        "\u001b[0;31mTypeError\u001b[0m: object of type 'bool' has no len()"
       ]
      }
     ],
     "prompt_number": 17
    },
    {
     "cell_type": "markdown",
     "metadata": {},
     "source": [
      "---"
     ]
    },
    {
     "cell_type": "code",
     "collapsed": false,
     "input": [
      "marked = {}"
     ],
     "language": "python",
     "metadata": {},
     "outputs": [],
     "prompt_number": 18
    },
    {
     "cell_type": "code",
     "collapsed": false,
     "input": [
      "def mark_component_nr(G, node, marked):\n",
      "    marked[node] = True\n",
      "    open_list = [node]\n",
      "\n",
      "    while open_list:\n",
      "        current = open_list.pop(0)\n",
      "        for neighbor in G[current]:\n",
      "            if neighbor not in marked:\n",
      "                marked[neighbor] = True\n",
      "                open_list.append(neighbor)\n",
      "    return len(marked)"
     ],
     "language": "python",
     "metadata": {},
     "outputs": [],
     "prompt_number": 19
    },
    {
     "cell_type": "code",
     "collapsed": false,
     "input": [
      "def test():\n",
      "    test_edges = [(1, 2), (2, 3), (4, 5), (5, 6)]\n",
      "    G = {}\n",
      "    for n1, n2 in test_edges:\n",
      "        make_link(G, n1, n2)\n",
      "    marked = {}\n",
      "    assert mark_component_nr(G, 1, marked) == 3\n",
      "    assert 1 in marked\n",
      "    assert 2 in marked\n",
      "    assert 3 in marked\n",
      "    assert 4 not in marked\n",
      "    assert 5 not in marked\n",
      "    assert 6 not in marked"
     ],
     "language": "python",
     "metadata": {},
     "outputs": [],
     "prompt_number": 20
    },
    {
     "cell_type": "code",
     "collapsed": false,
     "input": [
      "test()"
     ],
     "language": "python",
     "metadata": {},
     "outputs": [],
     "prompt_number": 21
    },
    {
     "cell_type": "markdown",
     "metadata": {},
     "source": [
      "---"
     ]
    },
    {
     "cell_type": "markdown",
     "metadata": {},
     "source": [
      "Copy of path() above:"
     ]
    },
    {
     "cell_type": "code",
     "collapsed": false,
     "input": [
      "def path(G, v1, v2):\n",
      "    path_from_start = {}\n",
      "\n",
      "    open_list = [v1]\n",
      "    path_from_start[v1] = [v1]\n",
      "\n",
      "    while open_list:\n",
      "        current = open_list.pop(0)  # bfs\n",
      "\n",
      "        for neighbor in G[current]:\n",
      "            if neighbor not in path_from_start:\n",
      "                path_from_start[neighbor] = path_from_start[current] + [neighbor]\n",
      "                if neighbor == v2:\n",
      "                    return path_from_start[v2]\n",
      "                open_list.append(neighbor)\n",
      "    return False"
     ],
     "language": "python",
     "metadata": {},
     "outputs": [],
     "prompt_number": 22
    },
    {
     "cell_type": "code",
     "collapsed": false,
     "input": [
      "def centrality_max(G, v):\n",
      "    path_lengths = [len(path(G, v, other))-1 for other in G if other != v]\n",
      "    return max(path_lengths)"
     ],
     "language": "python",
     "metadata": {},
     "outputs": [],
     "prompt_number": 23
    },
    {
     "cell_type": "code",
     "collapsed": false,
     "input": [
      "def test():\n",
      "    chain = ((1,2), (2,3), (3,4), (4,5), (5,6))\n",
      "    G = {}\n",
      "    for n1, n2 in chain:\n",
      "        make_link(G, n1, n2)\n",
      "    assert centrality_max(G, 1) == 5\n",
      "    assert centrality_max(G, 3) == 3\n",
      "    tree = ((1, 2), (1, 3),\n",
      "            (2, 4), (2, 5),\n",
      "            (3, 6), (3, 7),\n",
      "            (4, 8), (4, 9),\n",
      "            (6, 10), (6, 11))\n",
      "    G = {}\n",
      "    for n1, n2 in tree:\n",
      "        make_link(G, n1, n2)\n",
      "    assert centrality_max(G, 1) == 3\n",
      "    assert centrality_max(G, 11) == 6"
     ],
     "language": "python",
     "metadata": {},
     "outputs": [],
     "prompt_number": 24
    },
    {
     "cell_type": "code",
     "collapsed": false,
     "input": [
      "test()"
     ],
     "language": "python",
     "metadata": {},
     "outputs": [],
     "prompt_number": 25
    },
    {
     "cell_type": "markdown",
     "metadata": {},
     "source": [
      "---"
     ]
    },
    {
     "cell_type": "code",
     "collapsed": false,
     "input": [
      "def remove_link(G, v1, v2):\n",
      "    for points in (v1, v2), (v2, v1):\n",
      "        G[points[0]][points[1]] -= 1\n",
      "        if G[points[0]][points[1]] == 0:\n",
      "            del G[points[0]][points[1]] "
     ],
     "language": "python",
     "metadata": {},
     "outputs": [],
     "prompt_number": 26
    },
    {
     "cell_type": "code",
     "collapsed": false,
     "input": [
      "def count_connected_components(G):\n",
      "    n_components = 0\n",
      "    marked = {}\n",
      "    for node in G:\n",
      "        if node not in marked:\n",
      "            mark_component_nr(G, node, marked)\n",
      "            n_components += 1\n",
      "    return n_components"
     ],
     "language": "python",
     "metadata": {},
     "outputs": [],
     "prompt_number": 27
    },
    {
     "cell_type": "code",
     "collapsed": false,
     "input": [
      "flights = [(\"ORD\", \"SEA\"), (\"ORD\", \"LAX\"), ('ORD', 'DFW'), ('ORD', 'PIT'),\n",
      "           ('SEA', 'LAX'), ('LAX', 'DFW'), ('ATL', 'PIT'), ('ATL', 'RDU'),\n",
      "           ('RDU', 'PHL'), ('PIT', 'PHL'), ('PHL', 'PVD')]\n",
      "\n",
      "G = {}\n",
      "for (x, y) in flights:\n",
      "    make_link(G, x, y)"
     ],
     "language": "python",
     "metadata": {},
     "outputs": [],
     "prompt_number": 28
    },
    {
     "cell_type": "code",
     "collapsed": false,
     "input": [
      "G"
     ],
     "language": "python",
     "metadata": {},
     "outputs": [
      {
       "metadata": {},
       "output_type": "pyout",
       "prompt_number": 29,
       "text": [
        "{'ATL': {'PIT': 1, 'RDU': 1},\n",
        " 'DFW': {'LAX': 1, 'ORD': 1},\n",
        " 'LAX': {'DFW': 1, 'ORD': 1, 'SEA': 1},\n",
        " 'ORD': {'DFW': 1, 'LAX': 1, 'PIT': 1, 'SEA': 1},\n",
        " 'PHL': {'PIT': 1, 'PVD': 1, 'RDU': 1},\n",
        " 'PIT': {'ATL': 1, 'ORD': 1, 'PHL': 1},\n",
        " 'PVD': {'PHL': 1},\n",
        " 'RDU': {'ATL': 1, 'PHL': 1},\n",
        " 'SEA': {'LAX': 1, 'ORD': 1}}"
       ]
      }
     ],
     "prompt_number": 29
    },
    {
     "cell_type": "code",
     "collapsed": false,
     "input": [
      "count_connected_components(G)"
     ],
     "language": "python",
     "metadata": {},
     "outputs": [
      {
       "metadata": {},
       "output_type": "pyout",
       "prompt_number": 30,
       "text": [
        "1"
       ]
      }
     ],
     "prompt_number": 30
    },
    {
     "cell_type": "code",
     "collapsed": false,
     "input": [
      "remove_link(G, \"ORD\", \"LAX\")"
     ],
     "language": "python",
     "metadata": {},
     "outputs": [],
     "prompt_number": 31
    },
    {
     "cell_type": "code",
     "collapsed": false,
     "input": [
      "count_connected_components(G)"
     ],
     "language": "python",
     "metadata": {},
     "outputs": [
      {
       "metadata": {},
       "output_type": "pyout",
       "prompt_number": 32,
       "text": [
        "1"
       ]
      }
     ],
     "prompt_number": 32
    },
    {
     "cell_type": "code",
     "collapsed": false,
     "input": [
      "G"
     ],
     "language": "python",
     "metadata": {},
     "outputs": [
      {
       "metadata": {},
       "output_type": "pyout",
       "prompt_number": 33,
       "text": [
        "{'ATL': {'PIT': 1, 'RDU': 1},\n",
        " 'DFW': {'LAX': 1, 'ORD': 1},\n",
        " 'LAX': {'DFW': 1, 'SEA': 1},\n",
        " 'ORD': {'DFW': 1, 'PIT': 1, 'SEA': 1},\n",
        " 'PHL': {'PIT': 1, 'PVD': 1, 'RDU': 1},\n",
        " 'PIT': {'ATL': 1, 'ORD': 1, 'PHL': 1},\n",
        " 'PVD': {'PHL': 1},\n",
        " 'RDU': {'ATL': 1, 'PHL': 1},\n",
        " 'SEA': {'LAX': 1, 'ORD': 1}}"
       ]
      }
     ],
     "prompt_number": 33
    },
    {
     "cell_type": "code",
     "collapsed": false,
     "input": [
      "def is_bridge_edge(G, v1, v2):\n",
      "    \"\"\" Given a connected graph G and edge = (v1, v2) in G, return if G is a bridge edge. \"\"\"\n",
      "\n",
      "    # strategy: remove edge from the graph, and count the number of connected components. If 2, edge was a bridge edge.\n",
      "    # in either case, put edge back into the graph.\n",
      "    remove_link(G, v1, v2)\n",
      "    result = count_connected_components(G) == 2\n",
      "    make_link(G, v1, v2)\n",
      "\n",
      "    return result"
     ],
     "language": "python",
     "metadata": {},
     "outputs": [],
     "prompt_number": 34
    },
    {
     "cell_type": "code",
     "collapsed": false,
     "input": [
      "def list_edges(G):\n",
      "    \"\"\" Return the edges in graph G as a counter of tuples. \"\"\"\n",
      "\n",
      "    def grow_edge_counter(counter, edge):\n",
      "        for rep in edge, edge[::-1]:\n",
      "            if rep in counter:\n",
      "                counter[rep] += 1\n",
      "            else:\n",
      "                counter[rep] = 1\n",
      "        if edge[::-1] in counter:\n",
      "            del counter[edge]\n",
      "\n",
      "    edge_counter = {}\n",
      "    for node in G:\n",
      "        for end in G[node]:\n",
      "            grow_edge_counter(edge_counter, (node, end))\n",
      "\n",
      "    return edge_counter"
     ],
     "language": "python",
     "metadata": {},
     "outputs": [],
     "prompt_number": 35
    },
    {
     "cell_type": "code",
     "collapsed": false,
     "input": [
      "list_edges(G)"
     ],
     "language": "python",
     "metadata": {},
     "outputs": [
      {
       "metadata": {},
       "output_type": "pyout",
       "prompt_number": 36,
       "text": [
        "{('ATL', 'PIT'): 1,\n",
        " ('LAX', 'DFW'): 1,\n",
        " ('LAX', 'SEA'): 1,\n",
        " ('ORD', 'DFW'): 1,\n",
        " ('ORD', 'PIT'): 1,\n",
        " ('PHL', 'PIT'): 1,\n",
        " ('PHL', 'PVD'): 1,\n",
        " ('RDU', 'ATL'): 1,\n",
        " ('RDU', 'PHL'): 1,\n",
        " ('SEA', 'ORD'): 1}"
       ]
      }
     ],
     "prompt_number": 36
    },
    {
     "cell_type": "code",
     "collapsed": false,
     "input": [
      "(1,2)[::-1]"
     ],
     "language": "python",
     "metadata": {},
     "outputs": [
      {
       "metadata": {},
       "output_type": "pyout",
       "prompt_number": 37,
       "text": [
        "(2, 1)"
       ]
      }
     ],
     "prompt_number": 37
    },
    {
     "cell_type": "code",
     "collapsed": false,
     "input": [
      "def list_bridge_edges(G):\n",
      "    \"\"\" Return a list od bridge edges in G. \"\"\"\n",
      "\n",
      "    all_edges = list_edges(G)\n",
      "\n",
      "    return [edge for edge in all_edges if is_bridge_edge(G, *edge)]"
     ],
     "language": "python",
     "metadata": {},
     "outputs": [],
     "prompt_number": 38
    },
    {
     "cell_type": "code",
     "collapsed": false,
     "input": [
      "list_bridge_edges(G)"
     ],
     "language": "python",
     "metadata": {},
     "outputs": [
      {
       "metadata": {},
       "output_type": "pyout",
       "prompt_number": 39,
       "text": [
        "[('PHL', 'PVD'), ('ORD', 'PIT')]"
       ]
      }
     ],
     "prompt_number": 39
    },
    {
     "cell_type": "markdown",
     "metadata": {},
     "source": [
      "---"
     ]
    },
    {
     "cell_type": "code",
     "collapsed": false,
     "input": [
      "def remove_node(G, node):\n",
      "    \"\"\" Remove a node and all edges connected to it from the graph G. \"\"\"\n",
      "\n",
      "    for neighbor in G[node]:\n",
      "        del G[neighbor][node]\n",
      "    del G[node]"
     ],
     "language": "python",
     "metadata": {},
     "outputs": [],
     "prompt_number": 40
    },
    {
     "cell_type": "code",
     "collapsed": false,
     "input": [
      "G"
     ],
     "language": "python",
     "metadata": {},
     "outputs": [
      {
       "metadata": {},
       "output_type": "pyout",
       "prompt_number": 41,
       "text": [
        "{'ATL': {'PIT': 1, 'RDU': 1},\n",
        " 'DFW': {'LAX': 1, 'ORD': 1},\n",
        " 'LAX': {'DFW': 1, 'SEA': 1},\n",
        " 'ORD': {'DFW': 1, 'PIT': 1, 'SEA': 1},\n",
        " 'PHL': {'PIT': 1, 'PVD': 1, 'RDU': 1},\n",
        " 'PIT': {'ATL': 1, 'ORD': 1, 'PHL': 1},\n",
        " 'PVD': {'PHL': 1},\n",
        " 'RDU': {'ATL': 1, 'PHL': 1},\n",
        " 'SEA': {'LAX': 1, 'ORD': 1}}"
       ]
      }
     ],
     "prompt_number": 41
    },
    {
     "cell_type": "code",
     "collapsed": false,
     "input": [
      "remove_node(G, 'ATL')"
     ],
     "language": "python",
     "metadata": {},
     "outputs": [],
     "prompt_number": 42
    },
    {
     "cell_type": "code",
     "collapsed": false,
     "input": [
      "G"
     ],
     "language": "python",
     "metadata": {},
     "outputs": [
      {
       "metadata": {},
       "output_type": "pyout",
       "prompt_number": 43,
       "text": [
        "{'DFW': {'LAX': 1, 'ORD': 1},\n",
        " 'LAX': {'DFW': 1, 'SEA': 1},\n",
        " 'ORD': {'DFW': 1, 'PIT': 1, 'SEA': 1},\n",
        " 'PHL': {'PIT': 1, 'PVD': 1, 'RDU': 1},\n",
        " 'PIT': {'ORD': 1, 'PHL': 1},\n",
        " 'PVD': {'PHL': 1},\n",
        " 'RDU': {'PHL': 1},\n",
        " 'SEA': {'LAX': 1, 'ORD': 1}}"
       ]
      }
     ],
     "prompt_number": 43
    },
    {
     "cell_type": "markdown",
     "metadata": {},
     "source": [
      "---"
     ]
    },
    {
     "cell_type": "code",
     "collapsed": false,
     "input": [
      "def reset_G():\n",
      "    flights = [(\"ORD\", \"SEA\"), (\"ORD\", \"LAX\"), ('ORD', 'DFW'), ('ORD', 'PIT'),\n",
      "               ('SEA', 'LAX'), ('LAX', 'DFW'), ('ATL', 'PIT'), ('ATL', 'RDU'),\n",
      "               ('RDU', 'PHL'), ('PIT', 'PHL'), ('PHL', 'PVD')]\n",
      "    G = {}\n",
      "    for (x, y) in flights:\n",
      "        make_link(G, x, y)\n",
      "    return G"
     ],
     "language": "python",
     "metadata": {},
     "outputs": [],
     "prompt_number": 44
    },
    {
     "cell_type": "code",
     "collapsed": false,
     "input": [
      "G = reset_G()"
     ],
     "language": "python",
     "metadata": {},
     "outputs": [],
     "prompt_number": 45
    },
    {
     "cell_type": "code",
     "collapsed": false,
     "input": [
      "G"
     ],
     "language": "python",
     "metadata": {},
     "outputs": [
      {
       "metadata": {},
       "output_type": "pyout",
       "prompt_number": 46,
       "text": [
        "{'ATL': {'PIT': 1, 'RDU': 1},\n",
        " 'DFW': {'LAX': 1, 'ORD': 1},\n",
        " 'LAX': {'DFW': 1, 'ORD': 1, 'SEA': 1},\n",
        " 'ORD': {'DFW': 1, 'LAX': 1, 'PIT': 1, 'SEA': 1},\n",
        " 'PHL': {'PIT': 1, 'PVD': 1, 'RDU': 1},\n",
        " 'PIT': {'ATL': 1, 'ORD': 1, 'PHL': 1},\n",
        " 'PVD': {'PHL': 1},\n",
        " 'RDU': {'ATL': 1, 'PHL': 1},\n",
        " 'SEA': {'LAX': 1, 'ORD': 1}}"
       ]
      }
     ],
     "prompt_number": 46
    },
    {
     "cell_type": "code",
     "collapsed": false,
     "input": [
      "def edges_to_nbors(G, node):\n",
      "    \"\"\" Return the list of all edges connected to node. \"\"\"\n",
      "\n",
      "    edges = []\n",
      "    for nbor in G[node]:\n",
      "        edges += [(node, nbor)] * G[node][nbor]\n",
      "\n",
      "    return edges"
     ],
     "language": "python",
     "metadata": {},
     "outputs": [],
     "prompt_number": 47
    },
    {
     "cell_type": "code",
     "collapsed": false,
     "input": [
      "edges_to_nbors(G, 'LAX')"
     ],
     "language": "python",
     "metadata": {},
     "outputs": [
      {
       "metadata": {},
       "output_type": "pyout",
       "prompt_number": 48,
       "text": [
        "[('LAX', 'ORD'), ('LAX', 'DFW'), ('LAX', 'SEA')]"
       ]
      }
     ],
     "prompt_number": 48
    },
    {
     "cell_type": "markdown",
     "metadata": {},
     "source": [
      "---"
     ]
    },
    {
     "cell_type": "code",
     "collapsed": false,
     "input": [
      "import copy"
     ],
     "language": "python",
     "metadata": {},
     "outputs": [],
     "prompt_number": 49
    },
    {
     "cell_type": "code",
     "collapsed": false,
     "input": [
      "def graph_from_edge_list(e_list):\n",
      "    graph = {}\n",
      "    for edge in e_list:\n",
      "        make_link(graph, *edge)\n",
      "    return graph"
     ],
     "language": "python",
     "metadata": {},
     "outputs": [],
     "prompt_number": 50
    },
    {
     "cell_type": "code",
     "collapsed": false,
     "input": [
      "def fleury(G):\n",
      "    \"\"\" Implement Fleury's Algorithm of finding Eulerian Tours of graph G as descibed in\n",
      "    http://www.ctl.ua.edu/math103/euler/ifagraph.htm. Return list of nodes visited. \"\"\"\n",
      "\n",
      "    graph = copy.deepcopy(G)\n",
      "\n",
      "    remaining_edges = set(list_edges(graph))\n",
      "    path = [graph.keys()[0]]  # start from a random point\n",
      "\n",
      "    itercount = 0\n",
      "    while remaining_edges:\n",
      "        graph_of_remaining_edges = graph_from_edge_list(remaining_edges)\n",
      "\n",
      "        possible_edges_to_go = edges_to_nbors(graph_of_remaining_edges, path[-1])\n",
      "\n",
      "        is_bridge_of_untravelled = {edge: is_bridge_edge(graph_of_remaining_edges, *edge)\n",
      "                                    for edge in possible_edges_to_go}\n",
      "\n",
      "        edge_taken = None\n",
      "        if is_bridge_of_untravelled == {edge: True for edge in is_bridge_of_untravelled}:\n",
      "            edge_taken = is_bridge_of_untravelled.keys()[0]\n",
      "        else:\n",
      "            edge_taken = [edge for edge in possible_edges_to_go if is_bridge_of_untravelled[edge] is False][0]\n",
      "        if not edge_taken:\n",
      "            raise Exception(\"Can't find Eulerian path.\")\n",
      "    \n",
      "        print \"before removal: \" + str(remaining_edges)\n",
      "        print \"edge_taken: \" + str(edge_taken)\n",
      "        remaining_edges -= {edge_taken}\n",
      "        print \"just after set difference: \" + str(remaining_edges)\n",
      "        \n",
      "\n",
      "        path.append(edge_taken[1] if path[-1] == edge_taken[0] else edge_taken[0])\n",
      "        \n",
      "        itercount += 1\n",
      "        if itercount > 10:\n",
      "            remaining_edges = None\n",
      "    return path"
     ],
     "language": "python",
     "metadata": {},
     "outputs": [],
     "prompt_number": 71
    },
    {
     "cell_type": "code",
     "collapsed": false,
     "input": [
      "edges = \"AB, BC, BC, AE, AE, EB, EC, AF, FE, FD, FD, DE, DC\".split(', ')"
     ],
     "language": "python",
     "metadata": {},
     "outputs": [],
     "prompt_number": 52
    },
    {
     "cell_type": "code",
     "collapsed": false,
     "input": [
      "edges"
     ],
     "language": "python",
     "metadata": {},
     "outputs": [
      {
       "metadata": {},
       "output_type": "pyout",
       "prompt_number": 53,
       "text": [
        "['AB', 'BC', 'BC', 'AE', 'AE', 'EB', 'EC', 'AF', 'FE', 'FD', 'FD', 'DE', 'DC']"
       ]
      }
     ],
     "prompt_number": 53
    },
    {
     "cell_type": "code",
     "collapsed": false,
     "input": [
      "edges = [(edge[0], edge[1]) for edge in edges]"
     ],
     "language": "python",
     "metadata": {},
     "outputs": [],
     "prompt_number": 54
    },
    {
     "cell_type": "code",
     "collapsed": false,
     "input": [
      "edges"
     ],
     "language": "python",
     "metadata": {},
     "outputs": [
      {
       "metadata": {},
       "output_type": "pyout",
       "prompt_number": 55,
       "text": [
        "[('A', 'B'),\n",
        " ('B', 'C'),\n",
        " ('B', 'C'),\n",
        " ('A', 'E'),\n",
        " ('A', 'E'),\n",
        " ('E', 'B'),\n",
        " ('E', 'C'),\n",
        " ('A', 'F'),\n",
        " ('F', 'E'),\n",
        " ('F', 'D'),\n",
        " ('F', 'D'),\n",
        " ('D', 'E'),\n",
        " ('D', 'C')]"
       ]
      }
     ],
     "prompt_number": 55
    },
    {
     "cell_type": "code",
     "collapsed": false,
     "input": [
      "def make_fleury_trial_graph():\n",
      "    edges = \"AB, BC, BC, AE, AE, EB, EC, AF, FE, FD, FD, DE, DC\".split(', ')\n",
      "    edges = [(edge[0], edge[1]) for edge in edges]\n",
      "\n",
      "    return graph_from_edge_list(edges)"
     ],
     "language": "python",
     "metadata": {},
     "outputs": [],
     "prompt_number": 56
    },
    {
     "cell_type": "code",
     "collapsed": false,
     "input": [
      "f_graph = make_fleury_trial_graph()\n",
      "f_graph"
     ],
     "language": "python",
     "metadata": {},
     "outputs": [
      {
       "metadata": {},
       "output_type": "pyout",
       "prompt_number": 57,
       "text": [
        "{'A': {'B': 1, 'E': 1, 'F': 1},\n",
        " 'B': {'A': 1, 'C': 1, 'E': 1},\n",
        " 'C': {'B': 1, 'D': 1, 'E': 1},\n",
        " 'D': {'C': 1, 'E': 1, 'F': 1},\n",
        " 'E': {'A': 1, 'B': 1, 'C': 1, 'D': 1, 'F': 1},\n",
        " 'F': {'A': 1, 'D': 1, 'E': 1}}"
       ]
      }
     ],
     "prompt_number": 57
    },
    {
     "cell_type": "code",
     "collapsed": false,
     "input": [
      "triangle = {edge: {other: 1 for other in (set(range(3)) - set([edge]))} for edge in range(3)}"
     ],
     "language": "python",
     "metadata": {},
     "outputs": [],
     "prompt_number": 58
    },
    {
     "cell_type": "code",
     "collapsed": false,
     "input": [
      "triangle"
     ],
     "language": "python",
     "metadata": {},
     "outputs": [
      {
       "metadata": {},
       "output_type": "pyout",
       "prompt_number": 59,
       "text": [
        "{0: {1: 1, 2: 1}, 1: {0: 1, 2: 1}, 2: {0: 1, 1: 1}}"
       ]
      }
     ],
     "prompt_number": 59
    },
    {
     "cell_type": "code",
     "collapsed": false,
     "input": [
      "fleury(triangle)"
     ],
     "language": "python",
     "metadata": {},
     "outputs": [
      {
       "output_type": "stream",
       "stream": "stdout",
       "text": [
        "before removal: set([(0, 1), (1, 2), (0, 2)])\n",
        "edge_taken: (0, 1)\n",
        "just after set difference: set([(1, 2), (0, 2)])\n",
        "before removal: set([(1, 2), (0, 2)])\n",
        "edge_taken: (1, 2)\n",
        "just after set difference: set([(0, 2)])\n",
        "before removal: set([(0, 2)])\n",
        "edge_taken: (2, 0)\n",
        "just after set difference: set([(0, 2)])\n",
        "before removal: set([(0, 2)])\n",
        "edge_taken: (0, 2)\n",
        "just after set difference: set([])\n"
       ]
      },
      {
       "metadata": {},
       "output_type": "pyout",
       "prompt_number": 72,
       "text": [
        "[0, 1, 2, 0, 2]"
       ]
      }
     ],
     "prompt_number": 72
    },
    {
     "cell_type": "code",
     "collapsed": false,
     "input": [],
     "language": "python",
     "metadata": {},
     "outputs": []
    }
   ],
   "metadata": {}
  }
 ]
}