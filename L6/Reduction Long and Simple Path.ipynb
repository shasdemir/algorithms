{
 "metadata": {
  "name": "",
  "signature": "sha256:6f164eb9039abf45af746eefc21ba96c6f93a2c6a7efb5fe580d245bf2c91886"
 },
 "nbformat": 3,
 "nbformat_minor": 0,
 "worksheets": [
  {
   "cells": [
    {
     "cell_type": "code",
     "collapsed": false,
     "input": [
      "def make_link(G, node1, node2):\n",
      "    if node1 not in G:\n",
      "        G[node1] = {}\n",
      "    (G[node1])[node2] = 1\n",
      "    if node2 not in G:\n",
      "        G[node2] = {}\n",
      "    (G[node2])[node1] = 1\n",
      "    return G"
     ],
     "language": "python",
     "metadata": {},
     "outputs": [],
     "prompt_number": 1
    },
    {
     "cell_type": "code",
     "collapsed": false,
     "input": [
      "def all_perms(seq):\n",
      "    if len(seq) == 0: return [[]]\n",
      "    if len(seq) == 1: return [seq, []]\n",
      "    most = all_perms(seq[1:])\n",
      "    first = seq[0]\n",
      "    rest = []\n",
      "    for perm in most:\n",
      "        for i in range(len(perm)+1):\n",
      "            rest.append(perm[0:i] + [first] + perm[i:])\n",
      "    return most + rest"
     ],
     "language": "python",
     "metadata": {},
     "outputs": [],
     "prompt_number": 2
    },
    {
     "cell_type": "code",
     "collapsed": false,
     "input": [
      "def check_path(G,path):\n",
      "    for i in range(len(path)-1):\n",
      "        if path[i+1] not in G[path[i]]: return False\n",
      "    return True"
     ],
     "language": "python",
     "metadata": {},
     "outputs": [],
     "prompt_number": 3
    },
    {
     "cell_type": "code",
     "collapsed": false,
     "input": [
      "def long_and_simple_decision(G,u,v,l):\n",
      "    if l == 0:\n",
      "        return False\n",
      "    n = len(G)\n",
      "    perms = all_perms(G.keys())\n",
      "    for perm in perms:\n",
      "        # check path\n",
      "        if (len(perm) >= l and check_path(G,perm) and perm[0] == u\n",
      "            and perm[len(perm)-1] == v):\n",
      "            return True\n",
      "    return False"
     ],
     "language": "python",
     "metadata": {},
     "outputs": [],
     "prompt_number": 4
    },
    {
     "cell_type": "code",
     "collapsed": false,
     "input": [
      "flights = [(1,2),(1,3),(2,3),(2,6),(2,4),(2,5),(3,6),(4,5)]\n",
      "G = {}\n",
      "for (x, y) in flights: make_link(G, x, y)"
     ],
     "language": "python",
     "metadata": {},
     "outputs": [],
     "prompt_number": 5
    },
    {
     "cell_type": "code",
     "collapsed": false,
     "input": [
      "def long_and_simple_path(G,u,v,l):\n",
      "    \"\"\"\n",
      "    G: Graph\n",
      "    u: starting node\n",
      "    v: ending node\n",
      "    l: minimum length of path\n",
      "    \"\"\"\n",
      "    if not long_and_simple_decision(G,u,v,l):\n",
      "        return False\n",
      "    # Otherwise, build and return the path\n",
      "\n",
      "    if u in G[v]:\n",
      "        return [u, v]\n",
      "\n",
      "    reachable_neighbors = [nbor for nbor in G[v] if long_and_simple_decision(G, u, nbor, l-1)]\n",
      "    if reachable_neighbors:\n",
      "        one_nbor = reachable_neighbors[0]\n",
      "    else:\n",
      "        return False\n",
      "\n",
      "    return long_and_simple_path(G, u, one_nbor, l-1).append(v)"
     ],
     "language": "python",
     "metadata": {},
     "outputs": [],
     "prompt_number": 6
    },
    {
     "cell_type": "code",
     "collapsed": false,
     "input": [],
     "language": "python",
     "metadata": {},
     "outputs": []
    }
   ],
   "metadata": {}
  }
 ]
}