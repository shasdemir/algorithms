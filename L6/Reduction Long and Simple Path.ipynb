{
 "metadata": {
  "name": "",
  "signature": "sha256:85649edc6db1960a55a048f59e40132e37b5f9a3bc7cb2e4b7402987d49fb682"
 },
 "nbformat": 3,
 "nbformat_minor": 0,
 "worksheets": [
  {
   "cells": [
    {
     "cell_type": "code",
     "collapsed": false,
     "input": [
      "def make_link(G, node1, node2):\n",
      "    if node1 not in G:\n",
      "        G[node1] = {}\n",
      "    (G[node1])[node2] = 1\n",
      "    if node2 not in G:\n",
      "        G[node2] = {}\n",
      "    (G[node2])[node1] = 1\n",
      "    return G"
     ],
     "language": "python",
     "metadata": {},
     "outputs": [],
     "prompt_number": 2
    },
    {
     "cell_type": "code",
     "collapsed": false,
     "input": [
      "def all_perms(seq):\n",
      "    if len(seq) == 0: return [[]]\n",
      "    if len(seq) == 1: return [seq, []]\n",
      "    most = all_perms(seq[1:])\n",
      "    first = seq[0]\n",
      "    rest = []\n",
      "    for perm in most:\n",
      "        for i in range(len(perm)+1):\n",
      "            rest.append(perm[0:i] + [first] + perm[i:])\n",
      "    return most + rest"
     ],
     "language": "python",
     "metadata": {},
     "outputs": [],
     "prompt_number": 3
    },
    {
     "cell_type": "code",
     "collapsed": false,
     "input": [
      "def check_path(G,path):\n",
      "    for i in range(len(path)-1):\n",
      "        if path[i+1] not in G[path[i]]: return False\n",
      "    return True"
     ],
     "language": "python",
     "metadata": {},
     "outputs": [],
     "prompt_number": 4
    },
    {
     "cell_type": "code",
     "collapsed": false,
     "input": [
      "def long_and_simple_decision(G,u,v,l):\n",
      "    if l == 0:\n",
      "        return False\n",
      "    n = len(G)\n",
      "    perms = all_perms(G.keys())\n",
      "    for perm in perms:\n",
      "        # check path\n",
      "        if (len(perm) >= l and check_path(G,perm) and perm[0] == u\n",
      "            and perm[len(perm)-1] == v):\n",
      "            return True\n",
      "    return False"
     ],
     "language": "python",
     "metadata": {},
     "outputs": [],
     "prompt_number": 5
    },
    {
     "cell_type": "code",
     "collapsed": false,
     "input": [
      "flights = [(1,2),(1,3),(2,3),(2,6),(2,4),(2,5),(3,6),(4,5)]\n",
      "G = {}\n",
      "for (x, y) in flights: make_link(G, x, y)"
     ],
     "language": "python",
     "metadata": {},
     "outputs": [],
     "prompt_number": 6
    },
    {
     "cell_type": "markdown",
     "metadata": {},
     "source": [
      "---"
     ]
    },
    {
     "cell_type": "code",
     "collapsed": false,
     "input": [
      "def long_and_simple_path(G,u,v,l):\n",
      "    \"\"\"\n",
      "    G: Graph\n",
      "    u: starting node\n",
      "    v: ending node\n",
      "    l: minimum length of path\n",
      "    \"\"\"\n",
      "    print \"called with: \"\n",
      "    print \"u: \" + str(u)\n",
      "    print \"v: \" + str(v)\n",
      "    print \"l: \" + str(l)\n",
      "    \n",
      "    if not long_and_simple_decision(G,u,v,l):\n",
      "        return False\n",
      "    # Otherwise, build and return the path\n",
      "\n",
      "    if l <= 2 and u in G[v]:\n",
      "        return [u, v]\n",
      "\n",
      "    reachable_neighbors = [nbor for nbor in G[v] if long_and_simple_decision(G, u, nbor, l-1)]\n",
      "    print \"reachable_neighbors: \" + str(reachable_neighbors)\n",
      "\n",
      "    paths_to_neighbors = [(r_nbor, long_and_simple_path(G, u, r_nbor, l-1)) for r_nbor in reachable_neighbors]\n",
      "    print \"paths_to_neighbors: \" + str(paths_to_neighbors)\n",
      "    \n",
      "    noncyclic_paths = [(nbor, path) for nbor, path in paths_to_neighbors if v not in path]\n",
      "    print \"noncyclic_paths: \" + str(noncyclic_paths)\n",
      "    \n",
      "    one_noncyclic_path = noncyclic_paths[0][1]\n",
      "\n",
      "    return one_noncyclic_path + [v]"
     ],
     "language": "python",
     "metadata": {},
     "outputs": [],
     "prompt_number": 10
    },
    {
     "cell_type": "code",
     "collapsed": false,
     "input": [
      "def long_and_simple_path(G,u,v,l):\n",
      "    \"\"\"\n",
      "    G: Graph\n",
      "    u: starting node\n",
      "    v: ending node\n",
      "    l: minimum length of path\n",
      "    \"\"\"\n",
      "    \n",
      "    if not long_and_simple_decision(G,u,v,l):\n",
      "        return False\n",
      "    # Otherwise, build and return the path\n",
      "\n",
      "    if l <= 2 and u in G[v]:\n",
      "        return [u, v]\n",
      "\n",
      "    reachable_neighbors = [nbor for nbor in G[v] if long_and_simple_decision(G, u, nbor, l-1)]\n",
      "    \n",
      "    \n",
      "    if not reachable_neighbors:\n",
      "        return False\n",
      "\n",
      "    paths_to_neighbors = [(r_nbor, long_and_simple_path(G, u, r_nbor, l-1)) for r_nbor in reachable_neighbors]\n",
      "    paths_to_neighbors = [(nbor, path) for nbor, path in paths_to_neighbors if path != False]\n",
      "    \n",
      "    noncyclic_paths = [(nbor, path) for nbor, path in paths_to_neighbors if v not in path]\n",
      "    \n",
      "    one_noncyclic_path = noncyclic_paths[0][1]\n",
      "\n",
      "    return one_noncyclic_path + [v]"
     ],
     "language": "python",
     "metadata": {},
     "outputs": [],
     "prompt_number": 21
    },
    {
     "cell_type": "code",
     "collapsed": false,
     "input": [
      "long_and_simple_path(G, 1, 2, 2)"
     ],
     "language": "python",
     "metadata": {},
     "outputs": [
      {
       "metadata": {},
       "output_type": "pyout",
       "prompt_number": 22,
       "text": [
        "[1, 2]"
       ]
      }
     ],
     "prompt_number": 22
    },
    {
     "cell_type": "code",
     "collapsed": false,
     "input": [
      "long_and_simple_path(G, 1, 2, 3)"
     ],
     "language": "python",
     "metadata": {},
     "outputs": [
      {
       "metadata": {},
       "output_type": "pyout",
       "prompt_number": 23,
       "text": [
        "[1, 3, 2]"
       ]
      }
     ],
     "prompt_number": 23
    },
    {
     "cell_type": "code",
     "collapsed": false,
     "input": [
      "long_and_simple_path(G, 1, 3, 1)"
     ],
     "language": "python",
     "metadata": {},
     "outputs": [
      {
       "metadata": {},
       "output_type": "pyout",
       "prompt_number": 24,
       "text": [
        "[1, 3]"
       ]
      }
     ],
     "prompt_number": 24
    },
    {
     "cell_type": "code",
     "collapsed": false,
     "input": [
      "long_and_simple_path(G, 1, 6, 1)"
     ],
     "language": "python",
     "metadata": {},
     "outputs": [
      {
       "metadata": {},
       "output_type": "pyout",
       "prompt_number": 29,
       "text": [
        "False"
       ]
      }
     ],
     "prompt_number": 29
    },
    {
     "cell_type": "code",
     "collapsed": false,
     "input": [],
     "language": "python",
     "metadata": {},
     "outputs": []
    }
   ],
   "metadata": {}
  }
 ]
}