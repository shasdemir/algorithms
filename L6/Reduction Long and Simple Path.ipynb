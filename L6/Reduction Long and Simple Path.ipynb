{
 "metadata": {
  "name": "",
  "signature": "sha256:8161308bb7f42075d2c579c4c0959f3e73a370a1519d306b13a8bd473c8e3dd6"
 },
 "nbformat": 3,
 "nbformat_minor": 0,
 "worksheets": [
  {
   "cells": [
    {
     "cell_type": "code",
     "collapsed": false,
     "input": [
      "def make_link(G, node1, node2):\n",
      "    if node1 not in G:\n",
      "        G[node1] = {}\n",
      "    (G[node1])[node2] = 1\n",
      "    if node2 not in G:\n",
      "        G[node2] = {}\n",
      "    (G[node2])[node1] = 1\n",
      "    return G"
     ],
     "language": "python",
     "metadata": {},
     "outputs": [],
     "prompt_number": 1
    },
    {
     "cell_type": "code",
     "collapsed": false,
     "input": [
      "def all_perms(seq):\n",
      "    if len(seq) == 0: return [[]]\n",
      "    if len(seq) == 1: return [seq, []]\n",
      "    most = all_perms(seq[1:])\n",
      "    first = seq[0]\n",
      "    rest = []\n",
      "    for perm in most:\n",
      "        for i in range(len(perm)+1):\n",
      "            rest.append(perm[0:i] + [first] + perm[i:])\n",
      "    return most + rest"
     ],
     "language": "python",
     "metadata": {},
     "outputs": [],
     "prompt_number": 2
    },
    {
     "cell_type": "code",
     "collapsed": false,
     "input": [
      "def check_path(G,path):\n",
      "    for i in range(len(path)-1):\n",
      "        if path[i+1] not in G[path[i]]: return False\n",
      "    return True"
     ],
     "language": "python",
     "metadata": {},
     "outputs": [],
     "prompt_number": 3
    },
    {
     "cell_type": "code",
     "collapsed": false,
     "input": [
      "def long_and_simple_decision(G,u,v,l):\n",
      "    if l == 0:\n",
      "        return False\n",
      "    n = len(G)\n",
      "    perms = all_perms(G.keys())\n",
      "    for perm in perms:\n",
      "        # check path\n",
      "        if (len(perm) >= l and check_path(G,perm) and perm[0] == u\n",
      "            and perm[len(perm)-1] == v):\n",
      "            return True\n",
      "    return False"
     ],
     "language": "python",
     "metadata": {},
     "outputs": [],
     "prompt_number": 4
    },
    {
     "cell_type": "code",
     "collapsed": false,
     "input": [
      "flights = [(1,2),(1,3),(2,3),(2,6),(2,4),(2,5),(3,6),(4,5)]\n",
      "G = {}\n",
      "for (x, y) in flights: make_link(G, x, y)"
     ],
     "language": "python",
     "metadata": {},
     "outputs": [],
     "prompt_number": 7
    },
    {
     "cell_type": "markdown",
     "metadata": {},
     "source": [
      "---"
     ]
    },
    {
     "cell_type": "code",
     "collapsed": false,
     "input": [
      "def long_and_simple_path(G,u,v,l):\n",
      "    \"\"\"\n",
      "    G: Graph\n",
      "    u: starting node\n",
      "    v: ending node\n",
      "    l: minimum length of path\n",
      "    \"\"\"\n",
      "    print \"called with: \"\n",
      "    print \"u: \" + str(u)\n",
      "    print \"v: \" + str(v)\n",
      "    print \"l: \" + str(l)\n",
      "    \n",
      "    if not long_and_simple_decision(G,u,v,l):\n",
      "        return False\n",
      "    # Otherwise, build and return the path\n",
      "\n",
      "    if l <= 2 and u in G[v]:\n",
      "        return [u, v]\n",
      "\n",
      "    reachable_neighbors = [nbor for nbor in G[v] if long_and_simple_decision(G, u, nbor, l-1)]\n",
      "    print \"reachable_neighbors: \" + str(reachable_neighbors)\n",
      "\n",
      "    paths_to_neighbors = [(r_nbor, long_and_simple_path(G, u, r_nbor, l-1)) for r_nbor in reachable_neighbors]\n",
      "    print \"paths_to_neighbors: \" + str(paths_to_neighbors)\n",
      "    \n",
      "    noncyclic_paths = [(nbor, path) for nbor, path in paths_to_neighbors if v not in path]\n",
      "    print \"noncyclic_paths: \" + str(noncyclic_paths)\n",
      "\n",
      "    one_noncyclic_path = noncyclic_paths[0][1]\n",
      "\n",
      "    return one_noncyclic_path + [v]"
     ],
     "language": "python",
     "metadata": {},
     "outputs": [],
     "prompt_number": 56
    },
    {
     "cell_type": "code",
     "collapsed": false,
     "input": [
      "long_and_simple_path(G, 1, 2, 2)"
     ],
     "language": "python",
     "metadata": {},
     "outputs": [
      {
       "output_type": "stream",
       "stream": "stdout",
       "text": [
        "called with: \n",
        "u: 1\n",
        "v: 2\n",
        "l: 2\n"
       ]
      },
      {
       "metadata": {},
       "output_type": "pyout",
       "prompt_number": 57,
       "text": [
        "[1, 2]"
       ]
      }
     ],
     "prompt_number": 57
    },
    {
     "cell_type": "code",
     "collapsed": false,
     "input": [
      "long_and_simple_path(G, 1, 2, 3)"
     ],
     "language": "python",
     "metadata": {},
     "outputs": [
      {
       "output_type": "stream",
       "stream": "stdout",
       "text": [
        "called with: \n",
        "u: 1\n",
        "v: 2\n",
        "l: 3\n",
        "reachable_neighbors: [3, 4, 5, 6]\n",
        "called with: \n",
        "u: 1\n",
        "v: 3\n",
        "l: 2\n",
        "called with: \n",
        "u: 1\n",
        "v: 4\n",
        "l: 2\n",
        "reachable_neighbors: [2, 5]\n",
        "called with: \n",
        "u: 1\n",
        "v: 2\n",
        "l: 1\n",
        "called with: \n",
        "u: 1\n",
        "v: 5\n",
        "l: 1\n",
        "reachable_neighbors: []\n",
        "paths_to_neighbors: []\n",
        "noncyclic_paths: []\n"
       ]
      },
      {
       "ename": "IndexError",
       "evalue": "list index out of range",
       "output_type": "pyerr",
       "traceback": [
        "\u001b[0;31m---------------------------------------------------------------------------\u001b[0m\n\u001b[0;31mIndexError\u001b[0m                                Traceback (most recent call last)",
        "\u001b[0;32m<ipython-input-58-bcacf19c2f44>\u001b[0m in \u001b[0;36m<module>\u001b[0;34m()\u001b[0m\n\u001b[0;32m----> 1\u001b[0;31m \u001b[0mlong_and_simple_path\u001b[0m\u001b[0;34m(\u001b[0m\u001b[0mG\u001b[0m\u001b[0;34m,\u001b[0m \u001b[0;36m1\u001b[0m\u001b[0;34m,\u001b[0m \u001b[0;36m2\u001b[0m\u001b[0;34m,\u001b[0m \u001b[0;36m3\u001b[0m\u001b[0;34m)\u001b[0m\u001b[0;34m\u001b[0m\u001b[0m\n\u001b[0m",
        "\u001b[0;32m<ipython-input-56-06d95c44bfd4>\u001b[0m in \u001b[0;36mlong_and_simple_path\u001b[0;34m(G, u, v, l)\u001b[0m\n\u001b[1;32m     21\u001b[0m     \u001b[0;32mprint\u001b[0m \u001b[0;34m\"reachable_neighbors: \"\u001b[0m \u001b[0;34m+\u001b[0m \u001b[0mstr\u001b[0m\u001b[0;34m(\u001b[0m\u001b[0mreachable_neighbors\u001b[0m\u001b[0;34m)\u001b[0m\u001b[0;34m\u001b[0m\u001b[0m\n\u001b[1;32m     22\u001b[0m \u001b[0;34m\u001b[0m\u001b[0m\n\u001b[0;32m---> 23\u001b[0;31m     \u001b[0mpaths_to_neighbors\u001b[0m \u001b[0;34m=\u001b[0m \u001b[0;34m[\u001b[0m\u001b[0;34m(\u001b[0m\u001b[0mr_nbor\u001b[0m\u001b[0;34m,\u001b[0m \u001b[0mlong_and_simple_path\u001b[0m\u001b[0;34m(\u001b[0m\u001b[0mG\u001b[0m\u001b[0;34m,\u001b[0m \u001b[0mu\u001b[0m\u001b[0;34m,\u001b[0m \u001b[0mr_nbor\u001b[0m\u001b[0;34m,\u001b[0m \u001b[0ml\u001b[0m\u001b[0;34m-\u001b[0m\u001b[0;36m1\u001b[0m\u001b[0;34m)\u001b[0m\u001b[0;34m)\u001b[0m \u001b[0;32mfor\u001b[0m \u001b[0mr_nbor\u001b[0m \u001b[0;32min\u001b[0m \u001b[0mreachable_neighbors\u001b[0m\u001b[0;34m]\u001b[0m\u001b[0;34m\u001b[0m\u001b[0m\n\u001b[0m\u001b[1;32m     24\u001b[0m     \u001b[0;32mprint\u001b[0m \u001b[0;34m\"paths_to_neighbors: \"\u001b[0m \u001b[0;34m+\u001b[0m \u001b[0mstr\u001b[0m\u001b[0;34m(\u001b[0m\u001b[0mpaths_to_neighbors\u001b[0m\u001b[0;34m)\u001b[0m\u001b[0;34m\u001b[0m\u001b[0m\n\u001b[1;32m     25\u001b[0m \u001b[0;34m\u001b[0m\u001b[0m\n",
        "\u001b[0;32m<ipython-input-56-06d95c44bfd4>\u001b[0m in \u001b[0;36mlong_and_simple_path\u001b[0;34m(G, u, v, l)\u001b[0m\n\u001b[1;32m     21\u001b[0m     \u001b[0;32mprint\u001b[0m \u001b[0;34m\"reachable_neighbors: \"\u001b[0m \u001b[0;34m+\u001b[0m \u001b[0mstr\u001b[0m\u001b[0;34m(\u001b[0m\u001b[0mreachable_neighbors\u001b[0m\u001b[0;34m)\u001b[0m\u001b[0;34m\u001b[0m\u001b[0m\n\u001b[1;32m     22\u001b[0m \u001b[0;34m\u001b[0m\u001b[0m\n\u001b[0;32m---> 23\u001b[0;31m     \u001b[0mpaths_to_neighbors\u001b[0m \u001b[0;34m=\u001b[0m \u001b[0;34m[\u001b[0m\u001b[0;34m(\u001b[0m\u001b[0mr_nbor\u001b[0m\u001b[0;34m,\u001b[0m \u001b[0mlong_and_simple_path\u001b[0m\u001b[0;34m(\u001b[0m\u001b[0mG\u001b[0m\u001b[0;34m,\u001b[0m \u001b[0mu\u001b[0m\u001b[0;34m,\u001b[0m \u001b[0mr_nbor\u001b[0m\u001b[0;34m,\u001b[0m \u001b[0ml\u001b[0m\u001b[0;34m-\u001b[0m\u001b[0;36m1\u001b[0m\u001b[0;34m)\u001b[0m\u001b[0;34m)\u001b[0m \u001b[0;32mfor\u001b[0m \u001b[0mr_nbor\u001b[0m \u001b[0;32min\u001b[0m \u001b[0mreachable_neighbors\u001b[0m\u001b[0;34m]\u001b[0m\u001b[0;34m\u001b[0m\u001b[0m\n\u001b[0m\u001b[1;32m     24\u001b[0m     \u001b[0;32mprint\u001b[0m \u001b[0;34m\"paths_to_neighbors: \"\u001b[0m \u001b[0;34m+\u001b[0m \u001b[0mstr\u001b[0m\u001b[0;34m(\u001b[0m\u001b[0mpaths_to_neighbors\u001b[0m\u001b[0;34m)\u001b[0m\u001b[0;34m\u001b[0m\u001b[0m\n\u001b[1;32m     25\u001b[0m \u001b[0;34m\u001b[0m\u001b[0m\n",
        "\u001b[0;32m<ipython-input-56-06d95c44bfd4>\u001b[0m in \u001b[0;36mlong_and_simple_path\u001b[0;34m(G, u, v, l)\u001b[0m\n\u001b[1;32m     27\u001b[0m     \u001b[0;32mprint\u001b[0m \u001b[0;34m\"noncyclic_paths: \"\u001b[0m \u001b[0;34m+\u001b[0m \u001b[0mstr\u001b[0m\u001b[0;34m(\u001b[0m\u001b[0mnoncyclic_paths\u001b[0m\u001b[0;34m)\u001b[0m\u001b[0;34m\u001b[0m\u001b[0m\n\u001b[1;32m     28\u001b[0m \u001b[0;34m\u001b[0m\u001b[0m\n\u001b[0;32m---> 29\u001b[0;31m     \u001b[0mone_noncyclic_path\u001b[0m \u001b[0;34m=\u001b[0m \u001b[0mnoncyclic_paths\u001b[0m\u001b[0;34m[\u001b[0m\u001b[0;36m0\u001b[0m\u001b[0;34m]\u001b[0m\u001b[0;34m[\u001b[0m\u001b[0;36m1\u001b[0m\u001b[0;34m]\u001b[0m\u001b[0;34m\u001b[0m\u001b[0m\n\u001b[0m\u001b[1;32m     30\u001b[0m \u001b[0;34m\u001b[0m\u001b[0m\n\u001b[1;32m     31\u001b[0m     \u001b[0;32mreturn\u001b[0m \u001b[0mone_noncyclic_path\u001b[0m \u001b[0;34m+\u001b[0m \u001b[0;34m[\u001b[0m\u001b[0mv\u001b[0m\u001b[0;34m]\u001b[0m\u001b[0;34m\u001b[0m\u001b[0m\n",
        "\u001b[0;31mIndexError\u001b[0m: list index out of range"
       ]
      }
     ],
     "prompt_number": 58
    },
    {
     "cell_type": "code",
     "collapsed": false,
     "input": [
      "long_and_simple_decision(G, 1, 5, 0)"
     ],
     "language": "python",
     "metadata": {},
     "outputs": [
      {
       "metadata": {},
       "output_type": "pyout",
       "prompt_number": 60,
       "text": [
        "False"
       ]
      }
     ],
     "prompt_number": 60
    },
    {
     "cell_type": "code",
     "collapsed": false,
     "input": [
      "long_and_simple_decision(G, 1, 5, 1)"
     ],
     "language": "python",
     "metadata": {},
     "outputs": [
      {
       "metadata": {},
       "output_type": "pyout",
       "prompt_number": 61,
       "text": [
        "True"
       ]
      }
     ],
     "prompt_number": 61
    },
    {
     "cell_type": "code",
     "collapsed": false,
     "input": [],
     "language": "python",
     "metadata": {},
     "outputs": []
    }
   ],
   "metadata": {}
  }
 ]
}