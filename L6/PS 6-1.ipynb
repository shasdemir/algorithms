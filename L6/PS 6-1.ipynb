{
 "metadata": {
  "name": "",
  "signature": "sha256:7dd53ab2f4fbd1783baa8ab4c1875098c28df8de03bb22c19a61df788c355aa7"
 },
 "nbformat": 3,
 "nbformat_minor": 0,
 "worksheets": [
  {
   "cells": [
    {
     "cell_type": "code",
     "collapsed": false,
     "input": [
      "# In the lecture, we described how a solution to k_clique_decision(G, k)\n",
      "# can be used to solve independent_set_decision(H,s).  \n",
      "# Write a Python function that carries out this transformation.  \n",
      "\n",
      "# Returns a list of all the subsets of a list of size k\n",
      "def k_subsets(lst, k):\n",
      "    if len(lst) < k:\n",
      "        return []\n",
      "    if len(lst) == k:\n",
      "        return [lst]\n",
      "    if k == 1:\n",
      "        return [[i] for i in lst]\n",
      "    return k_subsets(lst[1:],k) + map(lambda x: x + [lst[0]], k_subsets(lst[1:], k-1))\n",
      "\n",
      "# Checks if the given list of nodes forms a clique in the given graph.\n",
      "def is_clique(G, nodes):\n",
      "    for pair in k_subsets(nodes, 2):\n",
      "        if pair[1] not in G[pair[0]]:\n",
      "            return False\n",
      "    return True\n",
      "\n",
      "# Determines if there is clique of size k or greater in the given graph.\n",
      "def k_clique_decision(G, k):\n",
      "    nodes = G.keys()\n",
      "    for i in range(k, len(nodes) + 1):\n",
      "        for subset in k_subsets(nodes, i):\n",
      "            if is_clique(G, subset):\n",
      "                return True\n",
      "    return False\n",
      "    \n",
      "def make_link(G, node1, node2):\n",
      "    if node1 not in G:\n",
      "        G[node1] = {}\n",
      "    (G[node1])[node2] = 1\n",
      "    if node2 not in G:\n",
      "        G[node2] = {}\n",
      "    (G[node2])[node1] = 1\n",
      "    return G\n",
      "\n",
      "def break_link(G, node1, node2):\n",
      "    if node1 not in G:\n",
      "        print \"error: breaking link in a non-existent node\"\n",
      "        return\n",
      "    if node2 not in G:\n",
      "        print \"error: breaking link in a non-existent node\"\n",
      "        return\n",
      "    if node2 not in G[node1]:\n",
      "        print \"error: breaking non-existent link\"\n",
      "        return\n",
      "    if node1 not in G[node2]:\n",
      "        print \"error: breaking non-existent link\"\n",
      "        return\n",
      "    del G[node1][node2]\n",
      "    del G[node2][node1]\n",
      "    return G"
     ],
     "language": "python",
     "metadata": {},
     "outputs": [],
     "prompt_number": 1
    },
    {
     "cell_type": "code",
     "collapsed": false,
     "input": [
      "# This function should use the k_clique_decision function\n",
      "# to solve the independent set decision problem\n",
      "def independent_set_decision(H, s):\n",
      "    # your code here\n",
      "    return True"
     ],
     "language": "python",
     "metadata": {},
     "outputs": []
    }
   ],
   "metadata": {}
  }
 ]
}