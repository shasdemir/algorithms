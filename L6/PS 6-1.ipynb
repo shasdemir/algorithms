{
 "metadata": {
  "name": "",
  "signature": "sha256:1143747826c6986beefe31db8e6a038a03f4ead985f94cd54a9d84b479ae45c1"
 },
 "nbformat": 3,
 "nbformat_minor": 0,
 "worksheets": [
  {
   "cells": [
    {
     "cell_type": "code",
     "collapsed": false,
     "input": [
      "# In the lecture, we described how a solution to k_clique_decision(G, k)\n",
      "# can be used to solve independent_set_decision(H,s).  \n",
      "# Write a Python function that carries out this transformation.  \n",
      "\n",
      "# Returns a list of all the subsets of a list of size k\n",
      "def k_subsets(lst, k):\n",
      "    if len(lst) < k:\n",
      "        return []\n",
      "    if len(lst) == k:\n",
      "        return [lst]\n",
      "    if k == 1:\n",
      "        return [[i] for i in lst]\n",
      "    return k_subsets(lst[1:],k) + map(lambda x: x + [lst[0]], k_subsets(lst[1:], k-1))\n",
      "\n",
      "# Checks if the given list of nodes forms a clique in the given graph.\n",
      "def is_clique(G, nodes):\n",
      "    for pair in k_subsets(nodes, 2):\n",
      "        if pair[1] not in G[pair[0]]:\n",
      "            return False\n",
      "    return True\n",
      "\n",
      "# Determines if there is clique of size k or greater in the given graph.\n",
      "def k_clique_decision(G, k):\n",
      "    nodes = G.keys()\n",
      "    for i in range(k, len(nodes) + 1):\n",
      "        for subset in k_subsets(nodes, i):\n",
      "            if is_clique(G, subset):\n",
      "                return True\n",
      "    return False\n",
      "    \n",
      "def make_link(G, node1, node2):\n",
      "    if node1 not in G:\n",
      "        G[node1] = {}\n",
      "    (G[node1])[node2] = 1\n",
      "    if node2 not in G:\n",
      "        G[node2] = {}\n",
      "    (G[node2])[node1] = 1\n",
      "    return G\n",
      "\n",
      "def break_link(G, node1, node2):\n",
      "    if node1 not in G:\n",
      "        print \"error: breaking link in a non-existent node\"\n",
      "        return\n",
      "    if node2 not in G:\n",
      "        print \"error: breaking link in a non-existent node\"\n",
      "        return\n",
      "    if node2 not in G[node1]:\n",
      "        print \"error: breaking non-existent link\"\n",
      "        return\n",
      "    if node1 not in G[node2]:\n",
      "        print \"error: breaking non-existent link\"\n",
      "        return\n",
      "    del G[node1][node2]\n",
      "    del G[node2][node1]\n",
      "    return G"
     ],
     "language": "python",
     "metadata": {},
     "outputs": [],
     "prompt_number": 1
    },
    {
     "cell_type": "markdown",
     "metadata": {},
     "source": [
      "---"
     ]
    },
    {
     "cell_type": "code",
     "collapsed": false,
     "input": [
      "def invert(H):\n",
      "    \"\"\" Invert graph. \"\"\"\n",
      "    \n",
      "    # strategy: create a full graph, except where links are in H\n",
      "    H_inv = {}\n",
      "    \n",
      "    for node1 in H:\n",
      "        for node2 in H:\n",
      "            if node2 != node1 and node2 not in H[node1]:\n",
      "                make_link(H_inv, node1, node2)\n",
      "    \n",
      "    # add unconnected nodes\n",
      "    for node in H:\n",
      "        if node not in H_inv:\n",
      "            H_inv[node] = {}\n",
      "\n",
      "    return H_inv"
     ],
     "language": "python",
     "metadata": {},
     "outputs": [],
     "prompt_number": 16
    },
    {
     "cell_type": "code",
     "collapsed": false,
     "input": [
      "flights = [(1,2),(1,3),(2,3),(2,6),(2,4),(2,5),(3,6),(4,5)]\n",
      "G = {}\n",
      "for (x, y) in flights: make_link(G, x, y)"
     ],
     "language": "python",
     "metadata": {},
     "outputs": [],
     "prompt_number": 17
    },
    {
     "cell_type": "code",
     "collapsed": false,
     "input": [
      "G"
     ],
     "language": "python",
     "metadata": {},
     "outputs": [
      {
       "metadata": {},
       "output_type": "pyout",
       "prompt_number": 18,
       "text": [
        "{1: {2: 1, 3: 1},\n",
        " 2: {1: 1, 3: 1, 4: 1, 5: 1, 6: 1},\n",
        " 3: {1: 1, 2: 1, 6: 1},\n",
        " 4: {2: 1, 5: 1},\n",
        " 5: {2: 1, 4: 1},\n",
        " 6: {2: 1, 3: 1}}"
       ]
      }
     ],
     "prompt_number": 18
    },
    {
     "cell_type": "code",
     "collapsed": false,
     "input": [
      "invert(G)"
     ],
     "language": "python",
     "metadata": {},
     "outputs": [
      {
       "metadata": {},
       "output_type": "pyout",
       "prompt_number": 19,
       "text": [
        "{1: {4: 1, 5: 1, 6: 1},\n",
        " 2: {},\n",
        " 3: {4: 1, 5: 1},\n",
        " 4: {1: 1, 3: 1, 6: 1},\n",
        " 5: {1: 1, 3: 1, 6: 1},\n",
        " 6: {1: 1, 4: 1, 5: 1}}"
       ]
      }
     ],
     "prompt_number": 19
    },
    {
     "cell_type": "code",
     "collapsed": false,
     "input": [
      "# This function should use the k_clique_decision function\n",
      "# to solve the independent set decision problem\n",
      "def independent_set_decision(H, s):\n",
      "    H_inv = invert(H)\n",
      "    \n",
      "    return k_clique_decision(H_inv, s)"
     ],
     "language": "python",
     "metadata": {},
     "outputs": [],
     "prompt_number": 20
    },
    {
     "cell_type": "code",
     "collapsed": false,
     "input": [
      "independent_set_decision({1:{}}, 1)"
     ],
     "language": "python",
     "metadata": {},
     "outputs": [
      {
       "metadata": {},
       "output_type": "pyout",
       "prompt_number": 21,
       "text": [
        "True"
       ]
      }
     ],
     "prompt_number": 21
    },
    {
     "cell_type": "code",
     "collapsed": false,
     "input": [
      "independent_set_decision({1:{2:1}, 2:{1:1}}, 1)"
     ],
     "language": "python",
     "metadata": {},
     "outputs": [
      {
       "metadata": {},
       "output_type": "pyout",
       "prompt_number": 22,
       "text": [
        "True"
       ]
      }
     ],
     "prompt_number": 22
    },
    {
     "cell_type": "code",
     "collapsed": false,
     "input": [],
     "language": "python",
     "metadata": {},
     "outputs": []
    }
   ],
   "metadata": {}
  }
 ]
}