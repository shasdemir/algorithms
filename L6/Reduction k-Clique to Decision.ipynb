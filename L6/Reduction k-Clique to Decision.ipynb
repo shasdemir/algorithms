{
 "metadata": {
  "name": "",
  "signature": "sha256:b8fc7c9b3cad0729c5466ce1c372048f054b735ea446af473796f32fdd8b25c9"
 },
 "nbformat": 3,
 "nbformat_minor": 0,
 "worksheets": [
  {
   "cells": [
    {
     "cell_type": "code",
     "collapsed": false,
     "input": [
      "# Decision problems are often just as hard as actually returning an answer.\n",
      "# Show how a k-clique can be found using a solution to the k-clique decision \n",
      "# problem.  Write a Python function that takes a graph G and a number k \n",
      "# as input, and returns a list of k nodes from G that are all connected \n",
      "# in the graph.  Your function should make use of \"k_clique_decision(G, k)\", \n",
      "# which takes a graph G and a number k and answers whether G contains a k-clique.  \n",
      "# We will also provide the standard routines for adding and removing edges from a graph.\n",
      "\n",
      "# Returns a list of all the subsets of a list of size k\n",
      "def k_subsets(lst, k):\n",
      "    if len(lst) < k:\n",
      "        return []\n",
      "    if len(lst) == k:\n",
      "        return [lst]\n",
      "    if k == 1:\n",
      "        return [[i] for i in lst]\n",
      "    return k_subsets(lst[1:],k) + map(lambda x: x + [lst[0]], k_subsets(lst[1:], k-1))\n",
      "\n",
      "# Checks if the given list of nodes forms a clique in the given graph.\n",
      "def is_clique(G, nodes):\n",
      "    for pair in k_subsets(nodes, 2):\n",
      "        if pair[1] not in G[pair[0]]:\n",
      "            return False\n",
      "    return True\n",
      "\n",
      "# Determines if there is clique of size k or greater in the given graph.\n",
      "def k_clique_decision(G, k):\n",
      "    nodes = G.keys()\n",
      "    for i in range(k, len(nodes) + 1):\n",
      "        for subset in k_subsets(nodes, i):\n",
      "            if is_clique(G, subset):\n",
      "                return True\n",
      "    return False\n",
      "\n",
      "def make_link(G, node1, node2):\n",
      "    if node1 not in G:\n",
      "        G[node1] = {}\n",
      "    (G[node1])[node2] = 1\n",
      "    if node2 not in G:\n",
      "        G[node2] = {}\n",
      "    (G[node2])[node1] = 1\n",
      "    return G\n",
      "\n",
      "def break_link(G, node1, node2):\n",
      "    if node1 not in G:\n",
      "        print \"error: breaking link in a non-existent node\"\n",
      "        return\n",
      "    if node2 not in G:\n",
      "        print \"error: breaking link in a non-existent node\"\n",
      "        return\n",
      "    if node2 not in G[node1]:\n",
      "        print \"error: breaking non-existent link\"\n",
      "        return\n",
      "    if node1 not in G[node2]:\n",
      "        print \"error: breaking non-existent link\"\n",
      "        return\n",
      "    del G[node1][node2]\n",
      "    del G[node2][node1]\n",
      "    return G"
     ],
     "language": "python",
     "metadata": {},
     "outputs": [],
     "prompt_number": 1
    },
    {
     "cell_type": "markdown",
     "metadata": {},
     "source": [
      "---"
     ]
    },
    {
     "cell_type": "code",
     "collapsed": false,
     "input": [
      "def remove_node(G, node):\n",
      "    \"\"\" Return a new graph with :node removed from G. \"\"\"\n",
      "    \n",
      "    import copy\n",
      "    \n",
      "    G_minus = copy.deepcopy(G)\n",
      "    for nbor in G[node]:\n",
      "        break_link(G_minus, node, nbor)\n",
      "    \n",
      "    return G_minus"
     ],
     "language": "python",
     "metadata": {},
     "outputs": [],
     "prompt_number": 11
    },
    {
     "cell_type": "code",
     "collapsed": false,
     "input": [
      "def k_clique(G, k):\n",
      "    if not k_clique_decision(G, k):\n",
      "        return False\n",
      "    \n",
      "    import copy\n",
      "    result = copy.deepcopy(G)\n",
      "    \n",
      "    for node in G:\n",
      "        G_minus = remove_node(result, node)\n",
      "        \n",
      "        if k_clique_decision(G_minus, k):\n",
      "            result = G_minus\n",
      "    \n",
      "    return result.keys()"
     ],
     "language": "python",
     "metadata": {},
     "outputs": [],
     "prompt_number": 12
    },
    {
     "cell_type": "code",
     "collapsed": false,
     "input": [
      "test_G = {1:{2:1, 3:1, 4:1}, 2:{1:1, 3:1, 4:1}, 3:{1:1, 2:1, 4:1}, 4:{1:1, 2:1,\n",
      "3:1}}\n",
      "# k = 4\n",
      "#\t\t\t\tExpected result: [1, 2, 3, 4]"
     ],
     "language": "python",
     "metadata": {},
     "outputs": [],
     "prompt_number": 13
    },
    {
     "cell_type": "code",
     "collapsed": false,
     "input": [
      "k_clique(test_G, 4)"
     ],
     "language": "python",
     "metadata": {},
     "outputs": [
      {
       "metadata": {},
       "output_type": "pyout",
       "prompt_number": 14,
       "text": [
        "[1, 2, 3, 4]"
       ]
      }
     ],
     "prompt_number": 14
    },
    {
     "cell_type": "code",
     "collapsed": false,
     "input": [
      "test2 = {1:{2:1, 3:1, 4:1}, 2:{1:1, 4:1}, 3:{1:1}, 4:{1:1, 2:1}}\n",
      "# k = 3\n",
      "#\t\t\t\tExpected result: [1, 2, 4]"
     ],
     "language": "python",
     "metadata": {},
     "outputs": [],
     "prompt_number": 15
    },
    {
     "cell_type": "code",
     "collapsed": false,
     "input": [
      "k_clique(test2, 3)"
     ],
     "language": "python",
     "metadata": {},
     "outputs": [
      {
       "metadata": {},
       "output_type": "pyout",
       "prompt_number": 16,
       "text": [
        "[1, 2, 3, 4]"
       ]
      }
     ],
     "prompt_number": 16
    },
    {
     "cell_type": "code",
     "collapsed": false,
     "input": [],
     "language": "python",
     "metadata": {},
     "outputs": []
    }
   ],
   "metadata": {}
  }
 ]
}