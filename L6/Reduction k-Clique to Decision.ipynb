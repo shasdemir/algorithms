{
 "metadata": {
  "name": "",
  "signature": "sha256:2075b8d760108905771a899f6832829691d2fd43b5e8a9ab70da032e549720ac"
 },
 "nbformat": 3,
 "nbformat_minor": 0,
 "worksheets": [
  {
   "cells": [
    {
     "cell_type": "code",
     "collapsed": false,
     "input": [
      "# Decision problems are often just as hard as actually returning an answer.\n",
      "# Show how a k-clique can be found using a solution to the k-clique decision \n",
      "# problem.  Write a Python function that takes a graph G and a number k \n",
      "# as input, and returns a list of k nodes from G that are all connected \n",
      "# in the graph.  Your function should make use of \"k_clique_decision(G, k)\", \n",
      "# which takes a graph G and a number k and answers whether G contains a k-clique.  \n",
      "# We will also provide the standard routines for adding and removing edges from a graph.\n",
      "\n",
      "# Returns a list of all the subsets of a list of size k\n",
      "def k_subsets(lst, k):\n",
      "    if len(lst) < k:\n",
      "        return []\n",
      "    if len(lst) == k:\n",
      "        return [lst]\n",
      "    if k == 1:\n",
      "        return [[i] for i in lst]\n",
      "    return k_subsets(lst[1:],k) + map(lambda x: x + [lst[0]], k_subsets(lst[1:], k-1))\n",
      "\n",
      "# Checks if the given list of nodes forms a clique in the given graph.\n",
      "def is_clique(G, nodes):\n",
      "    for pair in k_subsets(nodes, 2):\n",
      "        if pair[1] not in G[pair[0]]:\n",
      "            return False\n",
      "    return True\n",
      "\n",
      "# Determines if there is clique of size k or greater in the given graph.\n",
      "def k_clique_decision(G, k):\n",
      "    nodes = G.keys()\n",
      "    for i in range(k, len(nodes) + 1):\n",
      "        for subset in k_subsets(nodes, i):\n",
      "            if is_clique(G, subset):\n",
      "                return True\n",
      "    return False\n",
      "\n",
      "def make_link(G, node1, node2):\n",
      "    if node1 not in G:\n",
      "        G[node1] = {}\n",
      "    (G[node1])[node2] = 1\n",
      "    if node2 not in G:\n",
      "        G[node2] = {}\n",
      "    (G[node2])[node1] = 1\n",
      "    return G\n",
      "\n",
      "def break_link(G, node1, node2):\n",
      "    if node1 not in G:\n",
      "        print \"error: breaking link in a non-existent node\"\n",
      "        return\n",
      "    if node2 not in G:\n",
      "        print \"error: breaking link in a non-existent node\"\n",
      "        return\n",
      "    if node2 not in G[node1]:\n",
      "        print \"error: breaking non-existent link\"\n",
      "        return\n",
      "    if node1 not in G[node2]:\n",
      "        print \"error: breaking non-existent link\"\n",
      "        return\n",
      "    del G[node1][node2]\n",
      "    del G[node2][node1]\n",
      "    return G"
     ],
     "language": "python",
     "metadata": {},
     "outputs": [],
     "prompt_number": 1
    },
    {
     "cell_type": "markdown",
     "metadata": {},
     "source": [
      "---"
     ]
    },
    {
     "cell_type": "code",
     "collapsed": false,
     "input": [
      "def k_clique(G, k):\n",
      "    if not k_clique_decision(G, k):\n",
      "        return False\n",
      "    \n",
      "    \n",
      "    "
     ],
     "language": "python",
     "metadata": {},
     "outputs": []
    }
   ],
   "metadata": {}
  }
 ]
}