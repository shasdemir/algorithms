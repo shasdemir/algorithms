{
 "metadata": {
  "name": "",
  "signature": "sha256:0fb883b077e0a465890c6019e8a33a2d025945a08fba64db2f73669fba7947b7"
 },
 "nbformat": 3,
 "nbformat_minor": 0,
 "worksheets": [
  {
   "cells": [
    {
     "cell_type": "code",
     "collapsed": false,
     "input": [
      "def make_link(G, node1, node2):\n",
      "    if node1 not in G:\n",
      "        G[node1] = {}\n",
      "    (G[node1])[node2] = 1\n",
      "    if node2 not in G:\n",
      "        G[node2] = {}\n",
      "    (G[node2])[node1] = 1\n",
      "    return G"
     ],
     "language": "python",
     "metadata": {},
     "outputs": [],
     "prompt_number": 3
    },
    {
     "cell_type": "markdown",
     "metadata": {},
     "source": [
      "---"
     ]
    },
    {
     "cell_type": "code",
     "collapsed": false,
     "input": [
      "############\n",
      "#\n",
      "# Verify a coloring of a graph\n",
      "#\n",
      "############\n",
      "\n",
      "# if cert a k-coloring of G?\n",
      "#   colors in {0, ..., k-1}\n",
      "def verify(G, cert, k):\n",
      "    for node in G:\n",
      "        for nbor in G[node]:\n",
      "            if cert[nbor] == cert[node] or cert[nbor] >= k:\n",
      "                return False\n",
      "    return True\n",
      "\n",
      "#######\n",
      "#\n",
      "# Testing"
     ],
     "language": "python",
     "metadata": {},
     "outputs": [],
     "prompt_number": 4
    },
    {
     "cell_type": "code",
     "collapsed": false,
     "input": [
      "(a,b,c,d,e,f,g,h) = ('a','b','c','d','e','f','g','h')\n",
      "cxns = [(a,c),(a,b),(c,d),(b,d),(d,e),(d,f),(e,g),(f,g),(f,h),(g,h)]\n",
      "\n",
      "G = {}\n",
      "for (x,y) in cxns: make_link(G,x,y)\n",
      "\n",
      "\n",
      "cert = {}\n",
      "for (node, color) in [(a,0),(b,1),(c,2),(d,0),(e,1),(f,2),(g,0),(h,1)]:\n",
      "    cert[node] = color\n",
      "print verify(G,cert,3)\n",
      "\n",
      "cert = {}\n",
      "for (node, color) in [(a,0),(b,1),(c,2),(d,0),(e,0),(f,1),(g,2),(h,0)]:\n",
      "    cert[node] = color\n",
      "print verify(G,cert,4)"
     ],
     "language": "python",
     "metadata": {},
     "outputs": [
      {
       "output_type": "stream",
       "stream": "stdout",
       "text": [
        "True\n",
        "False\n"
       ]
      }
     ],
     "prompt_number": 5
    },
    {
     "cell_type": "code",
     "collapsed": false,
     "input": [],
     "language": "python",
     "metadata": {},
     "outputs": []
    }
   ],
   "metadata": {}
  }
 ]
}